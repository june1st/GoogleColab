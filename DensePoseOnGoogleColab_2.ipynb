{
  "nbformat": 4,
  "nbformat_minor": 0,
  "metadata": {
    "colab": {
      "name": "BERT FineTuning with Cloud TPU: Sentence and Sentence-Pair Classification Tasks",
      "version": "0.3.2",
      "provenance": [],
      "collapsed_sections": [],
      "toc_visible": true,
      "include_colab_link": true
    },
    "kernelspec": {
      "name": "python2",
      "display_name": "Python 2"
    },
    "accelerator": "GPU"
  },
  "cells": [
    {
      "cell_type": "markdown",
      "metadata": {
        "id": "view-in-github",
        "colab_type": "text"
      },
      "source": [
        "<a href=\"https://colab.research.google.com/github/june1st/GoogleColab/blob/master/DensePoseOnGoogleColab_2.ipynb\" target=\"_parent\"><img src=\"https://colab.research.google.com/assets/colab-badge.svg\" alt=\"Open In Colab\"/></a>"
      ]
    },
    {
      "metadata": {
        "id": "rkTLZ3I4_7c_",
        "colab_type": "text"
      },
      "cell_type": "markdown",
      "source": [
        "# DensePoseTest\n",
        "\n",
        "<table class=\"tfo-notebook-buttons\" align=\"left\" >\n",
        " <td>\n",
        "<img src=\"https://www.tensorflow.org/images/colab_logo_32px.png\" />\n",
        "  <td>\n",
        "<img src=\"https://www.tensorflow.org/images/GitHub-Mark-32px.png\" />\n",
        "  </td>\n",
        "</table>\n"
      ]
    },
    {
      "metadata": {
        "id": "co8HlrpYc4yl",
        "colab_type": "code",
        "colab": {}
      },
      "cell_type": "code",
      "source": [
        "#!pip install torch"
      ],
      "execution_count": 0,
      "outputs": []
    },
    {
      "metadata": {
        "id": "sMHj3MHGNrpA",
        "colab_type": "text"
      },
      "cell_type": "markdown",
      "source": [
        "# 環境構築\n",
        "出力が長すぎるときは適宜 > /dev/null してください"
      ]
    },
    {
      "metadata": {
        "id": "veli4bR5Nvr-",
        "colab_type": "text"
      },
      "cell_type": "markdown",
      "source": [
        "## CUDAの差替え（9.2 → 9.0）"
      ]
    },
    {
      "metadata": {
        "id": "8lS0ELSTg7dF",
        "colab_type": "code",
        "outputId": "3728e5eb-b28d-4411-ac90-5fae5a1629ef",
        "colab": {
          "base_uri": "https://localhost:8080/",
          "height": 238
        }
      },
      "cell_type": "code",
      "source": [
        "#現在のCUDAの確認（スクリプト作成時点で9.2）\n",
        "!python -c 'import chainer; chainer.print_runtime_info()'"
      ],
      "execution_count": 42,
      "outputs": [
        {
          "output_type": "stream",
          "text": [
            "Platform: Linux-4.14.79+-x86_64-with-Ubuntu-18.04-bionic\n",
            "Chainer: 5.0.0\n",
            "NumPy: 1.14.6\n",
            "CuPy:\n",
            "  CuPy Version          : 5.0.0\n",
            "  CUDA Root             : /usr/local/cuda\n",
            "  CUDA Build Version    : 9020\n",
            "  CUDA Driver Version   : 9020\n",
            "  CUDA Runtime Version  : 9020\n",
            "  cuDNN Build Version   : 7201\n",
            "  cuDNN Version         : 7201\n",
            "  NCCL Build Version    : 2213\n",
            "iDeep: 2.0.0.post3\n"
          ],
          "name": "stdout"
        }
      ]
    },
    {
      "metadata": {
        "id": "wQwv1v9Sh0oH",
        "colab_type": "code",
        "outputId": "36758788-350c-46e3-c39c-38209696d2de",
        "colab": {
          "base_uri": "https://localhost:8080/",
          "height": 4267
        }
      },
      "cell_type": "code",
      "source": [
        "#CUDA9.0のダウンロードとインストール\n",
        "!wget http://developer.download.nvidia.com/compute/cuda/repos/ubuntu1604/x86_64/cuda-repo-ubuntu1604_9.0.176-1_amd64.deb\n",
        "!dpkg -i --force-confnew cuda-repo-ubuntu1604_9.0.176-1_amd64.deb\n",
        "!apt-key adv --fetch-keys http://developer.download.nvidia.com/compute/cuda/repos/ubuntu1604/x86_64/7fa2af80.pub\n",
        "!apt-get update\n",
        "!apt-get install cuda-9-0"
      ],
      "execution_count": 3,
      "outputs": [
        {
          "output_type": "stream",
          "text": [
            "--2019-01-17 07:46:19--  http://developer.download.nvidia.com/compute/cuda/repos/ubuntu1604/x86_64/cuda-repo-ubuntu1604_9.0.176-1_amd64.deb\n",
            "Resolving developer.download.nvidia.com (developer.download.nvidia.com)... 192.229.221.58, 2606:2800:233:ef6:15dd:1ece:1d50:1e1\n",
            "Connecting to developer.download.nvidia.com (developer.download.nvidia.com)|192.229.221.58|:80... connected.\n",
            "HTTP request sent, awaiting response... 200 OK\n",
            "Length: 2838 (2.8K) [application/x-deb]\n",
            "Saving to: ‘cuda-repo-ubuntu1604_9.0.176-1_amd64.deb’\n",
            "\n",
            "\r          cuda-repo   0%[                    ]       0  --.-KB/s               \rcuda-repo-ubuntu160 100%[===================>]   2.77K  --.-KB/s    in 0s      \n",
            "\n",
            "2019-01-17 07:46:19 (422 MB/s) - ‘cuda-repo-ubuntu1604_9.0.176-1_amd64.deb’ saved [2838/2838]\n",
            "\n",
            "Selecting previously unselected package cuda-repo-ubuntu1604.\n",
            "(Reading database ... 110851 files and directories currently installed.)\n",
            "Preparing to unpack cuda-repo-ubuntu1604_9.0.176-1_amd64.deb ...\n",
            "Unpacking cuda-repo-ubuntu1604 (9.0.176-1) ...\n",
            "Setting up cuda-repo-ubuntu1604 (9.0.176-1) ...\n",
            "\n",
            "Configuration file '/etc/apt/sources.list.d/cuda.list'\n",
            " ==> File on system created by you or by a script.\n",
            " ==> File also in package provided by package maintainer.\n",
            " ==> Using new file as you requested.\n",
            "Installing new version of config file /etc/apt/sources.list.d/cuda.list ...\n",
            "Executing: /tmp/apt-key-gpghome.jLfIqQNYKb/gpg.1.sh --fetch-keys http://developer.download.nvidia.com/compute/cuda/repos/ubuntu1604/x86_64/7fa2af80.pub\n",
            "gpg: requesting key from 'http://developer.download.nvidia.com/compute/cuda/repos/ubuntu1604/x86_64/7fa2af80.pub'\n",
            "gpg: key F60F4B3D7FA2AF80: \"cudatools <cudatools@nvidia.com>\" not changed\n",
            "gpg: Total number processed: 1\n",
            "gpg:              unchanged: 1\n",
            "Get:1 http://ppa.launchpad.net/graphics-drivers/ppa/ubuntu bionic InRelease [21.3 kB]\n",
            "Get:2 http://security.ubuntu.com/ubuntu bionic-security InRelease [83.2 kB]\n",
            "Hit:3 http://archive.ubuntu.com/ubuntu bionic InRelease\n",
            "Get:4 http://archive.ubuntu.com/ubuntu bionic-updates InRelease [88.7 kB]\n",
            "Get:5 http://archive.ubuntu.com/ubuntu bionic-backports InRelease [74.6 kB]\n",
            "Ign:6 http://developer.download.nvidia.com/compute/cuda/repos/ubuntu1604/x86_64  InRelease\n",
            "Get:7 http://developer.download.nvidia.com/compute/cuda/repos/ubuntu1604/x86_64  Release [564 B]\n",
            "Get:8 http://developer.download.nvidia.com/compute/cuda/repos/ubuntu1604/x86_64  Release.gpg [819 B]\n",
            "Ign:9 https://developer.download.nvidia.com/compute/machine-learning/repos/ubuntu1604/x86_64  InRelease\n",
            "Hit:10 https://developer.download.nvidia.com/compute/machine-learning/repos/ubuntu1604/x86_64  Release\n",
            "Get:11 http://ppa.launchpad.net/graphics-drivers/ppa/ubuntu bionic/main amd64 Packages [27.3 kB]\n",
            "Get:12 http://security.ubuntu.com/ubuntu bionic-security/main amd64 Packages [308 kB]\n",
            "Get:13 http://security.ubuntu.com/ubuntu bionic-security/multiverse amd64 Packages [1,365 B]\n",
            "Get:14 http://security.ubuntu.com/ubuntu bionic-security/universe amd64 Packages [138 kB]\n",
            "Get:15 http://archive.ubuntu.com/ubuntu bionic-updates/universe amd64 Packages [905 kB]\n",
            "Get:16 http://archive.ubuntu.com/ubuntu bionic-updates/multiverse amd64 Packages [6,933 B]\n",
            "Get:17 http://archive.ubuntu.com/ubuntu bionic-updates/main amd64 Packages [634 kB]\n",
            "Get:18 http://developer.download.nvidia.com/compute/cuda/repos/ubuntu1604/x86_64  Packages [161 kB]\n",
            "Fetched 2,452 kB in 1s (1,908 kB/s)\n",
            "Reading package lists... Done\n",
            "Reading package lists... Done\n",
            "Building dependency tree       \n",
            "Reading state information... Done\n",
            "The following additional packages will be installed:\n",
            "  cuda-command-line-tools-9-0 cuda-core-9-0 cuda-cublas-9-0\n",
            "  cuda-cublas-dev-9-0 cuda-cudart-9-0 cuda-cudart-dev-9-0 cuda-cufft-9-0\n",
            "  cuda-cufft-dev-9-0 cuda-curand-9-0 cuda-curand-dev-9-0 cuda-cusolver-9-0\n",
            "  cuda-cusolver-dev-9-0 cuda-cusparse-9-0 cuda-cusparse-dev-9-0\n",
            "  cuda-demo-suite-9-0 cuda-documentation-9-0 cuda-driver-dev-9-0\n",
            "  cuda-libraries-9-0 cuda-libraries-dev-9-0 cuda-license-9-0\n",
            "  cuda-misc-headers-9-0 cuda-npp-9-0 cuda-npp-dev-9-0 cuda-nvgraph-9-0\n",
            "  cuda-nvgraph-dev-9-0 cuda-nvml-dev-9-0 cuda-nvrtc-9-0 cuda-nvrtc-dev-9-0\n",
            "  cuda-runtime-9-0 cuda-samples-9-0 cuda-toolkit-9-0 cuda-visual-tools-9-0\n",
            "The following NEW packages will be installed:\n",
            "  cuda-9-0 cuda-command-line-tools-9-0 cuda-core-9-0 cuda-cublas-9-0\n",
            "  cuda-cublas-dev-9-0 cuda-cudart-9-0 cuda-cudart-dev-9-0 cuda-cufft-9-0\n",
            "  cuda-cufft-dev-9-0 cuda-curand-9-0 cuda-curand-dev-9-0 cuda-cusolver-9-0\n",
            "  cuda-cusolver-dev-9-0 cuda-cusparse-9-0 cuda-cusparse-dev-9-0\n",
            "  cuda-demo-suite-9-0 cuda-documentation-9-0 cuda-driver-dev-9-0\n",
            "  cuda-libraries-9-0 cuda-libraries-dev-9-0 cuda-license-9-0\n",
            "  cuda-misc-headers-9-0 cuda-npp-9-0 cuda-npp-dev-9-0 cuda-nvgraph-9-0\n",
            "  cuda-nvgraph-dev-9-0 cuda-nvml-dev-9-0 cuda-nvrtc-9-0 cuda-nvrtc-dev-9-0\n",
            "  cuda-runtime-9-0 cuda-samples-9-0 cuda-toolkit-9-0 cuda-visual-tools-9-0\n",
            "0 upgraded, 33 newly installed, 0 to remove and 54 not upgraded.\n",
            "Need to get 1,126 MB of archives.\n",
            "After this operation, 2,386 MB of additional disk space will be used.\n",
            "Get:1 http://developer.download.nvidia.com/compute/cuda/repos/ubuntu1604/x86_64  cuda-license-9-0 9.0.176-1 [22.0 kB]\n",
            "Get:2 http://developer.download.nvidia.com/compute/cuda/repos/ubuntu1604/x86_64  cuda-misc-headers-9-0 9.0.176-1 [684 kB]\n",
            "Get:3 http://developer.download.nvidia.com/compute/cuda/repos/ubuntu1604/x86_64  cuda-core-9-0 9.0.176.3-1 [16.9 MB]\n",
            "Get:4 http://developer.download.nvidia.com/compute/cuda/repos/ubuntu1604/x86_64  cuda-cudart-9-0 9.0.176-1 [106 kB]\n",
            "Get:5 http://developer.download.nvidia.com/compute/cuda/repos/ubuntu1604/x86_64  cuda-driver-dev-9-0 9.0.176-1 [10.9 kB]\n",
            "Get:6 http://developer.download.nvidia.com/compute/cuda/repos/ubuntu1604/x86_64  cuda-cudart-dev-9-0 9.0.176-1 [767 kB]\n",
            "Get:7 http://developer.download.nvidia.com/compute/cuda/repos/ubuntu1604/x86_64  cuda-command-line-tools-9-0 9.0.176-1 [25.4 MB]\n",
            "Get:8 http://developer.download.nvidia.com/compute/cuda/repos/ubuntu1604/x86_64  cuda-nvrtc-9-0 9.0.176-1 [6,348 kB]\n",
            "Get:9 http://developer.download.nvidia.com/compute/cuda/repos/ubuntu1604/x86_64  cuda-nvrtc-dev-9-0 9.0.176-1 [9,334 B]\n",
            "Get:10 http://developer.download.nvidia.com/compute/cuda/repos/ubuntu1604/x86_64  cuda-cusolver-9-0 9.0.176-1 [26.2 MB]\n",
            "Get:11 http://developer.download.nvidia.com/compute/cuda/repos/ubuntu1604/x86_64  cuda-cusolver-dev-9-0 9.0.176-1 [5,317 kB]\n",
            "Get:12 http://developer.download.nvidia.com/compute/cuda/repos/ubuntu1604/x86_64  cuda-cublas-9-0 9.0.176.4-1 [52.1 MB]\n",
            "Get:13 http://developer.download.nvidia.com/compute/cuda/repos/ubuntu1604/x86_64  cuda-cublas-dev-9-0 9.0.176.4-1 [51.3 MB]\n",
            "Get:14 http://developer.download.nvidia.com/compute/cuda/repos/ubuntu1604/x86_64  cuda-cufft-9-0 9.0.176-1 [84.1 MB]\n",
            "Get:15 http://developer.download.nvidia.com/compute/cuda/repos/ubuntu1604/x86_64  cuda-cufft-dev-9-0 9.0.176-1 [73.7 MB]\n",
            "Get:16 http://developer.download.nvidia.com/compute/cuda/repos/ubuntu1604/x86_64  cuda-curand-9-0 9.0.176-1 [38.8 MB]\n",
            "Get:17 http://developer.download.nvidia.com/compute/cuda/repos/ubuntu1604/x86_64  cuda-curand-dev-9-0 9.0.176-1 [57.9 MB]\n",
            "Get:18 http://developer.download.nvidia.com/compute/cuda/repos/ubuntu1604/x86_64  cuda-cusparse-9-0 9.0.176-1 [25.2 MB]\n",
            "Get:19 http://developer.download.nvidia.com/compute/cuda/repos/ubuntu1604/x86_64  cuda-cusparse-dev-9-0 9.0.176-1 [25.3 MB]\n",
            "Get:20 http://developer.download.nvidia.com/compute/cuda/repos/ubuntu1604/x86_64  cuda-npp-9-0 9.0.176-1 [46.6 MB]\n",
            "Get:21 http://developer.download.nvidia.com/compute/cuda/repos/ubuntu1604/x86_64  cuda-npp-dev-9-0 9.0.176-1 [46.6 MB]\n",
            "Get:22 http://developer.download.nvidia.com/compute/cuda/repos/ubuntu1604/x86_64  cuda-nvgraph-9-0 9.0.176-1 [6,081 kB]\n",
            "Get:23 http://developer.download.nvidia.com/compute/cuda/repos/ubuntu1604/x86_64  cuda-nvgraph-dev-9-0 9.0.176-1 [5,658 kB]\n",
            "Get:24 http://developer.download.nvidia.com/compute/cuda/repos/ubuntu1604/x86_64  cuda-samples-9-0 9.0.176-1 [75.9 MB]\n",
            "Get:25 http://developer.download.nvidia.com/compute/cuda/repos/ubuntu1604/x86_64  cuda-documentation-9-0 9.0.176-1 [53.1 MB]\n",
            "Get:26 http://developer.download.nvidia.com/compute/cuda/repos/ubuntu1604/x86_64  cuda-libraries-dev-9-0 9.0.176-1 [2,596 B]\n",
            "Get:27 http://developer.download.nvidia.com/compute/cuda/repos/ubuntu1604/x86_64  cuda-nvml-dev-9-0 9.0.176-1 [47.6 kB]\n",
            "Get:28 http://developer.download.nvidia.com/compute/cuda/repos/ubuntu1604/x86_64  cuda-visual-tools-9-0 9.0.176-1 [398 MB]\n",
            "Get:29 http://developer.download.nvidia.com/compute/cuda/repos/ubuntu1604/x86_64  cuda-toolkit-9-0 9.0.176-1 [2,836 B]\n",
            "Get:30 http://developer.download.nvidia.com/compute/cuda/repos/ubuntu1604/x86_64  cuda-libraries-9-0 9.0.176-1 [2,566 B]\n",
            "Get:31 http://developer.download.nvidia.com/compute/cuda/repos/ubuntu1604/x86_64  cuda-runtime-9-0 9.0.176-1 [2,526 B]\n",
            "Get:32 http://developer.download.nvidia.com/compute/cuda/repos/ubuntu1604/x86_64  cuda-demo-suite-9-0 9.0.176-1 [3,880 kB]\n",
            "Get:33 http://developer.download.nvidia.com/compute/cuda/repos/ubuntu1604/x86_64  cuda-9-0 9.0.176-1 [2,552 B]\n",
            "Fetched 1,126 MB in 60s (18.8 MB/s)\n",
            "Extracting templates from packages: 100%\n",
            "Selecting previously unselected package cuda-license-9-0.\n",
            "(Reading database ... 110854 files and directories currently installed.)\n",
            "Preparing to unpack .../00-cuda-license-9-0_9.0.176-1_amd64.deb ...\n",
            "Unpacking cuda-license-9-0 (9.0.176-1) ...\n",
            "Selecting previously unselected package cuda-misc-headers-9-0.\n",
            "Preparing to unpack .../01-cuda-misc-headers-9-0_9.0.176-1_amd64.deb ...\n",
            "Unpacking cuda-misc-headers-9-0 (9.0.176-1) ...\n",
            "Selecting previously unselected package cuda-core-9-0.\n",
            "Preparing to unpack .../02-cuda-core-9-0_9.0.176.3-1_amd64.deb ...\n",
            "Unpacking cuda-core-9-0 (9.0.176.3-1) ...\n",
            "Selecting previously unselected package cuda-cudart-9-0.\n",
            "Preparing to unpack .../03-cuda-cudart-9-0_9.0.176-1_amd64.deb ...\n",
            "Unpacking cuda-cudart-9-0 (9.0.176-1) ...\n",
            "Selecting previously unselected package cuda-driver-dev-9-0.\n",
            "Preparing to unpack .../04-cuda-driver-dev-9-0_9.0.176-1_amd64.deb ...\n",
            "Unpacking cuda-driver-dev-9-0 (9.0.176-1) ...\n",
            "Selecting previously unselected package cuda-cudart-dev-9-0.\n",
            "Preparing to unpack .../05-cuda-cudart-dev-9-0_9.0.176-1_amd64.deb ...\n",
            "Unpacking cuda-cudart-dev-9-0 (9.0.176-1) ...\n",
            "Selecting previously unselected package cuda-command-line-tools-9-0.\n",
            "Preparing to unpack .../06-cuda-command-line-tools-9-0_9.0.176-1_amd64.deb ...\n",
            "Unpacking cuda-command-line-tools-9-0 (9.0.176-1) ...\n",
            "Selecting previously unselected package cuda-nvrtc-9-0.\n",
            "Preparing to unpack .../07-cuda-nvrtc-9-0_9.0.176-1_amd64.deb ...\n",
            "Unpacking cuda-nvrtc-9-0 (9.0.176-1) ...\n",
            "Selecting previously unselected package cuda-nvrtc-dev-9-0.\n",
            "Preparing to unpack .../08-cuda-nvrtc-dev-9-0_9.0.176-1_amd64.deb ...\n",
            "Unpacking cuda-nvrtc-dev-9-0 (9.0.176-1) ...\n",
            "Selecting previously unselected package cuda-cusolver-9-0.\n",
            "Preparing to unpack .../09-cuda-cusolver-9-0_9.0.176-1_amd64.deb ...\n",
            "Unpacking cuda-cusolver-9-0 (9.0.176-1) ...\n",
            "Selecting previously unselected package cuda-cusolver-dev-9-0.\n",
            "Preparing to unpack .../10-cuda-cusolver-dev-9-0_9.0.176-1_amd64.deb ...\n",
            "Unpacking cuda-cusolver-dev-9-0 (9.0.176-1) ...\n",
            "Selecting previously unselected package cuda-cublas-9-0.\n",
            "Preparing to unpack .../11-cuda-cublas-9-0_9.0.176.4-1_amd64.deb ...\n",
            "Unpacking cuda-cublas-9-0 (9.0.176.4-1) ...\n",
            "Selecting previously unselected package cuda-cublas-dev-9-0.\n",
            "Preparing to unpack .../12-cuda-cublas-dev-9-0_9.0.176.4-1_amd64.deb ...\n",
            "Unpacking cuda-cublas-dev-9-0 (9.0.176.4-1) ...\n",
            "Selecting previously unselected package cuda-cufft-9-0.\n",
            "Preparing to unpack .../13-cuda-cufft-9-0_9.0.176-1_amd64.deb ...\n",
            "Unpacking cuda-cufft-9-0 (9.0.176-1) ...\n",
            "Selecting previously unselected package cuda-cufft-dev-9-0.\n",
            "Preparing to unpack .../14-cuda-cufft-dev-9-0_9.0.176-1_amd64.deb ...\n",
            "Unpacking cuda-cufft-dev-9-0 (9.0.176-1) ...\n",
            "Selecting previously unselected package cuda-curand-9-0.\n",
            "Preparing to unpack .../15-cuda-curand-9-0_9.0.176-1_amd64.deb ...\n",
            "Unpacking cuda-curand-9-0 (9.0.176-1) ...\n",
            "Selecting previously unselected package cuda-curand-dev-9-0.\n",
            "Preparing to unpack .../16-cuda-curand-dev-9-0_9.0.176-1_amd64.deb ...\n",
            "Unpacking cuda-curand-dev-9-0 (9.0.176-1) ...\n",
            "Selecting previously unselected package cuda-cusparse-9-0.\n",
            "Preparing to unpack .../17-cuda-cusparse-9-0_9.0.176-1_amd64.deb ...\n",
            "Unpacking cuda-cusparse-9-0 (9.0.176-1) ...\n",
            "Selecting previously unselected package cuda-cusparse-dev-9-0.\n",
            "Preparing to unpack .../18-cuda-cusparse-dev-9-0_9.0.176-1_amd64.deb ...\n",
            "Unpacking cuda-cusparse-dev-9-0 (9.0.176-1) ...\n",
            "Selecting previously unselected package cuda-npp-9-0.\n",
            "Preparing to unpack .../19-cuda-npp-9-0_9.0.176-1_amd64.deb ...\n",
            "Unpacking cuda-npp-9-0 (9.0.176-1) ...\n",
            "Selecting previously unselected package cuda-npp-dev-9-0.\n",
            "Preparing to unpack .../20-cuda-npp-dev-9-0_9.0.176-1_amd64.deb ...\n",
            "Unpacking cuda-npp-dev-9-0 (9.0.176-1) ...\n",
            "Selecting previously unselected package cuda-nvgraph-9-0.\n",
            "Preparing to unpack .../21-cuda-nvgraph-9-0_9.0.176-1_amd64.deb ...\n",
            "Unpacking cuda-nvgraph-9-0 (9.0.176-1) ...\n",
            "Selecting previously unselected package cuda-nvgraph-dev-9-0.\n",
            "Preparing to unpack .../22-cuda-nvgraph-dev-9-0_9.0.176-1_amd64.deb ...\n",
            "Unpacking cuda-nvgraph-dev-9-0 (9.0.176-1) ...\n",
            "Selecting previously unselected package cuda-samples-9-0.\n",
            "Preparing to unpack .../23-cuda-samples-9-0_9.0.176-1_amd64.deb ...\n",
            "Unpacking cuda-samples-9-0 (9.0.176-1) ...\n",
            "Selecting previously unselected package cuda-documentation-9-0.\n",
            "Preparing to unpack .../24-cuda-documentation-9-0_9.0.176-1_amd64.deb ...\n",
            "Unpacking cuda-documentation-9-0 (9.0.176-1) ...\n",
            "Selecting previously unselected package cuda-libraries-dev-9-0.\n",
            "Preparing to unpack .../25-cuda-libraries-dev-9-0_9.0.176-1_amd64.deb ...\n",
            "Unpacking cuda-libraries-dev-9-0 (9.0.176-1) ...\n",
            "Selecting previously unselected package cuda-nvml-dev-9-0.\n",
            "Preparing to unpack .../26-cuda-nvml-dev-9-0_9.0.176-1_amd64.deb ...\n",
            "Unpacking cuda-nvml-dev-9-0 (9.0.176-1) ...\n",
            "Selecting previously unselected package cuda-visual-tools-9-0.\n",
            "Preparing to unpack .../27-cuda-visual-tools-9-0_9.0.176-1_amd64.deb ...\n",
            "Unpacking cuda-visual-tools-9-0 (9.0.176-1) ...\n",
            "Selecting previously unselected package cuda-toolkit-9-0.\n",
            "Preparing to unpack .../28-cuda-toolkit-9-0_9.0.176-1_amd64.deb ...\n",
            "Unpacking cuda-toolkit-9-0 (9.0.176-1) ...\n",
            "Selecting previously unselected package cuda-libraries-9-0.\n",
            "Preparing to unpack .../29-cuda-libraries-9-0_9.0.176-1_amd64.deb ...\n",
            "Unpacking cuda-libraries-9-0 (9.0.176-1) ...\n",
            "Selecting previously unselected package cuda-runtime-9-0.\n",
            "Preparing to unpack .../30-cuda-runtime-9-0_9.0.176-1_amd64.deb ...\n",
            "Unpacking cuda-runtime-9-0 (9.0.176-1) ...\n",
            "Selecting previously unselected package cuda-demo-suite-9-0.\n",
            "Preparing to unpack .../31-cuda-demo-suite-9-0_9.0.176-1_amd64.deb ...\n",
            "Unpacking cuda-demo-suite-9-0 (9.0.176-1) ...\n",
            "Selecting previously unselected package cuda-9-0.\n",
            "Preparing to unpack .../32-cuda-9-0_9.0.176-1_amd64.deb ...\n",
            "Unpacking cuda-9-0 (9.0.176-1) ...\n",
            "Processing triggers for libc-bin (2.27-3ubuntu1) ...\n",
            "Setting up cuda-license-9-0 (9.0.176-1) ...\n",
            "*** LICENSE AGREEMENT ***\n",
            "By using this software you agree to fully comply with the terms and \n",
            "conditions of the EULA (End User License Agreement). The EULA is located\n",
            "at /usr/local/cuda-9.0/doc/EULA.txt. The EULA can also be found at\n",
            "http://docs.nvidia.com/cuda/eula/index.html. If you do not agree to the\n",
            "terms and conditions of the EULA, do not use the software.\n",
            "\n",
            "Setting up cuda-cusparse-9-0 (9.0.176-1) ...\n",
            "Setting up cuda-cudart-9-0 (9.0.176-1) ...\n",
            "Setting up cuda-nvrtc-9-0 (9.0.176-1) ...\n",
            "Setting up cuda-cusparse-dev-9-0 (9.0.176-1) ...\n",
            "Setting up cuda-cufft-9-0 (9.0.176-1) ...\n",
            "Setting up cuda-cusolver-9-0 (9.0.176-1) ...\n",
            "Setting up cuda-nvml-dev-9-0 (9.0.176-1) ...\n",
            "Setting up cuda-npp-9-0 (9.0.176-1) ...\n",
            "Setting up cuda-cusolver-dev-9-0 (9.0.176-1) ...\n",
            "Setting up cuda-misc-headers-9-0 (9.0.176-1) ...\n",
            "Setting up cuda-cublas-9-0 (9.0.176.4-1) ...\n",
            "Setting up cuda-nvrtc-dev-9-0 (9.0.176-1) ...\n",
            "Setting up cuda-driver-dev-9-0 (9.0.176-1) ...\n",
            "Setting up cuda-curand-9-0 (9.0.176-1) ...\n",
            "Setting up cuda-nvgraph-9-0 (9.0.176-1) ...\n",
            "Setting up cuda-core-9-0 (9.0.176.3-1) ...\n",
            "Setting up cuda-libraries-9-0 (9.0.176-1) ...\n",
            "Setting up cuda-runtime-9-0 (9.0.176-1) ...\n",
            "Setting up cuda-cudart-dev-9-0 (9.0.176-1) ...\n",
            "Setting up cuda-cufft-dev-9-0 (9.0.176-1) ...\n",
            "Setting up cuda-npp-dev-9-0 (9.0.176-1) ...\n",
            "Setting up cuda-curand-dev-9-0 (9.0.176-1) ...\n",
            "Setting up cuda-cublas-dev-9-0 (9.0.176.4-1) ...\n",
            "Setting up cuda-nvgraph-dev-9-0 (9.0.176-1) ...\n",
            "Setting up cuda-command-line-tools-9-0 (9.0.176-1) ...\n",
            "Setting up cuda-demo-suite-9-0 (9.0.176-1) ...\n",
            "Setting up cuda-visual-tools-9-0 (9.0.176-1) ...\n",
            "Setting up cuda-samples-9-0 (9.0.176-1) ...\n",
            "Setting up cuda-libraries-dev-9-0 (9.0.176-1) ...\n",
            "Setting up cuda-documentation-9-0 (9.0.176-1) ...\n",
            "Setting up cuda-toolkit-9-0 (9.0.176-1) ...\n",
            "Setting up cuda-9-0 (9.0.176-1) ...\n",
            "Processing triggers for libc-bin (2.27-3ubuntu1) ...\n"
          ],
          "name": "stdout"
        }
      ]
    },
    {
      "metadata": {
        "id": "gjqRPlLIh6PX",
        "colab_type": "code",
        "outputId": "81099145-2f7a-43df-e1e9-9d0e7a2c9640",
        "colab": {
          "base_uri": "https://localhost:8080/",
          "height": 85
        }
      },
      "cell_type": "code",
      "source": [
        "# CUDA9.0が入ったか確認\n",
        "!nvcc -V"
      ],
      "execution_count": 4,
      "outputs": [
        {
          "output_type": "stream",
          "text": [
            "nvcc: NVIDIA (R) Cuda compiler driver\n",
            "Copyright (c) 2005-2017 NVIDIA Corporation\n",
            "Built on Fri_Sep__1_21:08:03_CDT_2017\n",
            "Cuda compilation tools, release 9.0, V9.0.176\n"
          ],
          "name": "stdout"
        }
      ]
    },
    {
      "metadata": {
        "id": "xa2XcLabO8Kl",
        "colab_type": "text"
      },
      "cell_type": "markdown",
      "source": [
        "## 依存ライブラリのインストール"
      ]
    },
    {
      "metadata": {
        "id": "njWqCED7sisf",
        "colab_type": "code",
        "outputId": "3fdc2fce-c621-4be6-84b7-c3bde815726e",
        "colab": {
          "base_uri": "https://localhost:8080/",
          "height": 1853
        }
      },
      "cell_type": "code",
      "source": [
        "  !apt install libprotobuf-dev libleveldb-dev libsnappy-dev libopencv-dev libhdf5-serial-dev protobuf-compiler\n",
        "  !apt install --no-install-recommends libboost-all-dev\n",
        "  !apt install libopenblas-dev\n",
        "  !apt install libgflags-dev libgoogle-glog-dev liblmdb-dev"
      ],
      "execution_count": 5,
      "outputs": [
        {
          "output_type": "stream",
          "text": [
            "Reading package lists... Done\n",
            "Building dependency tree       \n",
            "Reading state information... Done\n",
            "protobuf-compiler is already the newest version (3.0.0-9.1ubuntu1).\n",
            "libopencv-dev is already the newest version (3.2.0+dfsg-4ubuntu0.1).\n",
            "Suggested packages:\n",
            "  leveldb-doc\n",
            "The following NEW packages will be installed:\n",
            "  libhdf5-serial-dev libleveldb-dev libleveldb1v5 libprotobuf-dev\n",
            "  libprotobuf-lite10 libsnappy-dev\n",
            "0 upgraded, 6 newly installed, 0 to remove and 54 not upgraded.\n",
            "Need to get 1,400 kB of archives.\n",
            "After this operation, 9,964 kB of additional disk space will be used.\n",
            "Get:1 http://archive.ubuntu.com/ubuntu bionic/universe amd64 libhdf5-serial-dev all 1.10.0-patch1+docs-4 [2,898 B]\n",
            "Get:2 http://archive.ubuntu.com/ubuntu bionic/main amd64 libleveldb1v5 amd64 1.20-2 [136 kB]\n",
            "Get:3 http://archive.ubuntu.com/ubuntu bionic/main amd64 libleveldb-dev amd64 1.20-2 [177 kB]\n",
            "Get:4 http://archive.ubuntu.com/ubuntu bionic/main amd64 libprotobuf-lite10 amd64 3.0.0-9.1ubuntu1 [97.7 kB]\n",
            "Get:5 http://archive.ubuntu.com/ubuntu bionic/main amd64 libprotobuf-dev amd64 3.0.0-9.1ubuntu1 [959 kB]\n",
            "Get:6 http://archive.ubuntu.com/ubuntu bionic/main amd64 libsnappy-dev amd64 1.1.7-1 [27.2 kB]\n",
            "Fetched 1,400 kB in 0s (12.4 MB/s)\n",
            "Selecting previously unselected package libhdf5-serial-dev.\n",
            "(Reading database ... 120109 files and directories currently installed.)\n",
            "Preparing to unpack .../0-libhdf5-serial-dev_1.10.0-patch1+docs-4_all.deb ...\n",
            "Unpacking libhdf5-serial-dev (1.10.0-patch1+docs-4) ...\n",
            "Selecting previously unselected package libleveldb1v5:amd64.\n",
            "Preparing to unpack .../1-libleveldb1v5_1.20-2_amd64.deb ...\n",
            "Unpacking libleveldb1v5:amd64 (1.20-2) ...\n",
            "Selecting previously unselected package libleveldb-dev:amd64.\n",
            "Preparing to unpack .../2-libleveldb-dev_1.20-2_amd64.deb ...\n",
            "Unpacking libleveldb-dev:amd64 (1.20-2) ...\n",
            "Selecting previously unselected package libprotobuf-lite10:amd64.\n",
            "Preparing to unpack .../3-libprotobuf-lite10_3.0.0-9.1ubuntu1_amd64.deb ...\n",
            "Unpacking libprotobuf-lite10:amd64 (3.0.0-9.1ubuntu1) ...\n",
            "Selecting previously unselected package libprotobuf-dev:amd64.\n",
            "Preparing to unpack .../4-libprotobuf-dev_3.0.0-9.1ubuntu1_amd64.deb ...\n",
            "Unpacking libprotobuf-dev:amd64 (3.0.0-9.1ubuntu1) ...\n",
            "Selecting previously unselected package libsnappy-dev:amd64.\n",
            "Preparing to unpack .../5-libsnappy-dev_1.1.7-1_amd64.deb ...\n",
            "Unpacking libsnappy-dev:amd64 (1.1.7-1) ...\n",
            "Setting up libleveldb1v5:amd64 (1.20-2) ...\n",
            "Setting up libhdf5-serial-dev (1.10.0-patch1+docs-4) ...\n",
            "Processing triggers for libc-bin (2.27-3ubuntu1) ...\n",
            "Setting up libsnappy-dev:amd64 (1.1.7-1) ...\n",
            "Setting up libprotobuf-lite10:amd64 (3.0.0-9.1ubuntu1) ...\n",
            "Setting up libprotobuf-dev:amd64 (3.0.0-9.1ubuntu1) ...\n",
            "Setting up libleveldb-dev:amd64 (1.20-2) ...\n",
            "Processing triggers for libc-bin (2.27-3ubuntu1) ...\n",
            "Reading package lists... Done\n",
            "Building dependency tree       \n",
            "Reading state information... Done\n",
            "libboost-all-dev is already the newest version (1.65.1.0ubuntu1).\n",
            "0 upgraded, 0 newly installed, 0 to remove and 54 not upgraded.\n",
            "Reading package lists... Done\n",
            "Building dependency tree       \n",
            "Reading state information... Done\n",
            "libopenblas-dev is already the newest version (0.2.20+ds-4).\n",
            "0 upgraded, 0 newly installed, 0 to remove and 54 not upgraded.\n",
            "Reading package lists... Done\n",
            "Building dependency tree       \n",
            "Reading state information... Done\n",
            "The following additional packages will be installed:\n",
            "  libgflags2.2 libgoogle-glog0v5 liblmdb0 lmdb-doc\n",
            "The following NEW packages will be installed:\n",
            "  libgflags-dev libgflags2.2 libgoogle-glog-dev libgoogle-glog0v5 liblmdb-dev\n",
            "  liblmdb0 lmdb-doc\n",
            "0 upgraded, 7 newly installed, 0 to remove and 54 not upgraded.\n",
            "Need to get 662 kB of archives.\n",
            "After this operation, 4,125 kB of additional disk space will be used.\n",
            "Get:1 http://archive.ubuntu.com/ubuntu bionic/universe amd64 libgflags2.2 amd64 2.2.1-1 [72.4 kB]\n",
            "Get:2 http://archive.ubuntu.com/ubuntu bionic/universe amd64 libgflags-dev amd64 2.2.1-1 [86.1 kB]\n",
            "Get:3 http://archive.ubuntu.com/ubuntu bionic/universe amd64 libgoogle-glog0v5 amd64 0.3.5-1 [50.5 kB]\n",
            "Get:4 http://archive.ubuntu.com/ubuntu bionic/universe amd64 libgoogle-glog-dev amd64 0.3.5-1 [73.8 kB]\n",
            "Get:5 http://archive.ubuntu.com/ubuntu bionic/universe amd64 liblmdb0 amd64 0.9.21-1 [43.6 kB]\n",
            "Get:6 http://archive.ubuntu.com/ubuntu bionic/universe amd64 liblmdb-dev amd64 0.9.21-1 [58.8 kB]\n",
            "Get:7 http://archive.ubuntu.com/ubuntu bionic/universe amd64 lmdb-doc all 0.9.21-1 [277 kB]\n",
            "Fetched 662 kB in 0s (6,282 kB/s)\n",
            "Selecting previously unselected package libgflags2.2.\n",
            "(Reading database ... 120280 files and directories currently installed.)\n",
            "Preparing to unpack .../0-libgflags2.2_2.2.1-1_amd64.deb ...\n",
            "Unpacking libgflags2.2 (2.2.1-1) ...\n",
            "Selecting previously unselected package libgflags-dev.\n",
            "Preparing to unpack .../1-libgflags-dev_2.2.1-1_amd64.deb ...\n",
            "Unpacking libgflags-dev (2.2.1-1) ...\n",
            "Selecting previously unselected package libgoogle-glog0v5.\n",
            "Preparing to unpack .../2-libgoogle-glog0v5_0.3.5-1_amd64.deb ...\n",
            "Unpacking libgoogle-glog0v5 (0.3.5-1) ...\n",
            "Selecting previously unselected package libgoogle-glog-dev.\n",
            "Preparing to unpack .../3-libgoogle-glog-dev_0.3.5-1_amd64.deb ...\n",
            "Unpacking libgoogle-glog-dev (0.3.5-1) ...\n",
            "Selecting previously unselected package liblmdb0:amd64.\n",
            "Preparing to unpack .../4-liblmdb0_0.9.21-1_amd64.deb ...\n",
            "Unpacking liblmdb0:amd64 (0.9.21-1) ...\n",
            "Selecting previously unselected package liblmdb-dev:amd64.\n",
            "Preparing to unpack .../5-liblmdb-dev_0.9.21-1_amd64.deb ...\n",
            "Unpacking liblmdb-dev:amd64 (0.9.21-1) ...\n",
            "Selecting previously unselected package lmdb-doc.\n",
            "Preparing to unpack .../6-lmdb-doc_0.9.21-1_all.deb ...\n",
            "Unpacking lmdb-doc (0.9.21-1) ...\n",
            "Setting up libgflags2.2 (2.2.1-1) ...\n",
            "Setting up libgflags-dev (2.2.1-1) ...\n",
            "Setting up liblmdb0:amd64 (0.9.21-1) ...\n",
            "Processing triggers for libc-bin (2.27-3ubuntu1) ...\n",
            "Setting up libgoogle-glog0v5 (0.3.5-1) ...\n",
            "Processing triggers for man-db (2.8.3-2ubuntu0.1) ...\n",
            "Setting up liblmdb-dev:amd64 (0.9.21-1) ...\n",
            "Setting up lmdb-doc (0.9.21-1) ...\n",
            "Setting up libgoogle-glog-dev (0.3.5-1) ...\n",
            "Processing triggers for libc-bin (2.27-3ubuntu1) ...\n"
          ],
          "name": "stdout"
        }
      ]
    },
    {
      "metadata": {
        "id": "DPqYAgqQtF0Q",
        "colab_type": "code",
        "outputId": "c434a4b0-e506-4ffc-b079-820e0b1d23a5",
        "colab": {
          "base_uri": "https://localhost:8080/",
          "height": 340
        }
      },
      "cell_type": "code",
      "source": [
        "# libhdf5のシンボリックリンク作成（バージョン変わったらlsで確認してください）\n",
        "!ls /usr/lib/x86_64-linux-gnu/libhdf5_serial*\n",
        "# 念のため先に unlink しておく\n",
        "!unlink /usr/lib/x86_64-linux-gnu/libhdf5.so\n",
        "!unlink /usr/lib/x86_64-linux-gnu/libhdf5_hl.so\n",
        "!sudo ln -s /usr/lib/x86_64-linux-gnu/libhdf5_serial.so.100.0.1 /usr/lib/x86_64-linux-gnu/libhdf5.so\n",
        "!sudo ln -s /usr/lib/x86_64-linux-gnu/libhdf5_serial_hl.so.100.0.0 /usr/lib/x86_64-linux-gnu/libhdf5_hl.so"
      ],
      "execution_count": 6,
      "outputs": [
        {
          "output_type": "stream",
          "text": [
            "/usr/lib/x86_64-linux-gnu/libhdf5_serial.a\n",
            "/usr/lib/x86_64-linux-gnu/libhdf5_serial_fortran.a\n",
            "/usr/lib/x86_64-linux-gnu/libhdf5_serial_fortran.so\n",
            "/usr/lib/x86_64-linux-gnu/libhdf5_serial_fortran.so.100\n",
            "/usr/lib/x86_64-linux-gnu/libhdf5_serial_fortran.so.100.0.1\n",
            "/usr/lib/x86_64-linux-gnu/libhdf5_serial_hl.a\n",
            "/usr/lib/x86_64-linux-gnu/libhdf5_serialhl_fortran.a\n",
            "/usr/lib/x86_64-linux-gnu/libhdf5_serialhl_fortran.so\n",
            "/usr/lib/x86_64-linux-gnu/libhdf5_serialhl_fortran.so.100\n",
            "/usr/lib/x86_64-linux-gnu/libhdf5_serialhl_fortran.so.100.0.0\n",
            "/usr/lib/x86_64-linux-gnu/libhdf5_serial_hl.so\n",
            "/usr/lib/x86_64-linux-gnu/libhdf5_serial_hl.so.100\n",
            "/usr/lib/x86_64-linux-gnu/libhdf5_serial_hl.so.100.0.0\n",
            "/usr/lib/x86_64-linux-gnu/libhdf5_serial.settings\n",
            "/usr/lib/x86_64-linux-gnu/libhdf5_serial.so\n",
            "/usr/lib/x86_64-linux-gnu/libhdf5_serial.so.100\n",
            "/usr/lib/x86_64-linux-gnu/libhdf5_serial.so.100.0.1\n",
            "unlink: cannot unlink '/usr/lib/x86_64-linux-gnu/libhdf5.so': No such file or directory\n",
            "unlink: cannot unlink '/usr/lib/x86_64-linux-gnu/libhdf5_hl.so': No such file or directory\n"
          ],
          "name": "stdout"
        }
      ]
    },
    {
      "metadata": {
        "id": "gGJiLLOOyTwG",
        "colab_type": "code",
        "outputId": "423e6f5e-56bf-455b-ab9c-738cb08989f4",
        "colab": {
          "base_uri": "https://localhost:8080/",
          "height": 1873
        }
      },
      "cell_type": "code",
      "source": [
        "# gcc-6未満のバージョンをインストール\n",
        "!add-apt-repository -y ppa:ubuntu-toolchain-r/test\n",
        "!apt update\n",
        "#!apt-get install gcc-4.8 g++-4.8\n",
        "!apt-get install gcc-5 g++-5\n",
        "# 使用するgccの選択\n",
        "#!update-alternatives --install /usr/bin/gcc gcc /usr/bin/gcc-4.8 48 --slave /usr/bin/g++ g++ /usr/bin/g++-4.8 --slave /usr/bin/gcov gcov /usr/bin/gcov-4.8\n",
        "!update-alternatives --install /usr/bin/gcc gcc /usr/bin/gcc-5 50 --slave /usr/bin/g++ g++ /usr/bin/g++-5 --slave /usr/bin/gcov gcov /usr/bin/gcov-5\n",
        "!update-alternatives --install /usr/bin/gcc gcc /usr/bin/gcc-7 70 --slave /usr/bin/g++ g++ /usr/bin/g++-7 --slave /usr/bin/gcov gcov /usr/bin/gcov-7\n",
        "# 使用可能なgccの確認\n",
        "!update-alternatives --list gcc\n",
        "#!update-alternatives --config gcc\n",
        "!update-alternatives --set gcc /usr/bin/gcc-5\n",
        "!gcc -v"
      ],
      "execution_count": 14,
      "outputs": [
        {
          "output_type": "stream",
          "text": [
            "\r0% [Working]\r            \rHit:1 http://ppa.launchpad.net/graphics-drivers/ppa/ubuntu bionic InRelease\n",
            "\r0% [Waiting for headers] [Connecting to security.ubuntu.com (91.189.91.26)] [Wa\r                                                                               \rHit:2 http://archive.ubuntu.com/ubuntu bionic InRelease\n",
            "\r0% [Waiting for headers] [Connecting to security.ubuntu.com (91.189.91.26)] [Wa\r0% [1 InRelease gpgv 21.3 kB] [Waiting for headers] [Connecting to security.ubu\r                                                                               \rGet:3 http://archive.ubuntu.com/ubuntu bionic-updates InRelease [88.7 kB]\n",
            "\r0% [1 InRelease gpgv 21.3 kB] [3 InRelease 2,601 B/88.7 kB 3%] [Connecting to s\r                                                                               \rGet:4 http://ppa.launchpad.net/ubuntu-toolchain-r/test/ubuntu bionic InRelease [15.4 kB]\n",
            "Get:5 http://archive.ubuntu.com/ubuntu bionic-backports InRelease [74.6 kB]\n",
            "Ign:6 http://developer.download.nvidia.com/compute/cuda/repos/ubuntu1604/x86_64  InRelease\n",
            "Hit:7 http://developer.download.nvidia.com/compute/cuda/repos/ubuntu1604/x86_64  Release\n",
            "Get:8 http://security.ubuntu.com/ubuntu bionic-security InRelease [83.2 kB]\n",
            "Ign:9 https://developer.download.nvidia.com/compute/machine-learning/repos/ubuntu1604/x86_64  InRelease\n",
            "Hit:10 https://developer.download.nvidia.com/compute/machine-learning/repos/ubuntu1604/x86_64  Release\n",
            "Get:11 http://ppa.launchpad.net/ubuntu-toolchain-r/test/ubuntu bionic/main amd64 Packages [1,845 B]\n",
            "Get:12 http://archive.ubuntu.com/ubuntu bionic-updates/main amd64 Packages [634 kB]\n",
            "Get:13 http://archive.ubuntu.com/ubuntu bionic-updates/universe amd64 Packages [905 kB]\n",
            "Fetched 1,803 kB in 1s (1,227 kB/s)\n",
            "Reading package lists... Done\n",
            "Hit:1 http://ppa.launchpad.net/graphics-drivers/ppa/ubuntu bionic InRelease\n",
            "Hit:2 http://archive.ubuntu.com/ubuntu bionic InRelease\n",
            "Hit:3 http://archive.ubuntu.com/ubuntu bionic-updates InRelease\n",
            "Get:4 http://archive.ubuntu.com/ubuntu bionic-backports InRelease [74.6 kB]\n",
            "Ign:5 http://developer.download.nvidia.com/compute/cuda/repos/ubuntu1604/x86_64  InRelease\n",
            "Hit:6 http://developer.download.nvidia.com/compute/cuda/repos/ubuntu1604/x86_64  Release\n",
            "Get:7 http://security.ubuntu.com/ubuntu bionic-security InRelease [83.2 kB]\n",
            "Ign:8 https://developer.download.nvidia.com/compute/machine-learning/repos/ubuntu1604/x86_64  InRelease\n",
            "Hit:9 https://developer.download.nvidia.com/compute/machine-learning/repos/ubuntu1604/x86_64  Release\n",
            "Hit:12 http://ppa.launchpad.net/ubuntu-toolchain-r/test/ubuntu bionic InRelease\n",
            "Fetched 158 kB in 11s (13.7 kB/s)\n",
            "Reading package lists... Done\n",
            "Building dependency tree       \n",
            "Reading state information... Done\n",
            "54 packages can be upgraded. Run 'apt list --upgradable' to see them.\n",
            "Reading package lists... Done\n",
            "Building dependency tree       \n",
            "Reading state information... Done\n",
            "The following additional packages will be installed:\n",
            "  cpp-5 gcc-5-base libasan2 libgcc-5-dev libisl15 libmpx0 libstdc++-5-dev\n",
            "Suggested packages:\n",
            "  gcc-5-locales g++-5-multilib gcc-5-doc libstdc++6-5-dbg gcc-5-multilib\n",
            "  libgcc1-dbg libgomp1-dbg libitm1-dbg libatomic1-dbg libasan2-dbg\n",
            "  liblsan0-dbg libtsan0-dbg libubsan0-dbg libcilkrts5-dbg libmpx0-dbg\n",
            "  libquadmath0-dbg libstdc++-5-doc\n",
            "The following NEW packages will be installed:\n",
            "  cpp-5 g++-5 gcc-5 gcc-5-base libasan2 libgcc-5-dev libisl15 libmpx0\n",
            "  libstdc++-5-dev\n",
            "0 upgraded, 9 newly installed, 0 to remove and 54 not upgraded.\n",
            "Need to get 29.1 MB of archives.\n",
            "After this operation, 100 MB of additional disk space will be used.\n",
            "Get:1 http://archive.ubuntu.com/ubuntu bionic/universe amd64 gcc-5-base amd64 5.5.0-12ubuntu1 [17.1 kB]\n",
            "Get:2 http://archive.ubuntu.com/ubuntu bionic/universe amd64 libisl15 amd64 0.18-4 [548 kB]\n",
            "Get:3 http://archive.ubuntu.com/ubuntu bionic/universe amd64 cpp-5 amd64 5.5.0-12ubuntu1 [7,785 kB]\n",
            "Get:4 http://archive.ubuntu.com/ubuntu bionic/universe amd64 libasan2 amd64 5.5.0-12ubuntu1 [264 kB]\n",
            "Get:5 http://archive.ubuntu.com/ubuntu bionic/universe amd64 libmpx0 amd64 5.5.0-12ubuntu1 [9,888 B]\n",
            "Get:6 http://archive.ubuntu.com/ubuntu bionic/universe amd64 libgcc-5-dev amd64 5.5.0-12ubuntu1 [2,224 kB]\n",
            "Get:7 http://archive.ubuntu.com/ubuntu bionic/universe amd64 gcc-5 amd64 5.5.0-12ubuntu1 [8,357 kB]\n",
            "Get:8 http://archive.ubuntu.com/ubuntu bionic/universe amd64 libstdc++-5-dev amd64 5.5.0-12ubuntu1 [1,415 kB]\n",
            "Get:9 http://archive.ubuntu.com/ubuntu bionic/universe amd64 g++-5 amd64 5.5.0-12ubuntu1 [8,450 kB]\n",
            "Fetched 29.1 MB in 0s (62.5 MB/s)\n",
            "Selecting previously unselected package gcc-5-base:amd64.\n",
            "(Reading database ... 120558 files and directories currently installed.)\n",
            "Preparing to unpack .../0-gcc-5-base_5.5.0-12ubuntu1_amd64.deb ...\n",
            "Unpacking gcc-5-base:amd64 (5.5.0-12ubuntu1) ...\n",
            "Selecting previously unselected package libisl15:amd64.\n",
            "Preparing to unpack .../1-libisl15_0.18-4_amd64.deb ...\n",
            "Unpacking libisl15:amd64 (0.18-4) ...\n",
            "Selecting previously unselected package cpp-5.\n",
            "Preparing to unpack .../2-cpp-5_5.5.0-12ubuntu1_amd64.deb ...\n",
            "Unpacking cpp-5 (5.5.0-12ubuntu1) ...\n",
            "Selecting previously unselected package libasan2:amd64.\n",
            "Preparing to unpack .../3-libasan2_5.5.0-12ubuntu1_amd64.deb ...\n",
            "Unpacking libasan2:amd64 (5.5.0-12ubuntu1) ...\n",
            "Selecting previously unselected package libmpx0:amd64.\n",
            "Preparing to unpack .../4-libmpx0_5.5.0-12ubuntu1_amd64.deb ...\n",
            "Unpacking libmpx0:amd64 (5.5.0-12ubuntu1) ...\n",
            "Selecting previously unselected package libgcc-5-dev:amd64.\n",
            "Preparing to unpack .../5-libgcc-5-dev_5.5.0-12ubuntu1_amd64.deb ...\n",
            "Unpacking libgcc-5-dev:amd64 (5.5.0-12ubuntu1) ...\n",
            "Selecting previously unselected package gcc-5.\n",
            "Preparing to unpack .../6-gcc-5_5.5.0-12ubuntu1_amd64.deb ...\n",
            "Unpacking gcc-5 (5.5.0-12ubuntu1) ...\n",
            "Selecting previously unselected package libstdc++-5-dev:amd64.\n",
            "Preparing to unpack .../7-libstdc++-5-dev_5.5.0-12ubuntu1_amd64.deb ...\n",
            "Unpacking libstdc++-5-dev:amd64 (5.5.0-12ubuntu1) ...\n",
            "Selecting previously unselected package g++-5.\n",
            "Preparing to unpack .../8-g++-5_5.5.0-12ubuntu1_amd64.deb ...\n",
            "Unpacking g++-5 (5.5.0-12ubuntu1) ...\n",
            "Setting up libisl15:amd64 (0.18-4) ...\n",
            "Processing triggers for libc-bin (2.27-3ubuntu1) ...\n",
            "Processing triggers for man-db (2.8.3-2ubuntu0.1) ...\n",
            "Setting up gcc-5-base:amd64 (5.5.0-12ubuntu1) ...\n",
            "Setting up libmpx0:amd64 (5.5.0-12ubuntu1) ...\n",
            "Setting up libasan2:amd64 (5.5.0-12ubuntu1) ...\n",
            "Setting up libgcc-5-dev:amd64 (5.5.0-12ubuntu1) ...\n",
            "Setting up cpp-5 (5.5.0-12ubuntu1) ...\n",
            "Setting up libstdc++-5-dev:amd64 (5.5.0-12ubuntu1) ...\n",
            "Setting up gcc-5 (5.5.0-12ubuntu1) ...\n",
            "Setting up g++-5 (5.5.0-12ubuntu1) ...\n",
            "Processing triggers for libc-bin (2.27-3ubuntu1) ...\n",
            "update-alternatives: using /usr/bin/gcc-5 to provide /usr/bin/gcc (gcc) in auto mode\n",
            "update-alternatives: using /usr/bin/gcc-7 to provide /usr/bin/gcc (gcc) in auto mode\n",
            "/usr/bin/gcc-5\n",
            "/usr/bin/gcc-7\n",
            "update-alternatives: using /usr/bin/gcc-5 to provide /usr/bin/gcc (gcc) in manual mode\n",
            "Using built-in specs.\n",
            "COLLECT_GCC=gcc\n",
            "COLLECT_LTO_WRAPPER=/usr/lib/gcc/x86_64-linux-gnu/5/lto-wrapper\n",
            "Target: x86_64-linux-gnu\n",
            "Configured with: ../src/configure -v --with-pkgversion='Ubuntu 5.5.0-12ubuntu1' --with-bugurl=file:///usr/share/doc/gcc-5/README.Bugs --enable-languages=c,ada,c++,go,d,fortran,objc,obj-c++ --prefix=/usr --program-suffix=-5 --enable-shared --enable-linker-build-id --libexecdir=/usr/lib --without-included-gettext --enable-threads=posix --libdir=/usr/lib --enable-nls --with-sysroot=/ --enable-clocale=gnu --enable-libstdcxx-debug --enable-libstdcxx-time=yes --with-default-libstdcxx-abi=new --enable-gnu-unique-object --disable-vtable-verify --enable-libmpx --enable-plugin --enable-default-pie --with-system-zlib --enable-objc-gc --enable-multiarch --disable-werror --with-arch-32=i686 --with-abi=m64 --with-multilib-list=m32,m64,mx32 --enable-multilib --with-tune=generic --enable-checking=release --build=x86_64-linux-gnu --host=x86_64-linux-gnu --target=x86_64-linux-gnu\n",
            "Thread model: posix\n",
            "gcc version 5.5.0 20171010 (Ubuntu 5.5.0-12ubuntu1) \n"
          ],
          "name": "stdout"
        }
      ]
    },
    {
      "metadata": {
        "id": "BAHEqAaIET8p",
        "colab_type": "code",
        "colab": {
          "base_uri": "https://localhost:8080/",
          "height": 34
        },
        "outputId": "149fbad4-95ce-4b94-96e8-b2838d46afcd"
      },
      "cell_type": "code",
      "source": [
        "\n",
        "!update-alternatives --set gcc /usr/bin/gcc-5"
      ],
      "execution_count": 43,
      "outputs": [
        {
          "output_type": "stream",
          "text": [
            "update-alternatives: using /usr/bin/gcc-5 to provide /usr/bin/gcc (gcc) in manual mode\n"
          ],
          "name": "stdout"
        }
      ]
    },
    {
      "metadata": {
        "id": "mMeu8kE5440w",
        "colab_type": "code",
        "outputId": "bb14f59b-f5ce-4609-be8f-0a36735c2605",
        "colab": {
          "base_uri": "https://localhost:8080/",
          "height": 326
        }
      },
      "cell_type": "code",
      "source": [
        "# Boostのダウンロード\n",
        "%cd /content/caffe\n",
        "!wget https://dl.bintray.com/boostorg/release/1.67.0/source/boost_1_67_0.tar.bz2\n",
        "!tar --bzip2 -xf boost_1_67_0.tar.bz2"
      ],
      "execution_count": 44,
      "outputs": [
        {
          "output_type": "stream",
          "text": [
            "/content/caffe\n",
            "--2019-01-17 09:51:33--  https://dl.bintray.com/boostorg/release/1.67.0/source/boost_1_67_0.tar.bz2\n",
            "Resolving dl.bintray.com (dl.bintray.com)... 35.156.229.4, 52.28.24.138\n",
            "Connecting to dl.bintray.com (dl.bintray.com)|35.156.229.4|:443... connected.\n",
            "HTTP request sent, awaiting response... 302 \n",
            "Location: https://d29vzk4ow07wi7.cloudfront.net/2684c972994ee57fc5632e03bf044746f6eb45d4920c343937a465fd67a5adba?response-content-disposition=attachment%3Bfilename%3D%22boost_1_67_0.tar.bz2%22&Policy=eyJTdGF0ZW1lbnQiOiBbeyJSZXNvdXJjZSI6Imh0dHAqOi8vZDI5dnprNG93MDd3aTcuY2xvdWRmcm9udC5uZXQvMjY4NGM5NzI5OTRlZTU3ZmM1NjMyZTAzYmYwNDQ3NDZmNmViNDVkNDkyMGMzNDM5MzdhNDY1ZmQ2N2E1YWRiYT9yZXNwb25zZS1jb250ZW50LWRpc3Bvc2l0aW9uPWF0dGFjaG1lbnQlM0JmaWxlbmFtZSUzRCUyMmJvb3N0XzFfNjdfMC50YXIuYnoyJTIyIiwiQ29uZGl0aW9uIjp7IkRhdGVMZXNzVGhhbiI6eyJBV1M6RXBvY2hUaW1lIjoxNTQ3NzE5NDEzfSwiSXBBZGRyZXNzIjp7IkFXUzpTb3VyY2VJcCI6IjAuMC4wLjAvMCJ9fX1dfQ__&Signature=h9WIHnscvn9hzagzTg3LnlHLPLihK1IcRwWJFWnOm-vPVuFgcN7MLwi6zOHHcajasriuGNFTsiSMjHT7Z6hIzOvEkXfedFNmUlPXXoCdgENOuCg4QRRFKhcjm~UQDY3QndHBE62N6~2nZdERE2ikSfRBq4VLexz4SR4pcK3iqwfbM-MES8l-dphKLoJIXSIpojJygpfDGMQQIiCCmbDqgr300nSzEqsZWCsM3g0AHqjj3orI06VvMExGUotIEV27HmvGXBxCGhL~LZDhQ3WuBIufQFDtGtohFiUoRTE39arf3BeAWWumOKJBLtoPH-wNPVPVGv6VKfzGof8aM~W4xA__&Key-Pair-Id=APKAIFKFWOMXM2UMTSFA [following]\n",
            "--2019-01-17 09:51:33--  https://d29vzk4ow07wi7.cloudfront.net/2684c972994ee57fc5632e03bf044746f6eb45d4920c343937a465fd67a5adba?response-content-disposition=attachment%3Bfilename%3D%22boost_1_67_0.tar.bz2%22&Policy=eyJTdGF0ZW1lbnQiOiBbeyJSZXNvdXJjZSI6Imh0dHAqOi8vZDI5dnprNG93MDd3aTcuY2xvdWRmcm9udC5uZXQvMjY4NGM5NzI5OTRlZTU3ZmM1NjMyZTAzYmYwNDQ3NDZmNmViNDVkNDkyMGMzNDM5MzdhNDY1ZmQ2N2E1YWRiYT9yZXNwb25zZS1jb250ZW50LWRpc3Bvc2l0aW9uPWF0dGFjaG1lbnQlM0JmaWxlbmFtZSUzRCUyMmJvb3N0XzFfNjdfMC50YXIuYnoyJTIyIiwiQ29uZGl0aW9uIjp7IkRhdGVMZXNzVGhhbiI6eyJBV1M6RXBvY2hUaW1lIjoxNTQ3NzE5NDEzfSwiSXBBZGRyZXNzIjp7IkFXUzpTb3VyY2VJcCI6IjAuMC4wLjAvMCJ9fX1dfQ__&Signature=h9WIHnscvn9hzagzTg3LnlHLPLihK1IcRwWJFWnOm-vPVuFgcN7MLwi6zOHHcajasriuGNFTsiSMjHT7Z6hIzOvEkXfedFNmUlPXXoCdgENOuCg4QRRFKhcjm~UQDY3QndHBE62N6~2nZdERE2ikSfRBq4VLexz4SR4pcK3iqwfbM-MES8l-dphKLoJIXSIpojJygpfDGMQQIiCCmbDqgr300nSzEqsZWCsM3g0AHqjj3orI06VvMExGUotIEV27HmvGXBxCGhL~LZDhQ3WuBIufQFDtGtohFiUoRTE39arf3BeAWWumOKJBLtoPH-wNPVPVGv6VKfzGof8aM~W4xA__&Key-Pair-Id=APKAIFKFWOMXM2UMTSFA\n",
            "Resolving d29vzk4ow07wi7.cloudfront.net (d29vzk4ow07wi7.cloudfront.net)... 52.85.188.227, 52.85.188.54, 52.85.188.27, ...\n",
            "Connecting to d29vzk4ow07wi7.cloudfront.net (d29vzk4ow07wi7.cloudfront.net)|52.85.188.227|:443... connected.\n",
            "HTTP request sent, awaiting response... 200 OK\n",
            "Length: 87336566 (83M) [application/x-bzip2]\n",
            "Saving to: ‘boost_1_67_0.tar.bz2.1’\n",
            "\n",
            "boost_1_67_0.tar.bz 100%[===================>]  83.29M  95.5MB/s    in 0.9s    \n",
            "\n",
            "2019-01-17 09:51:34 (95.5 MB/s) - ‘boost_1_67_0.tar.bz2.1’ saved [87336566/87336566]\n",
            "\n"
          ],
          "name": "stdout"
        }
      ]
    },
    {
      "metadata": {
        "id": "rupuJFlJ5A3N",
        "colab_type": "code",
        "outputId": "baf883d1-3494-4433-c66e-0e91164add37",
        "colab": {
          "base_uri": "https://localhost:8080/",
          "height": 7837
        }
      },
      "cell_type": "code",
      "source": [
        "# Boostのインストール\n",
        "!cd boost_1_67_0 && ./bootstrap.sh --exec-prefix=/usr/local --with-libraries=system,filesystem,regex,thread,python \\\n",
        "--with-python-version=2.7 --with-python-root=/usr\n",
        "!cd boost_1_67_0 && ./b2 install\n",
        "!echo done"
      ],
      "execution_count": 45,
      "outputs": [
        {
          "output_type": "stream",
          "text": [
            "Building Boost.Build engine with toolset gcc... tools/build/src/engine/bin.linuxx86_64/b2\n",
            "Unicode/ICU support for Boost.Regex?... /usr\n",
            "Backing up existing Boost.Build configuration in project-config.jam.1\n",
            "Generating Boost.Build configuration in project-config.jam...\n",
            "\n",
            "Bootstrapping is done. To build, run:\n",
            "\n",
            "    ./b2\n",
            "    \n",
            "To adjust configuration, edit 'project-config.jam'.\n",
            "Further information:\n",
            "\n",
            "   - Command line help:\n",
            "     ./b2 --help\n",
            "     \n",
            "   - Getting started guide: \n",
            "     http://www.boost.org/more/getting_started/unix-variants.html\n",
            "     \n",
            "   - Boost.Build documentation:\n",
            "     http://www.boost.org/build/doc/html/index.html\n",
            "\n",
            "/content/caffe/boost_1_67_0/libs/predef/check/../tools/check/predef.jam:46: Unescaped special character in argument $(language)::$(expression)\n",
            "Performing configuration checks\n",
            "\n",
            "    - default address-model    : 64-bit\n",
            "    - default architecture     : x86\n",
            "    - symlinks supported       : yes (cached)\n",
            "    - has_icu builds           : no\n",
            "    - lockfree boost::atomic_flag : yes\n",
            "\n",
            "Component configuration:\n",
            "\n",
            "    - atomic                   : not building\n",
            "    - chrono                   : not building\n",
            "    - container                : not building\n",
            "    - context                  : not building\n",
            "    - contract                 : not building\n",
            "    - coroutine                : not building\n",
            "    - date_time                : not building\n",
            "    - exception                : not building\n",
            "    - fiber                    : not building\n",
            "    - filesystem               : building\n",
            "    - graph                    : not building\n",
            "    - graph_parallel           : not building\n",
            "    - iostreams                : not building\n",
            "    - locale                   : not building\n",
            "    - log                      : not building\n",
            "    - math                     : not building\n",
            "    - mpi                      : not building\n",
            "    - program_options          : not building\n",
            "    - python                   : building\n",
            "    - random                   : not building\n",
            "    - regex                    : building\n",
            "    - serialization            : not building\n",
            "    - signals                  : not building\n",
            "    - stacktrace               : not building\n",
            "    - system                   : building\n",
            "    - test                     : not building\n",
            "    - thread                   : building\n",
            "    - timer                    : not building\n",
            "    - type_erasure             : not building\n",
            "    - wave                     : not building\n",
            "\n",
            "...patience...\n",
            "...patience...\n",
            "...found 32623 targets...\n",
            "...updating 192 targets...\n",
            "gcc.compile.c++ bin.v2/libs/system/build/gcc-5.5.0/release/threading-multi/error_code.o\n",
            "gcc.link.dll bin.v2/libs/system/build/gcc-5.5.0/release/threading-multi/libboost_system.so.1.67.0\n",
            "common.copy /usr/local/lib/libboost_system.so.1.67.0\n",
            "ln-UNIX /usr/local/lib/libboost_system.so\n",
            "gcc.compile.c++ bin.v2/libs/filesystem/build/gcc-5.5.0/release/threading-multi/codecvt_error_category.o\n",
            "gcc.compile.c++ bin.v2/libs/filesystem/build/gcc-5.5.0/release/threading-multi/operations.o\n",
            "libs/filesystem/src/operations.cpp: In function ‘int {anonymous}::readdir_r_simulator(DIR*, dirent*, dirent**)’:\n",
            "libs/filesystem/src/operations.cpp:2094:18: warning: ‘int readdir_r(DIR*, dirent*, dirent**)’ is deprecated [-Wdeprecated-declarations]\n",
            "       { return ::readdir_r(dirp, entry, result); }\n",
            "                  ^\n",
            "In file included from /usr/include/features.h:424:0,\n",
            "                 from /usr/include/x86_64-linux-gnu/c++/5/bits/os_defines.h:39,\n",
            "                 from /usr/include/x86_64-linux-gnu/c++/5/bits/c++config.h:489,\n",
            "                 from /usr/include/c++/5/cstddef:44,\n",
            "                 from ./boost/config/compiler/gcc.hpp:165,\n",
            "                 from ./boost/config.hpp:39,\n",
            "                 from ./boost/filesystem/operations.hpp:18,\n",
            "                 from libs/filesystem/src/operations.cpp:44:\n",
            "/usr/include/dirent.h:189:12: note: declared here\n",
            " extern int __REDIRECT (readdir_r,\n",
            "            ^\n",
            "libs/filesystem/src/operations.cpp:2094:18: warning: ‘int readdir_r(DIR*, dirent*, dirent**)’ is deprecated [-Wdeprecated-declarations]\n",
            "       { return ::readdir_r(dirp, entry, result); }\n",
            "                  ^\n",
            "In file included from /usr/include/features.h:424:0,\n",
            "                 from /usr/include/x86_64-linux-gnu/c++/5/bits/os_defines.h:39,\n",
            "                 from /usr/include/x86_64-linux-gnu/c++/5/bits/c++config.h:489,\n",
            "                 from /usr/include/c++/5/cstddef:44,\n",
            "                 from ./boost/config/compiler/gcc.hpp:165,\n",
            "                 from ./boost/config.hpp:39,\n",
            "                 from ./boost/filesystem/operations.hpp:18,\n",
            "                 from libs/filesystem/src/operations.cpp:44:\n",
            "/usr/include/dirent.h:189:12: note: declared here\n",
            " extern int __REDIRECT (readdir_r,\n",
            "            ^\n",
            "libs/filesystem/src/operations.cpp:2094:47: warning: ‘int readdir_r(DIR*, dirent*, dirent**)’ is deprecated [-Wdeprecated-declarations]\n",
            "       { return ::readdir_r(dirp, entry, result); }\n",
            "                                               ^\n",
            "In file included from /usr/include/features.h:424:0,\n",
            "                 from /usr/include/x86_64-linux-gnu/c++/5/bits/os_defines.h:39,\n",
            "                 from /usr/include/x86_64-linux-gnu/c++/5/bits/c++config.h:489,\n",
            "                 from /usr/include/c++/5/cstddef:44,\n",
            "                 from ./boost/config/compiler/gcc.hpp:165,\n",
            "                 from ./boost/config.hpp:39,\n",
            "                 from ./boost/filesystem/operations.hpp:18,\n",
            "                 from libs/filesystem/src/operations.cpp:44:\n",
            "/usr/include/dirent.h:189:12: note: declared here\n",
            " extern int __REDIRECT (readdir_r,\n",
            "            ^\n",
            "gcc.compile.c++ bin.v2/libs/filesystem/build/gcc-5.5.0/release/threading-multi/path.o\n",
            "gcc.compile.c++ bin.v2/libs/filesystem/build/gcc-5.5.0/release/threading-multi/path_traits.o\n",
            "gcc.compile.c++ bin.v2/libs/filesystem/build/gcc-5.5.0/release/threading-multi/portability.o\n",
            "gcc.compile.c++ bin.v2/libs/filesystem/build/gcc-5.5.0/release/threading-multi/unique_path.o\n",
            "gcc.compile.c++ bin.v2/libs/filesystem/build/gcc-5.5.0/release/threading-multi/utf8_codecvt_facet.o\n",
            "gcc.compile.c++ bin.v2/libs/filesystem/build/gcc-5.5.0/release/threading-multi/windows_file_codecvt.o\n",
            "gcc.link.dll bin.v2/libs/filesystem/build/gcc-5.5.0/release/threading-multi/libboost_filesystem.so.1.67.0\n",
            "common.copy /usr/local/lib/libboost_filesystem.so.1.67.0\n",
            "ln-UNIX /usr/local/lib/libboost_filesystem.so\n",
            "gcc.compile.c++ bin.v2/libs/python/build/gcc-5.5.0/release/threading-multi/list.o\n",
            "gcc.compile.c++ bin.v2/libs/python/build/gcc-5.5.0/release/threading-multi/long.o\n",
            "gcc.compile.c++ bin.v2/libs/python/build/gcc-5.5.0/release/threading-multi/dict.o\n",
            "gcc.compile.c++ bin.v2/libs/python/build/gcc-5.5.0/release/threading-multi/tuple.o\n",
            "gcc.compile.c++ bin.v2/libs/python/build/gcc-5.5.0/release/threading-multi/str.o\n",
            "gcc.compile.c++ bin.v2/libs/python/build/gcc-5.5.0/release/threading-multi/slice.o\n",
            "gcc.compile.c++ bin.v2/libs/python/build/gcc-5.5.0/release/threading-multi/converter/from_python.o\n",
            "gcc.compile.c++ bin.v2/libs/python/build/gcc-5.5.0/release/threading-multi/converter/registry.o\n",
            "gcc.compile.c++ bin.v2/libs/python/build/gcc-5.5.0/release/threading-multi/converter/type_id.o\n",
            "gcc.compile.c++ bin.v2/libs/python/build/gcc-5.5.0/release/threading-multi/object/enum.o\n",
            "In file included from /usr/include/python2.7/Python.h:83:0,\n",
            "                 from ./boost/python/detail/wrap_python.hpp:151,\n",
            "                 from ./boost/python/detail/prefix.hpp:13,\n",
            "                 from ./boost/python/object_core.hpp:10,\n",
            "                 from ./boost/python/object/enum_base.hpp:8,\n",
            "                 from libs/python/src/object/enum.cpp:6:\n",
            "libs/python/src/object/enum.cpp: In function ‘boost::python::api::object boost::python::objects::{anonymous}::new_enum_type(const char*, const char*)’:\n",
            "/usr/include/python2.7/object.h:115:51: warning: dereferencing type-punned pointer will break strict-aliasing rules [-Wstrict-aliasing]\n",
            " #define Py_TYPE(ob)             (((PyObject*)(ob))->ob_type)\n",
            "                                                   ^\n",
            "libs/python/src/object/enum.cpp:156:11: note: in expansion of macro ‘Py_TYPE’\n",
            "           Py_TYPE(&enum_type_object) = incref(&PyType_Type);\n",
            "           ^\n",
            "gcc.compile.c++ bin.v2/libs/python/build/gcc-5.5.0/release/threading-multi/object/class.o\n",
            "In file included from /usr/include/python2.7/Python.h:83:0,\n",
            "                 from ./boost/python/detail/wrap_python.hpp:151,\n",
            "                 from ./boost/python/detail/prefix.hpp:13,\n",
            "                 from libs/python/src/object/class.cpp:6:\n",
            "libs/python/src/object/class.cpp: In function ‘PyObject* boost::python::objects::static_data()’:\n",
            "/usr/include/python2.7/object.h:115:51: warning: dereferencing type-punned pointer will break strict-aliasing rules [-Wstrict-aliasing]\n",
            " #define Py_TYPE(ob)             (((PyObject*)(ob))->ob_type)\n",
            "                                                   ^\n",
            "libs/python/src/object/class.cpp:211:11: note: in expansion of macro ‘Py_TYPE’\n",
            "           Py_TYPE(&static_data_object) = &PyType_Type;\n",
            "           ^\n",
            "libs/python/src/object/class.cpp: In function ‘boost::python::type_handle boost::python::objects::class_metatype()’:\n",
            "/usr/include/python2.7/object.h:115:51: warning: dereferencing type-punned pointer will break strict-aliasing rules [-Wstrict-aliasing]\n",
            " #define Py_TYPE(ob)             (((PyObject*)(ob))->ob_type)\n",
            "                                                   ^\n",
            "libs/python/src/object/class.cpp:319:11: note: in expansion of macro ‘Py_TYPE’\n",
            "           Py_TYPE(&class_metatype_object) = &PyType_Type;\n",
            "           ^\n",
            "libs/python/src/object/class.cpp: In function ‘boost::python::type_handle boost::python::objects::class_type()’:\n",
            "/usr/include/python2.7/object.h:115:51: warning: dereferencing type-punned pointer will break strict-aliasing rules [-Wstrict-aliasing]\n",
            " #define Py_TYPE(ob)             (((PyObject*)(ob))->ob_type)\n",
            "                                                   ^\n",
            "libs/python/src/object/class.cpp:473:11: note: in expansion of macro ‘Py_TYPE’\n",
            "           Py_TYPE(&class_type_object) = incref(class_metatype().get());\n",
            "           ^\n",
            "gcc.compile.c++ bin.v2/libs/python/build/gcc-5.5.0/release/threading-multi/object/function.o\n",
            "In file included from /usr/include/python2.7/Python.h:83:0,\n",
            "                 from ./boost/python/detail/wrap_python.hpp:151,\n",
            "                 from ./boost/python/detail/prefix.hpp:13,\n",
            "                 from ./boost/python/object/function.hpp:8,\n",
            "                 from ./boost/python/docstring_options.hpp:8,\n",
            "                 from libs/python/src/object/function.cpp:6:\n",
            "libs/python/src/object/function.cpp: In constructor ‘boost::python::objects::function::function(const boost::python::objects::py_function&, const boost::python::detail::keyword*, unsigned int)’:\n",
            "/usr/include/python2.7/object.h:115:51: warning: dereferencing type-punned pointer will break strict-aliasing rules [-Wstrict-aliasing]\n",
            " #define Py_TYPE(ob)             (((PyObject*)(ob))->ob_type)\n",
            "                                                   ^\n",
            "libs/python/src/object/function.cpp:108:9: note: in expansion of macro ‘Py_TYPE’\n",
            "     if (Py_TYPE(&function_type) == 0)\n",
            "         ^\n",
            "/usr/include/python2.7/object.h:115:51: warning: dereferencing type-punned pointer will break strict-aliasing rules [-Wstrict-aliasing]\n",
            " #define Py_TYPE(ob)             (((PyObject*)(ob))->ob_type)\n",
            "                                                   ^\n",
            "libs/python/src/object/function.cpp:110:9: note: in expansion of macro ‘Py_TYPE’\n",
            "         Py_TYPE(&function_type) = &PyType_Type;\n",
            "         ^\n",
            "gcc.compile.c++ bin.v2/libs/python/build/gcc-5.5.0/release/threading-multi/object/inheritance.o\n",
            "gcc.compile.c++ bin.v2/libs/python/build/gcc-5.5.0/release/threading-multi/object/life_support.o\n",
            "In file included from /usr/include/python2.7/Python.h:83:0,\n",
            "                 from ./boost/python/detail/wrap_python.hpp:151,\n",
            "                 from ./boost/python/detail/prefix.hpp:13,\n",
            "                 from ./boost/python/object/life_support.hpp:7,\n",
            "                 from libs/python/src/object/life_support.cpp:5:\n",
            "libs/python/src/object/life_support.cpp: In function ‘PyObject* boost::python::objects::make_nurse_and_patient(PyObject*, PyObject*)’:\n",
            "/usr/include/python2.7/object.h:115:51: warning: dereferencing type-punned pointer will break strict-aliasing rules [-Wstrict-aliasing]\n",
            " #define Py_TYPE(ob)             (((PyObject*)(ob))->ob_type)\n",
            "                                                   ^\n",
            "libs/python/src/object/life_support.cpp:94:9: note: in expansion of macro ‘Py_TYPE’\n",
            "     if (Py_TYPE(&life_support_type) == 0)\n",
            "         ^\n",
            "/usr/include/python2.7/object.h:115:51: warning: dereferencing type-punned pointer will break strict-aliasing rules [-Wstrict-aliasing]\n",
            " #define Py_TYPE(ob)             (((PyObject*)(ob))->ob_type)\n",
            "                                                   ^\n",
            "libs/python/src/object/life_support.cpp:96:9: note: in expansion of macro ‘Py_TYPE’\n",
            "         Py_TYPE(&life_support_type) = &PyType_Type;\n",
            "         ^\n",
            "gcc.compile.c++ bin.v2/libs/python/build/gcc-5.5.0/release/threading-multi/object/pickle_support.o\n",
            "gcc.compile.c++ bin.v2/libs/python/build/gcc-5.5.0/release/threading-multi/errors.o\n",
            "gcc.compile.c++ bin.v2/libs/python/build/gcc-5.5.0/release/threading-multi/module.o\n",
            "gcc.compile.c++ bin.v2/libs/python/build/gcc-5.5.0/release/threading-multi/converter/builtin_converters.o\n",
            "gcc.compile.c++ bin.v2/libs/python/build/gcc-5.5.0/release/threading-multi/converter/arg_to_python_base.o\n",
            "gcc.compile.c++ bin.v2/libs/python/build/gcc-5.5.0/release/threading-multi/object/iterator.o\n",
            "gcc.compile.c++ bin.v2/libs/python/build/gcc-5.5.0/release/threading-multi/object/stl_iterator.o\n",
            "gcc.compile.c++ bin.v2/libs/python/build/gcc-5.5.0/release/threading-multi/object_protocol.o\n",
            "gcc.compile.c++ bin.v2/libs/python/build/gcc-5.5.0/release/threading-multi/object_operators.o\n",
            "gcc.compile.c++ bin.v2/libs/python/build/gcc-5.5.0/release/threading-multi/wrapper.o\n",
            "gcc.compile.c++ bin.v2/libs/python/build/gcc-5.5.0/release/threading-multi/import.o\n",
            "gcc.compile.c++ bin.v2/libs/python/build/gcc-5.5.0/release/threading-multi/exec.o\n",
            "gcc.compile.c++ bin.v2/libs/python/build/gcc-5.5.0/release/threading-multi/object/function_doc_signature.o\n",
            "gcc.link.dll bin.v2/libs/python/build/gcc-5.5.0/release/threading-multi/libboost_python27.so.1.67.0\n",
            "common.copy /usr/local/lib/libboost_python27.so.1.67.0\n",
            "ln-UNIX /usr/local/lib/libboost_python27.so\n",
            "gcc.compile.c++ bin.v2/libs/python/build/gcc-5.5.0/release/threading-multi/numpy/dtype.o\n",
            "gcc.compile.c++ bin.v2/libs/python/build/gcc-5.5.0/release/threading-multi/numpy/matrix.o\n",
            "gcc.compile.c++ bin.v2/libs/python/build/gcc-5.5.0/release/threading-multi/numpy/ndarray.o\n",
            "gcc.compile.c++ bin.v2/libs/python/build/gcc-5.5.0/release/threading-multi/numpy/numpy.o\n",
            "gcc.compile.c++ bin.v2/libs/python/build/gcc-5.5.0/release/threading-multi/numpy/scalars.o\n",
            "gcc.compile.c++ bin.v2/libs/python/build/gcc-5.5.0/release/threading-multi/numpy/ufunc.o\n",
            "gcc.link.dll bin.v2/libs/python/build/gcc-5.5.0/release/threading-multi/libboost_numpy27.so.1.67.0\n",
            "common.copy /usr/local/lib/libboost_numpy27.so.1.67.0\n",
            "ln-UNIX /usr/local/lib/libboost_numpy27.so\n",
            "gcc.compile.c++ bin.v2/libs/regex/build/gcc-5.5.0/release/threading-multi/c_regex_traits.o\n",
            "gcc.compile.c++ bin.v2/libs/regex/build/gcc-5.5.0/release/threading-multi/cpp_regex_traits.o\n",
            "gcc.compile.c++ bin.v2/libs/regex/build/gcc-5.5.0/release/threading-multi/cregex.o\n",
            "gcc.compile.c++ bin.v2/libs/regex/build/gcc-5.5.0/release/threading-multi/fileiter.o\n",
            "gcc.compile.c++ bin.v2/libs/regex/build/gcc-5.5.0/release/threading-multi/icu.o\n",
            "gcc.compile.c++ bin.v2/libs/regex/build/gcc-5.5.0/release/threading-multi/instances.o\n",
            "gcc.compile.c++ bin.v2/libs/regex/build/gcc-5.5.0/release/threading-multi/posix_api.o\n",
            "gcc.compile.c++ bin.v2/libs/regex/build/gcc-5.5.0/release/threading-multi/regex.o\n",
            "gcc.compile.c++ bin.v2/libs/regex/build/gcc-5.5.0/release/threading-multi/regex_debug.o\n",
            "gcc.compile.c++ bin.v2/libs/regex/build/gcc-5.5.0/release/threading-multi/regex_raw_buffer.o\n",
            "gcc.compile.c++ bin.v2/libs/regex/build/gcc-5.5.0/release/threading-multi/regex_traits_defaults.o\n",
            "gcc.compile.c++ bin.v2/libs/regex/build/gcc-5.5.0/release/threading-multi/static_mutex.o\n",
            "gcc.compile.c++ bin.v2/libs/regex/build/gcc-5.5.0/release/threading-multi/w32_regex_traits.o\n",
            "gcc.compile.c++ bin.v2/libs/regex/build/gcc-5.5.0/release/threading-multi/wc_regex_traits.o\n",
            "gcc.compile.c++ bin.v2/libs/regex/build/gcc-5.5.0/release/threading-multi/wide_posix_api.o\n",
            "gcc.compile.c++ bin.v2/libs/regex/build/gcc-5.5.0/release/threading-multi/winstances.o\n",
            "gcc.compile.c++ bin.v2/libs/regex/build/gcc-5.5.0/release/threading-multi/usinstances.o\n",
            "gcc.link.dll bin.v2/libs/regex/build/gcc-5.5.0/release/threading-multi/libboost_regex.so.1.67.0\n",
            "common.copy /usr/local/lib/libboost_regex.so.1.67.0\n",
            "ln-UNIX /usr/local/lib/libboost_regex.so\n",
            "gcc.compile.c++ bin.v2/libs/thread/build/gcc-5.5.0/release/threadapi-pthread/threading-multi/pthread/thread.o\n",
            "gcc.compile.c++ bin.v2/libs/thread/build/gcc-5.5.0/release/threadapi-pthread/threading-multi/pthread/once.o\n",
            "gcc.compile.c++ bin.v2/libs/thread/build/gcc-5.5.0/release/threadapi-pthread/threading-multi/future.o\n",
            "gcc.link.dll bin.v2/libs/thread/build/gcc-5.5.0/release/threadapi-pthread/threading-multi/libboost_thread.so.1.67.0\n",
            "common.copy /usr/local/lib/libboost_thread.so.1.67.0\n",
            "ln-UNIX /usr/local/lib/libboost_thread.so\n",
            "...on 100th target...\n",
            "gcc.compile.c++ bin.v2/libs/system/build/gcc-5.5.0/release/link-static/threading-multi/error_code.o\n",
            "gcc.archive bin.v2/libs/system/build/gcc-5.5.0/release/link-static/threading-multi/libboost_system.a\n",
            "common.copy /usr/local/lib/libboost_system.a\n",
            "gcc.compile.c++ bin.v2/libs/filesystem/build/gcc-5.5.0/release/link-static/threading-multi/codecvt_error_category.o\n",
            "gcc.compile.c++ bin.v2/libs/filesystem/build/gcc-5.5.0/release/link-static/threading-multi/operations.o\n",
            "libs/filesystem/src/operations.cpp: In function ‘int {anonymous}::readdir_r_simulator(DIR*, dirent*, dirent**)’:\n",
            "libs/filesystem/src/operations.cpp:2094:18: warning: ‘int readdir_r(DIR*, dirent*, dirent**)’ is deprecated [-Wdeprecated-declarations]\n",
            "       { return ::readdir_r(dirp, entry, result); }\n",
            "                  ^\n",
            "In file included from /usr/include/features.h:424:0,\n",
            "                 from /usr/include/x86_64-linux-gnu/c++/5/bits/os_defines.h:39,\n",
            "                 from /usr/include/x86_64-linux-gnu/c++/5/bits/c++config.h:489,\n",
            "                 from /usr/include/c++/5/cstddef:44,\n",
            "                 from ./boost/config/compiler/gcc.hpp:165,\n",
            "                 from ./boost/config.hpp:39,\n",
            "                 from ./boost/filesystem/operations.hpp:18,\n",
            "                 from libs/filesystem/src/operations.cpp:44:\n",
            "/usr/include/dirent.h:189:12: note: declared here\n",
            " extern int __REDIRECT (readdir_r,\n",
            "            ^\n",
            "libs/filesystem/src/operations.cpp:2094:18: warning: ‘int readdir_r(DIR*, dirent*, dirent**)’ is deprecated [-Wdeprecated-declarations]\n",
            "       { return ::readdir_r(dirp, entry, result); }\n",
            "                  ^\n",
            "In file included from /usr/include/features.h:424:0,\n",
            "                 from /usr/include/x86_64-linux-gnu/c++/5/bits/os_defines.h:39,\n",
            "                 from /usr/include/x86_64-linux-gnu/c++/5/bits/c++config.h:489,\n",
            "                 from /usr/include/c++/5/cstddef:44,\n",
            "                 from ./boost/config/compiler/gcc.hpp:165,\n",
            "                 from ./boost/config.hpp:39,\n",
            "                 from ./boost/filesystem/operations.hpp:18,\n",
            "                 from libs/filesystem/src/operations.cpp:44:\n",
            "/usr/include/dirent.h:189:12: note: declared here\n",
            " extern int __REDIRECT (readdir_r,\n",
            "            ^\n",
            "libs/filesystem/src/operations.cpp:2094:47: warning: ‘int readdir_r(DIR*, dirent*, dirent**)’ is deprecated [-Wdeprecated-declarations]\n",
            "       { return ::readdir_r(dirp, entry, result); }\n",
            "                                               ^\n",
            "In file included from /usr/include/features.h:424:0,\n",
            "                 from /usr/include/x86_64-linux-gnu/c++/5/bits/os_defines.h:39,\n",
            "                 from /usr/include/x86_64-linux-gnu/c++/5/bits/c++config.h:489,\n",
            "                 from /usr/include/c++/5/cstddef:44,\n",
            "                 from ./boost/config/compiler/gcc.hpp:165,\n",
            "                 from ./boost/config.hpp:39,\n",
            "                 from ./boost/filesystem/operations.hpp:18,\n",
            "                 from libs/filesystem/src/operations.cpp:44:\n",
            "/usr/include/dirent.h:189:12: note: declared here\n",
            " extern int __REDIRECT (readdir_r,\n",
            "            ^\n",
            "gcc.compile.c++ bin.v2/libs/filesystem/build/gcc-5.5.0/release/link-static/threading-multi/path.o\n",
            "gcc.compile.c++ bin.v2/libs/filesystem/build/gcc-5.5.0/release/link-static/threading-multi/path_traits.o\n",
            "gcc.compile.c++ bin.v2/libs/filesystem/build/gcc-5.5.0/release/link-static/threading-multi/portability.o\n",
            "gcc.compile.c++ bin.v2/libs/filesystem/build/gcc-5.5.0/release/link-static/threading-multi/unique_path.o\n",
            "gcc.compile.c++ bin.v2/libs/filesystem/build/gcc-5.5.0/release/link-static/threading-multi/utf8_codecvt_facet.o\n",
            "gcc.compile.c++ bin.v2/libs/filesystem/build/gcc-5.5.0/release/link-static/threading-multi/windows_file_codecvt.o\n",
            "gcc.archive bin.v2/libs/filesystem/build/gcc-5.5.0/release/link-static/threading-multi/libboost_filesystem.a\n",
            "common.copy /usr/local/lib/libboost_filesystem.a\n",
            "gcc.compile.c++ bin.v2/libs/python/build/gcc-5.5.0/release/link-static/threading-multi/list.o\n",
            "gcc.compile.c++ bin.v2/libs/python/build/gcc-5.5.0/release/link-static/threading-multi/long.o\n",
            "gcc.compile.c++ bin.v2/libs/python/build/gcc-5.5.0/release/link-static/threading-multi/dict.o\n",
            "gcc.compile.c++ bin.v2/libs/python/build/gcc-5.5.0/release/link-static/threading-multi/tuple.o\n",
            "gcc.compile.c++ bin.v2/libs/python/build/gcc-5.5.0/release/link-static/threading-multi/str.o\n",
            "gcc.compile.c++ bin.v2/libs/python/build/gcc-5.5.0/release/link-static/threading-multi/slice.o\n",
            "gcc.compile.c++ bin.v2/libs/python/build/gcc-5.5.0/release/link-static/threading-multi/converter/from_python.o\n",
            "gcc.compile.c++ bin.v2/libs/python/build/gcc-5.5.0/release/link-static/threading-multi/converter/registry.o\n",
            "gcc.compile.c++ bin.v2/libs/python/build/gcc-5.5.0/release/link-static/threading-multi/converter/type_id.o\n",
            "gcc.compile.c++ bin.v2/libs/python/build/gcc-5.5.0/release/link-static/threading-multi/object/enum.o\n",
            "In file included from /usr/include/python2.7/Python.h:83:0,\n",
            "                 from ./boost/python/detail/wrap_python.hpp:151,\n",
            "                 from ./boost/python/detail/prefix.hpp:13,\n",
            "                 from ./boost/python/object_core.hpp:10,\n",
            "                 from ./boost/python/object/enum_base.hpp:8,\n",
            "                 from libs/python/src/object/enum.cpp:6:\n",
            "libs/python/src/object/enum.cpp: In function ‘boost::python::api::object boost::python::objects::{anonymous}::new_enum_type(const char*, const char*)’:\n",
            "/usr/include/python2.7/object.h:115:51: warning: dereferencing type-punned pointer will break strict-aliasing rules [-Wstrict-aliasing]\n",
            " #define Py_TYPE(ob)             (((PyObject*)(ob))->ob_type)\n",
            "                                                   ^\n",
            "libs/python/src/object/enum.cpp:156:11: note: in expansion of macro ‘Py_TYPE’\n",
            "           Py_TYPE(&enum_type_object) = incref(&PyType_Type);\n",
            "           ^\n",
            "gcc.compile.c++ bin.v2/libs/python/build/gcc-5.5.0/release/link-static/threading-multi/object/class.o\n",
            "In file included from /usr/include/python2.7/Python.h:83:0,\n",
            "                 from ./boost/python/detail/wrap_python.hpp:151,\n",
            "                 from ./boost/python/detail/prefix.hpp:13,\n",
            "                 from libs/python/src/object/class.cpp:6:\n",
            "libs/python/src/object/class.cpp: In function ‘PyObject* boost::python::objects::static_data()’:\n",
            "/usr/include/python2.7/object.h:115:51: warning: dereferencing type-punned pointer will break strict-aliasing rules [-Wstrict-aliasing]\n",
            " #define Py_TYPE(ob)             (((PyObject*)(ob))->ob_type)\n",
            "                                                   ^\n",
            "libs/python/src/object/class.cpp:211:11: note: in expansion of macro ‘Py_TYPE’\n",
            "           Py_TYPE(&static_data_object) = &PyType_Type;\n",
            "           ^\n",
            "libs/python/src/object/class.cpp: In function ‘boost::python::type_handle boost::python::objects::class_metatype()’:\n",
            "/usr/include/python2.7/object.h:115:51: warning: dereferencing type-punned pointer will break strict-aliasing rules [-Wstrict-aliasing]\n",
            " #define Py_TYPE(ob)             (((PyObject*)(ob))->ob_type)\n",
            "                                                   ^\n",
            "libs/python/src/object/class.cpp:319:11: note: in expansion of macro ‘Py_TYPE’\n",
            "           Py_TYPE(&class_metatype_object) = &PyType_Type;\n",
            "           ^\n",
            "libs/python/src/object/class.cpp: In function ‘boost::python::type_handle boost::python::objects::class_type()’:\n",
            "/usr/include/python2.7/object.h:115:51: warning: dereferencing type-punned pointer will break strict-aliasing rules [-Wstrict-aliasing]\n",
            " #define Py_TYPE(ob)             (((PyObject*)(ob))->ob_type)\n",
            "                                                   ^\n",
            "libs/python/src/object/class.cpp:473:11: note: in expansion of macro ‘Py_TYPE’\n",
            "           Py_TYPE(&class_type_object) = incref(class_metatype().get());\n",
            "           ^\n",
            "gcc.compile.c++ bin.v2/libs/python/build/gcc-5.5.0/release/link-static/threading-multi/object/function.o\n",
            "In file included from /usr/include/python2.7/Python.h:83:0,\n",
            "                 from ./boost/python/detail/wrap_python.hpp:151,\n",
            "                 from ./boost/python/detail/prefix.hpp:13,\n",
            "                 from ./boost/python/object/function.hpp:8,\n",
            "                 from ./boost/python/docstring_options.hpp:8,\n",
            "                 from libs/python/src/object/function.cpp:6:\n",
            "libs/python/src/object/function.cpp: In constructor ‘boost::python::objects::function::function(const boost::python::objects::py_function&, const boost::python::detail::keyword*, unsigned int)’:\n",
            "/usr/include/python2.7/object.h:115:51: warning: dereferencing type-punned pointer will break strict-aliasing rules [-Wstrict-aliasing]\n",
            " #define Py_TYPE(ob)             (((PyObject*)(ob))->ob_type)\n",
            "                                                   ^\n",
            "libs/python/src/object/function.cpp:108:9: note: in expansion of macro ‘Py_TYPE’\n",
            "     if (Py_TYPE(&function_type) == 0)\n",
            "         ^\n",
            "/usr/include/python2.7/object.h:115:51: warning: dereferencing type-punned pointer will break strict-aliasing rules [-Wstrict-aliasing]\n",
            " #define Py_TYPE(ob)             (((PyObject*)(ob))->ob_type)\n",
            "                                                   ^\n",
            "libs/python/src/object/function.cpp:110:9: note: in expansion of macro ‘Py_TYPE’\n",
            "         Py_TYPE(&function_type) = &PyType_Type;\n",
            "         ^\n",
            "gcc.compile.c++ bin.v2/libs/python/build/gcc-5.5.0/release/link-static/threading-multi/object/inheritance.o\n",
            "gcc.compile.c++ bin.v2/libs/python/build/gcc-5.5.0/release/link-static/threading-multi/object/life_support.o\n",
            "In file included from /usr/include/python2.7/Python.h:83:0,\n",
            "                 from ./boost/python/detail/wrap_python.hpp:151,\n",
            "                 from ./boost/python/detail/prefix.hpp:13,\n",
            "                 from ./boost/python/object/life_support.hpp:7,\n",
            "                 from libs/python/src/object/life_support.cpp:5:\n",
            "libs/python/src/object/life_support.cpp: In function ‘PyObject* boost::python::objects::make_nurse_and_patient(PyObject*, PyObject*)’:\n",
            "/usr/include/python2.7/object.h:115:51: warning: dereferencing type-punned pointer will break strict-aliasing rules [-Wstrict-aliasing]\n",
            " #define Py_TYPE(ob)             (((PyObject*)(ob))->ob_type)\n",
            "                                                   ^\n",
            "libs/python/src/object/life_support.cpp:94:9: note: in expansion of macro ‘Py_TYPE’\n",
            "     if (Py_TYPE(&life_support_type) == 0)\n",
            "         ^\n",
            "/usr/include/python2.7/object.h:115:51: warning: dereferencing type-punned pointer will break strict-aliasing rules [-Wstrict-aliasing]\n",
            " #define Py_TYPE(ob)             (((PyObject*)(ob))->ob_type)\n",
            "                                                   ^\n",
            "libs/python/src/object/life_support.cpp:96:9: note: in expansion of macro ‘Py_TYPE’\n",
            "         Py_TYPE(&life_support_type) = &PyType_Type;\n",
            "         ^\n",
            "gcc.compile.c++ bin.v2/libs/python/build/gcc-5.5.0/release/link-static/threading-multi/object/pickle_support.o\n",
            "gcc.compile.c++ bin.v2/libs/python/build/gcc-5.5.0/release/link-static/threading-multi/errors.o\n",
            "gcc.compile.c++ bin.v2/libs/python/build/gcc-5.5.0/release/link-static/threading-multi/module.o\n",
            "gcc.compile.c++ bin.v2/libs/python/build/gcc-5.5.0/release/link-static/threading-multi/converter/builtin_converters.o\n",
            "gcc.compile.c++ bin.v2/libs/python/build/gcc-5.5.0/release/link-static/threading-multi/converter/arg_to_python_base.o\n",
            "gcc.compile.c++ bin.v2/libs/python/build/gcc-5.5.0/release/link-static/threading-multi/object/iterator.o\n",
            "gcc.compile.c++ bin.v2/libs/python/build/gcc-5.5.0/release/link-static/threading-multi/object/stl_iterator.o\n",
            "gcc.compile.c++ bin.v2/libs/python/build/gcc-5.5.0/release/link-static/threading-multi/object_protocol.o\n",
            "gcc.compile.c++ bin.v2/libs/python/build/gcc-5.5.0/release/link-static/threading-multi/object_operators.o\n",
            "gcc.compile.c++ bin.v2/libs/python/build/gcc-5.5.0/release/link-static/threading-multi/wrapper.o\n",
            "gcc.compile.c++ bin.v2/libs/python/build/gcc-5.5.0/release/link-static/threading-multi/import.o\n",
            "gcc.compile.c++ bin.v2/libs/python/build/gcc-5.5.0/release/link-static/threading-multi/exec.o\n",
            "gcc.compile.c++ bin.v2/libs/python/build/gcc-5.5.0/release/link-static/threading-multi/object/function_doc_signature.o\n",
            "gcc.archive bin.v2/libs/python/build/gcc-5.5.0/release/link-static/threading-multi/libboost_python27.a\n",
            "common.copy /usr/local/lib/libboost_python27.a\n",
            "gcc.compile.c++ bin.v2/libs/python/build/gcc-5.5.0/release/link-static/threading-multi/numpy/dtype.o\n",
            "gcc.compile.c++ bin.v2/libs/python/build/gcc-5.5.0/release/link-static/threading-multi/numpy/matrix.o\n",
            "gcc.compile.c++ bin.v2/libs/python/build/gcc-5.5.0/release/link-static/threading-multi/numpy/ndarray.o\n",
            "gcc.compile.c++ bin.v2/libs/python/build/gcc-5.5.0/release/link-static/threading-multi/numpy/numpy.o\n",
            "gcc.compile.c++ bin.v2/libs/python/build/gcc-5.5.0/release/link-static/threading-multi/numpy/scalars.o\n",
            "gcc.compile.c++ bin.v2/libs/python/build/gcc-5.5.0/release/link-static/threading-multi/numpy/ufunc.o\n",
            "gcc.archive bin.v2/libs/python/build/gcc-5.5.0/release/link-static/threading-multi/libboost_numpy27.a\n",
            "common.copy /usr/local/lib/libboost_numpy27.a\n",
            "gcc.compile.c++ bin.v2/libs/regex/build/gcc-5.5.0/release/link-static/threading-multi/c_regex_traits.o\n",
            "gcc.compile.c++ bin.v2/libs/regex/build/gcc-5.5.0/release/link-static/threading-multi/cpp_regex_traits.o\n",
            "gcc.compile.c++ bin.v2/libs/regex/build/gcc-5.5.0/release/link-static/threading-multi/cregex.o\n",
            "gcc.compile.c++ bin.v2/libs/regex/build/gcc-5.5.0/release/link-static/threading-multi/fileiter.o\n",
            "gcc.compile.c++ bin.v2/libs/regex/build/gcc-5.5.0/release/link-static/threading-multi/icu.o\n",
            "gcc.compile.c++ bin.v2/libs/regex/build/gcc-5.5.0/release/link-static/threading-multi/instances.o\n",
            "gcc.compile.c++ bin.v2/libs/regex/build/gcc-5.5.0/release/link-static/threading-multi/posix_api.o\n",
            "gcc.compile.c++ bin.v2/libs/regex/build/gcc-5.5.0/release/link-static/threading-multi/regex.o\n",
            "gcc.compile.c++ bin.v2/libs/regex/build/gcc-5.5.0/release/link-static/threading-multi/regex_debug.o\n",
            "gcc.compile.c++ bin.v2/libs/regex/build/gcc-5.5.0/release/link-static/threading-multi/regex_raw_buffer.o\n",
            "gcc.compile.c++ bin.v2/libs/regex/build/gcc-5.5.0/release/link-static/threading-multi/regex_traits_defaults.o\n",
            "gcc.compile.c++ bin.v2/libs/regex/build/gcc-5.5.0/release/link-static/threading-multi/static_mutex.o\n",
            "gcc.compile.c++ bin.v2/libs/regex/build/gcc-5.5.0/release/link-static/threading-multi/w32_regex_traits.o\n",
            "gcc.compile.c++ bin.v2/libs/regex/build/gcc-5.5.0/release/link-static/threading-multi/wc_regex_traits.o\n",
            "gcc.compile.c++ bin.v2/libs/regex/build/gcc-5.5.0/release/link-static/threading-multi/wide_posix_api.o\n",
            "gcc.compile.c++ bin.v2/libs/regex/build/gcc-5.5.0/release/link-static/threading-multi/winstances.o\n",
            "gcc.compile.c++ bin.v2/libs/regex/build/gcc-5.5.0/release/link-static/threading-multi/usinstances.o\n",
            "gcc.archive bin.v2/libs/regex/build/gcc-5.5.0/release/link-static/threading-multi/libboost_regex.a\n",
            "common.copy /usr/local/lib/libboost_regex.a\n",
            "gcc.compile.c++ bin.v2/libs/thread/build/gcc-5.5.0/release/link-static/threadapi-pthread/threading-multi/pthread/thread.o\n",
            "gcc.compile.c++ bin.v2/libs/thread/build/gcc-5.5.0/release/link-static/threadapi-pthread/threading-multi/pthread/once.o\n",
            "gcc.compile.c++ bin.v2/libs/thread/build/gcc-5.5.0/release/link-static/threadapi-pthread/threading-multi/future.o\n",
            "gcc.archive bin.v2/libs/thread/build/gcc-5.5.0/release/link-static/threadapi-pthread/threading-multi/libboost_thread.a\n",
            "common.copy /usr/local/lib/libboost_thread.a\n",
            "...updated 192 targets...\n",
            "done\n"
          ],
          "name": "stdout"
        }
      ]
    },
    {
      "metadata": {
        "id": "CNvuX7EGpoPP",
        "colab_type": "code",
        "colab": {
          "base_uri": "https://localhost:8080/",
          "height": 34
        },
        "outputId": "5319bf76-7853-48d6-91df-4a6ee784cf05"
      },
      "cell_type": "code",
      "source": [
        "#temp\n",
        "#!update-alternatives --set gcc /usr/bin/gcc-7\n"
      ],
      "execution_count": 60,
      "outputs": [
        {
          "output_type": "stream",
          "text": [
            "update-alternatives: using /usr/bin/gcc-7 to provide /usr/bin/gcc (gcc) in manual mode\n"
          ],
          "name": "stdout"
        }
      ]
    },
    {
      "metadata": {
        "id": "0zk7qvPBVdXw",
        "colab_type": "text"
      },
      "cell_type": "markdown",
      "source": [
        "# Caffeのインストール"
      ]
    },
    {
      "metadata": {
        "id": "k7jRJxXnlp3G",
        "colab_type": "code",
        "outputId": "00b07706-0d2c-4a3a-acef-c7093ee32b76",
        "colab": {
          "base_uri": "https://localhost:8080/",
          "height": 102
        }
      },
      "cell_type": "code",
      "source": [
        "!git clone https://github.com/BVLC/caffe"
      ],
      "execution_count": 7,
      "outputs": [
        {
          "output_type": "stream",
          "text": [
            "Cloning into 'caffe'...\n",
            "remote: Enumerating objects: 64876, done.\u001b[K\n",
            "remote: Total 64876 (delta 0), reused 0 (delta 0), pack-reused 64876\u001b[K\n",
            "Receiving objects: 100% (64876/64876), 70.21 MiB | 21.94 MiB/s, done.\n",
            "Resolving deltas: 100% (41104/41104), done.\n"
          ],
          "name": "stdout"
        }
      ]
    },
    {
      "metadata": {
        "id": "8t-Cn0Hxl711",
        "colab_type": "code",
        "outputId": "a8d53978-3cb8-405c-d789-d572bd1d4adb",
        "colab": {
          "base_uri": "https://localhost:8080/",
          "height": 51
        }
      },
      "cell_type": "code",
      "source": [
        "%cd caffe"
      ],
      "execution_count": 40,
      "outputs": [
        {
          "output_type": "stream",
          "text": [
            "[Errno 2] No such file or directory: 'caffe'\n",
            "/content/caffe\n"
          ],
          "name": "stdout"
        }
      ]
    },
    {
      "metadata": {
        "id": "GVD9XxSQrBu8",
        "colab_type": "code",
        "colab": {}
      },
      "cell_type": "code",
      "source": [
        "# インストールスクリプトの修正\n",
        "with open('Makefile.config.example') as f:\n",
        "  config = f.read()\n",
        "  \n",
        "comment = ['CUDA_DIR := /usr/local/cuda', \n",
        "           'BLAS := open']\n",
        "uncomment = ['# CUDA_DIR := /usr', \n",
        "             '# BLAS := atlas', \n",
        "             '# OPENCV_VERSION := 3', '# WITH_PYTHON_LAYER := 1'] #\n",
        "replace = [('INCLUDE_DIRS := $(PYTHON_INCLUDE) /usr/local/include',\n",
        "            'INCLUDE_DIRS := $(PYTHON_INCLUDE) /usr/local/include /usr/include/hdf5/serial /usr/local/lib/python2.7/dist-packages/numpy/core/include/'), \n",
        "           ('LIBRARY_DIRS := $(PYTHON_LIB) /usr/local/lib /usr/lib',\n",
        "            'LIBRARY_DIRS := $(PYTHON_LIB) /usr/local/lib /usr/lib /usr/lib/x86_64-linux-gnu/hdf5/serial')]\n",
        "\n",
        "for c in uncomment:\n",
        "  config = config.replace(c, c[2:])\n",
        "for c in comment:\n",
        "  config = config.replace(c, '# '+c)\n",
        "for c1,c2 in replace:\n",
        "  config = config.replace(c1, c2)\n",
        "  \n",
        "with open('Makefile.config', 'w') as f:\n",
        "  f.write(config)"
      ],
      "execution_count": 0,
      "outputs": []
    },
    {
      "metadata": {
        "id": "h2UUHaXJrNfA",
        "colab_type": "code",
        "colab": {}
      },
      "cell_type": "code",
      "source": [
        "# MakefileのCUDA_ARCH\n",
        "# https://kusanohitoshi.blogspot.com/2017/02/caffe.html\n",
        "#!cat Makefile.config\n",
        "###################################################\n",
        "with open('./Makefile.config') as f:\n",
        "  txt = f.read()\n",
        "with open('./Makefile.config', 'w') as f:\n",
        "  f.write(txt.replace('CUDA_ARCH := -gencode arch=compute_20,code=sm_20 \\\\',\n",
        "                      'CUDA_ARCH := \\#-gencode arch=compute_20,code=sm_20 \\\\'))\n",
        "###################################################\n",
        "with open('./Makefile.config') as f:\n",
        "  txt = f.read()\n",
        "with open('./Makefile.config', 'w') as f:\n",
        "  f.write(txt.replace('\t\t-gencode arch=compute_20,code=sm_21',\n",
        "                      '#\t\t-gencode arch=compute_20,code=sm_21'))"
      ],
      "execution_count": 0,
      "outputs": []
    },
    {
      "metadata": {
        "id": "YfxNT7EsvcDQ",
        "colab_type": "code",
        "colab": {}
      },
      "cell_type": "code",
      "source": [
        "##https://qiita.com/yoyoyo_/items/ed723a6e81c1f4046241\n",
        "##BLAS関係の修正\n",
        "#BLAS_INCLUDE := /usr/local/cuda/targets/x86_64-linux/include\n",
        "#BLAS_LIB := /usr/local/cuda/targets/x86_64-linux/lib\n",
        "#!cat Makefile.config\n",
        "with open('./Makefile.config') as f:\n",
        "  txt = f.read()\n",
        "with open('./Makefile.config', 'w') as f:\n",
        "  f.write(txt.replace('# BLAS_INCLUDE := /path/to/your/blas',\n",
        "                      'BLAS_INCLUDE := /usr/local/cuda/targets/x86_64-linux/include'))\n",
        "with open('./Makefile.config') as f:\n",
        "  txt = f.read()\n",
        "with open('./Makefile.config', 'w') as f:\n",
        "  f.write(txt.replace('# BLAS_LIB := /path/to/your/blas',\n",
        "                      'BLAS_LIB := /usr/local/cuda/targets/x86_64-linux/lib'))"
      ],
      "execution_count": 0,
      "outputs": []
    },
    {
      "metadata": {
        "id": "8tHblJJzAYL9",
        "colab_type": "code",
        "colab": {
          "base_uri": "https://localhost:8080/",
          "height": 2108
        },
        "outputId": "2d8222b3-6ce1-4ed5-8cac-1eab4a299018"
      },
      "cell_type": "code",
      "source": [
        "!cat Makefile.config"
      ],
      "execution_count": 26,
      "outputs": [
        {
          "output_type": "stream",
          "text": [
            "## Refer to http://caffe.berkeleyvision.org/installation.html\n",
            "# Contributions simplifying and improving our build system are welcome!\n",
            "\n",
            "# cuDNN acceleration switch (uncomment to build with cuDNN).\n",
            "# USE_CUDNN := 1\n",
            "\n",
            "# CPU-only switch (uncomment to build without GPU support).\n",
            "# CPU_ONLY := 1\n",
            "\n",
            "# uncomment to disable IO dependencies and corresponding data layers\n",
            "# USE_OPENCV := 0\n",
            "# USE_LEVELDB := 0\n",
            "# USE_LMDB := 0\n",
            "# This code is taken from https://github.com/sh1r0/caffe-android-lib\n",
            "# USE_HDF5 := 0\n",
            "\n",
            "# uncomment to allow MDB_NOLOCK when reading LMDB files (only if necessary)\n",
            "#\tYou should not set this flag if you will be reading LMDBs with any\n",
            "#\tpossibility of simultaneous read and write\n",
            "# ALLOW_LMDB_NOLOCK := 1\n",
            "\n",
            "# Uncomment if you're using OpenCV 3\n",
            "OPENCV_VERSION := 3\n",
            "\n",
            "# To customize your choice of compiler, uncomment and set the following.\n",
            "# N.B. the default for Linux is g++ and the default for OSX is clang++\n",
            "# CUSTOM_CXX := g++\n",
            "\n",
            "# CUDA directory contains bin/ and lib/ directories that we need.\n",
            "# CUDA_DIR := /usr/local/cuda\n",
            "# On Ubuntu 14.04, if cuda tools are installed via\n",
            "# \"sudo apt-get install nvidia-cuda-toolkit\" then use this instead:\n",
            "CUDA_DIR := /usr\n",
            "\n",
            "# CUDA architecture setting: going with all of them.\n",
            "# For CUDA < 6.0, comment the *_50 through *_61 lines for compatibility.\n",
            "# For CUDA < 8.0, comment the *_60 and *_61 lines for compatibility.\n",
            "# For CUDA >= 9.0, comment the *_20 and *_21 lines for compatibility.\n",
            "CUDA_ARCH := \\#-gencode arch=compute_20,code=sm_20 \\\n",
            "#\t\t-gencode arch=compute_20,code=sm_21 \\\n",
            "\t\t-gencode arch=compute_30,code=sm_30 \\\n",
            "\t\t-gencode arch=compute_35,code=sm_35 \\\n",
            "\t\t-gencode arch=compute_50,code=sm_50 \\\n",
            "\t\t-gencode arch=compute_52,code=sm_52 \\\n",
            "\t\t-gencode arch=compute_60,code=sm_60 \\\n",
            "\t\t-gencode arch=compute_61,code=sm_61 \\\n",
            "\t\t-gencode arch=compute_61,code=compute_61\n",
            "\n",
            "# BLAS choice:\n",
            "# atlas for ATLAS (default)\n",
            "# mkl for MKL\n",
            "# open for OpenBlas\n",
            "BLAS := atlas\n",
            "# Custom (MKL/ATLAS/OpenBLAS) include and lib directories.\n",
            "# Leave commented to accept the defaults for your choice of BLAS\n",
            "# (which should work)!\n",
            "BLAS_INCLUDE := /usr/local/cuda/targets/x86_64-linux/include\n",
            "BLAS_LIB := /usr/local/cuda/targets/x86_64-linux/lib\n",
            "\n",
            "# Homebrew puts openblas in a directory that is not on the standard search path\n",
            "# BLAS_INCLUDE := $(shell brew --prefix openblas)/include\n",
            "# BLAS_LIB := $(shell brew --prefix openblas)/lib\n",
            "\n",
            "# This is required only if you will compile the matlab interface.\n",
            "# MATLAB directory should contain the mex binary in /bin.\n",
            "# MATLAB_DIR := /usr/local\n",
            "# MATLAB_DIR := /Applications/MATLAB_R2012b.app\n",
            "\n",
            "# NOTE: this is required only if you will compile the python interface.\n",
            "# We need to be able to find Python.h and numpy/arrayobject.h.\n",
            "PYTHON_INCLUDE := /usr/include/python2.7 \\\n",
            "\t\t/usr/lib/python2.7/dist-packages/numpy/core/include\n",
            "# Anaconda Python distribution is quite popular. Include path:\n",
            "# Verify anaconda location, sometimes it's in root.\n",
            "# ANACONDA_HOME := $(HOME)/anaconda\n",
            "# PYTHON_INCLUDE := $(ANACONDA_HOME)/include \\\n",
            "\t\t# $(ANACONDA_HOME)/include/python2.7 \\\n",
            "\t\t# $(ANACONDA_HOME)/lib/python2.7/site-packages/numpy/core/include\n",
            "\n",
            "# Uncomment to use Python 3 (default is Python 2)\n",
            "# PYTHON_LIBRARIES := boost_python3 python3.5m\n",
            "# PYTHON_INCLUDE := /usr/include/python3.5m \\\n",
            "#                 /usr/lib/python3.5/dist-packages/numpy/core/include\n",
            "\n",
            "# We need to be able to find libpythonX.X.so or .dylib.\n",
            "PYTHON_LIB := /usr/lib\n",
            "# PYTHON_LIB := $(ANACONDA_HOME)/lib\n",
            "\n",
            "# Homebrew installs numpy in a non standard path (keg only)\n",
            "# PYTHON_INCLUDE += $(dir $(shell python -c 'import numpy.core; print(numpy.core.__file__)'))/include\n",
            "# PYTHON_LIB += $(shell brew --prefix numpy)/lib\n",
            "\n",
            "# Uncomment to support layers written in Python (will link against Python libs)\n",
            "WITH_PYTHON_LAYER := 1\n",
            "\n",
            "# Whatever else you find you need goes here.\n",
            "INCLUDE_DIRS := $(PYTHON_INCLUDE) /usr/local/include /usr/include/hdf5/serial /usr/local/lib/python2.7/dist-packages/numpy/core/include/\n",
            "LIBRARY_DIRS := $(PYTHON_LIB) /usr/local/lib /usr/lib /usr/lib/x86_64-linux-gnu/hdf5/serial\n",
            "\n",
            "# If Homebrew is installed at a non standard location (for example your home directory) and you use it for general dependencies\n",
            "# INCLUDE_DIRS += $(shell brew --prefix)/include\n",
            "# LIBRARY_DIRS += $(shell brew --prefix)/lib\n",
            "\n",
            "# NCCL acceleration switch (uncomment to build with NCCL)\n",
            "# https://github.com/NVIDIA/nccl (last tested version: v1.2.3-1+cuda8.0)\n",
            "# USE_NCCL := 1\n",
            "\n",
            "# Uncomment to use `pkg-config` to specify OpenCV library paths.\n",
            "# (Usually not necessary -- OpenCV libraries are normally installed in one of the above $LIBRARY_DIRS.)\n",
            "# USE_PKG_CONFIG := 1\n",
            "\n",
            "# N.B. both build and distribute dirs are cleared on `make clean`\n",
            "BUILD_DIR := build\n",
            "DISTRIBUTE_DIR := distribute\n",
            "\n",
            "# Uncomment for debugging. Does not work on OSX due to https://github.com/BVLC/caffe/issues/171\n",
            "# DEBUG := 1\n",
            "\n",
            "# The ID of the GPU that 'make runtest' will use to run unit tests.\n",
            "TEST_GPUID := 0\n",
            "\n",
            "# enable pretty build (comment to see full commands)\n",
            "Q ?= @\n"
          ],
          "name": "stdout"
        }
      ]
    },
    {
      "metadata": {
        "id": "YHIicH0iEgeJ",
        "colab_type": "code",
        "colab": {
          "base_uri": "https://localhost:8080/",
          "height": 34
        },
        "outputId": "a7a7f919-9284-4869-d489-be270e1e0baa"
      },
      "cell_type": "code",
      "source": [
        "!pwd"
      ],
      "execution_count": 49,
      "outputs": [
        {
          "output_type": "stream",
          "text": [
            "/content/caffe/build\n"
          ],
          "name": "stdout"
        }
      ]
    },
    {
      "metadata": {
        "id": "KwffUOfHQBJ0",
        "colab_type": "code",
        "colab": {
          "base_uri": "https://localhost:8080/",
          "height": 34
        },
        "outputId": "b99eaf69-669e-4b44-f45f-7e1f339bf130"
      },
      "cell_type": "code",
      "source": [
        "%cd .."
      ],
      "execution_count": 50,
      "outputs": [
        {
          "output_type": "stream",
          "text": [
            "/content/caffe\n"
          ],
          "name": "stdout"
        }
      ]
    },
    {
      "metadata": {
        "id": "gC5-5D5URwwE",
        "colab_type": "code",
        "colab": {
          "base_uri": "https://localhost:8080/",
          "height": 1394
        },
        "outputId": "87094915-164a-4336-d2c0-c14fd3bdda0d"
      },
      "cell_type": "code",
      "source": [
        "!cmake ."
      ],
      "execution_count": 51,
      "outputs": [
        {
          "output_type": "stream",
          "text": [
            "-- Boost version: 1.65.1\n",
            "-- Found the following Boost libraries:\n",
            "--   system\n",
            "--   thread\n",
            "--   filesystem\n",
            "--   chrono\n",
            "--   date_time\n",
            "--   atomic\n",
            "-- Found gflags  (include: /usr/include, library: /usr/lib/x86_64-linux-gnu/libgflags.so)\n",
            "-- Found glog    (include: /usr/include, library: /usr/lib/x86_64-linux-gnu/libglog.so)\n",
            "-- Found PROTOBUF Compiler: /usr/bin/protoc\n",
            "-- HDF5: Using hdf5 compiler wrapper to determine C configuration\n",
            "-- HDF5: Using hdf5 compiler wrapper to determine CXX configuration\n",
            "-- Found lmdb    (include: /usr/include, library: /usr/lib/x86_64-linux-gnu/liblmdb.so)\n",
            "-- Found LevelDB (include: /usr/include, library: /usr/lib/x86_64-linux-gnu/libleveldb.so)\n",
            "-- Found Snappy  (include: /usr/include, library: /usr/lib/x86_64-linux-gnu/libsnappy.so)\n",
            "-- CUDA detected: 9.0\n",
            "-- Found cuDNN: ver. 7.4.1 found (include: /usr/include, library: /usr/lib/x86_64-linux-gnu/libcudnn.so)\n",
            "-- Added CUDA NVCC flags for: sm_37\n",
            "-- OpenCV found (/usr/share/OpenCV)\n",
            "-- Found Atlas (include: /usr/include/x86_64-linux-gnu library: /usr/lib/x86_64-linux-gnu/libatlas.so lapack: /usr/lib/x86_64-linux-gnu/liblapack.so\n",
            "-- NumPy ver. 1.14.6 found (include: /usr/local/lib/python2.7/dist-packages/numpy/core/include)\n",
            "-- Boost version: 1.65.1\n",
            "-- Found the following Boost libraries:\n",
            "--   python\n",
            "-- Could NOT find Doxygen (missing: DOXYGEN_EXECUTABLE) \n",
            "-- \n",
            "-- ******************* Caffe Configuration Summary *******************\n",
            "-- General:\n",
            "--   Version           :   1.0.0\n",
            "--   Git               :   1.0-132-g99bd9979-dirty\n",
            "--   System            :   Linux\n",
            "--   C++ compiler      :   /usr/bin/c++\n",
            "--   Release CXX flags :   -O3 -DNDEBUG -fPIC -Wall -Wno-sign-compare -Wno-uninitialized\n",
            "--   Debug CXX flags   :   -g -fPIC -Wall -Wno-sign-compare -Wno-uninitialized\n",
            "--   Build type        :   Release\n",
            "-- \n",
            "--   BUILD_SHARED_LIBS :   ON\n",
            "--   BUILD_python      :   ON\n",
            "--   BUILD_matlab      :   OFF\n",
            "--   BUILD_docs        :   ON\n",
            "--   CPU_ONLY          :   OFF\n",
            "--   USE_OPENCV        :   ON\n",
            "--   USE_LEVELDB       :   ON\n",
            "--   USE_LMDB          :   ON\n",
            "--   USE_NCCL          :   OFF\n",
            "--   ALLOW_LMDB_NOLOCK :   OFF\n",
            "--   USE_HDF5          :   ON\n",
            "-- \n",
            "-- Dependencies:\n",
            "--   BLAS              :   Yes (Atlas)\n",
            "--   Boost             :   Yes (ver. 1.65)\n",
            "--   glog              :   Yes\n",
            "--   gflags            :   Yes\n",
            "--   protobuf          :   Yes (ver. 3.0.0)\n",
            "--   lmdb              :   Yes (ver. 0.9.21)\n",
            "--   LevelDB           :   Yes (ver. 1.20)\n",
            "--   Snappy            :   Yes (ver. ..)\n",
            "--   OpenCV            :   Yes (ver. 3.2.0)\n",
            "--   CUDA              :   Yes (ver. 9.0)\n",
            "-- \n",
            "-- NVIDIA CUDA:\n",
            "--   Target GPU(s)     :   Auto\n",
            "--   GPU arch(s)       :   sm_37\n",
            "--   cuDNN             :   Yes (ver. 7.4.1)\n",
            "-- \n",
            "-- Python:\n",
            "--   Interpreter       :   /usr/bin/python2.7 (ver. 2.7.15)\n",
            "--   Libraries         :   /usr/lib/x86_64-linux-gnu/libpython2.7.so (ver 2.7.15rc1)\n",
            "--   NumPy             :   /usr/local/lib/python2.7/dist-packages/numpy/core/include (ver 1.14.6)\n",
            "-- \n",
            "-- Documentaion:\n",
            "--   Doxygen           :   No\n",
            "--   config_file       :   \n",
            "-- \n",
            "-- Install:\n",
            "--   Install path      :   /content/caffe/install\n",
            "-- \n",
            "-- Configuring done\n",
            "-- Generating done\n",
            "-- Build files have been written to: /content/caffe\n"
          ],
          "name": "stdout"
        }
      ]
    },
    {
      "metadata": {
        "id": "bDMwav47BLRi",
        "colab_type": "code",
        "colab": {}
      },
      "cell_type": "code",
      "source": [
        ""
      ],
      "execution_count": 0,
      "outputs": []
    },
    {
      "metadata": {
        "id": "UcsJTzW5BHzN",
        "colab_type": "code",
        "colab": {
          "base_uri": "https://localhost:8080/",
          "height": 1428
        },
        "outputId": "53bae0c9-3fbd-461e-e254-17a8dc2c94f8"
      },
      "cell_type": "code",
      "source": [
        "!make clean\n",
        "!mkdir build\n",
        "%cd build\n",
        "!cmake .."
      ],
      "execution_count": 48,
      "outputs": [
        {
          "output_type": "stream",
          "text": [
            "mkdir: cannot create directory ‘build’: File exists\n",
            "/content/caffe/build\n",
            "-- Boost version: 1.65.1\n",
            "-- Found the following Boost libraries:\n",
            "--   system\n",
            "--   thread\n",
            "--   filesystem\n",
            "--   chrono\n",
            "--   date_time\n",
            "--   atomic\n",
            "-- Found gflags  (include: /usr/include, library: /usr/lib/x86_64-linux-gnu/libgflags.so)\n",
            "-- Found glog    (include: /usr/include, library: /usr/lib/x86_64-linux-gnu/libglog.so)\n",
            "-- Found PROTOBUF Compiler: /usr/bin/protoc\n",
            "-- HDF5: Using hdf5 compiler wrapper to determine C configuration\n",
            "-- HDF5: Using hdf5 compiler wrapper to determine CXX configuration\n",
            "-- Found lmdb    (include: /usr/include, library: /usr/lib/x86_64-linux-gnu/liblmdb.so)\n",
            "-- Found LevelDB (include: /usr/include, library: /usr/lib/x86_64-linux-gnu/libleveldb.so)\n",
            "-- Found Snappy  (include: /usr/include, library: /usr/lib/x86_64-linux-gnu/libsnappy.so)\n",
            "-- CUDA detected: 9.0\n",
            "-- Found cuDNN: ver. 7.4.1 found (include: /usr/include, library: /usr/lib/x86_64-linux-gnu/libcudnn.so)\n",
            "-- Added CUDA NVCC flags for: sm_37\n",
            "-- OpenCV found (/usr/share/OpenCV)\n",
            "-- Found Atlas (include: /usr/include/x86_64-linux-gnu library: /usr/lib/x86_64-linux-gnu/libatlas.so lapack: /usr/lib/x86_64-linux-gnu/liblapack.so\n",
            "-- NumPy ver. 1.14.6 found (include: /usr/local/lib/python2.7/dist-packages/numpy/core/include)\n",
            "-- Boost version: 1.65.1\n",
            "-- Found the following Boost libraries:\n",
            "--   python\n",
            "-- Could NOT find Doxygen (missing: DOXYGEN_EXECUTABLE) \n",
            "-- \n",
            "-- ******************* Caffe Configuration Summary *******************\n",
            "-- General:\n",
            "--   Version           :   1.0.0\n",
            "--   Git               :   1.0-132-g99bd9979-dirty\n",
            "--   System            :   Linux\n",
            "--   C++ compiler      :   /usr/bin/c++\n",
            "--   Release CXX flags :   -O3 -DNDEBUG -fPIC -Wall -Wno-sign-compare -Wno-uninitialized\n",
            "--   Debug CXX flags   :   -g -fPIC -Wall -Wno-sign-compare -Wno-uninitialized\n",
            "--   Build type        :   Release\n",
            "-- \n",
            "--   BUILD_SHARED_LIBS :   ON\n",
            "--   BUILD_python      :   ON\n",
            "--   BUILD_matlab      :   OFF\n",
            "--   BUILD_docs        :   ON\n",
            "--   CPU_ONLY          :   OFF\n",
            "--   USE_OPENCV        :   ON\n",
            "--   USE_LEVELDB       :   ON\n",
            "--   USE_LMDB          :   ON\n",
            "--   USE_NCCL          :   OFF\n",
            "--   ALLOW_LMDB_NOLOCK :   OFF\n",
            "--   USE_HDF5          :   ON\n",
            "-- \n",
            "-- Dependencies:\n",
            "--   BLAS              :   Yes (Atlas)\n",
            "--   Boost             :   Yes (ver. 1.65)\n",
            "--   glog              :   Yes\n",
            "--   gflags            :   Yes\n",
            "--   protobuf          :   Yes (ver. 3.0.0)\n",
            "--   lmdb              :   Yes (ver. 0.9.21)\n",
            "--   LevelDB           :   Yes (ver. 1.20)\n",
            "--   Snappy            :   Yes (ver. ..)\n",
            "--   OpenCV            :   Yes (ver. 3.2.0)\n",
            "--   CUDA              :   Yes (ver. 9.0)\n",
            "-- \n",
            "-- NVIDIA CUDA:\n",
            "--   Target GPU(s)     :   Auto\n",
            "--   GPU arch(s)       :   sm_37\n",
            "--   cuDNN             :   Yes (ver. 7.4.1)\n",
            "-- \n",
            "-- Python:\n",
            "--   Interpreter       :   /usr/bin/python2.7 (ver. 2.7.15)\n",
            "--   Libraries         :   /usr/lib/x86_64-linux-gnu/libpython2.7.so (ver 2.7.15rc1)\n",
            "--   NumPy             :   /usr/local/lib/python2.7/dist-packages/numpy/core/include (ver 1.14.6)\n",
            "-- \n",
            "-- Documentaion:\n",
            "--   Doxygen           :   No\n",
            "--   config_file       :   \n",
            "-- \n",
            "-- Install:\n",
            "--   Install path      :   /content/caffe/install\n",
            "-- \n",
            "-- Configuring done\n",
            "-- Generating done\n",
            "-- Build files have been written to: /content/caffe\n"
          ],
          "name": "stdout"
        }
      ]
    },
    {
      "metadata": {
        "id": "2-FnW1c-Y-uH",
        "colab_type": "code",
        "colab": {
          "base_uri": "https://localhost:8080/",
          "height": 3740
        },
        "outputId": "fab3d5df-7a3a-4711-ea10-c48af0e5a48e"
      },
      "cell_type": "code",
      "source": [
        "!make"
      ],
      "execution_count": 16,
      "outputs": [
        {
          "output_type": "stream",
          "text": [
            "[  1%] Built target caffeproto\n",
            "[  1%] \u001b[34m\u001b[1mBuilding NVCC (Device) object src/caffe/CMakeFiles/cuda_compile_1.dir/layers/cuda_compile_1_generated_absval_layer.cu.o\u001b[0m\n",
            "[  1%] \u001b[34m\u001b[1mBuilding NVCC (Device) object src/caffe/CMakeFiles/cuda_compile_1.dir/layers/cuda_compile_1_generated_accuracy_layer.cu.o\u001b[0m\n",
            "[  2%] \u001b[34m\u001b[1mBuilding NVCC (Device) object src/caffe/CMakeFiles/cuda_compile_1.dir/layers/cuda_compile_1_generated_base_data_layer.cu.o\u001b[0m\n",
            "[  2%] \u001b[34m\u001b[1mBuilding NVCC (Device) object src/caffe/CMakeFiles/cuda_compile_1.dir/layers/cuda_compile_1_generated_batch_norm_layer.cu.o\u001b[0m\n",
            "[  2%] \u001b[34m\u001b[1mBuilding NVCC (Device) object src/caffe/CMakeFiles/cuda_compile_1.dir/layers/cuda_compile_1_generated_batch_reindex_layer.cu.o\u001b[0m\n",
            "[  4%] \u001b[34m\u001b[1mBuilding NVCC (Device) object src/caffe/CMakeFiles/cuda_compile_1.dir/layers/cuda_compile_1_generated_bias_layer.cu.o\u001b[0m\n",
            "[  4%] \u001b[34m\u001b[1mBuilding NVCC (Device) object src/caffe/CMakeFiles/cuda_compile_1.dir/layers/cuda_compile_1_generated_bnll_layer.cu.o\u001b[0m\n",
            "[  4%] \u001b[34m\u001b[1mBuilding NVCC (Device) object src/caffe/CMakeFiles/cuda_compile_1.dir/layers/cuda_compile_1_generated_clip_layer.cu.o\u001b[0m\n",
            "[  5%] \u001b[34m\u001b[1mBuilding NVCC (Device) object src/caffe/CMakeFiles/cuda_compile_1.dir/layers/cuda_compile_1_generated_concat_layer.cu.o\u001b[0m\n",
            "[  5%] \u001b[34m\u001b[1mBuilding NVCC (Device) object src/caffe/CMakeFiles/cuda_compile_1.dir/layers/cuda_compile_1_generated_contrastive_loss_layer.cu.o\u001b[0m\n",
            "[  6%] \u001b[34m\u001b[1mBuilding NVCC (Device) object src/caffe/CMakeFiles/cuda_compile_1.dir/layers/cuda_compile_1_generated_conv_layer.cu.o\u001b[0m\n",
            "[  6%] \u001b[34m\u001b[1mBuilding NVCC (Device) object src/caffe/CMakeFiles/cuda_compile_1.dir/layers/cuda_compile_1_generated_crop_layer.cu.o\u001b[0m\n",
            "[  6%] \u001b[34m\u001b[1mBuilding NVCC (Device) object src/caffe/CMakeFiles/cuda_compile_1.dir/layers/cuda_compile_1_generated_cudnn_conv_layer.cu.o\u001b[0m\n",
            "[  8%] \u001b[34m\u001b[1mBuilding NVCC (Device) object src/caffe/CMakeFiles/cuda_compile_1.dir/layers/cuda_compile_1_generated_cudnn_deconv_layer.cu.o\u001b[0m\n",
            "[  8%] \u001b[34m\u001b[1mBuilding NVCC (Device) object src/caffe/CMakeFiles/cuda_compile_1.dir/layers/cuda_compile_1_generated_cudnn_lcn_layer.cu.o\u001b[0m\n",
            "[  8%] \u001b[34m\u001b[1mBuilding NVCC (Device) object src/caffe/CMakeFiles/cuda_compile_1.dir/layers/cuda_compile_1_generated_cudnn_lrn_layer.cu.o\u001b[0m\n",
            "[  9%] \u001b[34m\u001b[1mBuilding NVCC (Device) object src/caffe/CMakeFiles/cuda_compile_1.dir/layers/cuda_compile_1_generated_cudnn_pooling_layer.cu.o\u001b[0m\n",
            "[  9%] \u001b[34m\u001b[1mBuilding NVCC (Device) object src/caffe/CMakeFiles/cuda_compile_1.dir/layers/cuda_compile_1_generated_cudnn_relu_layer.cu.o\u001b[0m\n",
            "[ 10%] \u001b[34m\u001b[1mBuilding NVCC (Device) object src/caffe/CMakeFiles/cuda_compile_1.dir/layers/cuda_compile_1_generated_cudnn_sigmoid_layer.cu.o\u001b[0m\n",
            "[ 10%] \u001b[34m\u001b[1mBuilding NVCC (Device) object src/caffe/CMakeFiles/cuda_compile_1.dir/layers/cuda_compile_1_generated_cudnn_softmax_layer.cu.o\u001b[0m\n",
            "[ 10%] \u001b[34m\u001b[1mBuilding NVCC (Device) object src/caffe/CMakeFiles/cuda_compile_1.dir/layers/cuda_compile_1_generated_cudnn_tanh_layer.cu.o\u001b[0m\n",
            "[ 12%] \u001b[34m\u001b[1mBuilding NVCC (Device) object src/caffe/CMakeFiles/cuda_compile_1.dir/layers/cuda_compile_1_generated_deconv_layer.cu.o\u001b[0m\n",
            "[ 12%] \u001b[34m\u001b[1mBuilding NVCC (Device) object src/caffe/CMakeFiles/cuda_compile_1.dir/layers/cuda_compile_1_generated_dropout_layer.cu.o\u001b[0m\n",
            "[ 12%] \u001b[34m\u001b[1mBuilding NVCC (Device) object src/caffe/CMakeFiles/cuda_compile_1.dir/layers/cuda_compile_1_generated_eltwise_layer.cu.o\u001b[0m\n",
            "[ 13%] \u001b[34m\u001b[1mBuilding NVCC (Device) object src/caffe/CMakeFiles/cuda_compile_1.dir/layers/cuda_compile_1_generated_elu_layer.cu.o\u001b[0m\n",
            "[ 13%] \u001b[34m\u001b[1mBuilding NVCC (Device) object src/caffe/CMakeFiles/cuda_compile_1.dir/layers/cuda_compile_1_generated_embed_layer.cu.o\u001b[0m\n",
            "[ 15%] \u001b[34m\u001b[1mBuilding NVCC (Device) object src/caffe/CMakeFiles/cuda_compile_1.dir/layers/cuda_compile_1_generated_euclidean_loss_layer.cu.o\u001b[0m\n",
            "[ 15%] \u001b[34m\u001b[1mBuilding NVCC (Device) object src/caffe/CMakeFiles/cuda_compile_1.dir/layers/cuda_compile_1_generated_exp_layer.cu.o\u001b[0m\n",
            "[ 15%] \u001b[34m\u001b[1mBuilding NVCC (Device) object src/caffe/CMakeFiles/cuda_compile_1.dir/layers/cuda_compile_1_generated_filter_layer.cu.o\u001b[0m\n",
            "[ 16%] \u001b[34m\u001b[1mBuilding NVCC (Device) object src/caffe/CMakeFiles/cuda_compile_1.dir/layers/cuda_compile_1_generated_hdf5_data_layer.cu.o\u001b[0m\n",
            "[ 16%] \u001b[34m\u001b[1mBuilding NVCC (Device) object src/caffe/CMakeFiles/cuda_compile_1.dir/layers/cuda_compile_1_generated_hdf5_output_layer.cu.o\u001b[0m\n",
            "[ 16%] \u001b[34m\u001b[1mBuilding NVCC (Device) object src/caffe/CMakeFiles/cuda_compile_1.dir/layers/cuda_compile_1_generated_im2col_layer.cu.o\u001b[0m\n",
            "[ 17%] \u001b[34m\u001b[1mBuilding NVCC (Device) object src/caffe/CMakeFiles/cuda_compile_1.dir/layers/cuda_compile_1_generated_inner_product_layer.cu.o\u001b[0m\n",
            "[ 17%] \u001b[34m\u001b[1mBuilding NVCC (Device) object src/caffe/CMakeFiles/cuda_compile_1.dir/layers/cuda_compile_1_generated_log_layer.cu.o\u001b[0m\n",
            "[ 19%] \u001b[34m\u001b[1mBuilding NVCC (Device) object src/caffe/CMakeFiles/cuda_compile_1.dir/layers/cuda_compile_1_generated_lrn_layer.cu.o\u001b[0m\n",
            "[ 19%] \u001b[34m\u001b[1mBuilding NVCC (Device) object src/caffe/CMakeFiles/cuda_compile_1.dir/layers/cuda_compile_1_generated_lstm_unit_layer.cu.o\u001b[0m\n",
            "[ 19%] \u001b[34m\u001b[1mBuilding NVCC (Device) object src/caffe/CMakeFiles/cuda_compile_1.dir/layers/cuda_compile_1_generated_mvn_layer.cu.o\u001b[0m\n",
            "[ 20%] \u001b[34m\u001b[1mBuilding NVCC (Device) object src/caffe/CMakeFiles/cuda_compile_1.dir/layers/cuda_compile_1_generated_pooling_layer.cu.o\u001b[0m\n",
            "[ 20%] \u001b[34m\u001b[1mBuilding NVCC (Device) object src/caffe/CMakeFiles/cuda_compile_1.dir/layers/cuda_compile_1_generated_power_layer.cu.o\u001b[0m\n",
            "[ 20%] \u001b[34m\u001b[1mBuilding NVCC (Device) object src/caffe/CMakeFiles/cuda_compile_1.dir/layers/cuda_compile_1_generated_prelu_layer.cu.o\u001b[0m\n",
            "[ 21%] \u001b[34m\u001b[1mBuilding NVCC (Device) object src/caffe/CMakeFiles/cuda_compile_1.dir/layers/cuda_compile_1_generated_recurrent_layer.cu.o\u001b[0m\n",
            "[ 21%] \u001b[34m\u001b[1mBuilding NVCC (Device) object src/caffe/CMakeFiles/cuda_compile_1.dir/layers/cuda_compile_1_generated_reduction_layer.cu.o\u001b[0m\n",
            "[ 23%] \u001b[34m\u001b[1mBuilding NVCC (Device) object src/caffe/CMakeFiles/cuda_compile_1.dir/layers/cuda_compile_1_generated_relu_layer.cu.o\u001b[0m\n",
            "[ 23%] \u001b[34m\u001b[1mBuilding NVCC (Device) object src/caffe/CMakeFiles/cuda_compile_1.dir/layers/cuda_compile_1_generated_scale_layer.cu.o\u001b[0m\n",
            "[ 23%] \u001b[34m\u001b[1mBuilding NVCC (Device) object src/caffe/CMakeFiles/cuda_compile_1.dir/layers/cuda_compile_1_generated_sigmoid_cross_entropy_loss_layer.cu.o\u001b[0m\n",
            "[ 24%] \u001b[34m\u001b[1mBuilding NVCC (Device) object src/caffe/CMakeFiles/cuda_compile_1.dir/layers/cuda_compile_1_generated_sigmoid_layer.cu.o\u001b[0m\n",
            "[ 24%] \u001b[34m\u001b[1mBuilding NVCC (Device) object src/caffe/CMakeFiles/cuda_compile_1.dir/layers/cuda_compile_1_generated_silence_layer.cu.o\u001b[0m\n",
            "[ 24%] \u001b[34m\u001b[1mBuilding NVCC (Device) object src/caffe/CMakeFiles/cuda_compile_1.dir/layers/cuda_compile_1_generated_slice_layer.cu.o\u001b[0m\n",
            "[ 26%] \u001b[34m\u001b[1mBuilding NVCC (Device) object src/caffe/CMakeFiles/cuda_compile_1.dir/layers/cuda_compile_1_generated_softmax_layer.cu.o\u001b[0m\n",
            "[ 26%] \u001b[34m\u001b[1mBuilding NVCC (Device) object src/caffe/CMakeFiles/cuda_compile_1.dir/layers/cuda_compile_1_generated_softmax_loss_layer.cu.o\u001b[0m\n",
            "[ 27%] \u001b[34m\u001b[1mBuilding NVCC (Device) object src/caffe/CMakeFiles/cuda_compile_1.dir/layers/cuda_compile_1_generated_split_layer.cu.o\u001b[0m\n",
            "[ 27%] \u001b[34m\u001b[1mBuilding NVCC (Device) object src/caffe/CMakeFiles/cuda_compile_1.dir/layers/cuda_compile_1_generated_swish_layer.cu.o\u001b[0m\n",
            "[ 27%] \u001b[34m\u001b[1mBuilding NVCC (Device) object src/caffe/CMakeFiles/cuda_compile_1.dir/layers/cuda_compile_1_generated_tanh_layer.cu.o\u001b[0m\n",
            "[ 28%] \u001b[34m\u001b[1mBuilding NVCC (Device) object src/caffe/CMakeFiles/cuda_compile_1.dir/layers/cuda_compile_1_generated_threshold_layer.cu.o\u001b[0m\n",
            "[ 28%] \u001b[34m\u001b[1mBuilding NVCC (Device) object src/caffe/CMakeFiles/cuda_compile_1.dir/layers/cuda_compile_1_generated_tile_layer.cu.o\u001b[0m\n",
            "[ 28%] \u001b[34m\u001b[1mBuilding NVCC (Device) object src/caffe/CMakeFiles/cuda_compile_1.dir/solvers/cuda_compile_1_generated_adadelta_solver.cu.o\u001b[0m\n",
            "[ 30%] \u001b[34m\u001b[1mBuilding NVCC (Device) object src/caffe/CMakeFiles/cuda_compile_1.dir/solvers/cuda_compile_1_generated_adagrad_solver.cu.o\u001b[0m\n",
            "[ 30%] \u001b[34m\u001b[1mBuilding NVCC (Device) object src/caffe/CMakeFiles/cuda_compile_1.dir/solvers/cuda_compile_1_generated_adam_solver.cu.o\u001b[0m\n",
            "[ 31%] \u001b[34m\u001b[1mBuilding NVCC (Device) object src/caffe/CMakeFiles/cuda_compile_1.dir/solvers/cuda_compile_1_generated_nesterov_solver.cu.o\u001b[0m\n",
            "[ 31%] \u001b[34m\u001b[1mBuilding NVCC (Device) object src/caffe/CMakeFiles/cuda_compile_1.dir/solvers/cuda_compile_1_generated_rmsprop_solver.cu.o\u001b[0m\n",
            "[ 31%] \u001b[34m\u001b[1mBuilding NVCC (Device) object src/caffe/CMakeFiles/cuda_compile_1.dir/solvers/cuda_compile_1_generated_sgd_solver.cu.o\u001b[0m\n",
            "[ 32%] \u001b[34m\u001b[1mBuilding NVCC (Device) object src/caffe/CMakeFiles/cuda_compile_1.dir/util/cuda_compile_1_generated_im2col.cu.o\u001b[0m\n",
            "[ 32%] \u001b[34m\u001b[1mBuilding NVCC (Device) object src/caffe/CMakeFiles/cuda_compile_1.dir/util/cuda_compile_1_generated_math_functions.cu.o\u001b[0m\n",
            "\u001b[35m\u001b[1mScanning dependencies of target caffe\u001b[0m\n",
            "[ 34%] \u001b[32mBuilding CXX object src/caffe/CMakeFiles/caffe.dir/blob.cpp.o\u001b[0m\n",
            "[ 34%] \u001b[32mBuilding CXX object src/caffe/CMakeFiles/caffe.dir/common.cpp.o\u001b[0m\n",
            "[ 35%] \u001b[32mBuilding CXX object src/caffe/CMakeFiles/caffe.dir/data_transformer.cpp.o\u001b[0m\n",
            "[ 35%] \u001b[32mBuilding CXX object src/caffe/CMakeFiles/caffe.dir/internal_thread.cpp.o\u001b[0m\n",
            "[ 35%] \u001b[32mBuilding CXX object src/caffe/CMakeFiles/caffe.dir/layer.cpp.o\u001b[0m\n",
            "[ 36%] \u001b[32mBuilding CXX object src/caffe/CMakeFiles/caffe.dir/layer_factory.cpp.o\u001b[0m\n",
            "[ 36%] \u001b[32mBuilding CXX object src/caffe/CMakeFiles/caffe.dir/layers/absval_layer.cpp.o\u001b[0m\n",
            "[ 36%] \u001b[32mBuilding CXX object src/caffe/CMakeFiles/caffe.dir/layers/accuracy_layer.cpp.o\u001b[0m\n",
            "[ 38%] \u001b[32mBuilding CXX object src/caffe/CMakeFiles/caffe.dir/layers/argmax_layer.cpp.o\u001b[0m\n",
            "[ 38%] \u001b[32mBuilding CXX object src/caffe/CMakeFiles/caffe.dir/layers/base_conv_layer.cpp.o\u001b[0m\n",
            "[ 38%] \u001b[32mBuilding CXX object src/caffe/CMakeFiles/caffe.dir/layers/base_data_layer.cpp.o\u001b[0m\n",
            "[ 39%] \u001b[32mBuilding CXX object src/caffe/CMakeFiles/caffe.dir/layers/batch_norm_layer.cpp.o\u001b[0m\n",
            "[ 39%] \u001b[32mBuilding CXX object src/caffe/CMakeFiles/caffe.dir/layers/batch_reindex_layer.cpp.o\u001b[0m\n",
            "[ 41%] \u001b[32mBuilding CXX object src/caffe/CMakeFiles/caffe.dir/layers/bias_layer.cpp.o\u001b[0m\n",
            "[ 41%] \u001b[32mBuilding CXX object src/caffe/CMakeFiles/caffe.dir/layers/bnll_layer.cpp.o\u001b[0m\n",
            "[ 41%] \u001b[32mBuilding CXX object src/caffe/CMakeFiles/caffe.dir/layers/clip_layer.cpp.o\u001b[0m\n",
            "[ 42%] \u001b[32mBuilding CXX object src/caffe/CMakeFiles/caffe.dir/layers/concat_layer.cpp.o\u001b[0m\n",
            "[ 42%] \u001b[32mBuilding CXX object src/caffe/CMakeFiles/caffe.dir/layers/contrastive_loss_layer.cpp.o\u001b[0m\n",
            "[ 42%] \u001b[32mBuilding CXX object src/caffe/CMakeFiles/caffe.dir/layers/conv_layer.cpp.o\u001b[0m\n",
            "[ 43%] \u001b[32mBuilding CXX object src/caffe/CMakeFiles/caffe.dir/layers/crop_layer.cpp.o\u001b[0m\n",
            "[ 43%] \u001b[32mBuilding CXX object src/caffe/CMakeFiles/caffe.dir/layers/cudnn_conv_layer.cpp.o\u001b[0m\n",
            "[ 45%] \u001b[32mBuilding CXX object src/caffe/CMakeFiles/caffe.dir/layers/cudnn_deconv_layer.cpp.o\u001b[0m\n",
            "[ 45%] \u001b[32mBuilding CXX object src/caffe/CMakeFiles/caffe.dir/layers/cudnn_lcn_layer.cpp.o\u001b[0m\n",
            "[ 45%] \u001b[32mBuilding CXX object src/caffe/CMakeFiles/caffe.dir/layers/cudnn_lrn_layer.cpp.o\u001b[0m\n",
            "[ 46%] \u001b[32mBuilding CXX object src/caffe/CMakeFiles/caffe.dir/layers/cudnn_pooling_layer.cpp.o\u001b[0m\n",
            "[ 46%] \u001b[32mBuilding CXX object src/caffe/CMakeFiles/caffe.dir/layers/cudnn_relu_layer.cpp.o\u001b[0m\n",
            "[ 46%] \u001b[32mBuilding CXX object src/caffe/CMakeFiles/caffe.dir/layers/cudnn_sigmoid_layer.cpp.o\u001b[0m\n",
            "[ 47%] \u001b[32mBuilding CXX object src/caffe/CMakeFiles/caffe.dir/layers/cudnn_softmax_layer.cpp.o\u001b[0m\n",
            "[ 47%] \u001b[32mBuilding CXX object src/caffe/CMakeFiles/caffe.dir/layers/cudnn_tanh_layer.cpp.o\u001b[0m\n",
            "[ 49%] \u001b[32mBuilding CXX object src/caffe/CMakeFiles/caffe.dir/layers/data_layer.cpp.o\u001b[0m\n",
            "[ 49%] \u001b[32mBuilding CXX object src/caffe/CMakeFiles/caffe.dir/layers/deconv_layer.cpp.o\u001b[0m\n",
            "[ 49%] \u001b[32mBuilding CXX object src/caffe/CMakeFiles/caffe.dir/layers/dropout_layer.cpp.o\u001b[0m\n",
            "[ 50%] \u001b[32mBuilding CXX object src/caffe/CMakeFiles/caffe.dir/layers/dummy_data_layer.cpp.o\u001b[0m\n",
            "[ 50%] \u001b[32mBuilding CXX object src/caffe/CMakeFiles/caffe.dir/layers/eltwise_layer.cpp.o\u001b[0m\n",
            "[ 50%] \u001b[32mBuilding CXX object src/caffe/CMakeFiles/caffe.dir/layers/elu_layer.cpp.o\u001b[0m\n",
            "[ 52%] \u001b[32mBuilding CXX object src/caffe/CMakeFiles/caffe.dir/layers/embed_layer.cpp.o\u001b[0m\n",
            "[ 52%] \u001b[32mBuilding CXX object src/caffe/CMakeFiles/caffe.dir/layers/euclidean_loss_layer.cpp.o\u001b[0m\n",
            "[ 53%] \u001b[32mBuilding CXX object src/caffe/CMakeFiles/caffe.dir/layers/exp_layer.cpp.o\u001b[0m\n",
            "[ 53%] \u001b[32mBuilding CXX object src/caffe/CMakeFiles/caffe.dir/layers/filter_layer.cpp.o\u001b[0m\n",
            "[ 53%] \u001b[32mBuilding CXX object src/caffe/CMakeFiles/caffe.dir/layers/flatten_layer.cpp.o\u001b[0m\n",
            "[ 54%] \u001b[32mBuilding CXX object src/caffe/CMakeFiles/caffe.dir/layers/hdf5_data_layer.cpp.o\u001b[0m\n",
            "[ 54%] \u001b[32mBuilding CXX object src/caffe/CMakeFiles/caffe.dir/layers/hdf5_output_layer.cpp.o\u001b[0m\n",
            "[ 54%] \u001b[32mBuilding CXX object src/caffe/CMakeFiles/caffe.dir/layers/hinge_loss_layer.cpp.o\u001b[0m\n",
            "[ 56%] \u001b[32mBuilding CXX object src/caffe/CMakeFiles/caffe.dir/layers/im2col_layer.cpp.o\u001b[0m\n",
            "[ 56%] \u001b[32mBuilding CXX object src/caffe/CMakeFiles/caffe.dir/layers/image_data_layer.cpp.o\u001b[0m\n",
            "[ 57%] \u001b[32mBuilding CXX object src/caffe/CMakeFiles/caffe.dir/layers/infogain_loss_layer.cpp.o\u001b[0m\n",
            "[ 57%] \u001b[32mBuilding CXX object src/caffe/CMakeFiles/caffe.dir/layers/inner_product_layer.cpp.o\u001b[0m\n",
            "[ 57%] \u001b[32mBuilding CXX object src/caffe/CMakeFiles/caffe.dir/layers/input_layer.cpp.o\u001b[0m\n",
            "[ 58%] \u001b[32mBuilding CXX object src/caffe/CMakeFiles/caffe.dir/layers/log_layer.cpp.o\u001b[0m\n",
            "[ 58%] \u001b[32mBuilding CXX object src/caffe/CMakeFiles/caffe.dir/layers/loss_layer.cpp.o\u001b[0m\n",
            "[ 58%] \u001b[32mBuilding CXX object src/caffe/CMakeFiles/caffe.dir/layers/lrn_layer.cpp.o\u001b[0m\n",
            "[ 60%] \u001b[32mBuilding CXX object src/caffe/CMakeFiles/caffe.dir/layers/lstm_layer.cpp.o\u001b[0m\n",
            "[ 60%] \u001b[32mBuilding CXX object src/caffe/CMakeFiles/caffe.dir/layers/lstm_unit_layer.cpp.o\u001b[0m\n",
            "[ 61%] \u001b[32mBuilding CXX object src/caffe/CMakeFiles/caffe.dir/layers/memory_data_layer.cpp.o\u001b[0m\n",
            "[ 61%] \u001b[32mBuilding CXX object src/caffe/CMakeFiles/caffe.dir/layers/multinomial_logistic_loss_layer.cpp.o\u001b[0m\n",
            "[ 61%] \u001b[32mBuilding CXX object src/caffe/CMakeFiles/caffe.dir/layers/mvn_layer.cpp.o\u001b[0m\n",
            "[ 63%] \u001b[32mBuilding CXX object src/caffe/CMakeFiles/caffe.dir/layers/neuron_layer.cpp.o\u001b[0m\n",
            "[ 63%] \u001b[32mBuilding CXX object src/caffe/CMakeFiles/caffe.dir/layers/parameter_layer.cpp.o\u001b[0m\n",
            "[ 63%] \u001b[32mBuilding CXX object src/caffe/CMakeFiles/caffe.dir/layers/pooling_layer.cpp.o\u001b[0m\n",
            "[ 64%] \u001b[32mBuilding CXX object src/caffe/CMakeFiles/caffe.dir/layers/power_layer.cpp.o\u001b[0m\n",
            "[ 64%] \u001b[32mBuilding CXX object src/caffe/CMakeFiles/caffe.dir/layers/prelu_layer.cpp.o\u001b[0m\n",
            "[ 65%] \u001b[32mBuilding CXX object src/caffe/CMakeFiles/caffe.dir/layers/recurrent_layer.cpp.o\u001b[0m\n",
            "[ 65%] \u001b[32mBuilding CXX object src/caffe/CMakeFiles/caffe.dir/layers/reduction_layer.cpp.o\u001b[0m\n",
            "[ 65%] \u001b[32mBuilding CXX object src/caffe/CMakeFiles/caffe.dir/layers/relu_layer.cpp.o\u001b[0m\n",
            "[ 67%] \u001b[32mBuilding CXX object src/caffe/CMakeFiles/caffe.dir/layers/reshape_layer.cpp.o\u001b[0m\n",
            "[ 67%] \u001b[32mBuilding CXX object src/caffe/CMakeFiles/caffe.dir/layers/rnn_layer.cpp.o\u001b[0m\n",
            "[ 67%] \u001b[32mBuilding CXX object src/caffe/CMakeFiles/caffe.dir/layers/scale_layer.cpp.o\u001b[0m\n",
            "[ 68%] \u001b[32mBuilding CXX object src/caffe/CMakeFiles/caffe.dir/layers/sigmoid_cross_entropy_loss_layer.cpp.o\u001b[0m\n",
            "[ 68%] \u001b[32mBuilding CXX object src/caffe/CMakeFiles/caffe.dir/layers/sigmoid_layer.cpp.o\u001b[0m\n",
            "[ 69%] \u001b[32mBuilding CXX object src/caffe/CMakeFiles/caffe.dir/layers/silence_layer.cpp.o\u001b[0m\n",
            "[ 69%] \u001b[32mBuilding CXX object src/caffe/CMakeFiles/caffe.dir/layers/slice_layer.cpp.o\u001b[0m\n",
            "[ 69%] \u001b[32mBuilding CXX object src/caffe/CMakeFiles/caffe.dir/layers/softmax_layer.cpp.o\u001b[0m\n",
            "[ 71%] \u001b[32mBuilding CXX object src/caffe/CMakeFiles/caffe.dir/layers/softmax_loss_layer.cpp.o\u001b[0m\n",
            "[ 71%] \u001b[32mBuilding CXX object src/caffe/CMakeFiles/caffe.dir/layers/split_layer.cpp.o\u001b[0m\n",
            "[ 71%] \u001b[32mBuilding CXX object src/caffe/CMakeFiles/caffe.dir/layers/spp_layer.cpp.o\u001b[0m\n",
            "[ 72%] \u001b[32mBuilding CXX object src/caffe/CMakeFiles/caffe.dir/layers/swish_layer.cpp.o\u001b[0m\n",
            "[ 72%] \u001b[32mBuilding CXX object src/caffe/CMakeFiles/caffe.dir/layers/tanh_layer.cpp.o\u001b[0m\n",
            "[ 72%] \u001b[32mBuilding CXX object src/caffe/CMakeFiles/caffe.dir/layers/threshold_layer.cpp.o\u001b[0m\n",
            "[ 73%] \u001b[32mBuilding CXX object src/caffe/CMakeFiles/caffe.dir/layers/tile_layer.cpp.o\u001b[0m\n",
            "[ 73%] \u001b[32mBuilding CXX object src/caffe/CMakeFiles/caffe.dir/layers/window_data_layer.cpp.o\u001b[0m\n",
            "[ 75%] \u001b[32mBuilding CXX object src/caffe/CMakeFiles/caffe.dir/net.cpp.o\u001b[0m\n",
            "[ 75%] \u001b[32mBuilding CXX object src/caffe/CMakeFiles/caffe.dir/parallel.cpp.o\u001b[0m\n",
            "[ 75%] \u001b[32mBuilding CXX object src/caffe/CMakeFiles/caffe.dir/solver.cpp.o\u001b[0m\n",
            "[ 76%] \u001b[32mBuilding CXX object src/caffe/CMakeFiles/caffe.dir/solvers/adadelta_solver.cpp.o\u001b[0m\n",
            "[ 76%] \u001b[32mBuilding CXX object src/caffe/CMakeFiles/caffe.dir/solvers/adagrad_solver.cpp.o\u001b[0m\n",
            "[ 76%] \u001b[32mBuilding CXX object src/caffe/CMakeFiles/caffe.dir/solvers/adam_solver.cpp.o\u001b[0m\n",
            "[ 78%] \u001b[32mBuilding CXX object src/caffe/CMakeFiles/caffe.dir/solvers/nesterov_solver.cpp.o\u001b[0m\n",
            "[ 78%] \u001b[32mBuilding CXX object src/caffe/CMakeFiles/caffe.dir/solvers/rmsprop_solver.cpp.o\u001b[0m\n",
            "[ 79%] \u001b[32mBuilding CXX object src/caffe/CMakeFiles/caffe.dir/solvers/sgd_solver.cpp.o\u001b[0m\n",
            "[ 79%] \u001b[32mBuilding CXX object src/caffe/CMakeFiles/caffe.dir/syncedmem.cpp.o\u001b[0m\n",
            "[ 79%] \u001b[32mBuilding CXX object src/caffe/CMakeFiles/caffe.dir/util/benchmark.cpp.o\u001b[0m\n",
            "[ 80%] \u001b[32mBuilding CXX object src/caffe/CMakeFiles/caffe.dir/util/blocking_queue.cpp.o\u001b[0m\n",
            "[ 80%] \u001b[32mBuilding CXX object src/caffe/CMakeFiles/caffe.dir/util/cudnn.cpp.o\u001b[0m\n",
            "[ 80%] \u001b[32mBuilding CXX object src/caffe/CMakeFiles/caffe.dir/util/db.cpp.o\u001b[0m\n",
            "[ 82%] \u001b[32mBuilding CXX object src/caffe/CMakeFiles/caffe.dir/util/db_leveldb.cpp.o\u001b[0m\n",
            "[ 82%] \u001b[32mBuilding CXX object src/caffe/CMakeFiles/caffe.dir/util/db_lmdb.cpp.o\u001b[0m\n",
            "[ 83%] \u001b[32mBuilding CXX object src/caffe/CMakeFiles/caffe.dir/util/hdf5.cpp.o\u001b[0m\n",
            "[ 83%] \u001b[32mBuilding CXX object src/caffe/CMakeFiles/caffe.dir/util/im2col.cpp.o\u001b[0m\n",
            "[ 83%] \u001b[32mBuilding CXX object src/caffe/CMakeFiles/caffe.dir/util/insert_splits.cpp.o\u001b[0m\n",
            "[ 84%] \u001b[32mBuilding CXX object src/caffe/CMakeFiles/caffe.dir/util/io.cpp.o\u001b[0m\n",
            "[ 84%] \u001b[32mBuilding CXX object src/caffe/CMakeFiles/caffe.dir/util/math_functions.cpp.o\u001b[0m\n",
            "[ 84%] \u001b[32mBuilding CXX object src/caffe/CMakeFiles/caffe.dir/util/signal_handler.cpp.o\u001b[0m\n",
            "[ 86%] \u001b[32mBuilding CXX object src/caffe/CMakeFiles/caffe.dir/util/upgrade_proto.cpp.o\u001b[0m\n",
            "[ 86%] \u001b[32m\u001b[1mLinking CXX shared library ../../lib/libcaffe.so\u001b[0m\n",
            "[ 86%] Built target caffe\n",
            "\u001b[35m\u001b[1mScanning dependencies of target caffe.bin\u001b[0m\n",
            "[ 87%] \u001b[32mBuilding CXX object tools/CMakeFiles/caffe.bin.dir/caffe.cpp.o\u001b[0m\n",
            "[ 87%] \u001b[32m\u001b[1mLinking CXX executable caffe\u001b[0m\n",
            "[ 87%] Built target caffe.bin\n",
            "\u001b[35m\u001b[1mScanning dependencies of target compute_image_mean\u001b[0m\n",
            "[ 87%] \u001b[32mBuilding CXX object tools/CMakeFiles/compute_image_mean.dir/compute_image_mean.cpp.o\u001b[0m\n",
            "[ 89%] \u001b[32m\u001b[1mLinking CXX executable compute_image_mean\u001b[0m\n",
            "[ 89%] Built target compute_image_mean\n",
            "\u001b[35m\u001b[1mScanning dependencies of target upgrade_net_proto_binary\u001b[0m\n",
            "[ 90%] \u001b[32mBuilding CXX object tools/CMakeFiles/upgrade_net_proto_binary.dir/upgrade_net_proto_binary.cpp.o\u001b[0m\n",
            "[ 90%] \u001b[32m\u001b[1mLinking CXX executable upgrade_net_proto_binary\u001b[0m\n",
            "[ 90%] Built target upgrade_net_proto_binary\n",
            "\u001b[35m\u001b[1mScanning dependencies of target convert_imageset\u001b[0m\n",
            "[ 91%] \u001b[32mBuilding CXX object tools/CMakeFiles/convert_imageset.dir/convert_imageset.cpp.o\u001b[0m\n",
            "[ 91%] \u001b[32m\u001b[1mLinking CXX executable convert_imageset\u001b[0m\n",
            "[ 91%] Built target convert_imageset\n",
            "\u001b[35m\u001b[1mScanning dependencies of target extract_features\u001b[0m\n",
            "[ 91%] \u001b[32mBuilding CXX object tools/CMakeFiles/extract_features.dir/extract_features.cpp.o\u001b[0m\n",
            "[ 91%] \u001b[32m\u001b[1mLinking CXX executable extract_features\u001b[0m\n",
            "[ 91%] Built target extract_features\n",
            "\u001b[35m\u001b[1mScanning dependencies of target upgrade_net_proto_text\u001b[0m\n",
            "[ 91%] \u001b[32mBuilding CXX object tools/CMakeFiles/upgrade_net_proto_text.dir/upgrade_net_proto_text.cpp.o\u001b[0m\n",
            "[ 93%] \u001b[32m\u001b[1mLinking CXX executable upgrade_net_proto_text\u001b[0m\n",
            "[ 93%] Built target upgrade_net_proto_text\n",
            "\u001b[35m\u001b[1mScanning dependencies of target upgrade_solver_proto_text\u001b[0m\n",
            "[ 93%] \u001b[32mBuilding CXX object tools/CMakeFiles/upgrade_solver_proto_text.dir/upgrade_solver_proto_text.cpp.o\u001b[0m\n",
            "[ 94%] \u001b[32m\u001b[1mLinking CXX executable upgrade_solver_proto_text\u001b[0m\n",
            "[ 94%] Built target upgrade_solver_proto_text\n",
            "\u001b[35m\u001b[1mScanning dependencies of target convert_mnist_data\u001b[0m\n",
            "[ 94%] \u001b[32mBuilding CXX object examples/CMakeFiles/convert_mnist_data.dir/mnist/convert_mnist_data.cpp.o\u001b[0m\n",
            "[ 95%] \u001b[32m\u001b[1mLinking CXX executable mnist/convert_mnist_data\u001b[0m\n",
            "[ 95%] Built target convert_mnist_data\n",
            "\u001b[35m\u001b[1mScanning dependencies of target convert_mnist_siamese_data\u001b[0m\n",
            "[ 95%] \u001b[32mBuilding CXX object examples/CMakeFiles/convert_mnist_siamese_data.dir/siamese/convert_mnist_siamese_data.cpp.o\u001b[0m\n",
            "[ 97%] \u001b[32m\u001b[1mLinking CXX executable siamese/convert_mnist_siamese_data\u001b[0m\n",
            "[ 97%] Built target convert_mnist_siamese_data\n",
            "\u001b[35m\u001b[1mScanning dependencies of target classification\u001b[0m\n",
            "[ 97%] \u001b[32mBuilding CXX object examples/CMakeFiles/classification.dir/cpp_classification/classification.cpp.o\u001b[0m\n",
            "[ 98%] \u001b[32m\u001b[1mLinking CXX executable cpp_classification/classification\u001b[0m\n",
            "[ 98%] Built target classification\n",
            "\u001b[35m\u001b[1mScanning dependencies of target convert_cifar_data\u001b[0m\n",
            "[ 98%] \u001b[32mBuilding CXX object examples/CMakeFiles/convert_cifar_data.dir/cifar10/convert_cifar_data.cpp.o\u001b[0m\n",
            "[ 98%] \u001b[32m\u001b[1mLinking CXX executable cifar10/convert_cifar_data\u001b[0m\n",
            "[ 98%] Built target convert_cifar_data\n",
            "\u001b[35m\u001b[1mScanning dependencies of target pycaffe\u001b[0m\n",
            "[ 98%] \u001b[32mBuilding CXX object python/CMakeFiles/pycaffe.dir/caffe/_caffe.cpp.o\u001b[0m\n",
            "[100%] \u001b[32m\u001b[1mLinking CXX shared library ../lib/_caffe.so\u001b[0m\n",
            "\u001b[34m\u001b[1mCreating symlink /content/caffe/python/caffe/_caffe.so -> /content/caffe/lib/_caffe.so\u001b[0m\n",
            "[100%] Built target pycaffe\n"
          ],
          "name": "stdout"
        }
      ]
    },
    {
      "metadata": {
        "id": "Ss1_Yo8ZdlJ8",
        "colab_type": "code",
        "colab": {
          "base_uri": "https://localhost:8080/",
          "height": 4814
        },
        "outputId": "4d6f4ead-f682-4e70-b00e-7744559f5bbc"
      },
      "cell_type": "code",
      "source": [
        "!make install"
      ],
      "execution_count": 17,
      "outputs": [
        {
          "output_type": "stream",
          "text": [
            "-- Boost version: 1.65.1\n",
            "-- Found the following Boost libraries:\n",
            "--   system\n",
            "--   thread\n",
            "--   filesystem\n",
            "--   chrono\n",
            "--   date_time\n",
            "--   atomic\n",
            "-- Found gflags  (include: /usr/include, library: /usr/lib/x86_64-linux-gnu/libgflags.so)\n",
            "-- Found glog    (include: /usr/include, library: /usr/lib/x86_64-linux-gnu/libglog.so)\n",
            "-- Found PROTOBUF Compiler: /usr/bin/protoc\n",
            "-- HDF5: Using hdf5 compiler wrapper to determine C configuration\n",
            "-- HDF5: Using hdf5 compiler wrapper to determine CXX configuration\n",
            "-- Found lmdb    (include: /usr/include, library: /usr/lib/x86_64-linux-gnu/liblmdb.so)\n",
            "-- Found LevelDB (include: /usr/include, library: /usr/lib/x86_64-linux-gnu/libleveldb.so)\n",
            "-- Found Snappy  (include: /usr/include, library: /usr/lib/x86_64-linux-gnu/libsnappy.so)\n",
            "-- CUDA detected: 9.0\n",
            "-- Found cuDNN: ver. 7.4.1 found (include: /usr/include, library: /usr/lib/x86_64-linux-gnu/libcudnn.so)\n",
            "-- Added CUDA NVCC flags for: sm_37\n",
            "-- OpenCV found (/usr/share/OpenCV)\n",
            "-- Found Atlas (include: /usr/include/x86_64-linux-gnu library: /usr/lib/x86_64-linux-gnu/libatlas.so lapack: /usr/lib/x86_64-linux-gnu/liblapack.so\n",
            "-- NumPy ver. 1.14.6 found (include: /usr/local/lib/python2.7/dist-packages/numpy/core/include)\n",
            "-- Boost version: 1.65.1\n",
            "-- Found the following Boost libraries:\n",
            "--   python\n",
            "-- Could NOT find Doxygen (missing: DOXYGEN_EXECUTABLE) \n",
            "-- \n",
            "-- ******************* Caffe Configuration Summary *******************\n",
            "-- General:\n",
            "--   Version           :   1.0.0\n",
            "--   Git               :   1.0-132-g99bd9979-dirty\n",
            "--   System            :   Linux\n",
            "--   C++ compiler      :   /usr/bin/c++\n",
            "--   Release CXX flags :   -O3 -DNDEBUG -fPIC -Wall -Wno-sign-compare -Wno-uninitialized\n",
            "--   Debug CXX flags   :   -g -fPIC -Wall -Wno-sign-compare -Wno-uninitialized\n",
            "--   Build type        :   Release\n",
            "-- \n",
            "--   BUILD_SHARED_LIBS :   ON\n",
            "--   BUILD_python      :   ON\n",
            "--   BUILD_matlab      :   OFF\n",
            "--   BUILD_docs        :   ON\n",
            "--   CPU_ONLY          :   OFF\n",
            "--   USE_OPENCV        :   ON\n",
            "--   USE_LEVELDB       :   ON\n",
            "--   USE_LMDB          :   ON\n",
            "--   USE_NCCL          :   OFF\n",
            "--   ALLOW_LMDB_NOLOCK :   OFF\n",
            "--   USE_HDF5          :   ON\n",
            "-- \n",
            "-- Dependencies:\n",
            "--   BLAS              :   Yes (Atlas)\n",
            "--   Boost             :   Yes (ver. 1.65)\n",
            "--   glog              :   Yes\n",
            "--   gflags            :   Yes\n",
            "--   protobuf          :   Yes (ver. 3.0.0)\n",
            "--   lmdb              :   Yes (ver. 0.9.21)\n",
            "--   LevelDB           :   Yes (ver. 1.20)\n",
            "--   Snappy            :   Yes (ver. ..)\n",
            "--   OpenCV            :   Yes (ver. 3.2.0)\n",
            "--   CUDA              :   Yes (ver. 9.0)\n",
            "-- \n",
            "-- NVIDIA CUDA:\n",
            "--   Target GPU(s)     :   Auto\n",
            "--   GPU arch(s)       :   sm_37\n",
            "--   cuDNN             :   Yes (ver. 7.4.1)\n",
            "-- \n",
            "-- Python:\n",
            "--   Interpreter       :   /usr/bin/python2.7 (ver. 2.7.15)\n",
            "--   Libraries         :   /usr/lib/x86_64-linux-gnu/libpython2.7.so (ver 2.7.15rc1)\n",
            "--   NumPy             :   /usr/local/lib/python2.7/dist-packages/numpy/core/include (ver 1.14.6)\n",
            "-- \n",
            "-- Documentaion:\n",
            "--   Doxygen           :   No\n",
            "--   config_file       :   \n",
            "-- \n",
            "-- Install:\n",
            "--   Install path      :   /content/caffe/install\n",
            "-- \n",
            "-- Configuring done\n",
            "-- Generating done\n",
            "-- Build files have been written to: /content/caffe\n",
            "[  1%] Built target caffeproto\n",
            "[  1%] \u001b[32m\u001b[1mLinking CXX shared library ../../lib/libcaffe.so\u001b[0m\n",
            "[ 86%] Built target caffe\n",
            "[ 86%] \u001b[32m\u001b[1mLinking CXX executable caffe\u001b[0m\n",
            "[ 87%] Built target caffe.bin\n",
            "[ 89%] \u001b[32m\u001b[1mLinking CXX executable compute_image_mean\u001b[0m\n",
            "[ 89%] Built target compute_image_mean\n",
            "[ 89%] \u001b[32m\u001b[1mLinking CXX executable upgrade_net_proto_binary\u001b[0m\n",
            "[ 90%] Built target upgrade_net_proto_binary\n",
            "[ 90%] \u001b[32m\u001b[1mLinking CXX executable convert_imageset\u001b[0m\n",
            "[ 91%] Built target convert_imageset\n",
            "[ 91%] \u001b[32m\u001b[1mLinking CXX executable extract_features\u001b[0m\n",
            "[ 91%] Built target extract_features\n",
            "[ 93%] \u001b[32m\u001b[1mLinking CXX executable upgrade_net_proto_text\u001b[0m\n",
            "[ 93%] Built target upgrade_net_proto_text\n",
            "[ 94%] \u001b[32m\u001b[1mLinking CXX executable upgrade_solver_proto_text\u001b[0m\n",
            "[ 94%] Built target upgrade_solver_proto_text\n",
            "[ 95%] \u001b[32m\u001b[1mLinking CXX executable mnist/convert_mnist_data\u001b[0m\n",
            "[ 95%] Built target convert_mnist_data\n",
            "[ 97%] \u001b[32m\u001b[1mLinking CXX executable siamese/convert_mnist_siamese_data\u001b[0m\n",
            "[ 97%] Built target convert_mnist_siamese_data\n",
            "[ 98%] \u001b[32m\u001b[1mLinking CXX executable cpp_classification/classification\u001b[0m\n",
            "[ 98%] Built target classification\n",
            "[ 98%] \u001b[32m\u001b[1mLinking CXX executable cifar10/convert_cifar_data\u001b[0m\n",
            "[ 98%] Built target convert_cifar_data\n",
            "[100%] \u001b[32m\u001b[1mLinking CXX shared library ../lib/_caffe.so\u001b[0m\n",
            "\u001b[34m\u001b[1mCreating symlink /content/caffe/python/caffe/_caffe.so -> /content/caffe/lib/_caffe.so\u001b[0m\n",
            "[100%] Built target pycaffe\n",
            "\u001b[36mInstall the project...\u001b[0m\n",
            "-- Install configuration: \"Release\"\n",
            "-- Installing: /content/caffe/install/share/Caffe/CaffeConfig.cmake\n",
            "-- Installing: /content/caffe/install/share/Caffe/CaffeTargets.cmake\n",
            "-- Installing: /content/caffe/install/share/Caffe/CaffeTargets-release.cmake\n",
            "-- Installing: /content/caffe/install/include/caffe\n",
            "-- Installing: /content/caffe/install/include/caffe/layers\n",
            "-- Installing: /content/caffe/install/include/caffe/layers/contrastive_loss_layer.hpp\n",
            "-- Installing: /content/caffe/install/include/caffe/layers/flatten_layer.hpp\n",
            "-- Installing: /content/caffe/install/include/caffe/layers/relu_layer.hpp\n",
            "-- Installing: /content/caffe/install/include/caffe/layers/loss_layer.hpp\n",
            "-- Installing: /content/caffe/install/include/caffe/layers/data_layer.hpp\n",
            "-- Installing: /content/caffe/install/include/caffe/layers/cudnn_pooling_layer.hpp\n",
            "-- Installing: /content/caffe/install/include/caffe/layers/lstm_layer.hpp\n",
            "-- Installing: /content/caffe/install/include/caffe/layers/cudnn_relu_layer.hpp\n",
            "-- Installing: /content/caffe/install/include/caffe/layers/tile_layer.hpp\n",
            "-- Installing: /content/caffe/install/include/caffe/layers/silence_layer.hpp\n",
            "-- Installing: /content/caffe/install/include/caffe/layers/sigmoid_cross_entropy_loss_layer.hpp\n",
            "-- Installing: /content/caffe/install/include/caffe/layers/argmax_layer.hpp\n",
            "-- Installing: /content/caffe/install/include/caffe/layers/embed_layer.hpp\n",
            "-- Installing: /content/caffe/install/include/caffe/layers/python_layer.hpp\n",
            "-- Installing: /content/caffe/install/include/caffe/layers/mvn_layer.hpp\n",
            "-- Installing: /content/caffe/install/include/caffe/layers/window_data_layer.hpp\n",
            "-- Installing: /content/caffe/install/include/caffe/layers/image_data_layer.hpp\n",
            "-- Installing: /content/caffe/install/include/caffe/layers/hinge_loss_layer.hpp\n",
            "-- Installing: /content/caffe/install/include/caffe/layers/exp_layer.hpp\n",
            "-- Installing: /content/caffe/install/include/caffe/layers/hdf5_output_layer.hpp\n",
            "-- Installing: /content/caffe/install/include/caffe/layers/sigmoid_layer.hpp\n",
            "-- Installing: /content/caffe/install/include/caffe/layers/softmax_layer.hpp\n",
            "-- Installing: /content/caffe/install/include/caffe/layers/dropout_layer.hpp\n",
            "-- Installing: /content/caffe/install/include/caffe/layers/deconv_layer.hpp\n",
            "-- Installing: /content/caffe/install/include/caffe/layers/batch_norm_layer.hpp\n",
            "-- Installing: /content/caffe/install/include/caffe/layers/power_layer.hpp\n",
            "-- Installing: /content/caffe/install/include/caffe/layers/slice_layer.hpp\n",
            "-- Installing: /content/caffe/install/include/caffe/layers/cudnn_lrn_layer.hpp\n",
            "-- Installing: /content/caffe/install/include/caffe/layers/clip_layer.hpp\n",
            "-- Installing: /content/caffe/install/include/caffe/layers/concat_layer.hpp\n",
            "-- Installing: /content/caffe/install/include/caffe/layers/scale_layer.hpp\n",
            "-- Installing: /content/caffe/install/include/caffe/layers/base_conv_layer.hpp\n",
            "-- Installing: /content/caffe/install/include/caffe/layers/cudnn_sigmoid_layer.hpp\n",
            "-- Installing: /content/caffe/install/include/caffe/layers/swish_layer.hpp\n",
            "-- Installing: /content/caffe/install/include/caffe/layers/elu_layer.hpp\n",
            "-- Installing: /content/caffe/install/include/caffe/layers/dummy_data_layer.hpp\n",
            "-- Installing: /content/caffe/install/include/caffe/layers/pooling_layer.hpp\n",
            "-- Installing: /content/caffe/install/include/caffe/layers/spp_layer.hpp\n",
            "-- Installing: /content/caffe/install/include/caffe/layers/reshape_layer.hpp\n",
            "-- Installing: /content/caffe/install/include/caffe/layers/threshold_layer.hpp\n",
            "-- Installing: /content/caffe/install/include/caffe/layers/memory_data_layer.hpp\n",
            "-- Installing: /content/caffe/install/include/caffe/layers/euclidean_loss_layer.hpp\n",
            "-- Installing: /content/caffe/install/include/caffe/layers/base_data_layer.hpp\n",
            "-- Installing: /content/caffe/install/include/caffe/layers/softmax_loss_layer.hpp\n",
            "-- Installing: /content/caffe/install/include/caffe/layers/tanh_layer.hpp\n",
            "-- Installing: /content/caffe/install/include/caffe/layers/multinomial_logistic_loss_layer.hpp\n",
            "-- Installing: /content/caffe/install/include/caffe/layers/cudnn_deconv_layer.hpp\n",
            "-- Installing: /content/caffe/install/include/caffe/layers/input_layer.hpp\n",
            "-- Installing: /content/caffe/install/include/caffe/layers/cudnn_softmax_layer.hpp\n",
            "-- Installing: /content/caffe/install/include/caffe/layers/infogain_loss_layer.hpp\n",
            "-- Installing: /content/caffe/install/include/caffe/layers/cudnn_conv_layer.hpp\n",
            "-- Installing: /content/caffe/install/include/caffe/layers/cudnn_lcn_layer.hpp\n",
            "-- Installing: /content/caffe/install/include/caffe/layers/parameter_layer.hpp\n",
            "-- Installing: /content/caffe/install/include/caffe/layers/im2col_layer.hpp\n",
            "-- Installing: /content/caffe/install/include/caffe/layers/accuracy_layer.hpp\n",
            "-- Installing: /content/caffe/install/include/caffe/layers/inner_product_layer.hpp\n",
            "-- Installing: /content/caffe/install/include/caffe/layers/log_layer.hpp\n",
            "-- Installing: /content/caffe/install/include/caffe/layers/prelu_layer.hpp\n",
            "-- Installing: /content/caffe/install/include/caffe/layers/rnn_layer.hpp\n",
            "-- Installing: /content/caffe/install/include/caffe/layers/bnll_layer.hpp\n",
            "-- Installing: /content/caffe/install/include/caffe/layers/conv_layer.hpp\n",
            "-- Installing: /content/caffe/install/include/caffe/layers/bias_layer.hpp\n",
            "-- Installing: /content/caffe/install/include/caffe/layers/split_layer.hpp\n",
            "-- Installing: /content/caffe/install/include/caffe/layers/cudnn_tanh_layer.hpp\n",
            "-- Installing: /content/caffe/install/include/caffe/layers/crop_layer.hpp\n",
            "-- Installing: /content/caffe/install/include/caffe/layers/eltwise_layer.hpp\n",
            "-- Installing: /content/caffe/install/include/caffe/layers/absval_layer.hpp\n",
            "-- Installing: /content/caffe/install/include/caffe/layers/hdf5_data_layer.hpp\n",
            "-- Installing: /content/caffe/install/include/caffe/layers/batch_reindex_layer.hpp\n",
            "-- Installing: /content/caffe/install/include/caffe/layers/recurrent_layer.hpp\n",
            "-- Installing: /content/caffe/install/include/caffe/layers/filter_layer.hpp\n",
            "-- Installing: /content/caffe/install/include/caffe/layers/neuron_layer.hpp\n",
            "-- Installing: /content/caffe/install/include/caffe/layers/reduction_layer.hpp\n",
            "-- Installing: /content/caffe/install/include/caffe/layers/lrn_layer.hpp\n",
            "-- Installing: /content/caffe/install/include/caffe/proto\n",
            "-- Installing: /content/caffe/install/include/caffe/proto/caffe_pb2.py\n",
            "-- Installing: /content/caffe/install/include/caffe/proto/caffe.pb.cc\n",
            "-- Installing: /content/caffe/install/include/caffe/proto/caffe.pb.h\n",
            "-- Installing: /content/caffe/install/include/caffe/layer_factory.hpp\n",
            "-- Installing: /content/caffe/install/include/caffe/common.hpp\n",
            "-- Installing: /content/caffe/install/include/caffe/util\n",
            "-- Installing: /content/caffe/install/include/caffe/util/insert_splits.hpp\n",
            "-- Installing: /content/caffe/install/include/caffe/util/db_lmdb.hpp\n",
            "-- Installing: /content/caffe/install/include/caffe/util/blocking_queue.hpp\n",
            "-- Installing: /content/caffe/install/include/caffe/util/db.hpp\n",
            "-- Installing: /content/caffe/install/include/caffe/util/mkl_alternate.hpp\n",
            "-- Installing: /content/caffe/install/include/caffe/util/signal_handler.h\n",
            "-- Installing: /content/caffe/install/include/caffe/util/gpu_util.cuh\n",
            "-- Installing: /content/caffe/install/include/caffe/util/im2col.hpp\n",
            "-- Installing: /content/caffe/install/include/caffe/util/rng.hpp\n",
            "-- Installing: /content/caffe/install/include/caffe/util/io.hpp\n",
            "-- Installing: /content/caffe/install/include/caffe/util/format.hpp\n",
            "-- Installing: /content/caffe/install/include/caffe/util/db_leveldb.hpp\n",
            "-- Installing: /content/caffe/install/include/caffe/util/math_functions.hpp\n",
            "-- Installing: /content/caffe/install/include/caffe/util/cudnn.hpp\n",
            "-- Installing: /content/caffe/install/include/caffe/util/upgrade_proto.hpp\n",
            "-- Installing: /content/caffe/install/include/caffe/util/device_alternate.hpp\n",
            "-- Installing: /content/caffe/install/include/caffe/util/benchmark.hpp\n",
            "-- Installing: /content/caffe/install/include/caffe/util/hdf5.hpp\n",
            "-- Installing: /content/caffe/install/include/caffe/util/nccl.hpp\n",
            "-- Installing: /content/caffe/install/include/caffe/blob.hpp\n",
            "-- Installing: /content/caffe/install/include/caffe/parallel.hpp\n",
            "-- Installing: /content/caffe/install/include/caffe/layer.hpp\n",
            "-- Installing: /content/caffe/install/include/caffe/internal_thread.hpp\n",
            "-- Installing: /content/caffe/install/include/caffe/solver_factory.hpp\n",
            "-- Installing: /content/caffe/install/include/caffe/net.hpp\n",
            "-- Installing: /content/caffe/install/include/caffe/sgd_solvers.hpp\n",
            "-- Installing: /content/caffe/install/include/caffe/caffe.hpp\n",
            "-- Installing: /content/caffe/install/include/caffe/test\n",
            "-- Installing: /content/caffe/install/include/caffe/test/test_caffe_main.hpp\n",
            "-- Installing: /content/caffe/install/include/caffe/test/test_gradient_check_util.hpp\n",
            "-- Installing: /content/caffe/install/include/caffe/syncedmem.hpp\n",
            "-- Installing: /content/caffe/install/include/caffe/data_transformer.hpp\n",
            "-- Installing: /content/caffe/install/include/caffe/filler.hpp\n",
            "-- Installing: /content/caffe/install/include/caffe/solver.hpp\n",
            "-- Up-to-date: /content/caffe/install/include/caffe/proto/caffe.pb.h\n",
            "-- Installing: /content/caffe/install/lib/libcaffe.so.1.0.0\n",
            "-- Set runtime path of \"/content/caffe/install/lib/libcaffe.so.1.0.0\" to \"/content/caffe/install/lib:/usr/lib/x86_64-linux-gnu/hdf5/serial:/usr/local/cuda/lib64\"\n",
            "-- Installing: /content/caffe/install/lib/libcaffe.so\n",
            "-- Installing: /content/caffe/install/lib/libcaffeproto.a\n",
            "-- Installing: /content/caffe/install/python/caffe/proto/caffe_pb2.py\n",
            "-- Installing: /content/caffe/install/python/caffe/proto/__init__.py\n",
            "-- Installing: /content/caffe/install/bin/caffe\n",
            "-- Set runtime path of \"/content/caffe/install/bin/caffe\" to \"/content/caffe/install/lib:/usr/lib/x86_64-linux-gnu/hdf5/serial:/usr/local/cuda/lib64\"\n",
            "-- Installing: /content/caffe/install/bin/compute_image_mean\n",
            "-- Set runtime path of \"/content/caffe/install/bin/compute_image_mean\" to \"/content/caffe/install/lib:/usr/lib/x86_64-linux-gnu/hdf5/serial:/usr/local/cuda/lib64\"\n",
            "-- Installing: /content/caffe/install/bin/convert_imageset\n",
            "-- Set runtime path of \"/content/caffe/install/bin/convert_imageset\" to \"/content/caffe/install/lib:/usr/lib/x86_64-linux-gnu/hdf5/serial:/usr/local/cuda/lib64\"\n",
            "-- Installing: /content/caffe/install/bin/extract_features\n",
            "-- Set runtime path of \"/content/caffe/install/bin/extract_features\" to \"/content/caffe/install/lib:/usr/lib/x86_64-linux-gnu/hdf5/serial:/usr/local/cuda/lib64\"\n",
            "-- Installing: /content/caffe/install/bin/upgrade_net_proto_binary\n",
            "-- Set runtime path of \"/content/caffe/install/bin/upgrade_net_proto_binary\" to \"/content/caffe/install/lib:/usr/lib/x86_64-linux-gnu/hdf5/serial:/usr/local/cuda/lib64\"\n",
            "-- Installing: /content/caffe/install/bin/upgrade_net_proto_text\n",
            "-- Set runtime path of \"/content/caffe/install/bin/upgrade_net_proto_text\" to \"/content/caffe/install/lib:/usr/lib/x86_64-linux-gnu/hdf5/serial:/usr/local/cuda/lib64\"\n",
            "-- Installing: /content/caffe/install/bin/upgrade_solver_proto_text\n",
            "-- Set runtime path of \"/content/caffe/install/bin/upgrade_solver_proto_text\" to \"/content/caffe/install/lib:/usr/lib/x86_64-linux-gnu/hdf5/serial:/usr/local/cuda/lib64\"\n",
            "-- Installing: /content/caffe/install/bin/convert_cifar_data\n",
            "-- Set runtime path of \"/content/caffe/install/bin/convert_cifar_data\" to \"/content/caffe/install/lib:/usr/lib/x86_64-linux-gnu/hdf5/serial:/usr/local/cuda/lib64\"\n",
            "-- Installing: /content/caffe/install/bin/classification\n",
            "-- Set runtime path of \"/content/caffe/install/bin/classification\" to \"/content/caffe/install/lib:/usr/lib/x86_64-linux-gnu/hdf5/serial:/usr/local/cuda/lib64\"\n",
            "-- Installing: /content/caffe/install/bin/convert_mnist_data\n",
            "-- Set runtime path of \"/content/caffe/install/bin/convert_mnist_data\" to \"/content/caffe/install/lib:/usr/lib/x86_64-linux-gnu/hdf5/serial:/usr/local/cuda/lib64\"\n",
            "-- Installing: /content/caffe/install/bin/convert_mnist_siamese_data\n",
            "-- Set runtime path of \"/content/caffe/install/bin/convert_mnist_siamese_data\" to \"/content/caffe/install/lib:/usr/lib/x86_64-linux-gnu/hdf5/serial:/usr/local/cuda/lib64\"\n",
            "-- Installing: /content/caffe/install/python/classify.py\n",
            "-- Installing: /content/caffe/install/python/detect.py\n",
            "-- Installing: /content/caffe/install/python/draw_net.py\n",
            "-- Installing: /content/caffe/install/python/requirements.txt\n",
            "-- Installing: /content/caffe/install/python/train.py\n",
            "-- Up-to-date: /content/caffe/install/python/caffe\n",
            "-- Installing: /content/caffe/install/python/caffe/pycaffe.py\n",
            "-- Installing: /content/caffe/install/python/caffe/imagenet\n",
            "-- Installing: /content/caffe/install/python/caffe/imagenet/ilsvrc_2012_mean.npy\n",
            "-- Installing: /content/caffe/install/python/caffe/draw.py\n",
            "-- Installing: /content/caffe/install/python/caffe/coord_map.py\n",
            "-- Up-to-date: /content/caffe/install/python/caffe/proto\n",
            "-- Installing: /content/caffe/install/python/caffe/proto/__init__.py\n",
            "-- Installing: /content/caffe/install/python/caffe/proto/caffe_pb2.py\n",
            "-- Installing: /content/caffe/install/python/caffe/classifier.py\n",
            "-- Installing: /content/caffe/install/python/caffe/__init__.py\n",
            "-- Installing: /content/caffe/install/python/caffe/net_spec.py\n",
            "-- Installing: /content/caffe/install/python/caffe/detector.py\n",
            "-- Installing: /content/caffe/install/python/caffe/io.py\n",
            "-- Installing: /content/caffe/install/python/caffe/_caffe.so\n",
            "-- Set runtime path of \"/content/caffe/install/python/caffe/_caffe.so\" to \"/content/caffe/install/lib:/usr/lib/x86_64-linux-gnu/hdf5/serial:/usr/local/cuda/lib64\"\n"
          ],
          "name": "stdout"
        }
      ]
    },
    {
      "metadata": {
        "id": "IKJ3I1_bpyZ6",
        "colab_type": "code",
        "colab": {
          "base_uri": "https://localhost:8080/",
          "height": 34
        },
        "outputId": "6f89fa99-48fc-4ac6-e04c-c0d98835d3eb"
      },
      "cell_type": "code",
      "source": [
        "%cd .."
      ],
      "execution_count": 62,
      "outputs": [
        {
          "output_type": "stream",
          "text": [
            "/content/caffe\n"
          ],
          "name": "stdout"
        }
      ]
    },
    {
      "metadata": {
        "id": "bSkBmkAoxlHm",
        "colab_type": "code",
        "outputId": "00214c12-21ec-46e9-8f7a-32faab111756",
        "colab": {
          "base_uri": "https://localhost:8080/",
          "height": 1363
        }
      },
      "cell_type": "code",
      "source": [
        "#Caffeのコンパイル\n",
        "!make clean\n",
        "!mkdir build\n",
        "%cd build\n",
        "!cmake .."
      ],
      "execution_count": 63,
      "outputs": [
        {
          "output_type": "stream",
          "text": [
            "mkdir: cannot create directory ‘build’: File exists\n",
            "/content/caffe/build\n",
            "-- Boost version: 1.67.0\n",
            "-- Found the following Boost libraries:\n",
            "--   system\n",
            "--   thread\n",
            "--   filesystem\n",
            "-- Found gflags  (include: /usr/include, library: /usr/lib/x86_64-linux-gnu/libgflags.so)\n",
            "-- Found glog    (include: /usr/include, library: /usr/lib/x86_64-linux-gnu/libglog.so)\n",
            "-- Found PROTOBUF Compiler: /usr/bin/protoc\n",
            "-- HDF5: Using hdf5 compiler wrapper to determine C configuration\n",
            "-- HDF5: Using hdf5 compiler wrapper to determine CXX configuration\n",
            "-- Found lmdb    (include: /usr/include, library: /usr/lib/x86_64-linux-gnu/liblmdb.so)\n",
            "-- Found LevelDB (include: /usr/include, library: /usr/lib/x86_64-linux-gnu/libleveldb.so)\n",
            "-- Found Snappy  (include: /usr/include, library: /usr/lib/x86_64-linux-gnu/libsnappy.so)\n",
            "-- CUDA detected: 9.0\n",
            "-- Found cuDNN: ver. 7.4.1 found (include: /usr/include, library: /usr/lib/x86_64-linux-gnu/libcudnn.so)\n",
            "-- Added CUDA NVCC flags for: sm_37\n",
            "-- OpenCV found (/usr/share/OpenCV)\n",
            "-- Found Atlas (include: /usr/include/x86_64-linux-gnu library: /usr/lib/x86_64-linux-gnu/libatlas.so lapack: /usr/lib/x86_64-linux-gnu/liblapack.so\n",
            "-- NumPy ver. 1.14.6 found (include: /usr/local/lib/python2.7/dist-packages/numpy/core/include)\n",
            "-- Could NOT find Boost\n",
            "-- Could NOT find Doxygen (missing: DOXYGEN_EXECUTABLE) \n",
            "-- Python interface is disabled or not all required dependencies found. Building without it...\n",
            "-- \n",
            "-- ******************* Caffe Configuration Summary *******************\n",
            "-- General:\n",
            "--   Version           :   1.0.0\n",
            "--   Git               :   1.0-132-g99bd9979-dirty\n",
            "--   System            :   Linux\n",
            "--   C++ compiler      :   /usr/bin/c++\n",
            "--   Release CXX flags :   -O3 -DNDEBUG -fPIC -Wall -Wno-sign-compare -Wno-uninitialized\n",
            "--   Debug CXX flags   :   -g -fPIC -Wall -Wno-sign-compare -Wno-uninitialized\n",
            "--   Build type        :   Release\n",
            "-- \n",
            "--   BUILD_SHARED_LIBS :   ON\n",
            "--   BUILD_python      :   ON\n",
            "--   BUILD_matlab      :   OFF\n",
            "--   BUILD_docs        :   ON\n",
            "--   CPU_ONLY          :   OFF\n",
            "--   USE_OPENCV        :   ON\n",
            "--   USE_LEVELDB       :   ON\n",
            "--   USE_LMDB          :   ON\n",
            "--   USE_NCCL          :   OFF\n",
            "--   ALLOW_LMDB_NOLOCK :   OFF\n",
            "--   USE_HDF5          :   ON\n",
            "-- \n",
            "-- Dependencies:\n",
            "--   BLAS              :   Yes (Atlas)\n",
            "--   Boost             :   Yes (ver. 1.67)\n",
            "--   glog              :   Yes\n",
            "--   gflags            :   Yes\n",
            "--   protobuf          :   Yes (ver. 3.0.0)\n",
            "--   lmdb              :   Yes (ver. 0.9.21)\n",
            "--   LevelDB           :   Yes (ver. 1.20)\n",
            "--   Snappy            :   Yes (ver. ..)\n",
            "--   OpenCV            :   Yes (ver. 3.2.0)\n",
            "--   CUDA              :   Yes (ver. 9.0)\n",
            "-- \n",
            "-- NVIDIA CUDA:\n",
            "--   Target GPU(s)     :   Auto\n",
            "--   GPU arch(s)       :   sm_37\n",
            "--   cuDNN             :   Yes (ver. 7.4.1)\n",
            "-- \n",
            "-- Documentaion:\n",
            "--   Doxygen           :   No\n",
            "--   config_file       :   \n",
            "-- \n",
            "-- Install:\n",
            "--   Install path      :   /content/caffe/install\n",
            "-- \n",
            "-- Configuring done\n",
            "CMake Error at CMakeLists.txt:107 (add_dependencies):\n",
            "  The dependency target \"pycaffe\" of target \"pytest\" does not exist.\n",
            "\n",
            "\n",
            "-- Generating done\n",
            "-- Build files have been written to: /content/caffe\n"
          ],
          "name": "stdout"
        }
      ]
    },
    {
      "metadata": {
        "id": "j6tGktwk_2hW",
        "colab_type": "code",
        "outputId": "d0080266-7069-4c84-bff2-c6ae7e4b015b",
        "colab": {
          "base_uri": "https://localhost:8080/",
          "height": 748
        }
      },
      "cell_type": "code",
      "source": [
        "!pwd\n",
        "!ls -la"
      ],
      "execution_count": 20,
      "outputs": [
        {
          "output_type": "stream",
          "text": [
            "/content/caffe\n",
            "total 344\n",
            "drwxr-xr-x 20 root root   4096 Jan 17 08:12 .\n",
            "drwxr-xr-x  1 root root   4096 Jan 17 07:52 ..\n",
            "-rw-r--r--  1 root root   1180 Jan 17 07:52 caffe.cloc\n",
            "-rw-r--r--  1 root root   1734 Jan 17 07:52 CaffeConfig.cmake\n",
            "-rw-r--r--  1 root root    328 Jan 17 07:52 caffe_config.h\n",
            "-rw-r--r--  1 root root   4731 Jan 17 07:52 CaffeTargets.cmake\n",
            "drwxr-xr-x  5 root root   4096 Jan 17 08:12 cmake\n",
            "-rw-r--r--  1 root root  52661 Jan 17 07:54 CMakeCache.txt\n",
            "drwxr-xr-x 10 root root   4096 Jan 17 08:12 CMakeFiles\n",
            "-rw-r--r--  1 root root   3391 Jan 17 07:52 cmake_install.cmake\n",
            "-rw-r--r--  1 root root   4311 Jan 17 07:52 CMakeLists.txt\n",
            "-rw-r--r--  1 root root   5195 Jan 17 07:52 CONTRIBUTING.md\n",
            "-rw-r--r--  1 root root    620 Jan 17 07:52 CONTRIBUTORS.md\n",
            "drwxr-xr-x  5 root root   4096 Jan 17 07:52 data\n",
            "-rw-r--r--  1 root root    349 Jan 17 07:54 detect_cuda_archs.cu\n",
            "drwxr-xr-x  4 root root   4096 Jan 17 07:52 docker\n",
            "drwxr-xr-x  7 root root   4096 Jan 17 08:12 docs\n",
            "-rw-r--r--  1 root root 101863 Jan 17 07:52 .Doxyfile\n",
            "drwxr-xr-x 16 root root   4096 Jan 17 08:12 examples\n",
            "drwxr-xr-x  8 root root   4096 Jan 17 08:12 .git\n",
            "drwxr-xr-x  2 root root   4096 Jan 17 07:52 .github\n",
            "-rw-r--r--  1 root root   1179 Jan 17 07:52 .gitignore\n",
            "drwxr-xr-x  3 root root   4096 Jan 17 07:52 include\n",
            "-rw-r--r--  1 root root      0 Jan 17 08:12 __init__.py\n",
            "drwxr-xr-x  7 root root   4096 Jan 17 08:12 install\n",
            "-rw-r--r--  1 root root   8490 Jan 17 08:12 install_manifest.txt\n",
            "-rw-r--r--  1 root root    210 Jan 17 07:52 INSTALL.md\n",
            "drwxr-xr-x  2 root root   4096 Jan 17 08:12 lib\n",
            "-rw-r--r--  1 root root   2092 Jan 17 07:52 LICENSE\n",
            "-rw-r--r--  1 root root  16090 Jan 17 08:12 Makefile\n",
            "-rw-r--r--  1 root root   4951 Jan 17 07:52 Makefile.config\n",
            "-rw-r--r--  1 root root   4786 Jan 17 07:52 Makefile.config.example\n",
            "drwxr-xr-x  6 root root   4096 Jan 17 08:12 matlab\n",
            "drwxr-xr-x  7 root root   4096 Jan 17 07:52 models\n",
            "drwxr-xr-x  4 root root   4096 Jan 17 08:12 python\n",
            "-rw-r--r--  1 root root   2487 Jan 17 07:52 README.md\n",
            "drwxr-xr-x  3 root root   4096 Jan 17 07:52 scripts\n",
            "drwxr-xr-x  4 root root   4096 Jan 17 07:52 src\n",
            "drwxr-xr-x  2 root root   4096 Jan 17 07:52 test\n",
            "drwxr-xr-x  4 root root   4096 Jan 17 08:12 tools\n",
            "-rw-r--r--  1 root root   1938 Jan 17 07:52 .travis.yml\n"
          ],
          "name": "stdout"
        }
      ]
    },
    {
      "metadata": {
        "id": "S4JphuV3BoJo",
        "colab_type": "code",
        "colab": {
          "base_uri": "https://localhost:8080/",
          "height": 34
        },
        "outputId": "390cfd7f-2d96-4b8d-9607-4208adbf08b7"
      },
      "cell_type": "code",
      "source": [
        "%cd .."
      ],
      "execution_count": 47,
      "outputs": [
        {
          "output_type": "stream",
          "text": [
            "/content/caffe\n"
          ],
          "name": "stdout"
        }
      ]
    },
    {
      "metadata": {
        "id": "-20fMCbJQ9EF",
        "colab_type": "code",
        "colab": {
          "base_uri": "https://localhost:8080/",
          "height": 34
        },
        "outputId": "7ba19204-866c-42ce-92e6-d33fcfd6f99b"
      },
      "cell_type": "code",
      "source": [
        "!pwd\n",
        "#!make clean"
      ],
      "execution_count": 51,
      "outputs": [
        {
          "output_type": "stream",
          "text": [
            "/content/caffe\n"
          ],
          "name": "stdout"
        }
      ]
    },
    {
      "metadata": {
        "id": "jbIkTEnJl8N5",
        "colab_type": "code",
        "outputId": "9ef01da7-05a8-4504-a777-b165df688e3e",
        "colab": {
          "base_uri": "https://localhost:8080/",
          "height": 34
        }
      },
      "cell_type": "code",
      "source": [
        "#Caffeのビルド\n",
        "!make all -j $(($(nproc) + 1))"
      ],
      "execution_count": 57,
      "outputs": [
        {
          "output_type": "stream",
          "text": [
            "make: *** No rule to make target 'all'.  Stop.\n"
          ],
          "name": "stdout"
        }
      ]
    },
    {
      "metadata": {
        "id": "NcXk-uuVEoUl",
        "colab_type": "code",
        "colab": {}
      },
      "cell_type": "code",
      "source": [
        "!make install"
      ],
      "execution_count": 0,
      "outputs": []
    },
    {
      "metadata": {
        "id": "PhgmUJvwFeGR",
        "colab_type": "code",
        "outputId": "c0ed9415-ebbc-4837-89e8-ebc39caa7f9c",
        "colab": {
          "base_uri": "https://localhost:8080/",
          "height": 34
        }
      },
      "cell_type": "code",
      "source": [
        "!python -c 'from caffe2.python import core' 2>/dev/null && echo \"Success\" || echo \"Failure\""
      ],
      "execution_count": 18,
      "outputs": [
        {
          "output_type": "stream",
          "text": [
            "Failure\n"
          ],
          "name": "stdout"
        }
      ]
    },
    {
      "metadata": {
        "id": "-jO5cR0aEQ0-",
        "colab_type": "code",
        "colab": {}
      },
      "cell_type": "code",
      "source": [
        "#!make"
      ],
      "execution_count": 0,
      "outputs": []
    },
    {
      "metadata": {
        "id": "ZBC8RRfjlM_v",
        "colab_type": "code",
        "colab": {}
      },
      "cell_type": "code",
      "source": [
        "!make　　# 30分くらいで何事もなく終わった\n",
        "!cd build && sudo make install　# こっちも30分くらい？目を離して終わってたので正確にわからず。。\n",
        "!python -c 'from caffe2.python import core' 2>/dev/null && echo \"Success\" || echo \"Failure\""
      ],
      "execution_count": 0,
      "outputs": []
    },
    {
      "metadata": {
        "id": "A3LjbKK4yF7L",
        "colab_type": "code",
        "outputId": "04e48dd7-309f-4f32-a223-c3c6fa275ed4",
        "colab": {
          "base_uri": "https://localhost:8080/",
          "height": 156
        }
      },
      "cell_type": "code",
      "source": [
        "!gcc -v"
      ],
      "execution_count": 19,
      "outputs": [
        {
          "output_type": "stream",
          "text": [
            "Using built-in specs.\n",
            "COLLECT_GCC=gcc\n",
            "COLLECT_LTO_WRAPPER=/usr/lib/gcc/x86_64-linux-gnu/5/lto-wrapper\n",
            "Target: x86_64-linux-gnu\n",
            "Configured with: ../src/configure -v --with-pkgversion='Ubuntu 5.5.0-12ubuntu1' --with-bugurl=file:///usr/share/doc/gcc-5/README.Bugs --enable-languages=c,ada,c++,go,d,fortran,objc,obj-c++ --prefix=/usr --program-suffix=-5 --enable-shared --enable-linker-build-id --libexecdir=/usr/lib --without-included-gettext --enable-threads=posix --libdir=/usr/lib --enable-nls --with-sysroot=/ --enable-clocale=gnu --enable-libstdcxx-debug --enable-libstdcxx-time=yes --with-default-libstdcxx-abi=new --enable-gnu-unique-object --disable-vtable-verify --enable-libmpx --enable-plugin --enable-default-pie --with-system-zlib --enable-objc-gc --enable-multiarch --disable-werror --with-arch-32=i686 --with-abi=m64 --with-multilib-list=m32,m64,mx32 --enable-multilib --with-tune=generic --enable-checking=release --build=x86_64-linux-gnu --host=x86_64-linux-gnu --target=x86_64-linux-gnu\n",
            "Thread model: posix\n",
            "gcc version 5.5.0 20171010 (Ubuntu 5.5.0-12ubuntu1) \n"
          ],
          "name": "stdout"
        }
      ]
    },
    {
      "metadata": {
        "id": "w7n1-1hr_gBI",
        "colab_type": "code",
        "outputId": "d87abfa1-08b6-4e77-92a3-a216a12799c1",
        "colab": {
          "base_uri": "https://localhost:8080/",
          "height": 34
        }
      },
      "cell_type": "code",
      "source": [
        "%cd /content"
      ],
      "execution_count": 82,
      "outputs": [
        {
          "output_type": "stream",
          "text": [
            "/content\n"
          ],
          "name": "stdout"
        }
      ]
    },
    {
      "metadata": {
        "id": "k2cNnvDWGOBX",
        "colab_type": "code",
        "outputId": "f5404f61-1ef6-481f-9200-c6721b553087",
        "colab": {
          "base_uri": "https://localhost:8080/",
          "height": 136
        }
      },
      "cell_type": "code",
      "source": [
        "!git clone https://github.com/facebookresearch/densepose"
      ],
      "execution_count": 70,
      "outputs": [
        {
          "output_type": "stream",
          "text": [
            "Cloning into 'densepose'...\n",
            "remote: Enumerating objects: 36, done.\u001b[K\n",
            "remote: Counting objects:   2% (1/36)   \u001b[K\rremote: Counting objects:   5% (2/36)   \u001b[K\rremote: Counting objects:   8% (3/36)   \u001b[K\rremote: Counting objects:  11% (4/36)   \u001b[K\rremote: Counting objects:  13% (5/36)   \u001b[K\rremote: Counting objects:  16% (6/36)   \u001b[K\rremote: Counting objects:  19% (7/36)   \u001b[K\rremote: Counting objects:  22% (8/36)   \u001b[K\rremote: Counting objects:  25% (9/36)   \u001b[K\rremote: Counting objects:  27% (10/36)   \u001b[K\rremote: Counting objects:  30% (11/36)   \u001b[K\rremote: Counting objects:  33% (12/36)   \u001b[K\rremote: Counting objects:  36% (13/36)   \u001b[K\rremote: Counting objects:  38% (14/36)   \u001b[K\rremote: Counting objects:  41% (15/36)   \u001b[K\rremote: Counting objects:  44% (16/36)   \u001b[K\rremote: Counting objects:  47% (17/36)   \u001b[K\rremote: Counting objects:  50% (18/36)   \u001b[K\rremote: Counting objects:  52% (19/36)   \u001b[K\rremote: Counting objects:  55% (20/36)   \u001b[K\rremote: Counting objects:  58% (21/36)   \u001b[K\rremote: Counting objects:  61% (22/36)   \u001b[K\rremote: Counting objects:  63% (23/36)   \u001b[K\rremote: Counting objects:  66% (24/36)   \u001b[K\rremote: Counting objects:  69% (25/36)   \u001b[K\rremote: Counting objects:  72% (26/36)   \u001b[K\rremote: Counting objects:  75% (27/36)   \u001b[K\rremote: Counting objects:  77% (28/36)   \u001b[K\rremote: Counting objects:  80% (29/36)   \u001b[K\rremote: Counting objects:  83% (30/36)   \u001b[K\rremote: Counting objects:  86% (31/36)   \u001b[K\rremote: Counting objects:  88% (32/36)   \u001b[K\rremote: Counting objects:  91% (33/36)   \u001b[K\rremote: Counting objects:  94% (34/36)   \u001b[K\rremote: Counting objects:  97% (35/36)   \u001b[K\rremote: Counting objects: 100% (36/36)   \u001b[K\rremote: Counting objects: 100% (36/36), done.\u001b[K\n",
            "remote: Compressing objects: 100% (29/29), done.\u001b[K\n",
            "remote: Total 1251 (delta 13), reused 12 (delta 6), pack-reused 1215\u001b[K\n",
            "Receiving objects: 100% (1251/1251), 11.99 MiB | 23.79 MiB/s, done.\n",
            "Resolving deltas: 100% (775/775), done.\n"
          ],
          "name": "stdout"
        }
      ]
    },
    {
      "metadata": {
        "id": "ZPo3yGTzGmj_",
        "colab_type": "code",
        "outputId": "01c7720f-5579-434c-c4e0-96677f929fc2",
        "colab": {
          "base_uri": "https://localhost:8080/",
          "height": 530
        }
      },
      "cell_type": "code",
      "source": [
        "!pip install -r densepose/requirements.txt"
      ],
      "execution_count": 71,
      "outputs": [
        {
          "output_type": "stream",
          "text": [
            "Requirement already satisfied: numpy>=1.13 in /usr/local/lib/python2.7/dist-packages (from -r densepose/requirements.txt (line 1)) (1.14.6)\n",
            "Requirement already satisfied: pyyaml>=3.12 in /usr/local/lib/python2.7/dist-packages (from -r densepose/requirements.txt (line 2)) (3.13)\n",
            "Requirement already satisfied: matplotlib in /usr/local/lib/python2.7/dist-packages (from -r densepose/requirements.txt (line 3)) (2.2.3)\n",
            "Requirement already satisfied: opencv-python>=3.2 in /usr/local/lib/python2.7/dist-packages (from -r densepose/requirements.txt (line 4)) (3.4.5.20)\n",
            "Requirement already satisfied: setuptools in /usr/local/lib/python2.7/dist-packages (from -r densepose/requirements.txt (line 5)) (40.6.3)\n",
            "Requirement already satisfied: Cython in /usr/local/lib/python2.7/dist-packages (from -r densepose/requirements.txt (line 6)) (0.29.2)\n",
            "Requirement already satisfied: mock in /usr/local/lib/python2.7/dist-packages (from -r densepose/requirements.txt (line 7)) (2.0.0)\n",
            "Requirement already satisfied: scipy in /usr/local/lib/python2.7/dist-packages (from -r densepose/requirements.txt (line 8)) (1.1.0)\n",
            "Requirement already satisfied: h5py in /usr/local/lib/python2.7/dist-packages (from -r densepose/requirements.txt (line 9)) (2.8.0)\n",
            "Collecting memory_profiler (from -r densepose/requirements.txt (line 10))\n",
            "\u001b[?25l  Downloading https://files.pythonhosted.org/packages/9f/fe/1fca7273dd111108f204a686b12a12b6422d405fe4614087aa7d5a66ea87/memory_profiler-0.55.0.tar.gz (40kB)\n",
            "\u001b[K    100% |████████████████████████████████| 40kB 3.5MB/s \n",
            "\u001b[?25hRequirement already satisfied: cycler>=0.10 in /usr/local/lib/python2.7/dist-packages (from matplotlib->-r densepose/requirements.txt (line 3)) (0.10.0)\n",
            "Requirement already satisfied: backports.functools-lru-cache in /usr/local/lib/python2.7/dist-packages (from matplotlib->-r densepose/requirements.txt (line 3)) (1.5)\n",
            "Requirement already satisfied: subprocess32 in /usr/local/lib/python2.7/dist-packages (from matplotlib->-r densepose/requirements.txt (line 3)) (3.5.3)\n",
            "Requirement already satisfied: kiwisolver>=1.0.1 in /usr/local/lib/python2.7/dist-packages (from matplotlib->-r densepose/requirements.txt (line 3)) (1.0.1)\n",
            "Requirement already satisfied: pytz in /usr/local/lib/python2.7/dist-packages (from matplotlib->-r densepose/requirements.txt (line 3)) (2018.9)\n",
            "Requirement already satisfied: six>=1.10 in /usr/local/lib/python2.7/dist-packages (from matplotlib->-r densepose/requirements.txt (line 3)) (1.11.0)\n",
            "Requirement already satisfied: python-dateutil>=2.1 in /usr/local/lib/python2.7/dist-packages (from matplotlib->-r densepose/requirements.txt (line 3)) (2.5.3)\n",
            "Requirement already satisfied: pyparsing!=2.0.4,!=2.1.2,!=2.1.6,>=2.0.1 in /usr/local/lib/python2.7/dist-packages (from matplotlib->-r densepose/requirements.txt (line 3)) (2.3.1)\n",
            "Requirement already satisfied: funcsigs>=1; python_version < \"3.3\" in /usr/local/lib/python2.7/dist-packages (from mock->-r densepose/requirements.txt (line 7)) (1.0.2)\n",
            "Requirement already satisfied: pbr>=0.11 in /usr/local/lib/python2.7/dist-packages (from mock->-r densepose/requirements.txt (line 7)) (5.1.1)\n",
            "Requirement already satisfied: psutil in /usr/local/lib/python2.7/dist-packages (from memory_profiler->-r densepose/requirements.txt (line 10)) (5.4.8)\n",
            "Building wheels for collected packages: memory-profiler\n",
            "  Running setup.py bdist_wheel for memory-profiler ... \u001b[?25l-\b \bdone\n",
            "\u001b[?25h  Stored in directory: /root/.cache/pip/wheels/f0/ff/63/fdbff3f1e1b76ad4eae491dd5b190902906b093e93eb86dd5a\n",
            "Successfully built memory-profiler\n",
            "Installing collected packages: memory-profiler\n",
            "Successfully installed memory-profiler-0.55.0\n"
          ],
          "name": "stdout"
        }
      ]
    },
    {
      "metadata": {
        "id": "z7ojO0pNGw-p",
        "colab_type": "code",
        "outputId": "5df741fe-015d-4e47-b161-890371049b05",
        "colab": {
          "base_uri": "https://localhost:8080/",
          "height": 34
        }
      },
      "cell_type": "code",
      "source": [
        "%cd /content/densepose"
      ],
      "execution_count": 86,
      "outputs": [
        {
          "output_type": "stream",
          "text": [
            "/content/densepose\n"
          ],
          "name": "stdout"
        }
      ]
    },
    {
      "metadata": {
        "id": "uvfLmHDjG5c2",
        "colab_type": "code",
        "outputId": "341f6caf-debe-4ddd-8b26-4155a33c2411",
        "colab": {
          "base_uri": "https://localhost:8080/",
          "height": 306
        }
      },
      "cell_type": "code",
      "source": [
        "!make"
      ],
      "execution_count": 94,
      "outputs": [
        {
          "output_type": "stream",
          "text": [
            "python2 setup.py develop --user\n",
            "running develop\n",
            "running egg_info\n",
            "writing Detectron.egg-info/PKG-INFO\n",
            "writing top-level names to Detectron.egg-info/top_level.txt\n",
            "writing dependency_links to Detectron.egg-info/dependency_links.txt\n",
            "writing manifest file 'Detectron.egg-info/SOURCES.txt'\n",
            "running build_ext\n",
            "copying build/lib.linux-x86_64-2.7/detectron/utils/cython_bbox.so -> detectron/utils\n",
            "copying build/lib.linux-x86_64-2.7/detectron/utils/cython_nms.so -> detectron/utils\n",
            "Creating /root/.local/lib/python2.7/site-packages/Detectron.egg-link (link to .)\n",
            "Removing Detectron 0.0.0 from easy-install.pth file\n",
            "Adding Detectron 0.0.0 to easy-install.pth file\n",
            "\n",
            "Installed /content/densepose\n",
            "Processing dependencies for Detectron==0.0.0\n",
            "Finished processing dependencies for Detectron==0.0.0\n"
          ],
          "name": "stdout"
        }
      ]
    },
    {
      "metadata": {
        "id": "2Cbbu0N6dLgv",
        "colab_type": "code",
        "colab": {}
      },
      "cell_type": "code",
      "source": [
        "#!cp /content/detectron/build/lib.linux-x86_64-2.7/detectron/utils/cython_bbox.so /content/densepose/build/lib.linux-x86_64-2.7/detectron/utils/cython_bbox.so\n",
        "#!cp /content/detectron/build/lib.linux-x86_64-2.7/detectron/utils/cython_nms.so /content/densepose/build/lib.linux-x86_64-2.7/detectron/utils/cython_nms.so\n",
        "#!cp /content/detectron/build/lib.linux-x86_64-2.7/detectron/utils/*.so /content/densepose/detectron/utils/"
      ],
      "execution_count": 0,
      "outputs": []
    },
    {
      "metadata": {
        "id": "WsFaKl7ueNQg",
        "colab_type": "code",
        "colab": {}
      },
      "cell_type": "code",
      "source": [
        "!cp /usr/local/lib/python2.7/dist-packages/torch/lib/libcaffe2_detectron_ops_gpu.so /content/libcaffe2_detectron_ops_gpu.so"
      ],
      "execution_count": 0,
      "outputs": []
    },
    {
      "metadata": {
        "id": "0GoPF0wTdddY",
        "colab_type": "code",
        "colab": {
          "base_uri": "https://localhost:8080/",
          "height": 85
        },
        "outputId": "1e1fdb54-02c2-4bc4-df33-be74b35a4295"
      },
      "cell_type": "code",
      "source": [
        "!pip uninstall detectron"
      ],
      "execution_count": 84,
      "outputs": [
        {
          "output_type": "stream",
          "text": [
            "Uninstalling Detectron-0.0.0:\n",
            "  Would remove:\n",
            "    /root/.local/lib/python2.7/site-packages/Detectron.egg-link\n",
            "Proceed (y/n)? n\n"
          ],
          "name": "stdout"
        }
      ]
    },
    {
      "metadata": {
        "id": "OkqR4ocRepz_",
        "colab_type": "code",
        "colab": {}
      },
      "cell_type": "code",
      "source": [
        "#!cp /content/libcaffe2_detectron_ops_gpu.so /usr/local/lib/python2.7/dist-packages/torch/lib/libcaffe2_detectron_ops_gpu.so "
      ],
      "execution_count": 0,
      "outputs": []
    },
    {
      "metadata": {
        "id": "PjKgNkzna9V4",
        "colab_type": "code",
        "colab": {}
      },
      "cell_type": "code",
      "source": [
        "ls /usr/local/lib/python2.7/dist-packages/"
      ],
      "execution_count": 0,
      "outputs": []
    },
    {
      "metadata": {
        "id": "FDAJzPLofHac",
        "colab_type": "code",
        "outputId": "ab54b25b-7f67-45e9-c0eb-811085c99078",
        "colab": {
          "base_uri": "https://localhost:8080/",
          "height": 34
        }
      },
      "cell_type": "code",
      "source": [
        "!ls /usr/local/lib/libcaffe*"
      ],
      "execution_count": 75,
      "outputs": [
        {
          "output_type": "stream",
          "text": [
            "ls: cannot access '/usr/local/lib/libcaffe*': No such file or directory\n"
          ],
          "name": "stdout"
        }
      ]
    },
    {
      "metadata": {
        "id": "lpfhDRmXkC1y",
        "colab_type": "code",
        "outputId": "5f1c9744-bb81-481f-84ec-8cb9f7cb9916",
        "colab": {
          "base_uri": "https://localhost:8080/",
          "height": 238
        }
      },
      "cell_type": "code",
      "source": [
        "!ls /usr/local/lib/python2.7/dist-packages/torch/lib/"
      ],
      "execution_count": 0,
      "outputs": [
        {
          "output_type": "stream",
          "text": [
            "include\t\t\t\t  libnvrtc-007d19c9.so.9.0\n",
            "libc10_cuda.so\t\t\t  libnvrtc-builtins.so\n",
            "libc10.so\t\t\t  libnvToolsExt-3965bdd0.so.1\n",
            "libcaffe2_detectron_ops_gpu.so\t  libonnxifi_dummy.so\n",
            "libcaffe2_gpu.so\t\t  libonnxifi.so\n",
            "libcaffe2_module_test_dynamic.so  libshm.so\n",
            "libcaffe2_observers.so\t\t  libtorch_python.so\n",
            "libcaffe2.so\t\t\t  libtorch.so\n",
            "libcudart-f7fdd8d7.so.9.0\t  libtorch.so.1\n",
            "libgomp-7bcb08ae.so.1\t\t  THCUNN.h\n",
            "libmkldnn.so\t\t\t  THNN.h\n",
            "libmkldnn.so.0\t\t\t  torch_shm_manager\n",
            "libmkldnn.so.0.14.0\n"
          ],
          "name": "stdout"
        }
      ]
    },
    {
      "metadata": {
        "id": "6vvFxrlsjPLK",
        "colab_type": "code",
        "colab": {}
      },
      "cell_type": "code",
      "source": [
        "!cp /content/libcaffe2_detectron_ops_gpu.so  /usr/local/lib/python2.7/dist-packages/caffe2/"
      ],
      "execution_count": 0,
      "outputs": []
    },
    {
      "metadata": {
        "id": "50MMjsdpj7rl",
        "colab_type": "code",
        "colab": {}
      },
      "cell_type": "code",
      "source": [
        "#結局これ（Detectronをインストール→.soをバックアップ->/usr/local/lib）\n",
        "!cp /content/libcaffe2_detectron_ops_gpu.so  /usr/local/lib/"
      ],
      "execution_count": 0,
      "outputs": []
    },
    {
      "metadata": {
        "id": "LaE2kBM9G7uc",
        "colab_type": "code",
        "outputId": "5f921b99-67ff-4e77-c164-1a5db1b7b306",
        "colab": {
          "base_uri": "https://localhost:8080/",
          "height": 170
        }
      },
      "cell_type": "code",
      "source": [
        "!python ./detectron/tests/test_spatial_narrow_as_op.py"
      ],
      "execution_count": 95,
      "outputs": [
        {
          "output_type": "stream",
          "text": [
            "[E init_intrinsics_check.cc:43] CPU feature avx is present on your machine, but the Caffe2 binary is not compiled with it. It means you may not get the full speed of your CPU.\n",
            "[E init_intrinsics_check.cc:43] CPU feature avx2 is present on your machine, but the Caffe2 binary is not compiled with it. It means you may not get the full speed of your CPU.\n",
            "[E init_intrinsics_check.cc:43] CPU feature fma is present on your machine, but the Caffe2 binary is not compiled with it. It means you may not get the full speed of your CPU.\n",
            "Found Detectron ops lib: /usr/local/lib/libcaffe2_detectron_ops_gpu.so\n",
            "...\n",
            "----------------------------------------------------------------------\n",
            "Ran 3 tests in 3.845s\n",
            "\n",
            "OK\n"
          ],
          "name": "stdout"
        }
      ]
    },
    {
      "metadata": {
        "id": "9ryRPg-xYApz",
        "colab_type": "code",
        "outputId": "06783b2f-6f5a-42b9-c7a1-3fce2f4e979d",
        "colab": {
          "base_uri": "https://localhost:8080/",
          "height": 34
        }
      },
      "cell_type": "code",
      "source": [
        "!ls /content/densepose/build/lib.linux-x86_64-2.7/detectron/utils"
      ],
      "execution_count": 0,
      "outputs": [
        {
          "output_type": "stream",
          "text": [
            "cython_bbox.so\tcython_nms.so\n"
          ],
          "name": "stdout"
        }
      ]
    },
    {
      "metadata": {
        "id": "tEKoDNMhHIYt",
        "colab_type": "code",
        "outputId": "0b2e970d-15c7-4566-93bd-ca4e90134a87",
        "colab": {
          "base_uri": "https://localhost:8080/",
          "height": 34
        }
      },
      "cell_type": "code",
      "source": [
        "!python -c 'from caffe2.python import core' 2>/dev/null && echo \"Success\" || echo \"Failure\""
      ],
      "execution_count": 0,
      "outputs": [
        {
          "output_type": "stream",
          "text": [
            "Success\n"
          ],
          "name": "stdout"
        }
      ]
    },
    {
      "metadata": {
        "id": "cjM6WtWOHXkG",
        "colab_type": "code",
        "outputId": "8198362b-14cd-4daf-ecea-85318f2ea12f",
        "colab": {
          "base_uri": "https://localhost:8080/",
          "height": 34
        }
      },
      "cell_type": "code",
      "source": [
        "%cd ./DensePoseData"
      ],
      "execution_count": 89,
      "outputs": [
        {
          "output_type": "stream",
          "text": [
            "/content/densepose/DensePoseData\n"
          ],
          "name": "stdout"
        }
      ]
    },
    {
      "metadata": {
        "id": "3Hw6NJt1H4LL",
        "colab_type": "code",
        "outputId": "981b53d4-74b2-443f-c06b-55584ba192ea",
        "colab": {
          "base_uri": "https://localhost:8080/",
          "height": 238
        }
      },
      "cell_type": "code",
      "source": [
        "!bash get_densepose_uv.sh"
      ],
      "execution_count": 90,
      "outputs": [
        {
          "output_type": "stream",
          "text": [
            "--2019-01-17 01:40:08--  https://dl.fbaipublicfiles.com/densepose/densepose_uv_data.tar.gz\n",
            "Resolving dl.fbaipublicfiles.com (dl.fbaipublicfiles.com)... 104.20.22.166, 104.20.6.166, 2606:4700:10::6814:6a6, ...\n",
            "Connecting to dl.fbaipublicfiles.com (dl.fbaipublicfiles.com)|104.20.22.166|:443... connected.\n",
            "HTTP request sent, awaiting response... 200 OK\n",
            "Length: 22743040 (22M) [application/x-tar]\n",
            "Saving to: ‘densepose_uv_data.tar.gz’\n",
            "\n",
            "densepose_uv_data.t 100%[===================>]  21.69M  --.-KB/s    in 0.1s    \n",
            "\n",
            "2019-01-17 01:40:09 (148 MB/s) - ‘densepose_uv_data.tar.gz’ saved [22743040/22743040]\n",
            "\n",
            "UV_Processed.mat\n",
            "UV_symmetry_transforms.mat\n"
          ],
          "name": "stdout"
        }
      ]
    },
    {
      "metadata": {
        "id": "iSqplNTWH8q0",
        "colab_type": "code",
        "outputId": "6c78d799-9104-4869-b0ee-6b7439ee7ae0",
        "colab": {
          "base_uri": "https://localhost:8080/",
          "height": 255
        }
      },
      "cell_type": "code",
      "source": [
        "!bash get_eval_data.sh"
      ],
      "execution_count": 91,
      "outputs": [
        {
          "output_type": "stream",
          "text": [
            "--2019-01-17 01:40:14--  https://dl.fbaipublicfiles.com/densepose/densepose_eval_data.tar.gz\n",
            "Resolving dl.fbaipublicfiles.com (dl.fbaipublicfiles.com)... 104.20.22.166, 104.20.6.166, 2606:4700:10::6814:6a6, ...\n",
            "Connecting to dl.fbaipublicfiles.com (dl.fbaipublicfiles.com)|104.20.22.166|:443... connected.\n",
            "HTTP request sent, awaiting response... 200 OK\n",
            "Length: 1336166400 (1.2G) [application/x-tar]\n",
            "Saving to: ‘densepose_eval_data.tar.gz’\n",
            "\n",
            "densepose_eval_data 100%[===================>]   1.24G  37.8MB/s    in 35s     \n",
            "\n",
            "2019-01-17 01:40:49 (36.3 MB/s) - ‘densepose_eval_data.tar.gz’ saved [1336166400/1336166400]\n",
            "\n",
            "Pdist_matrix.mat\n",
            "SMPL_subdiv.mat\n",
            "SMPL_SUBDIV_TRANSFORM.mat\n"
          ],
          "name": "stdout"
        }
      ]
    },
    {
      "metadata": {
        "id": "UrOMZYL9IB7M",
        "colab_type": "code",
        "outputId": "4143ebf1-28b3-4e32-b992-24ecb5316df1",
        "colab": {
          "base_uri": "https://localhost:8080/",
          "height": 34
        }
      },
      "cell_type": "code",
      "source": [
        "!pwd"
      ],
      "execution_count": 0,
      "outputs": [
        {
          "output_type": "stream",
          "text": [
            "/content/detectron\n"
          ],
          "name": "stdout"
        }
      ]
    },
    {
      "metadata": {
        "id": "KurzIVJ7IlTY",
        "colab_type": "code",
        "outputId": "ed8c20b9-a38b-4122-ee60-a3ba4093fd9c",
        "colab": {
          "base_uri": "https://localhost:8080/",
          "height": 34
        }
      },
      "cell_type": "code",
      "source": [
        "%cd /content/densepose"
      ],
      "execution_count": 92,
      "outputs": [
        {
          "output_type": "stream",
          "text": [
            "/content/densepose\n"
          ],
          "name": "stdout"
        }
      ]
    },
    {
      "metadata": {
        "id": "b9biCK7eIny5",
        "colab_type": "code",
        "outputId": "f72e3953-9779-4325-a32b-965b5c31ca00",
        "colab": {
          "base_uri": "https://localhost:8080/",
          "height": 411
        }
      },
      "cell_type": "code",
      "source": [
        "!python tools/infer_simple.py \\\n",
        "    --cfg configs/DensePose_ResNet101_FPN_s1x-e2e.yaml \\\n",
        "    --output-dir DensePoseData/infer_out/ \\\n",
        "    --image-ext jpg \\\n",
        "    --wts https://s3.amazonaws.com/densepose/DensePose_ResNet101_FPN_s1x-e2e.pkl \\\n",
        "    DensePoseData/demo_data/demo_im.jpg"
      ],
      "execution_count": 96,
      "outputs": [
        {
          "output_type": "stream",
          "text": [
            "Found Detectron ops lib: /usr/local/lib/libcaffe2_detectron_ops_gpu.so\n",
            "[E init_intrinsics_check.cc:43] CPU feature avx is present on your machine, but the Caffe2 binary is not compiled with it. It means you may not get the full speed of your CPU.\n",
            "[E init_intrinsics_check.cc:43] CPU feature avx2 is present on your machine, but the Caffe2 binary is not compiled with it. It means you may not get the full speed of your CPU.\n",
            "[E init_intrinsics_check.cc:43] CPU feature fma is present on your machine, but the Caffe2 binary is not compiled with it. It means you may not get the full speed of your CPU.\n",
            "INFO io.py:  57: Downloading remote file https://s3.amazonaws.com/densepose/DensePose_ResNet101_FPN_s1x-e2e.pkl to /tmp/detectron-download-cache/DensePose_ResNet101_FPN_s1x-e2e.pkl\n",
            "  [============================================================] 100.0% of 607.9MB file  \n",
            "WARNING cnn.py:  25: [====DEPRECATE WARNING====]: you are creating an object from CNNModelHelper class which will be deprecated soon. Please use ModelHelper object with brew module. For more information, please refer to caffe2.ai and python/brew.py, python/brew_test.py for more information.\n",
            "INFO net.py:  51: Loading weights from: /tmp/detectron-download-cache/DensePose_ResNet101_FPN_s1x-e2e.pkl\n",
            "[I net_dag_utils.cc:102] Operator graph pruning prior to chain compute took: 0.000141213 secs\n",
            "[I net_dag_utils.cc:102] Operator graph pruning prior to chain compute took: 0.000116016 secs\n",
            "[I net_dag_utils.cc:102] Operator graph pruning prior to chain compute took: 1.0631e-05 secs\n",
            "INFO infer_simple.py: 103: Processing DensePoseData/demo_data/demo_im.jpg -> DensePoseData/infer_out/demo_im.jpg.pdf\n",
            "[I net_async_base.h:211] Using specified CPU pool size: 4; device id: -1\n",
            "[I net_async_base.h:216] Created new CPU pool, size: 4; device id: -1\n",
            "[I net_async_base.h:211] Using specified CPU pool size: 4; device id: -1\n",
            "[I net_async_base.h:216] Created new CPU pool, size: 4; device id: -1\n",
            "INFO infer_simple.py: 111: Inference time: 0.871s\n",
            "INFO infer_simple.py: 113:  | im_detect_bbox: 0.634s\n",
            "INFO infer_simple.py: 113:  | im_detect_body_uv: 0.237s\n",
            "INFO infer_simple.py: 113:  | misc_bbox: 0.000s\n",
            "INFO infer_simple.py: 116:  \\ Note: inference on the first image will be slower than the rest (caches and auto-tuning need to warm up)\n",
            "IUV written to:  DensePoseData/infer_out/demo_im_IUV.png\n"
          ],
          "name": "stdout"
        }
      ]
    },
    {
      "metadata": {
        "id": "IvSK0np6erci",
        "colab_type": "code",
        "colab": {
          "base_uri": "https://localhost:8080/",
          "height": 617
        },
        "outputId": "4de02411-66df-49ac-ae3c-10db69d238aa"
      },
      "cell_type": "code",
      "source": [
        "from IPython.display import Image,display_png\n",
        "display_png(Image('DensePoseData/infer_out/demo_im_IUV.png'))"
      ],
      "execution_count": 98,
      "outputs": [
        {
          "output_type": "display_data",
          "data": {
            "image/png": "[encoded data removed]"
          },
          "metadata": {
            "tags": []
          }
        }
      ]
    },
    {
      "metadata": {
        "id": "cXKRdOwnTuxZ",
        "colab_type": "code",
        "outputId": "9a88fb34-6265-4325-ac5f-a6d9d073a076",
        "colab": {
          "base_uri": "https://localhost:8080/",
          "height": 34
        }
      },
      "cell_type": "code",
      "source": [
        "!pwd"
      ],
      "execution_count": 0,
      "outputs": [
        {
          "output_type": "stream",
          "text": [
            "/content/densepose\n"
          ],
          "name": "stdout"
        }
      ]
    },
    {
      "metadata": {
        "id": "0t2c8v2JIrkL",
        "colab_type": "code",
        "outputId": "1cae68c4-0b2d-4864-a8b6-bec58f2481e4",
        "colab": {
          "base_uri": "https://localhost:8080/",
          "height": 391
        }
      },
      "cell_type": "code",
      "source": [
        "!make ops"
      ],
      "execution_count": 0,
      "outputs": [
        {
          "output_type": "stream",
          "text": [
            "mkdir -p build && cd build && cmake .. && make -j2\n",
            "CMake Error at CMakeLists.txt:8 (find_package):\n",
            "  By not providing \"FindCaffe2.cmake\" in CMAKE_MODULE_PATH this project has\n",
            "  asked CMake to find a package configuration file provided by \"Caffe2\", but\n",
            "  CMake did not find one.\n",
            "\n",
            "  Could not find a package configuration file provided by \"Caffe2\" with any\n",
            "  of the following names:\n",
            "\n",
            "    Caffe2Config.cmake\n",
            "    caffe2-config.cmake\n",
            "\n",
            "  Add the installation prefix of \"Caffe2\" to CMAKE_PREFIX_PATH or set\n",
            "  \"Caffe2_DIR\" to a directory containing one of the above files.  If \"Caffe2\"\n",
            "  provides a separate development package or SDK, be sure it has been\n",
            "  installed.\n",
            "\n",
            "\n",
            "-- Configuring incomplete, errors occurred!\n",
            "See also \"/content/densepose/build/CMakeFiles/CMakeOutput.log\".\n",
            "Makefile:13: recipe for target 'ops' failed\n",
            "make: *** [ops] Error 1\n"
          ],
          "name": "stdout"
        }
      ]
    },
    {
      "metadata": {
        "id": "kdHUD8TDJLYO",
        "colab_type": "code",
        "outputId": "5a963e61-1115-48c0-d545-3e025e678a1b",
        "colab": {
          "base_uri": "https://localhost:8080/",
          "height": 34
        }
      },
      "cell_type": "code",
      "source": [
        "!python2 -c 'from caffe2.python import workspace; print(workspace.NumCudaDevices())'"
      ],
      "execution_count": 0,
      "outputs": [
        {
          "output_type": "stream",
          "text": [
            "1\n"
          ],
          "name": "stdout"
        }
      ]
    },
    {
      "metadata": {
        "id": "dXKv1sGjJZIP",
        "colab_type": "code",
        "outputId": "e315e32f-cd98-4cd0-c417-f8c7f3f82fe3",
        "colab": {
          "base_uri": "https://localhost:8080/",
          "height": 204
        }
      },
      "cell_type": "code",
      "source": [
        "!python2 ./detectron/tests/test_spatial_narrow_as_op.py"
      ],
      "execution_count": 0,
      "outputs": [
        {
          "output_type": "stream",
          "text": [
            "[E init_intrinsics_check.cc:43] CPU feature avx is present on your machine, but the Caffe2 binary is not compiled with it. It means you may not get the full speed of your CPU.\n",
            "[E init_intrinsics_check.cc:43] CPU feature avx2 is present on your machine, but the Caffe2 binary is not compiled with it. It means you may not get the full speed of your CPU.\n",
            "[E init_intrinsics_check.cc:43] CPU feature fma is present on your machine, but the Caffe2 binary is not compiled with it. It means you may not get the full speed of your CPU.\n",
            "Traceback (most recent call last):\n",
            "  File \"./detectron/tests/test_spatial_narrow_as_op.py\", line 80, in <module>\n",
            "    c2_utils.import_detectron_ops()\n",
            "  File \"/content/densepose/detectron/utils/c2.py\", line 33, in import_detectron_ops\n",
            "    detectron_ops_lib = envu.get_detectron_ops_lib()\n",
            "  File \"/content/densepose/detectron/utils/env.py\", line 63, in get_detectron_ops_lib\n",
            "    ('Detectron ops lib not found; make sure that your Caffe2 '\n",
            "AssertionError: Detectron ops lib not found; make sure that your Caffe2 version includes Detectron module\n"
          ],
          "name": "stdout"
        }
      ]
    },
    {
      "metadata": {
        "id": "Cq9xIRz0JplU",
        "colab_type": "code",
        "outputId": "e7512d13-e2b9-4efc-9b28-1a95d689c16b",
        "colab": {
          "base_uri": "https://localhost:8080/",
          "height": 612
        }
      },
      "cell_type": "code",
      "source": [
        "!printenv"
      ],
      "execution_count": 0,
      "outputs": [
        {
          "output_type": "stream",
          "text": [
            "CUDNN_VERSION=7.4.1.5\n",
            "__EGL_VENDOR_LIBRARY_DIRS=/usr/lib64-nvidia:/usr/share/glvnd/egl_vendor.d/\n",
            "LD_LIBRARY_PATH=/usr/lib64-nvidia\n",
            "_=/usr/bin/printenv\n",
            "LANG=en_US.UTF-8\n",
            "HOSTNAME=fb66eb90a800\n",
            "OLDPWD=/\n",
            "CLOUDSDK_CONFIG=/content/.config\n",
            "NVIDIA_VISIBLE_DEVICES=all\n",
            "DATALAB_SETTINGS_OVERRIDES={\"kernelManagerProxyPort\":6000,\"kernelManagerProxyHost\":\"172.28.0.3\",\"jupyterArgs\":[\"--ip=\\\"172.28.0.2\\\"\"]}\n",
            "ENV=/root/.bashrc\n",
            "PAGER=cat\n",
            "NCCL_VERSION=2.3.7\n",
            "TF_FORCE_GPU_ALLOW_GROWTH=true\n",
            "JPY_PARENT_PID=38\n",
            "PWD=/content/densepose\n",
            "HOME=/root\n",
            "CLICOLOR=1\n",
            "DEBIAN_FRONTEND=noninteractive\n",
            "COLAB_USE_SEABORN_STYLE=1\n",
            "GLIBCPP_FORCE_NEW=1\n",
            "TERM=xterm-color\n",
            "SHELL=/bin/bash\n",
            "MPLBACKEND=module://ipykernel.pylab.backend_inline\n",
            "CUDA_PKG_VERSION=9-2=9.2.148-1\n",
            "CUDA_VERSION=9.2.148\n",
            "NVIDIA_DRIVER_CAPABILITIES=compute,utility\n",
            "SHLVL=2\n",
            "PYTHONPATH=/env/python\n",
            "NVIDIA_REQUIRE_CUDA=cuda>=9.2\n",
            "COLAB_GPU=1\n",
            "GLIBCXX_FORCE_NEW=1\n",
            "PATH=/usr/local/bin:/usr/local/nvidia/bin:/usr/local/cuda/bin:/usr/local/sbin:/usr/local/bin:/usr/sbin:/usr/bin:/sbin:/bin:/tools/node/bin:/tools/google-cloud-sdk/bin:/opt/bin\n",
            "LD_PRELOAD=/usr/lib/x86_64-linux-gnu/libtcmalloc.so.4\n",
            "GIT_PAGER=cat\n"
          ],
          "name": "stdout"
        }
      ]
    },
    {
      "metadata": {
        "id": "WPKjT70oJ8hr",
        "colab_type": "code",
        "outputId": "47ae4635-f0d3-4f4d-fd91-fa429df8aa11",
        "colab": {
          "base_uri": "https://localhost:8080/",
          "height": 51
        }
      },
      "cell_type": "code",
      "source": [
        "%env PYTHONPATH=/env/python:/content/caffe/build\n",
        "%env LD_LIBRARY_PATH=/usr/local/lib:/usr/lib64-nvidia"
      ],
      "execution_count": 0,
      "outputs": [
        {
          "output_type": "stream",
          "text": [
            "env: PYTHONPATH=/env/python:/content/caffe/build\n",
            "env: LD_LIBRARY_PATH=/usr/local/lib:/usr/lib64-nvidia\n"
          ],
          "name": "stdout"
        }
      ]
    },
    {
      "metadata": {
        "id": "r10sEgeIMukW",
        "colab_type": "code",
        "outputId": "e68e1f28-e097-40ee-fecc-66906b74844e",
        "colab": {
          "base_uri": "https://localhost:8080/",
          "height": 34
        }
      },
      "cell_type": "code",
      "source": [
        "%env Caffe2_DIR=/content/caffe/"
      ],
      "execution_count": 0,
      "outputs": [
        {
          "output_type": "stream",
          "text": [
            "env: Caffe2_DIR=/content/caffe/\n"
          ],
          "name": "stdout"
        }
      ]
    },
    {
      "metadata": {
        "id": "vBSSMiGYKKXS",
        "colab_type": "code",
        "outputId": "8057a634-656a-4689-ab0b-9a65a1e14e79",
        "colab": {
          "base_uri": "https://localhost:8080/",
          "height": 629
        }
      },
      "cell_type": "code",
      "source": [
        "!printenv"
      ],
      "execution_count": 0,
      "outputs": [
        {
          "output_type": "stream",
          "text": [
            "CUDNN_VERSION=7.4.1.5\n",
            "__EGL_VENDOR_LIBRARY_DIRS=/usr/lib64-nvidia:/usr/share/glvnd/egl_vendor.d/\n",
            "LD_LIBRARY_PATH=/usr/local/lib:$LD_LIBRARY_PATH\n",
            "_=/usr/bin/printenv\n",
            "LANG=en_US.UTF-8\n",
            "HOSTNAME=fb66eb90a800\n",
            "OLDPWD=/\n",
            "CLOUDSDK_CONFIG=/content/.config\n",
            "Caffe2_DIR=/content/caffe/\n",
            "NVIDIA_VISIBLE_DEVICES=all\n",
            "DATALAB_SETTINGS_OVERRIDES={\"kernelManagerProxyPort\":6000,\"kernelManagerProxyHost\":\"172.28.0.3\",\"jupyterArgs\":[\"--ip=\\\"172.28.0.2\\\"\"]}\n",
            "ENV=/root/.bashrc\n",
            "PAGER=cat\n",
            "NCCL_VERSION=2.3.7\n",
            "TF_FORCE_GPU_ALLOW_GROWTH=true\n",
            "JPY_PARENT_PID=38\n",
            "PWD=/content/detectron\n",
            "HOME=/root\n",
            "CLICOLOR=1\n",
            "DEBIAN_FRONTEND=noninteractive\n",
            "COLAB_USE_SEABORN_STYLE=1\n",
            "GLIBCPP_FORCE_NEW=1\n",
            "TERM=xterm-color\n",
            "SHELL=/bin/bash\n",
            "MPLBACKEND=module://ipykernel.pylab.backend_inline\n",
            "CUDA_PKG_VERSION=9-2=9.2.148-1\n",
            "CUDA_VERSION=9.2.148\n",
            "NVIDIA_DRIVER_CAPABILITIES=compute,utility\n",
            "SHLVL=2\n",
            "PYTHONPATH=$PYTHONPATH:/content/caffe/build\n",
            "NVIDIA_REQUIRE_CUDA=cuda>=9.2\n",
            "COLAB_GPU=1\n",
            "GLIBCXX_FORCE_NEW=1\n",
            "PATH=/usr/local/bin:/usr/local/nvidia/bin:/usr/local/cuda/bin:/usr/local/sbin:/usr/local/bin:/usr/sbin:/usr/bin:/sbin:/bin:/tools/node/bin:/tools/google-cloud-sdk/bin:/opt/bin\n",
            "LD_PRELOAD=/usr/lib/x86_64-linux-gnu/libtcmalloc.so.4\n",
            "GIT_PAGER=cat\n"
          ],
          "name": "stdout"
        }
      ]
    },
    {
      "metadata": {
        "id": "ATEro48cKMhM",
        "colab_type": "code",
        "outputId": "020a452f-dbb6-4b52-8260-c4f7450557b2",
        "colab": {
          "base_uri": "https://localhost:8080/",
          "height": 119
        }
      },
      "cell_type": "code",
      "source": [
        "!ls /content/caffe/build\n"
      ],
      "execution_count": 0,
      "outputs": [
        {
          "output_type": "stream",
          "text": [
            "boost_1_67_0\t      CMakeCache.txt\t    include\t\t  matlab\n",
            "boost_1_67_0.tar.bz2  CMakeFiles\t    __init__.py\t\t  python\n",
            "CaffeConfig.cmake     cmake_install.cmake   install\t\t  src\n",
            "caffe_config.h\t      detect_cuda_archs.cu  install_manifest.txt  test\n",
            "CaffeTargets.cmake    docs\t\t    lib\t\t\t  tools\n",
            "cmake\t\t      examples\t\t    Makefile\n"
          ],
          "name": "stdout"
        }
      ]
    },
    {
      "metadata": {
        "id": "cwKjrfETKSsY",
        "colab_type": "code",
        "outputId": "051d85fd-7728-439f-fda4-d0e0fed9c361",
        "colab": {
          "base_uri": "https://localhost:8080/",
          "height": 119
        }
      },
      "cell_type": "code",
      "source": [
        "!ls"
      ],
      "execution_count": 0,
      "outputs": [
        {
          "output_type": "stream",
          "text": [
            "build\t\t    CONTRIBUTING.md\tINSTALL.md    PoseTrack\n",
            "challenge\t    DensePoseData\tLICENSE       README.md\n",
            "cmake\t\t    detectron\t\tMakefile      requirements.txt\n",
            "CMakeLists.txt\t    Detectron.egg-info\tMODEL_ZOO.md  setup.py\n",
            "CODE_OF_CONDUCT.md  docker\t\tnotebooks     tools\n",
            "configs\t\t    GETTING_STARTED.md\tNOTICE\n"
          ],
          "name": "stdout"
        }
      ]
    },
    {
      "metadata": {
        "id": "Viz9KkBlNCi-",
        "colab_type": "code",
        "outputId": "7c1ba2c9-21ce-4bd1-80bf-d82cc690ef8d",
        "colab": {
          "base_uri": "https://localhost:8080/",
          "height": 34
        }
      },
      "cell_type": "code",
      "source": [
        "%cd /content/"
      ],
      "execution_count": 0,
      "outputs": [
        {
          "output_type": "stream",
          "text": [
            "/content\n"
          ],
          "name": "stdout"
        }
      ]
    },
    {
      "metadata": {
        "id": "iNPiBDnYO9Ld",
        "colab_type": "text"
      },
      "cell_type": "markdown",
      "source": [
        "# Detectronのインストールが必要！"
      ]
    },
    {
      "metadata": {
        "id": "IsxtKZjPcg1H",
        "colab_type": "code",
        "colab": {
          "base_uri": "https://localhost:8080/",
          "height": 34
        },
        "outputId": "9799a267-6a75-4123-da10-158dca3802ec"
      },
      "cell_type": "code",
      "source": [
        "%cd /content"
      ],
      "execution_count": 76,
      "outputs": [
        {
          "output_type": "stream",
          "text": [
            "/content\n"
          ],
          "name": "stdout"
        }
      ]
    },
    {
      "metadata": {
        "id": "6Nlz1W_3OSRa",
        "colab_type": "code",
        "outputId": "b1e20810-bd76-4a3d-9b27-3ba5217d21d9",
        "colab": {
          "base_uri": "https://localhost:8080/",
          "height": 102
        }
      },
      "cell_type": "code",
      "source": [
        "!git clone https://github.com/facebookresearch/detectron"
      ],
      "execution_count": 77,
      "outputs": [
        {
          "output_type": "stream",
          "text": [
            "Cloning into 'detectron'...\n",
            "remote: Enumerating objects: 1279, done.\u001b[K\n",
            "remote: Total 1279 (delta 0), reused 0 (delta 0), pack-reused 1279\u001b[K\n",
            "Receiving objects: 100% (1279/1279), 4.22 MiB | 21.07 MiB/s, done.\n",
            "Resolving deltas: 100% (825/825), done.\n"
          ],
          "name": "stdout"
        }
      ]
    },
    {
      "metadata": {
        "id": "ZOjg_ATCOWaq",
        "colab_type": "code",
        "outputId": "0eac4fa0-a205-4842-a47b-47fd60b2609f",
        "colab": {
          "base_uri": "https://localhost:8080/",
          "height": 34
        }
      },
      "cell_type": "code",
      "source": [
        "%cd /content/detectron"
      ],
      "execution_count": 78,
      "outputs": [
        {
          "output_type": "stream",
          "text": [
            "/content/detectron\n"
          ],
          "name": "stdout"
        }
      ]
    },
    {
      "metadata": {
        "id": "phwxDBwtOhTm",
        "colab_type": "code",
        "outputId": "bd07e251-22d8-4155-e248-4e0cd9e874b5",
        "colab": {
          "base_uri": "https://localhost:8080/",
          "height": 357
        }
      },
      "cell_type": "code",
      "source": [
        "!pip install -r ./requirements.txt"
      ],
      "execution_count": 79,
      "outputs": [
        {
          "output_type": "stream",
          "text": [
            "Requirement already satisfied: numpy>=1.13 in /usr/local/lib/python2.7/dist-packages (from -r ./requirements.txt (line 1)) (1.14.6)\n",
            "Requirement already satisfied: pyyaml>=3.12 in /usr/local/lib/python2.7/dist-packages (from -r ./requirements.txt (line 2)) (3.13)\n",
            "Requirement already satisfied: matplotlib in /usr/local/lib/python2.7/dist-packages (from -r ./requirements.txt (line 3)) (2.2.3)\n",
            "Requirement already satisfied: opencv-python>=3.2 in /usr/local/lib/python2.7/dist-packages (from -r ./requirements.txt (line 4)) (3.4.5.20)\n",
            "Requirement already satisfied: setuptools in /usr/local/lib/python2.7/dist-packages (from -r ./requirements.txt (line 5)) (40.6.3)\n",
            "Requirement already satisfied: Cython in /usr/local/lib/python2.7/dist-packages (from -r ./requirements.txt (line 6)) (0.29.2)\n",
            "Requirement already satisfied: mock in /usr/local/lib/python2.7/dist-packages (from -r ./requirements.txt (line 7)) (2.0.0)\n",
            "Requirement already satisfied: scipy in /usr/local/lib/python2.7/dist-packages (from -r ./requirements.txt (line 8)) (1.1.0)\n",
            "Requirement already satisfied: six in /usr/local/lib/python2.7/dist-packages (from -r ./requirements.txt (line 9)) (1.11.0)\n",
            "Requirement already satisfied: future in /usr/local/lib/python2.7/dist-packages (from -r ./requirements.txt (line 10)) (0.16.0)\n",
            "Requirement already satisfied: protobuf in /usr/local/lib/python2.7/dist-packages (from -r ./requirements.txt (line 11)) (3.6.1)\n",
            "Requirement already satisfied: cycler>=0.10 in /usr/local/lib/python2.7/dist-packages (from matplotlib->-r ./requirements.txt (line 3)) (0.10.0)\n",
            "Requirement already satisfied: backports.functools-lru-cache in /usr/local/lib/python2.7/dist-packages (from matplotlib->-r ./requirements.txt (line 3)) (1.5)\n",
            "Requirement already satisfied: subprocess32 in /usr/local/lib/python2.7/dist-packages (from matplotlib->-r ./requirements.txt (line 3)) (3.5.3)\n",
            "Requirement already satisfied: kiwisolver>=1.0.1 in /usr/local/lib/python2.7/dist-packages (from matplotlib->-r ./requirements.txt (line 3)) (1.0.1)\n",
            "Requirement already satisfied: pytz in /usr/local/lib/python2.7/dist-packages (from matplotlib->-r ./requirements.txt (line 3)) (2018.9)\n",
            "Requirement already satisfied: python-dateutil>=2.1 in /usr/local/lib/python2.7/dist-packages (from matplotlib->-r ./requirements.txt (line 3)) (2.5.3)\n",
            "Requirement already satisfied: pyparsing!=2.0.4,!=2.1.2,!=2.1.6,>=2.0.1 in /usr/local/lib/python2.7/dist-packages (from matplotlib->-r ./requirements.txt (line 3)) (2.3.1)\n",
            "Requirement already satisfied: funcsigs>=1; python_version < \"3.3\" in /usr/local/lib/python2.7/dist-packages (from mock->-r ./requirements.txt (line 7)) (1.0.2)\n",
            "Requirement already satisfied: pbr>=0.11 in /usr/local/lib/python2.7/dist-packages (from mock->-r ./requirements.txt (line 7)) (5.1.1)\n"
          ],
          "name": "stdout"
        }
      ]
    },
    {
      "metadata": {
        "id": "oGW1WbR9Ome_",
        "colab_type": "code",
        "outputId": "aec62a2e-d202-43bc-be76-5c4d06d8e12d",
        "colab": {
          "base_uri": "https://localhost:8080/",
          "height": 717
        }
      },
      "cell_type": "code",
      "source": [
        "!make"
      ],
      "execution_count": 80,
      "outputs": [
        {
          "output_type": "stream",
          "text": [
            "python setup.py develop --user\n",
            "Compiling detectron/utils/cython_bbox.pyx because it changed.\n",
            "Compiling detectron/utils/cython_nms.pyx because it changed.\n",
            "[1/2] Cythonizing detectron/utils/cython_bbox.pyx\n",
            "/usr/local/lib/python2.7/dist-packages/Cython/Compiler/Main.py:367: FutureWarning: Cython directive 'language_level' not set, using 2 for now (Py2). This will change in a later release! File: /content/detectron/detectron/utils/cython_bbox.pyx\n",
            "  tree = Parsing.p_module(s, pxd, full_module_name)\n",
            "[2/2] Cythonizing detectron/utils/cython_nms.pyx\n",
            "/usr/local/lib/python2.7/dist-packages/Cython/Compiler/Main.py:367: FutureWarning: Cython directive 'language_level' not set, using 2 for now (Py2). This will change in a later release! File: /content/detectron/detectron/utils/cython_nms.pyx\n",
            "  tree = Parsing.p_module(s, pxd, full_module_name)\n",
            "running develop\n",
            "running egg_info\n",
            "creating Detectron.egg-info\n",
            "writing Detectron.egg-info/PKG-INFO\n",
            "writing top-level names to Detectron.egg-info/top_level.txt\n",
            "writing dependency_links to Detectron.egg-info/dependency_links.txt\n",
            "writing manifest file 'Detectron.egg-info/SOURCES.txt'\n",
            "writing manifest file 'Detectron.egg-info/SOURCES.txt'\n",
            "running build_ext\n",
            "building 'detectron.utils.cython_bbox' extension\n",
            "creating build\n",
            "creating build/temp.linux-x86_64-2.7\n",
            "creating build/temp.linux-x86_64-2.7/detectron\n",
            "creating build/temp.linux-x86_64-2.7/detectron/utils\n",
            "x86_64-linux-gnu-gcc -pthread -DNDEBUG -g -fwrapv -O2 -Wall -Wstrict-prototypes -fno-strict-aliasing -Wdate-time -D_FORTIFY_SOURCE=2 -g -fdebug-prefix-map=/build/python2.7-3hk45v/python2.7-2.7.15~rc1=. -fstack-protector-strong -Wformat -Werror=format-security -fPIC -I/usr/local/lib/python2.7/dist-packages/numpy/core/include -I/usr/include/python2.7 -c detectron/utils/cython_bbox.c -o build/temp.linux-x86_64-2.7/detectron/utils/cython_bbox.o -Wno-cpp\n",
            "creating build/lib.linux-x86_64-2.7\n",
            "creating build/lib.linux-x86_64-2.7/detectron\n",
            "creating build/lib.linux-x86_64-2.7/detectron/utils\n",
            "x86_64-linux-gnu-gcc -pthread -shared -Wl,-O1 -Wl,-Bsymbolic-functions -Wl,-Bsymbolic-functions -Wl,-z,relro -fno-strict-aliasing -DNDEBUG -g -fwrapv -O2 -Wall -Wstrict-prototypes -Wdate-time -D_FORTIFY_SOURCE=2 -g -fdebug-prefix-map=/build/python2.7-3hk45v/python2.7-2.7.15~rc1=. -fstack-protector-strong -Wformat -Werror=format-security -Wl,-Bsymbolic-functions -Wl,-z,relro -Wdate-time -D_FORTIFY_SOURCE=2 -g -fdebug-prefix-map=/build/python2.7-3hk45v/python2.7-2.7.15~rc1=. -fstack-protector-strong -Wformat -Werror=format-security build/temp.linux-x86_64-2.7/detectron/utils/cython_bbox.o -o build/lib.linux-x86_64-2.7/detectron/utils/cython_bbox.so\n",
            "building 'detectron.utils.cython_nms' extension\n",
            "x86_64-linux-gnu-gcc -pthread -DNDEBUG -g -fwrapv -O2 -Wall -Wstrict-prototypes -fno-strict-aliasing -Wdate-time -D_FORTIFY_SOURCE=2 -g -fdebug-prefix-map=/build/python2.7-3hk45v/python2.7-2.7.15~rc1=. -fstack-protector-strong -Wformat -Werror=format-security -fPIC -I/usr/local/lib/python2.7/dist-packages/numpy/core/include -I/usr/include/python2.7 -c detectron/utils/cython_nms.c -o build/temp.linux-x86_64-2.7/detectron/utils/cython_nms.o -Wno-cpp\n",
            "x86_64-linux-gnu-gcc -pthread -shared -Wl,-O1 -Wl,-Bsymbolic-functions -Wl,-Bsymbolic-functions -Wl,-z,relro -fno-strict-aliasing -DNDEBUG -g -fwrapv -O2 -Wall -Wstrict-prototypes -Wdate-time -D_FORTIFY_SOURCE=2 -g -fdebug-prefix-map=/build/python2.7-3hk45v/python2.7-2.7.15~rc1=. -fstack-protector-strong -Wformat -Werror=format-security -Wl,-Bsymbolic-functions -Wl,-z,relro -Wdate-time -D_FORTIFY_SOURCE=2 -g -fdebug-prefix-map=/build/python2.7-3hk45v/python2.7-2.7.15~rc1=. -fstack-protector-strong -Wformat -Werror=format-security build/temp.linux-x86_64-2.7/detectron/utils/cython_nms.o -o build/lib.linux-x86_64-2.7/detectron/utils/cython_nms.so\n",
            "copying build/lib.linux-x86_64-2.7/detectron/utils/cython_bbox.so -> detectron/utils\n",
            "copying build/lib.linux-x86_64-2.7/detectron/utils/cython_nms.so -> detectron/utils\n",
            "Creating /root/.local/lib/python2.7/site-packages/Detectron.egg-link (link to .)\n",
            "Removing Detectron 0.0.0 from easy-install.pth file\n",
            "Adding Detectron 0.0.0 to easy-install.pth file\n",
            "\n",
            "Installed /content/detectron\n",
            "Processing dependencies for Detectron==0.0.0\n",
            "Finished processing dependencies for Detectron==0.0.0\n"
          ],
          "name": "stdout"
        }
      ]
    },
    {
      "metadata": {
        "id": "NrJEIaHzNs_k",
        "colab_type": "code",
        "outputId": "88695854-fff0-4b01-e15a-281c4ec55cd0",
        "colab": {
          "base_uri": "https://localhost:8080/",
          "height": 190
        }
      },
      "cell_type": "code",
      "source": [
        "!python ./detectron/tests/test_spatial_narrow_as_op.py"
      ],
      "execution_count": 81,
      "outputs": [
        {
          "output_type": "stream",
          "text": [
            "[E init_intrinsics_check.cc:43] CPU feature avx is present on your machine, but the Caffe2 binary is not compiled with it. It means you may not get the full speed of your CPU.\n",
            "[E init_intrinsics_check.cc:43] CPU feature avx2 is present on your machine, but the Caffe2 binary is not compiled with it. It means you may not get the full speed of your CPU.\n",
            "[E init_intrinsics_check.cc:43] CPU feature fma is present on your machine, but the Caffe2 binary is not compiled with it. It means you may not get the full speed of your CPU.\n",
            "Found Detectron ops lib: /usr/local/lib/python2.7/dist-packages/torch/lib/libcaffe2_detectron_ops_gpu.so\n",
            "...\n",
            "----------------------------------------------------------------------\n",
            "Ran 3 tests in 3.834s\n",
            "\n",
            "OK\n"
          ],
          "name": "stdout"
        }
      ]
    },
    {
      "metadata": {
        "id": "gWFU3aQKNwfh",
        "colab_type": "code",
        "outputId": "722fd9cb-7b5f-45ef-9967-afa164c8ab5b",
        "colab": {
          "base_uri": "https://localhost:8080/",
          "height": 204
        }
      },
      "cell_type": "code",
      "source": [
        "!ls /content/detectron/detectron/utils"
      ],
      "execution_count": 0,
      "outputs": [
        {
          "output_type": "stream",
          "text": [
            "blob.py\t\t coordinator.pyc  __init__.py\t\t  net.pyc\n",
            "blob.pyc\t cython_bbox.c\t  __init__.pyc\t\t  segms.py\n",
            "boxes.py\t cython_bbox.pyx  io.py\t\t\t  segms.pyc\n",
            "boxes.pyc\t cython_bbox.so   io.pyc\t\t  subprocess.py\n",
            "c2.py\t\t cython_nms.c\t  keypoints.py\t\t  subprocess.pyc\n",
            "c2.pyc\t\t cython_nms.pyx   keypoints.pyc\t\t  timer.py\n",
            "collections.py\t cython_nms.so\t  logging.py\t\t  timer.pyc\n",
            "collections.pyc  env.py\t\t  logging.pyc\t\t  training_stats.py\n",
            "colormap.py\t env.pyc\t  lr_policy.py\t\t  train.py\n",
            "colormap.pyc\t image.py\t  model_convert_utils.py  vis.py\n",
            "coordinator.py\t image.pyc\t  net.py\t\t  vis.pyc\n"
          ],
          "name": "stdout"
        }
      ]
    },
    {
      "metadata": {
        "id": "meRsFl6vSiFN",
        "colab_type": "code",
        "outputId": "2efa05f1-9425-4ee4-a010-87b9128ba36f",
        "colab": {
          "base_uri": "https://localhost:8080/",
          "height": 289
        }
      },
      "cell_type": "code",
      "source": [
        "!ls /content/densepose/detectron/utils"
      ],
      "execution_count": 0,
      "outputs": [
        {
          "output_type": "stream",
          "text": [
            "blob.py\t\t cython_nms.pyx\t\tlr_policy.py\n",
            "blob.pyc\t cython_nms.so\t\tmodel_convert_utils.py\n",
            "boxes.py\t densepose_methods.py\tnet.py\n",
            "boxes.pyc\t densepose_methods.pyc\tnet.pyc\n",
            "c2.py\t\t env.py\t\t\tsegms.py\n",
            "c2.pyc\t\t env.pyc\t\tsegms.pyc\n",
            "collections.py\t image.py\t\tsubprocess.py\n",
            "collections.pyc  image.pyc\t\tsubprocess.pyc\n",
            "colormap.py\t __init__.py\t\ttimer.py\n",
            "colormap.pyc\t __init__.pyc\t\ttimer.pyc\n",
            "coordinator.py\t io.py\t\t\ttraining_stats.py\n",
            "coordinator.pyc  io.pyc\t\t\ttrain.py\n",
            "cython_bbox.c\t keypoints.py\t\tvis.py\n",
            "cython_bbox.pyx  keypoints.pyc\t\tvis.pyc\n",
            "cython_bbox.so\t logging.py\n",
            "cython_nms.c\t logging.pyc\n"
          ],
          "name": "stdout"
        }
      ]
    },
    {
      "metadata": {
        "id": "sSdok3P-Smz0",
        "colab_type": "code",
        "colab": {}
      },
      "cell_type": "code",
      "source": [
        "!cp /content/detectron/detectron/utils/*.so /content/densepose/detectron/utils/"
      ],
      "execution_count": 0,
      "outputs": []
    },
    {
      "metadata": {
        "id": "7EX1cRg7SweF",
        "colab_type": "code",
        "outputId": "b3585041-f5c2-48c2-a0c9-33ab8b33c74e",
        "colab": {
          "base_uri": "https://localhost:8080/",
          "height": 34
        }
      },
      "cell_type": "code",
      "source": [
        "%cd .."
      ],
      "execution_count": 0,
      "outputs": [
        {
          "output_type": "stream",
          "text": [
            "/content/densepose\n"
          ],
          "name": "stdout"
        }
      ]
    },
    {
      "metadata": {
        "id": "w1zcgkNmT4fK",
        "colab_type": "code",
        "outputId": "a9c728c5-d80f-42f9-b6ea-54435ddb8586",
        "colab": {
          "base_uri": "https://localhost:8080/",
          "height": 391
        }
      },
      "cell_type": "code",
      "source": [
        "!make ops"
      ],
      "execution_count": 0,
      "outputs": [
        {
          "output_type": "stream",
          "text": [
            "mkdir -p build && cd build && cmake .. && make -j2\n",
            "CMake Error at CMakeLists.txt:8 (find_package):\n",
            "  By not providing \"FindCaffe2.cmake\" in CMAKE_MODULE_PATH this project has\n",
            "  asked CMake to find a package configuration file provided by \"Caffe2\", but\n",
            "  CMake did not find one.\n",
            "\n",
            "  Could not find a package configuration file provided by \"Caffe2\" with any\n",
            "  of the following names:\n",
            "\n",
            "    Caffe2Config.cmake\n",
            "    caffe2-config.cmake\n",
            "\n",
            "  Add the installation prefix of \"Caffe2\" to CMAKE_PREFIX_PATH or set\n",
            "  \"Caffe2_DIR\" to a directory containing one of the above files.  If \"Caffe2\"\n",
            "  provides a separate development package or SDK, be sure it has been\n",
            "  installed.\n",
            "\n",
            "\n",
            "-- Configuring incomplete, errors occurred!\n",
            "See also \"/content/densepose/build/CMakeFiles/CMakeOutput.log\".\n",
            "Makefile:13: recipe for target 'ops' failed\n",
            "make: *** [ops] Error 1\n"
          ],
          "name": "stdout"
        }
      ]
    },
    {
      "metadata": {
        "id": "NHl7h3k-UBIV",
        "colab_type": "code",
        "outputId": "440eeaee-7214-48c3-a30c-8098fbf3836c",
        "colab": {
          "base_uri": "https://localhost:8080/",
          "height": 34
        }
      },
      "cell_type": "code",
      "source": [
        "!pwd"
      ],
      "execution_count": 0,
      "outputs": [
        {
          "output_type": "stream",
          "text": [
            "/content/densepose/detectron\n"
          ],
          "name": "stdout"
        }
      ]
    },
    {
      "metadata": {
        "id": "-sroNlolVC9b",
        "colab_type": "code",
        "outputId": "624af748-fd71-49b0-8306-be399068d43b",
        "colab": {
          "base_uri": "https://localhost:8080/",
          "height": 5780
        }
      },
      "cell_type": "code",
      "source": [
        "!pip list"
      ],
      "execution_count": 0,
      "outputs": [
        {
          "output_type": "stream",
          "text": [
            "Package                            Version               Location          \n",
            "---------------------------------- --------------------- ------------------\n",
            "absl-py                            0.6.1                 \n",
            "albumentations                     0.1.9                 \n",
            "altair                             2.3.0                 \n",
            "astor                              0.7.1                 \n",
            "astropy                            2.0.11                \n",
            "atari-py                           0.1.7                 \n",
            "atomicwrites                       1.2.1                 \n",
            "attrs                              18.2.0                \n",
            "audioread                          2.1.6                 \n",
            "autograd                           1.2                   \n",
            "backports-abc                      0.5                   \n",
            "backports.functools-lru-cache      1.5                   \n",
            "backports.shutil-get-terminal-size 1.0.0                 \n",
            "backports.tempfile                 1.0                   \n",
            "backports.weakref                  1.0.post1             \n",
            "beautifulsoup4                     4.6.3                 \n",
            "bleach                             3.0.2                 \n",
            "bokeh                              1.0.3                 \n",
            "boto                               2.49.0                \n",
            "boto3                              1.9.75                \n",
            "botocore                           1.12.75               \n",
            "branca                             0.3.1                 \n",
            "bs4                                0.0.1                 \n",
            "bz2file                            0.98                  \n",
            "cachetools                         3.0.0                 \n",
            "certifi                            2018.11.29            \n",
            "cffi                               1.11.5                \n",
            "chainer                            5.0.0                 \n",
            "chardet                            3.0.4                 \n",
            "Click                              7.0                   \n",
            "cloudpickle                        0.6.1                 \n",
            "cmake                              3.12.0                \n",
            "colorlover                         0.2.1                 \n",
            "community                          1.0.0b1               \n",
            "configparser                       3.5.0                 \n",
            "contextlib2                        0.5.5                 \n",
            "convertdate                        2.1.3                 \n",
            "crcmod                             1.7                   \n",
            "cufflinks                          0.14.6                \n",
            "cupy-cuda92                        5.0.0                 \n",
            "cvxopt                             1.2.2                 \n",
            "cvxpy                              1.0.11                \n",
            "cycler                             0.10.0                \n",
            "cymem                              2.0.2                 \n",
            "Cython                             0.29.2                \n",
            "cytoolz                            0.9.0.1               \n",
            "daft                               0.0.4                 \n",
            "dask                               0.20.2                \n",
            "decorator                          4.3.0                 \n",
            "defusedxml                         0.5.0                 \n",
            "Detectron                          0.0.0                 /content/densepose\n",
            "dill                               0.2.8.2               \n",
            "distributed                        1.25.2                \n",
            "Django                             1.11.18               \n",
            "dlib                               19.16.0               \n",
            "dm-sonnet                          1.23                  \n",
            "docutils                           0.14                  \n",
            "dopamine-rl                        1.0.5                 \n",
            "easydict                           1.9                   \n",
            "ecos                               2.0.7.post1           \n",
            "editdistance                       0.5.2                 \n",
            "en-core-web-sm                     2.0.0                 \n",
            "entrypoints                        0.3                   \n",
            "enum34                             1.1.6                 \n",
            "ephem                              3.7.6.0               \n",
            "et-xmlfile                         1.0.1                 \n",
            "fa2                                0.2                   \n",
            "fancyimpute                        0.4.2                 \n",
            "fastcache                          1.0.2                 \n",
            "fastdtw                            0.3.2                 \n",
            "fastrlock                          0.4                   \n",
            "fbprophet                          0.4                   \n",
            "featuretools                       0.4.1                 \n",
            "filelock                           3.0.10                \n",
            "fix-yahoo-finance                  0.0.22                \n",
            "Flask                              1.0.2                 \n",
            "folium                             0.6.0                 \n",
            "funcsigs                           1.0.2                 \n",
            "functools32                        3.2.3.post2           \n",
            "future                             0.16.0                \n",
            "futures                            3.2.0                 \n",
            "gast                               0.2.1.post0           \n",
            "GDAL                               2.2.2                 \n",
            "gdown                              3.6.4                 \n",
            "gensim                             3.6.0                 \n",
            "geographiclib                      1.49                  \n",
            "geopy                              1.17.0                \n",
            "gevent                             1.4.0                 \n",
            "gin-config                         0.1.2                 \n",
            "glob2                              0.6                   \n",
            "google                             2.0.1                 \n",
            "google-api-core                    1.7.0                 \n",
            "google-api-python-client           1.6.7                 \n",
            "google-auth                        1.4.2                 \n",
            "google-auth-httplib2               0.0.3                 \n",
            "google-auth-oauthlib               0.2.0                 \n",
            "google-cloud-bigquery              1.1.0                 \n",
            "google-cloud-core                  0.28.1                \n",
            "google-cloud-language              1.0.2                 \n",
            "google-cloud-storage               1.8.0                 \n",
            "google-cloud-translate             1.3.3                 \n",
            "google-colab                       0.0.1a1               \n",
            "google-resumable-media             0.3.2                 \n",
            "googleapis-common-protos           1.5.5                 \n",
            "googledrivedownloader              0.3                   \n",
            "graph-nets                         1.0.2                 \n",
            "graphviz                           0.10.1                \n",
            "greenlet                           0.4.15                \n",
            "grpcio                             1.15.0                \n",
            "gspread                            3.0.1                 \n",
            "gspread-dataframe                  3.0.2                 \n",
            "gunicorn                           19.9.0                \n",
            "gym                                0.10.9                \n",
            "h5py                               2.8.0                 \n",
            "HeapDict                           1.0.0                 \n",
            "holidays                           0.9.9                 \n",
            "html5lib                           1.0.1                 \n",
            "httpimport                         0.5.16                \n",
            "httplib2                           0.11.3                \n",
            "humanize                           0.5.1                 \n",
            "hyperopt                           0.1.1                 \n",
            "ideep4py                           2.0.0.post3           \n",
            "idna                               2.6                   \n",
            "image                              1.5.27                \n",
            "imageio                            2.4.1                 \n",
            "imbalanced-learn                   0.4.3                 \n",
            "imblearn                           0.0                   \n",
            "imgaug                             0.2.6                 \n",
            "imutils                            0.5.2                 \n",
            "inflect                            2.1.0                 \n",
            "intel-openmp                       2019.0                \n",
            "intervaltree                       2.1.0                 \n",
            "ipykernel                          4.6.1                 \n",
            "ipython                            5.5.0                 \n",
            "ipython-genutils                   0.2.0                 \n",
            "ipython-sql                        0.3.9                 \n",
            "ipywidgets                         7.4.2                 \n",
            "itsdangerous                       1.1.0                 \n",
            "jdcal                              1.4                   \n",
            "jieba                              0.39                  \n",
            "Jinja2                             2.10                  \n",
            "jmespath                           0.9.3                 \n",
            "joblib                             0.13.0                \n",
            "jpeg4py                            0.1.4                 \n",
            "jsonschema                         2.6.0                 \n",
            "jupyter                            1.0.0                 \n",
            "jupyter-client                     5.2.4                 \n",
            "jupyter-console                    5.2.0                 \n",
            "jupyter-core                       4.4.0                 \n",
            "kaggle                             1.5.1.1               \n",
            "kapre                              0.1.3.1               \n",
            "Keras                              2.2.4                 \n",
            "Keras-Applications                 1.0.6                 \n",
            "Keras-Preprocessing                1.0.5                 \n",
            "keras-vis                          0.4.1                 \n",
            "knnimpute                          0.1.0                 \n",
            "librosa                            0.6.2                 \n",
            "lightgbm                           2.2.2                 \n",
            "llvmlite                           0.27.0                \n",
            "lmdb                               0.94                  \n",
            "lucid                              0.3.8                 \n",
            "lunardate                          0.2.0                 \n",
            "lxml                               4.2.6                 \n",
            "magenta                            0.3.19                \n",
            "Markdown                           3.0.1                 \n",
            "MarkupSafe                         1.1.0                 \n",
            "matplotlib                         2.1.2                 \n",
            "matplotlib-venn                    0.11.5                \n",
            "memory-profiler                    0.55.0                \n",
            "mesh-tensorflow                    0.0.5                 \n",
            "mido                               1.2.6                 \n",
            "mir-eval                           0.5                   \n",
            "missingno                          0.4.1                 \n",
            "mistune                            0.8.4                 \n",
            "mkl                                2019.0                \n",
            "mlxtend                            0.14.0                \n",
            "mock                               2.0.0                 \n",
            "more-itertools                     5.0.0                 \n",
            "moviepy                            0.2.3.5               \n",
            "mpmath                             1.1.0                 \n",
            "msgpack                            0.5.6                 \n",
            "msgpack-numpy                      0.4.3.2               \n",
            "multiprocess                       0.70.6.1              \n",
            "multitasking                       0.0.7                 \n",
            "murmurhash                         1.0.1                 \n",
            "music21                            4.1.0                 \n",
            "natsort                            5.5.0                 \n",
            "nbconvert                          5.4.0                 \n",
            "nbformat                           4.4.0                 \n",
            "networkx                           2.2                   \n",
            "nibabel                            2.3.2                 \n",
            "nltk                               3.2.5                 \n",
            "nose                               1.3.7                 \n",
            "notebook                           5.2.2                 \n",
            "np-utils                           0.5.9.0               \n",
            "numba                              0.40.1                \n",
            "numexpr                            2.6.9                 \n",
            "numpy                              1.14.6                \n",
            "oauth2client                       4.1.3                 \n",
            "oauthlib                           3.0.0                 \n",
            "okgrade                            0.4.3                 \n",
            "olefile                            0.46                  \n",
            "opencv-contrib-python              3.4.3.18              \n",
            "opencv-python                      3.4.5.20              \n",
            "openpyxl                           2.5.9                 \n",
            "osqp                               0.5.0                 \n",
            "packaging                          18.0                  \n",
            "pandas                             0.22.0                \n",
            "pandas-datareader                  0.7.0                 \n",
            "pandas-gbq                         0.4.1                 \n",
            "pandas-profiling                   1.4.1                 \n",
            "pandocfilters                      1.4.2                 \n",
            "pathlib                            1.0.1                 \n",
            "pathlib2                           2.3.3                 \n",
            "patsy                              0.5.1                 \n",
            "pbr                                5.1.1                 \n",
            "pexpect                            4.6.0                 \n",
            "pickleshare                        0.7.5                 \n",
            "Pillow                             4.0.0                 \n",
            "pip                                18.1                  \n",
            "plac                               0.9.6                 \n",
            "plotly                             1.12.12               \n",
            "pluggy                             0.8.0                 \n",
            "portpicker                         1.2.0                 \n",
            "prefetch-generator                 1.0.1                 \n",
            "preshed                            2.0.1                 \n",
            "pretty-midi                        0.2.8                 \n",
            "prettytable                        0.7.2                 \n",
            "progressbar2                       3.38.0                \n",
            "promise                            2.2.1                 \n",
            "prompt-toolkit                     1.0.15                \n",
            "protobuf                           3.6.1                 \n",
            "psutil                             5.4.8                 \n",
            "psycopg2                           2.7.6.1               \n",
            "ptyprocess                         0.6.0                 \n",
            "py                                 1.7.0                 \n",
            "pyasn1                             0.4.5                 \n",
            "pyasn1-modules                     0.2.3                 \n",
            "pycocotools                        2.0.0                 \n",
            "pycparser                          2.19                  \n",
            "pydot                              1.3.0                 \n",
            "pydot-ng                           2.0.0                 \n",
            "pydotplus                          2.0.2                 \n",
            "pyemd                              0.5.1                 \n",
            "pyglet                             1.3.2                 \n",
            "Pygments                           2.1.3                 \n",
            "pymc3                              3.6                   \n",
            "pymongo                            3.7.2                 \n",
            "pymystem3                          0.2.0                 \n",
            "PyOpenGL                           3.1.0                 \n",
            "pyparsing                          2.3.0                 \n",
            "pysndfile                          1.3.2                 \n",
            "PySocks                            1.6.8                 \n",
            "pystache                           0.5.4                 \n",
            "pystan                             2.18.1.0              \n",
            "pytest                             3.10.1                \n",
            "python-chess                       0.23.11               \n",
            "python-dateutil                    2.5.3                 \n",
            "python-louvain                     0.13                  \n",
            "python-rtmidi                      1.1.2                 \n",
            "python-slugify                     2.0.1                 \n",
            "python-utils                       2.3.0                 \n",
            "pytz                               2018.9                \n",
            "PyWavelets                         1.0.1                 \n",
            "PyYAML                             3.13                  \n",
            "pyzmq                              17.0.0                \n",
            "qtconsole                          4.4.3                 \n",
            "regex                              2018.1.10             \n",
            "requests                           2.18.4                \n",
            "requests-oauthlib                  1.0.0                 \n",
            "resampy                            0.2.1                 \n",
            "rsa                                4.0                   \n",
            "s3fs                               0.2.0                 \n",
            "s3transfer                         0.1.13                \n",
            "scandir                            1.9.0                 \n",
            "scikit-image                       0.13.1                \n",
            "scikit-learn                       0.20.2                \n",
            "scipy                              1.1.0                 \n",
            "scs                                2.0.2                 \n",
            "seaborn                            0.7.1                 \n",
            "setuptools                         40.6.3                \n",
            "simplegeneric                      0.8.1                 \n",
            "singledispatch                     3.4.0.3               \n",
            "six                                1.11.0                \n",
            "sklearn                            0.0                   \n",
            "smart-open                         1.7.1                 \n",
            "sortedcontainers                   2.1.0                 \n",
            "spacy                              2.0.18                \n",
            "SQLAlchemy                         1.2.15                \n",
            "sqlparse                           0.2.4                 \n",
            "statsmodels                        0.8.0                 \n",
            "subprocess32                       3.5.3                 \n",
            "sympy                              1.1.1                 \n",
            "tables                             3.4.4                 \n",
            "tabulate                           0.8.2                 \n",
            "tblib                              1.3.2                 \n",
            "tensor2tensor                      1.11.0                \n",
            "tensorboard                        1.12.2                \n",
            "tensorboardcolab                   0.0.22                \n",
            "tensorflow                         1.12.0                \n",
            "tensorflow-hub                     0.2.0                 \n",
            "tensorflow-metadata                0.9.0                 \n",
            "tensorflow-probability             0.5.0                 \n",
            "termcolor                          1.1.0                 \n",
            "terminado                          0.8.1                 \n",
            "testpath                           0.4.2                 \n",
            "textblob                           0.15.2                \n",
            "tfds-nightly                       0.0.2.dev201901080014 \n",
            "tflearn                            0.3.2                 \n",
            "Theano                             1.0.3                 \n",
            "thinc                              6.12.1                \n",
            "toolz                              0.9.0                 \n",
            "torch                              1.0.0                 \n",
            "tornado                            4.5.3                 \n",
            "tqdm                               4.28.1                \n",
            "traitlets                          4.3.2                 \n",
            "tweepy                             3.6.0                 \n",
            "typing                             3.6.6                 \n",
            "ujson                              1.35                  \n",
            "umap-learn                         0.3.7                 \n",
            "Unidecode                          1.0.23                \n",
            "uritemplate                        3.0.0                 \n",
            "urllib3                            1.22                  \n",
            "vega-datasets                      0.7.0                 \n",
            "wcwidth                            0.1.7                 \n",
            "webencodings                       0.5.1                 \n",
            "Werkzeug                           0.14.1                \n",
            "wheel                              0.32.3                \n",
            "widgetsnbextension                 3.4.2                 \n",
            "wordcloud                          1.5.0                 \n",
            "wrapt                              1.10.11               \n",
            "xarray                             0.11.2                \n",
            "xgboost                            0.7.post4             \n",
            "xlrd                               1.1.0                 \n",
            "xlwt                               1.3.0                 \n",
            "yellowbrick                        0.9                   \n",
            "zict                               0.1.3                 \n"
          ],
          "name": "stdout"
        }
      ]
    },
    {
      "metadata": {
        "id": "2X77d2KfW4BY",
        "colab_type": "code",
        "outputId": "bc8f7e2d-c19d-48c4-e44d-a2b6de9c4515",
        "colab": {
          "base_uri": "https://localhost:8080/",
          "height": 102
        }
      },
      "cell_type": "code",
      "source": [
        "!pip uninstall detectron"
      ],
      "execution_count": 0,
      "outputs": [
        {
          "output_type": "stream",
          "text": [
            "Uninstalling Detectron-0.0.0:\n",
            "  Would remove:\n",
            "    /root/.local/lib/python2.7/site-packages/Detectron.egg-link\n",
            "Proceed (y/n)? y\n",
            "  Successfully uninstalled Detectron-0.0.0\n"
          ],
          "name": "stdout"
        }
      ]
    },
    {
      "metadata": {
        "id": "MMRchSQHXGLs",
        "colab_type": "code",
        "outputId": "90ec3ddc-60e9-444e-db9d-b13855b4c19e",
        "colab": {
          "base_uri": "https://localhost:8080/",
          "height": 34
        }
      },
      "cell_type": "code",
      "source": [
        "!pip install detectron"
      ],
      "execution_count": 0,
      "outputs": [
        {
          "output_type": "stream",
          "text": [
            "Requirement already satisfied: detectron in /content/densepose (0.0.0)\n"
          ],
          "name": "stdout"
        }
      ]
    },
    {
      "metadata": {
        "id": "-mldXx5lbc9U",
        "colab_type": "code",
        "colab": {}
      },
      "cell_type": "code",
      "source": [
        ""
      ],
      "execution_count": 0,
      "outputs": []
    }
  ]
}