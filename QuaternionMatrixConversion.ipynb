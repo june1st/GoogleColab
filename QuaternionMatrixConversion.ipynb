{
  "nbformat": 4,
  "nbformat_minor": 0,
  "metadata": {
    "colab": {
      "name": "QuaternionMatrixConversion.ipynb",
      "version": "0.3.2",
      "provenance": [],
      "collapsed_sections": [],
      "include_colab_link": true
    },
    "kernelspec": {
      "name": "python3",
      "display_name": "Python 3"
    },
    "accelerator": "GPU"
  },
  "cells": [
    {
      "cell_type": "markdown",
      "metadata": {
        "id": "view-in-github",
        "colab_type": "text"
      },
      "source": [
        "<a href=\"https://colab.research.google.com/github/june1st/GoogleColab/blob/master/QuaternionMatrixConversion.ipynb\" target=\"_parent\"><img src=\"https://colab.research.google.com/assets/colab-badge.svg\" alt=\"Open In Colab\"/></a>"
      ]
    },
    {
      "metadata": {
        "id": "V4TjXdnsOqI9",
        "colab_type": "code",
        "colab": {
          "base_uri": "https://localhost:8080/",
          "height": 170
        },
        "outputId": "e4cb63b4-dd69-48ff-a52e-d24af00e144d"
      },
      "cell_type": "code",
      "source": [
        "!pip install pyquaternion"
      ],
      "execution_count": 1,
      "outputs": [
        {
          "output_type": "stream",
          "text": [
            "Collecting pyquaternion\n",
            "  Using cached https://files.pythonhosted.org/packages/73/87/9062e094c3aef59d08a0e8f5bdedc6085f6658ac38421a9808214c3138bb/pyquaternion-0.9.2.tar.gz\n",
            "Requirement already satisfied: numpy in /usr/local/lib/python3.6/dist-packages (from pyquaternion) (1.14.6)\n",
            "Building wheels for collected packages: pyquaternion\n",
            "  Running setup.py bdist_wheel for pyquaternion ... \u001b[?25l-\b \bdone\n",
            "\u001b[?25h  Stored in directory: /root/.cache/pip/wheels/ce/3e/b2/0b3a4c2b9eb827981266c78cd39517a39efa6db43e3fb2e94d\n",
            "Successfully built pyquaternion\n",
            "Installing collected packages: pyquaternion\n",
            "Successfully installed pyquaternion-0.9.2\n"
          ],
          "name": "stdout"
        }
      ]
    },
    {
      "metadata": {
        "id": "UBMK1FoDOoQV",
        "colab_type": "code",
        "colab": {}
      },
      "cell_type": "code",
      "source": [
        "#coding:utf-8\n",
        "import numpy as np\n",
        "import matplotlib.pyplot as plt\n",
        "import pandas as pd\n",
        "import os\n",
        "import ctypes\n",
        "from ctypes import * #c_double, c_int, c_float\n",
        "import platform\n",
        "import csv\n",
        "from pyquaternion import Quaternion\n",
        "#os.chdir(os.path.dirname(__file__))\n",
        "\n",
        "class QuatCF:\n",
        "    \"\"\"相補フィルタクラス\"\"\"\n",
        "    def __init__(self, Aa):\n",
        "        \"\"\"コンストラクタ（フィルタ係数A≒0.9を設定）\"\"\"\n",
        "        self.A = Aa\n",
        "        self.q = Quaternion(1, 0, 0 ,0)\n",
        "\n",
        "    def update(self,qa, qg):\n",
        "        \"\"\"相補フィルタの更新\"\"\"\n",
        "        self.q = self.A * qg *self.q + (1-self.A)*qa\n",
        "\n",
        "\n",
        "def makeQa(ax, ay, az):\n",
        "    \"\"\"加速度センサの姿勢を表す回転子\"\"\"\n",
        "    accNorm = np.sqrt(ax**2 + ay**2 + az**2)\t# 加速度ノルムの逆数\n",
        "    ax /= accNorm\n",
        "    ay /= accNorm\n",
        "    az /= accNorm\n",
        "    # 回転軸の生成（資料では回転軸の正規化を忘れているので注意 ： n ＝ n/|n|にしないといけない）\n",
        "    square = ax**2 + ay**2;\n",
        "    rotateNorm = 1;\n",
        "    if (square > 0.00001):\n",
        "         rotateNorm = np.sqrt(square);\n",
        "    nx = ax / rotateNorm;\n",
        "    ny = ay / rotateNorm;\n",
        "    theta_a = 0.5*np.arccos(az);\n",
        "    qa = Quaternion( np.cos(theta_a), ny*np.sin(theta_a), -nx*np.sin(theta_a), 0 )\n",
        "    return qa.normalised\n",
        "\n",
        "def makeQg(gx, gy, gz):\n",
        "    \"\"\"ジャイロセンサの姿勢変化を表す回転子\"\"\"\n",
        "    dt = 0.040                  # [ms]\n",
        "    calib = 0.0001527163     # sensor calibration\n",
        "    a = 0.5 * dt;\n",
        "    ggx = a * gx * calib;\n",
        "    ggy = a * gy * calib;\n",
        "    ggz = a * gz * calib;\n",
        "    s = 1.0 - 0.5 * (ggx **2 + ggy **2 + ggz **2)\n",
        "    qg = Quaternion(s, ggx, ggy, ggz)\n",
        "    return qg.normalised\n",
        "\n",
        "def makeMatrixFromAM(ax, ay, az, mx, my, mz):\n",
        "    \"\"\"加速度，地磁気センサから回転行列生成\"\"\"\n",
        "    ret = np.identity(3)\n",
        "    aNorm = np.sqrt(ax**2+ay**2+az**2 )\n",
        "    mNorm = np.sqrt(mx**2+my**2+mz**2 )\n",
        "    crossNorm = aNorm * mNorm\n",
        "    ret[0][0] = (my*az - mz*ay) / crossNorm\n",
        "    ret[0][1] = (mz*ax - mx*az) / crossNorm\n",
        "    ret[0][2] = (mx*ay - my*ax) / crossNorm\n",
        "    ret[1][0] = mx / mNorm\n",
        "    ret[1][1] = my / mNorm\n",
        "    ret[1][2] = mz / mNorm\n",
        "    ret[2][0] = ax / aNorm\n",
        "    ret[2][1] = ay / aNorm\n",
        "    ret[2][2] = az / aNorm\n",
        "    return ret\n",
        "\n",
        "def MatrixToQuaternion(mat):\n",
        "    \"\"\"回転行列をクォータニオンにする\"\"\"\n",
        "    q = Quaternion()\n",
        "    tr = mat[0][0] + mat[1][1] + mat[2][2] + 1.0;\n",
        "    print(tr)\n",
        "    if (tr >= 1.0) :\n",
        "        s = 0.5 / np.sqrt(tr);\n",
        "        q.w= 0.25 / s;\n",
        "        q.x= (mat[1][2] - mat[2][1]) * s;\n",
        "        q.y= (mat[2][0] - mat[0][2]) * s;\n",
        "        q.z= (mat[0][1] - mat[1][0]) * s;\n",
        "        q = Quaternion(q.w, q.x, q.y, q.z)\n",
        "        return q\n",
        "    else:\n",
        "        if(mat[1][1] > mat[2][2]):\n",
        "            max = mat[1][1];\n",
        "        else:\n",
        "            max = mat[2][2];\n",
        "\n",
        "    if (max < mat[0][0]) :\n",
        "        s = np.sqrt(mat[0][0] - (mat[1][1] + mat[2][2]) + 1.0);\n",
        "        x = s * 0.5;\n",
        "        s = 0.5 / s;\n",
        "        q.x= x;\n",
        "        q.y= (mat[0][1] + mat[1][0]) * s;\n",
        "        q.z= (mat[2][0] + mat[0][2]) * s;\n",
        "        q.w= (mat[1][2] - mat[2][1]) * s;\n",
        "        q = Quaternion(q.w, q.x, q.y, q.z)\n",
        "        return q;\n",
        "    elif (max == mat[1][1]):\n",
        "        s = np.sqrt(mat[1][1] - (mat[2][2] + mat[0][0]) + 1.0);\n",
        "        y = s * 0.5;\n",
        "        s = 0.5 / s;\n",
        "        q.x= (mat[0][1] + mat[1][0]) * s;\n",
        "        q.y= y;\n",
        "        q.z= (mat[1][2] + mat[2][1]) * s\n",
        "        q.w= (mat[2][0] - mat[0][2]) * s;\n",
        "        q = Quaternion(q.w, q.x, q.y, q.z)\n",
        "        return q;\n",
        "    else:\n",
        "        s = np.sqrt(mat[2][2] - (mat[0][0] + mat[1][1]) + 1.0);\n",
        "        z = s * 0.5;\n",
        "        s = 0.5 / s;\n",
        "        q.x= (mat[2][0] + mat[0][2]) * s;\n",
        "        q.y= (mat[1][2] + mat[2][1]) * s;\n",
        "        q.z= z;\n",
        "        q.w= (mat[0][1] - mat[1][0]) * s;\n",
        "        q = Quaternion(q.w, q.x, q.y, q.z)\n",
        "        return q;\n",
        "\n",
        "def unwrap(old ,new ):\n",
        "    if old-new >3.14:\n",
        "        new += 6.28\n",
        "    if old-new < -3.14:\n",
        "        new -= 6.28\n",
        "    return new\n"
      ],
      "execution_count": 0,
      "outputs": []
    },
    {
      "metadata": {
        "id": "3LgDdONo6ySJ",
        "colab_type": "code",
        "colab": {}
      },
      "cell_type": "code",
      "source": [
        "qqq = Quaternion(axis = np.array([1,0,0]), angle =np.pi/2);\n",
        "qqq = qqq * qqq * qqq * qqq\n",
        "print qqq.rotation_matrix\n",
        "mat = qqq.rotation_matrix\n",
        "print mat[0][0]\n",
        "print Quaternion(matrix = qqq.rotation_matrix)\n",
        "\n",
        "print 'Calculated Q from sensor values'\n",
        "print makeQa(0, -1, 1)\n",
        "q = Quaternion(axis = np.array([-1,0,0]), angle = np.radians(45));\n",
        "print 'Designed Q'\n",
        "print q\n",
        "print 'reconstructed Q from matrix'\n",
        "print MatrixToQuaternion(q.rotation_matrix)\n",
        "\n",
        "print 'Forward bending 45defg'\n",
        "print 'from Sensor'\n",
        "print  makeMatrixFromAM(0, -0.707, 0.707, 0, 0.707, 0.707)\n",
        "print 'Desired value'\n",
        "q = Quaternion(axis = np.array([-1,0,0]), angle = np.radians(45));\n",
        "print q.rotation_matrix\n",
        "\n",
        "print 'Rotation 45defg'\n",
        "print 'from Sensor'\n",
        "print  makeMatrixFromAM(0, 0, 1, 0.707, 0.707, 0)\n",
        "q = Quaternion(axis = np.array([0,0,1]), angle = np.radians(45));\n",
        "print 'Desired value'\n",
        "print q.rotation_matrix\n",
        "print q.elements\n"
      ],
      "execution_count": 0,
      "outputs": []
    },
    {
      "metadata": {
        "id": "2W3_zzYi69qe",
        "colab_type": "code",
        "colab": {
          "base_uri": "https://localhost:8080/",
          "height": 119
        },
        "outputId": "5e75ccfb-268b-41d8-a704-28117eba0ad6"
      },
      "cell_type": "code",
      "source": [
        "q = Quaternion(axis = np.array([0,1,0]), angle =np.pi/4);\n",
        "print(q)\n",
        "m= [0,1,0]\n",
        "a= [1,0,1]\n",
        "#m = [0.707, 0,707,0]\n",
        "M=makeMatrixFromAM(a[0],a[1],a[2], m[0],m[1],m[2])\n",
        "qq = MatrixToQuaternion(M)\n",
        "print(M)\n",
        "print(qq)"
      ],
      "execution_count": 66,
      "outputs": [
        {
          "output_type": "stream",
          "text": [
            "0.924 +0.000i +0.383j +0.000k\n",
            "3.414213562373095\n",
            "[[ 0.70710678  0.         -0.70710678]\n",
            " [ 0.          1.          0.        ]\n",
            " [ 0.70710678  0.          0.70710678]]\n",
            "0.924 +0.000i +0.383j +0.000k\n"
          ],
          "name": "stdout"
        }
      ]
    },
    {
      "metadata": {
        "id": "qsc3GDsJO5zv",
        "colab_type": "code",
        "colab": {
          "base_uri": "https://localhost:8080/",
          "height": 51
        },
        "outputId": "6a926f3a-e02b-4c03-e238-dace860cbad1"
      },
      "cell_type": "code",
      "source": [
        "import numpy as mp\n",
        "print(np.arccos(0.92387953)*57*2)\n",
        "print(np.arcsin(0.38268343)*57*2)"
      ],
      "execution_count": 61,
      "outputs": [
        {
          "output_type": "stream",
          "text": [
            "44.76769606175772\n",
            "44.76769502181972\n"
          ],
          "name": "stdout"
        }
      ]
    },
    {
      "metadata": {
        "id": "NvbjbE1xPIol",
        "colab_type": "code",
        "colab": {}
      },
      "cell_type": "code",
      "source": [
        "import matplotlib.pyplot as plt\n",
        "#matplotlib inline"
      ],
      "execution_count": 0,
      "outputs": []
    },
    {
      "metadata": {
        "id": "wgcbjAYKZ4LH",
        "colab_type": "code",
        "colab": {
          "base_uri": "https://localhost:8080/",
          "height": 364
        },
        "outputId": "78980a65-aa8c-4db4-a178-65ac01592163"
      },
      "cell_type": "code",
      "source": [
        "x = np.array(range(1000) )* 0.01\n",
        "y=np.sin(x)\n",
        "plt.plot(y)"
      ],
      "execution_count": 6,
      "outputs": [
        {
          "output_type": "execute_result",
          "data": {
            "text/plain": [
              "[<matplotlib.lines.Line2D at 0x7fc671c709e8>]"
            ]
          },
          "metadata": {
            "tags": []
          },
          "execution_count": 6
        },
        {
          "output_type": "display_data",
          "data": {
            "image/png": "[encoded data removed]",
            "text/plain": [
              "<Figure size 576x396 with 1 Axes>"
            ]
          },
          "metadata": {
            "tags": []
          }
        }
      ]
    },
    {
      "metadata": {
        "id": "KlgOEpAzZ7Vw",
        "colab_type": "code",
        "colab": {}
      },
      "cell_type": "code",
      "source": [
        ""
      ],
      "execution_count": 0,
      "outputs": []
    }
  ]
}