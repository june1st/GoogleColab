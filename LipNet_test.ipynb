{
  "nbformat": 4,
  "nbformat_minor": 0,
  "metadata": {
    "colab": {
      "name": "LipNet_on_GoogleColab.ipynb",
      "version": "0.3.2",
      "provenance": [],
      "collapsed_sections": [],
      "toc_visible": true,
      "include_colab_link": true
    },
    "kernelspec": {
      "name": "python2",
      "display_name": "Python 2"
    },
    "accelerator": "GPU"
  },
  "cells": [
    {
      "cell_type": "markdown",
      "metadata": {
        "id": "view-in-github",
        "colab_type": "text"
      },
      "source": [
        "<a href=\"https://colab.research.google.com/github/june1st/GoogleColab/blob/master/LipNet_test.ipynb\" target=\"_parent\"><img src=\"https://colab.research.google.com/assets/colab-badge.svg\" alt=\"Open In Colab\"/></a>"
      ]
    },
    {
      "metadata": {
        "id": "rkTLZ3I4_7c_",
        "colab_type": "text"
      },
      "cell_type": "markdown",
      "source": [
        "# LipNetのテスト\n",
        "\n",
        "<table class=\"tfo-notebook-buttons\" align=\"left\" >\n",
        " <td>\n",
        "<img src=\"https://www.tensorflow.org/images/colab_logo_32px.png\" />\n",
        "  <td>\n",
        "<img src=\"https://www.tensorflow.org/images/GitHub-Mark-32px.png\" />\n",
        "  </td>\n",
        "</table>\n"
      ]
    },
    {
      "metadata": {
        "id": "RTL4tgzT3nNj",
        "colab_type": "text"
      },
      "cell_type": "markdown",
      "source": [
        "## 0.最初にやること  \n",
        "・LipNetのスクリプトはGPUとPython2.7を使います。  \n",
        "・GoogleColabratory、左上の  「編集→ノートブックの設定」で、  \n",
        "　　→ ランタイムのタイプ「Python2」  \n",
        "　　→ ハードウェアアクセラレータ「GPU」  \n",
        "　に変更してください。"
      ]
    },
    {
      "metadata": {
        "id": "DxtoJpEFwz7B",
        "colab_type": "text"
      },
      "cell_type": "markdown",
      "source": [
        "## 1. 最初に現在のGoogleColabランタイムの状況を確認"
      ]
    },
    {
      "metadata": {
        "id": "co8HlrpYc4yl",
        "colab_type": "code",
        "colab": {
          "base_uri": "https://localhost:8080/",
          "height": 136
        },
        "outputId": "00e85836-e085-4f0e-f104-448bdbfec5ec"
      },
      "cell_type": "code",
      "source": [
        "!ls -la\n",
        "%pwd"
      ],
      "execution_count": 1,
      "outputs": [
        {
          "output_type": "stream",
          "text": [
            "total 20\n",
            "drwxr-xr-x  1 root root 4096 Feb 11 05:21 .\n",
            "drwxr-xr-x  1 root root 4096 Feb 11 04:52 ..\n",
            "drwxr-xr-x  1 root root 4096 Feb  6 17:30 .config\n",
            "drwxr-xr-x 14 root root 4096 Feb 11 05:53 openpose\n",
            "drwxr-xr-x  1 root root 4096 Feb  6 17:31 sample_data\n"
          ],
          "name": "stdout"
        },
        {
          "output_type": "execute_result",
          "data": {
            "text/plain": [
              "u'/content'"
            ]
          },
          "metadata": {
            "tags": []
          },
          "execution_count": 1
        }
      ]
    },
    {
      "metadata": {
        "id": "CU4ZDzTTiFyV",
        "colab_type": "code",
        "colab": {
          "base_uri": "https://localhost:8080/",
          "height": 238
        },
        "outputId": "dc11f869-286d-4b7d-b845-b1ff587a7193"
      },
      "cell_type": "code",
      "source": [
        "!python -c 'import chainer; chainer.print_runtime_info()'"
      ],
      "execution_count": 2,
      "outputs": [
        {
          "output_type": "stream",
          "text": [
            "Platform: Linux-4.14.79+-x86_64-with-Ubuntu-18.04-bionic\n",
            "Chainer: 5.0.0\n",
            "NumPy: 1.14.6\n",
            "CuPy:\n",
            "  CuPy Version          : 5.2.0\n",
            "  CUDA Root             : /usr/local/cuda\n",
            "  CUDA Build Version    : 10000\n",
            "  CUDA Driver Version   : 10000\n",
            "  CUDA Runtime Version  : 10000\n",
            "  cuDNN Build Version   : 7301\n",
            "  cuDNN Version         : 7301\n",
            "  NCCL Build Version    : 2307\n",
            "iDeep: 2.0.0.post3\n"
          ],
          "name": "stdout"
        }
      ]
    },
    {
      "metadata": {
        "id": "6LC_G27oxj7Y",
        "colab_type": "text"
      },
      "cell_type": "markdown",
      "source": [
        "## 2. LipNetのスクリプトをダウンロード"
      ]
    },
    {
      "metadata": {
        "id": "WZlXvFeVWz0w",
        "colab_type": "code",
        "colab": {
          "base_uri": "https://localhost:8080/",
          "height": 136
        },
        "outputId": "0a61f230-f32b-497a-8a85-f316774c2626"
      },
      "cell_type": "code",
      "source": [
        "#https://www.tensorflow.org/install/install_sources#common_installation_problems\n",
        "!git clone https://github.com/rizkiarm/LipNet\n",
        "%cd LipNet"
      ],
      "execution_count": 3,
      "outputs": [
        {
          "output_type": "stream",
          "text": [
            "Cloning into 'LipNet'...\n",
            "remote: Enumerating objects: 343, done.\u001b[K\n",
            "remote: Total 343 (delta 0), reused 0 (delta 0), pack-reused 343\u001b[K\n",
            "Receiving objects: 100% (343/343), 125.84 MiB | 28.22 MiB/s, done.\n",
            "Resolving deltas: 100% (126/126), done.\n",
            "Checking out files: 100% (134/134), done.\n",
            "/content/LipNet\n"
          ],
          "name": "stdout"
        }
      ]
    },
    {
      "metadata": {
        "id": "A6MTEE_OpJCy",
        "colab_type": "code",
        "colab": {
          "base_uri": "https://localhost:8080/",
          "height": 1567
        },
        "outputId": "883c6c50-c5ec-447f-b484-9b60fb65f0ea"
      },
      "cell_type": "code",
      "source": [
        "#dlibのバージョンを修正（dlib==19.9.0　→　dlib==19.16.0）\n",
        "!sed -i s/'dlib==19.4.0'/'dlib==19.16.0'/ setup.py\n",
        "!sed -i s/'tensorflow-gpu==1.0.1'/'tensorflow-gpu==1.4.0'/ setup.py\n",
        "!sed -i s/'numpy==1.12.1'/'numpy==1.14.3'/ -i setup.py\n",
        "!pip install distro\n",
        "!apt update\n",
        "!apt install -y cmake\n",
        "!apt install ffmpeg\n",
        "!pip install dlib\n",
        "!pip install boost\n",
        "!pip install -e ."
      ],
      "execution_count": 13,
      "outputs": [
        {
          "output_type": "stream",
          "text": [
            "Requirement already satisfied: distro in /usr/local/lib/python2.7/dist-packages (1.4.0)\n",
            "Ign:1 http://developer.download.nvidia.com/compute/cuda/repos/ubuntu1604/x86_64  InRelease\n",
            "Hit:2 http://developer.download.nvidia.com/compute/cuda/repos/ubuntu1604/x86_64  Release\n",
            "Hit:3 https://cloud.r-project.org/bin/linux/ubuntu bionic-cran35/ InRelease\n",
            "Hit:4 http://ppa.launchpad.net/graphics-drivers/ppa/ubuntu bionic InRelease\n",
            "Get:5 http://security.ubuntu.com/ubuntu bionic-security InRelease [88.7 kB]\n",
            "Hit:6 http://archive.ubuntu.com/ubuntu bionic InRelease\n",
            "Ign:8 https://developer.download.nvidia.com/compute/machine-learning/repos/ubuntu1804/x86_64  InRelease\n",
            "Hit:9 https://developer.download.nvidia.com/compute/machine-learning/repos/ubuntu1804/x86_64  Release\n",
            "Get:10 http://archive.ubuntu.com/ubuntu bionic-updates InRelease [88.7 kB]\n",
            "Get:11 http://archive.ubuntu.com/ubuntu bionic-backports InRelease [74.6 kB]\n",
            "Fetched 252 kB in 2s (157 kB/s)\n",
            "Reading package lists... Done\n",
            "Building dependency tree       \n",
            "Reading state information... Done\n",
            "26 packages can be upgraded. Run 'apt list --upgradable' to see them.\n",
            "Reading package lists... Done\n",
            "Building dependency tree       \n",
            "Reading state information... Done\n",
            "cmake is already the newest version (3.10.2-1ubuntu2).\n",
            "0 upgraded, 0 newly installed, 0 to remove and 26 not upgraded.\n",
            "Reading package lists... Done\n",
            "Building dependency tree       \n",
            "Reading state information... Done\n",
            "ffmpeg is already the newest version (7:3.4.4-0ubuntu0.18.04.1).\n",
            "0 upgraded, 0 newly installed, 0 to remove and 26 not upgraded.\n",
            "Requirement already satisfied: dlib in /usr/local/lib/python2.7/dist-packages (19.16.0)\n",
            "Requirement already satisfied: boost in /usr/local/lib/python2.7/dist-packages (0.1)\n",
            "Requirement already satisfied: Mastodon.py in /usr/local/lib/python2.7/dist-packages (from boost) (1.3.1)\n",
            "Requirement already satisfied: sqlalchemy in /usr/local/lib/python2.7/dist-packages (from boost) (1.2.17)\n",
            "Requirement already satisfied: six in /usr/local/lib/python2.7/dist-packages (from Mastodon.py->boost) (1.11.0)\n",
            "Requirement already satisfied: cryptography>=1.6.0 in /usr/lib/python2.7/dist-packages (from Mastodon.py->boost) (2.1.4)\n",
            "Requirement already satisfied: requests in /usr/local/lib/python2.7/dist-packages (from Mastodon.py->boost) (2.18.4)\n",
            "Requirement already satisfied: decorator>=4.0.0 in /usr/local/lib/python2.7/dist-packages (from Mastodon.py->boost) (4.3.2)\n",
            "Requirement already satisfied: http-ece>=1.0.5 in /usr/local/lib/python2.7/dist-packages (from Mastodon.py->boost) (1.0.5)\n",
            "Requirement already satisfied: python-dateutil in /usr/local/lib/python2.7/dist-packages (from Mastodon.py->boost) (2.6.0)\n",
            "Requirement already satisfied: pytz in /usr/local/lib/python2.7/dist-packages (from Mastodon.py->boost) (2018.9)\n",
            "Requirement already satisfied: idna<2.7,>=2.5 in /usr/local/lib/python2.7/dist-packages (from requests->Mastodon.py->boost) (2.6)\n",
            "Requirement already satisfied: urllib3<1.23,>=1.21.1 in /usr/local/lib/python2.7/dist-packages (from requests->Mastodon.py->boost) (1.22)\n",
            "Requirement already satisfied: certifi>=2017.4.17 in /usr/local/lib/python2.7/dist-packages (from requests->Mastodon.py->boost) (2018.11.29)\n",
            "Requirement already satisfied: chardet<3.1.0,>=3.0.2 in /usr/local/lib/python2.7/dist-packages (from requests->Mastodon.py->boost) (3.0.4)\n",
            "Obtaining file:///content/LipNet\n",
            "Requirement already satisfied: Keras==2.0.2 in /usr/local/lib/python2.7/dist-packages (from lipnet==0.1.6) (2.0.2)\n",
            "Requirement already satisfied: editdistance==0.3.1 in /usr/local/lib/python2.7/dist-packages (from lipnet==0.1.6) (0.3.1)\n",
            "Requirement already satisfied: h5py==2.6.0 in /usr/local/lib/python2.7/dist-packages (from lipnet==0.1.6) (2.6.0)\n",
            "Requirement already satisfied: matplotlib==2.0.0 in /usr/local/lib/python2.7/dist-packages (from lipnet==0.1.6) (2.0.0)\n",
            "Requirement already satisfied: numpy==1.14.3 in /usr/local/lib/python2.7/dist-packages (from lipnet==0.1.6) (1.14.3)\n",
            "Requirement already satisfied: python-dateutil==2.6.0 in /usr/local/lib/python2.7/dist-packages (from lipnet==0.1.6) (2.6.0)\n",
            "Requirement already satisfied: scipy==0.19.0 in /usr/local/lib/python2.7/dist-packages (from lipnet==0.1.6) (0.19.0)\n",
            "Requirement already satisfied: Pillow==4.1.0 in /usr/local/lib/python2.7/dist-packages (from lipnet==0.1.6) (4.1.0)\n",
            "Requirement already satisfied: tensorflow-gpu==1.4.0 in /usr/local/lib/python2.7/dist-packages (from lipnet==0.1.6) (1.4.0)\n",
            "Requirement already satisfied: Theano==0.9.0 in /usr/local/lib/python2.7/dist-packages (from lipnet==0.1.6) (0.9.0)\n",
            "Requirement already satisfied: nltk==3.2.2 in /usr/local/lib/python2.7/dist-packages (from lipnet==0.1.6) (3.2.2)\n",
            "Requirement already satisfied: sk-video==1.1.7 in /usr/local/lib/python2.7/dist-packages (from lipnet==0.1.6) (1.1.7)\n",
            "Collecting dlib==19.9.0 (from lipnet==0.1.6)\n",
            "  Using cached https://files.pythonhosted.org/packages/23/7a/891d4c46cdf755fb69eec0f06a53033d3754bf68ace5342ad56aeb540aa1/dlib-19.9.0.tar.gz\n",
            "Requirement already satisfied: six in /usr/local/lib/python2.7/dist-packages (from Keras==2.0.2->lipnet==0.1.6) (1.11.0)\n",
            "Requirement already satisfied: pyyaml in /usr/local/lib/python2.7/dist-packages (from Keras==2.0.2->lipnet==0.1.6) (3.13)\n",
            "Requirement already satisfied: cycler>=0.10 in /usr/local/lib/python2.7/dist-packages (from matplotlib==2.0.0->lipnet==0.1.6) (0.10.0)\n",
            "Requirement already satisfied: pyparsing!=2.0.0,!=2.0.4,!=2.1.2,!=2.1.6,>=1.5.6 in /usr/local/lib/python2.7/dist-packages (from matplotlib==2.0.0->lipnet==0.1.6) (2.3.1)\n",
            "Requirement already satisfied: subprocess32 in /usr/local/lib/python2.7/dist-packages (from matplotlib==2.0.0->lipnet==0.1.6) (3.5.3)\n",
            "Requirement already satisfied: functools32 in /usr/local/lib/python2.7/dist-packages (from matplotlib==2.0.0->lipnet==0.1.6) (3.2.3.post2)\n",
            "Requirement already satisfied: pytz in /usr/local/lib/python2.7/dist-packages (from matplotlib==2.0.0->lipnet==0.1.6) (2018.9)\n",
            "Requirement already satisfied: olefile in /usr/local/lib/python2.7/dist-packages (from Pillow==4.1.0->lipnet==0.1.6) (0.46)\n",
            "Requirement already satisfied: tensorflow-tensorboard<0.5.0,>=0.4.0rc1 in /usr/local/lib/python2.7/dist-packages (from tensorflow-gpu==1.4.0->lipnet==0.1.6) (0.4.0)\n",
            "Requirement already satisfied: mock>=2.0.0 in /usr/local/lib/python2.7/dist-packages (from tensorflow-gpu==1.4.0->lipnet==0.1.6) (2.0.0)\n",
            "Requirement already satisfied: enum34>=1.1.6 in /usr/local/lib/python2.7/dist-packages (from tensorflow-gpu==1.4.0->lipnet==0.1.6) (1.1.6)\n",
            "Requirement already satisfied: protobuf>=3.3.0 in /usr/local/lib/python2.7/dist-packages (from tensorflow-gpu==1.4.0->lipnet==0.1.6) (3.6.1)\n",
            "Requirement already satisfied: wheel in /usr/local/lib/python2.7/dist-packages (from tensorflow-gpu==1.4.0->lipnet==0.1.6) (0.32.3)\n",
            "Requirement already satisfied: backports.weakref>=1.0rc1 in /usr/local/lib/python2.7/dist-packages (from tensorflow-gpu==1.4.0->lipnet==0.1.6) (1.0.post1)\n",
            "Requirement already satisfied: bleach==1.5.0 in /usr/local/lib/python2.7/dist-packages (from tensorflow-tensorboard<0.5.0,>=0.4.0rc1->tensorflow-gpu==1.4.0->lipnet==0.1.6) (1.5.0)\n",
            "Requirement already satisfied: futures>=3.1.1; python_version < \"3.2\" in /usr/local/lib/python2.7/dist-packages (from tensorflow-tensorboard<0.5.0,>=0.4.0rc1->tensorflow-gpu==1.4.0->lipnet==0.1.6) (3.2.0)\n",
            "Requirement already satisfied: html5lib==0.9999999 in /usr/local/lib/python2.7/dist-packages (from tensorflow-tensorboard<0.5.0,>=0.4.0rc1->tensorflow-gpu==1.4.0->lipnet==0.1.6) (0.9999999)\n",
            "Requirement already satisfied: werkzeug>=0.11.10 in /usr/local/lib/python2.7/dist-packages (from tensorflow-tensorboard<0.5.0,>=0.4.0rc1->tensorflow-gpu==1.4.0->lipnet==0.1.6) (0.14.1)\n",
            "Requirement already satisfied: markdown>=2.6.8 in /usr/local/lib/python2.7/dist-packages (from tensorflow-tensorboard<0.5.0,>=0.4.0rc1->tensorflow-gpu==1.4.0->lipnet==0.1.6) (3.0.1)\n",
            "Requirement already satisfied: funcsigs>=1; python_version < \"3.3\" in /usr/local/lib/python2.7/dist-packages (from mock>=2.0.0->tensorflow-gpu==1.4.0->lipnet==0.1.6) (1.0.2)\n",
            "Requirement already satisfied: pbr>=0.11 in /usr/local/lib/python2.7/dist-packages (from mock>=2.0.0->tensorflow-gpu==1.4.0->lipnet==0.1.6) (5.1.2)\n",
            "Requirement already satisfied: setuptools in /usr/local/lib/python2.7/dist-packages (from protobuf>=3.3.0->tensorflow-gpu==1.4.0->lipnet==0.1.6) (40.8.0)\n",
            "Building wheels for collected packages: dlib\n",
            "  Building wheel for dlib (setup.py) ... \u001b[?25l\n",
            "y\n",
            "done\n",
            "\u001b[?25h  Stored in directory: /root/.cache/pip/wheels/a8/e4/e6/29d2f572e6521b3aa1428df898206fe298d61cd59bfec1868b\n",
            "Successfully built dlib\n",
            "Installing collected packages: dlib, lipnet\n",
            "  Found existing installation: dlib 19.16.0\n",
            "    Uninstalling dlib-19.16.0:\n",
            "      Successfully uninstalled dlib-19.16.0\n",
            "  Running setup.py develop for lipnet\n",
            "Successfully installed dlib-19.9.0 lipnet\n"
          ],
          "name": "stdout"
        }
      ]
    },
    {
      "metadata": {
        "id": "rHhoNDpVobK0",
        "colab_type": "text"
      },
      "cell_type": "markdown",
      "source": [
        "CUDA9.0のランタイム準備（LipNetは8.0を使うのでここは不要）"
      ]
    },
    {
      "metadata": {
        "id": "b-rCJf0oll_-",
        "colab_type": "code",
        "colab": {}
      },
      "cell_type": "code",
      "source": [
        "#!wget http://developer.download.nvidia.com/compute/cuda/repos/ubuntu1604/x86_64/cuda-repo-ubuntu1604_9.0.176-1_amd64.deb\n",
        "#!dpkg -i --force-confnew cuda-repo-ubuntu1604_9.0.176-1_amd64.deb\n",
        "#!apt-key adv --fetch-keys http://developer.download.nvidia.com/compute/cuda/repos/ubuntu1604/x86_64/7fa2af80.pub\n",
        "#!apt-get update\n",
        "#!apt-get install cuda-9-0"
      ],
      "execution_count": 0,
      "outputs": []
    },
    {
      "metadata": {
        "id": "qkh2NV7klzzT",
        "colab_type": "text"
      },
      "cell_type": "markdown",
      "source": [
        "CUDA8.0のランタイム準備（CoocleColaboraroryはCUDA9.2を使用しているのでこれを入れる）  \n",
        "※ --force-confnewしないと途中で止まるので注意  → http://za.toypark.in/html/2010/06-04.html"
      ]
    },
    {
      "metadata": {
        "id": "IcEaXtmMnyvX",
        "colab_type": "code",
        "colab": {
          "base_uri": "https://localhost:8080/",
          "height": 4080
        },
        "outputId": "573e8e25-1877-42c0-bc96-e5411d5f9270"
      },
      "cell_type": "code",
      "source": [
        "!wget https://developer.download.nvidia.com/compute/cuda/repos/ubuntu1604/x86_64/cuda-repo-ubuntu1604_8.0.61-1_amd64.deb\n",
        "!dpkg -i --force-confnew cuda-repo-ubuntu1604_8.0.61-1_amd64.deb\n",
        "!apt-key adv --fetch-keys http://developer.download.nvidia.com/compute/cuda/repos/ubuntu1604/x86_64/7fa2af80.pub\n",
        "!apt-get update\n",
        "!apt-get install cuda-8-0"
      ],
      "execution_count": 6,
      "outputs": [
        {
          "output_type": "stream",
          "text": [
            "--2019-02-11 06:01:45--  https://developer.download.nvidia.com/compute/cuda/repos/ubuntu1604/x86_64/cuda-repo-ubuntu1604_8.0.61-1_amd64.deb\n",
            "Resolving developer.download.nvidia.com (developer.download.nvidia.com)... 192.229.211.70, 2606:2800:21f:3aa:dcf:37b:1ed6:1fb\n",
            "Connecting to developer.download.nvidia.com (developer.download.nvidia.com)|192.229.211.70|:443... connected.\n",
            "HTTP request sent, awaiting response... 200 OK\n",
            "Length: 2690 (2.6K) [application/x-deb]\n",
            "Saving to: ‘cuda-repo-ubuntu1604_8.0.61-1_amd64.deb’\n",
            "\n",
            "\r          cuda-repo   0%[                    ]       0  --.-KB/s               \rcuda-repo-ubuntu160 100%[===================>]   2.63K  --.-KB/s    in 0s      \n",
            "\n",
            "2019-02-11 06:01:45 (120 MB/s) - ‘cuda-repo-ubuntu1604_8.0.61-1_amd64.deb’ saved [2690/2690]\n",
            "\n",
            "Selecting previously unselected package cuda-repo-ubuntu1604.\n",
            "(Reading database ... 120641 files and directories currently installed.)\n",
            "Preparing to unpack cuda-repo-ubuntu1604_8.0.61-1_amd64.deb ...\n",
            "Unpacking cuda-repo-ubuntu1604 (8.0.61-1) ...\n",
            "Setting up cuda-repo-ubuntu1604 (8.0.61-1) ...\n",
            "\n",
            "Configuration file '/etc/apt/sources.list.d/cuda.list'\n",
            " ==> File on system created by you or by a script.\n",
            " ==> File also in package provided by package maintainer.\n",
            " ==> Using new file as you requested.\n",
            "Installing new version of config file /etc/apt/sources.list.d/cuda.list ...\n",
            "Warning: The postinst maintainerscript of the package cuda-repo-ubuntu1604\n",
            "Warning: seems to use apt-key (provided by apt) without depending on gnupg or gnupg2.\n",
            "Warning: This will BREAK in the future and should be fixed by the package maintainer(s).\n",
            "Note: Check first if apt-key functionality is needed at all - it probably isn't!\n",
            "Warning: apt-key should not be used in scripts (called from postinst maintainerscript of the package cuda-repo-ubuntu1604)\n",
            "OK\n",
            "Executing: /tmp/apt-key-gpghome.EY5tbaMQvF/gpg.1.sh --fetch-keys http://developer.download.nvidia.com/compute/cuda/repos/ubuntu1604/x86_64/7fa2af80.pub\n",
            "gpg: requesting key from 'http://developer.download.nvidia.com/compute/cuda/repos/ubuntu1604/x86_64/7fa2af80.pub'\n",
            "gpg: key F60F4B3D7FA2AF80: \"cudatools <cudatools@nvidia.com>\" not changed\n",
            "gpg: Total number processed: 1\n",
            "gpg:              unchanged: 1\n",
            "Ign:1 http://developer.download.nvidia.com/compute/cuda/repos/ubuntu1604/x86_64  InRelease\n",
            "Get:2 http://developer.download.nvidia.com/compute/cuda/repos/ubuntu1604/x86_64  Release [564 B]\n",
            "Hit:3 https://cloud.r-project.org/bin/linux/ubuntu bionic-cran35/ InRelease\n",
            "Get:4 http://developer.download.nvidia.com/compute/cuda/repos/ubuntu1604/x86_64  Release.gpg [819 B]\n",
            "Ign:5 https://developer.download.nvidia.com/compute/machine-learning/repos/ubuntu1804/x86_64  InRelease\n",
            "Hit:6 https://developer.download.nvidia.com/compute/machine-learning/repos/ubuntu1804/x86_64  Release\n",
            "Hit:7 http://ppa.launchpad.net/graphics-drivers/ppa/ubuntu bionic InRelease\n",
            "Hit:8 http://archive.ubuntu.com/ubuntu bionic InRelease\n",
            "Get:9 http://security.ubuntu.com/ubuntu bionic-security InRelease [88.7 kB]\n",
            "Get:10 http://archive.ubuntu.com/ubuntu bionic-updates InRelease [88.7 kB]\n",
            "Get:11 http://developer.download.nvidia.com/compute/cuda/repos/ubuntu1604/x86_64  Packages [161 kB]\n",
            "Get:13 http://archive.ubuntu.com/ubuntu bionic-backports InRelease [74.6 kB]\n",
            "Fetched 415 kB in 2s (268 kB/s)\n",
            "Reading package lists... Done\n",
            "Reading package lists... Done\n",
            "Building dependency tree       \n",
            "Reading state information... Done\n",
            "The following additional packages will be installed:\n",
            "  cuda-command-line-tools-8-0 cuda-core-8-0 cuda-cublas-8-0\n",
            "  cuda-cublas-dev-8-0 cuda-cudart-8-0 cuda-cudart-dev-8-0 cuda-cufft-8-0\n",
            "  cuda-cufft-dev-8-0 cuda-curand-8-0 cuda-curand-dev-8-0 cuda-cusolver-8-0\n",
            "  cuda-cusolver-dev-8-0 cuda-cusparse-8-0 cuda-cusparse-dev-8-0\n",
            "  cuda-demo-suite-8-0 cuda-documentation-8-0 cuda-driver-dev-8-0\n",
            "  cuda-license-8-0 cuda-misc-headers-8-0 cuda-npp-8-0 cuda-npp-dev-8-0\n",
            "  cuda-nvgraph-8-0 cuda-nvgraph-dev-8-0 cuda-nvml-dev-8-0 cuda-nvrtc-8-0\n",
            "  cuda-nvrtc-dev-8-0 cuda-runtime-8-0 cuda-samples-8-0 cuda-toolkit-8-0\n",
            "  cuda-visual-tools-8-0\n",
            "The following NEW packages will be installed:\n",
            "  cuda-8-0 cuda-command-line-tools-8-0 cuda-core-8-0 cuda-cublas-8-0\n",
            "  cuda-cublas-dev-8-0 cuda-cudart-8-0 cuda-cudart-dev-8-0 cuda-cufft-8-0\n",
            "  cuda-cufft-dev-8-0 cuda-curand-8-0 cuda-curand-dev-8-0 cuda-cusolver-8-0\n",
            "  cuda-cusolver-dev-8-0 cuda-cusparse-8-0 cuda-cusparse-dev-8-0\n",
            "  cuda-demo-suite-8-0 cuda-documentation-8-0 cuda-driver-dev-8-0\n",
            "  cuda-license-8-0 cuda-misc-headers-8-0 cuda-npp-8-0 cuda-npp-dev-8-0\n",
            "  cuda-nvgraph-8-0 cuda-nvgraph-dev-8-0 cuda-nvml-dev-8-0 cuda-nvrtc-8-0\n",
            "  cuda-nvrtc-dev-8-0 cuda-runtime-8-0 cuda-samples-8-0 cuda-toolkit-8-0\n",
            "  cuda-visual-tools-8-0\n",
            "0 upgraded, 31 newly installed, 0 to remove and 26 not upgraded.\n",
            "Need to get 1,352 MB of archives.\n",
            "After this operation, 2,144 MB of additional disk space will be used.\n",
            "Get:1 http://developer.download.nvidia.com/compute/cuda/repos/ubuntu1604/x86_64  cuda-license-8-0 8.0.61-1 [27.6 kB]\n",
            "Get:2 http://developer.download.nvidia.com/compute/cuda/repos/ubuntu1604/x86_64  cuda-misc-headers-8-0 8.0.61-1 [1,077 kB]\n",
            "Get:3 http://developer.download.nvidia.com/compute/cuda/repos/ubuntu1604/x86_64  cuda-core-8-0 8.0.61-1 [20.0 MB]\n",
            "Get:4 http://developer.download.nvidia.com/compute/cuda/repos/ubuntu1604/x86_64  cuda-cudart-8-0 8.0.61-1 [135 kB]\n",
            "Get:5 http://developer.download.nvidia.com/compute/cuda/repos/ubuntu1604/x86_64  cuda-driver-dev-8-0 8.0.61-1 [14.1 kB]\n",
            "Get:6 http://developer.download.nvidia.com/compute/cuda/repos/ubuntu1604/x86_64  cuda-cudart-dev-8-0 8.0.61-1 [1,071 kB]\n",
            "Get:7 http://developer.download.nvidia.com/compute/cuda/repos/ubuntu1604/x86_64  cuda-command-line-tools-8-0 8.0.61-1 [26.1 MB]\n",
            "Get:8 http://developer.download.nvidia.com/compute/cuda/repos/ubuntu1604/x86_64  cuda-nvrtc-8-0 8.0.61-1 [9,585 kB]\n",
            "Get:9 http://developer.download.nvidia.com/compute/cuda/repos/ubuntu1604/x86_64  cuda-nvrtc-dev-8-0 8.0.61-1 [10.8 kB]\n",
            "Get:10 http://developer.download.nvidia.com/compute/cuda/repos/ubuntu1604/x86_64  cuda-cusolver-8-0 8.0.61-1 [29.3 MB]\n",
            "Get:11 http://developer.download.nvidia.com/compute/cuda/repos/ubuntu1604/x86_64  cuda-cusolver-dev-8-0 8.0.61-1 [6,816 kB]\n",
            "Get:12 http://developer.download.nvidia.com/compute/cuda/repos/ubuntu1604/x86_64  cuda-cublas-8-0 8.0.61.2-1 [58.1 MB]\n",
            "Get:13 http://developer.download.nvidia.com/compute/cuda/repos/ubuntu1604/x86_64  cuda-cublas-dev-8-0 8.0.61.2-1 [66.6 MB]\n",
            "Get:14 http://developer.download.nvidia.com/compute/cuda/repos/ubuntu1604/x86_64  cuda-cufft-8-0 8.0.61-1 [117 MB]\n",
            "Get:15 http://developer.download.nvidia.com/compute/cuda/repos/ubuntu1604/x86_64  cuda-cufft-dev-8-0 8.0.61-1 [94.8 MB]\n",
            "Get:16 http://developer.download.nvidia.com/compute/cuda/repos/ubuntu1604/x86_64  cuda-curand-8-0 8.0.61-1 [43.7 MB]\n",
            "Get:17 http://developer.download.nvidia.com/compute/cuda/repos/ubuntu1604/x86_64  cuda-curand-dev-8-0 8.0.61-1 [67.7 MB]\n",
            "Get:18 http://developer.download.nvidia.com/compute/cuda/repos/ubuntu1604/x86_64  cuda-cusparse-8-0 8.0.61-1 [28.8 MB]\n",
            "Get:19 http://developer.download.nvidia.com/compute/cuda/repos/ubuntu1604/x86_64  cuda-cusparse-dev-8-0 8.0.61-1 [29.6 MB]\n",
            "Get:20 http://developer.download.nvidia.com/compute/cuda/repos/ubuntu1604/x86_64  cuda-npp-8-0 8.0.61-1 [157 MB]\n",
            "Get:21 http://developer.download.nvidia.com/compute/cuda/repos/ubuntu1604/x86_64  cuda-npp-dev-8-0 8.0.61-1 [82.3 MB]\n",
            "Get:22 http://developer.download.nvidia.com/compute/cuda/repos/ubuntu1604/x86_64  cuda-samples-8-0 8.0.61-1 [101 MB]\n",
            "Get:23 http://developer.download.nvidia.com/compute/cuda/repos/ubuntu1604/x86_64  cuda-documentation-8-0 8.0.61-1 [113 MB]\n",
            "Get:24 http://developer.download.nvidia.com/compute/cuda/repos/ubuntu1604/x86_64  cuda-nvml-dev-8-0 8.0.61-1 [48.4 kB]\n",
            "Get:25 http://developer.download.nvidia.com/compute/cuda/repos/ubuntu1604/x86_64  cuda-nvgraph-8-0 8.0.61-1 [2,948 kB]\n",
            "Get:26 http://developer.download.nvidia.com/compute/cuda/repos/ubuntu1604/x86_64  cuda-nvgraph-dev-8-0 8.0.61-1 [3,028 kB]\n",
            "Get:27 http://developer.download.nvidia.com/compute/cuda/repos/ubuntu1604/x86_64  cuda-visual-tools-8-0 8.0.61-1 [286 MB]\n",
            "Get:28 http://developer.download.nvidia.com/compute/cuda/repos/ubuntu1604/x86_64  cuda-toolkit-8-0 8.0.61-1 [2,892 B]\n",
            "Get:29 http://developer.download.nvidia.com/compute/cuda/repos/ubuntu1604/x86_64  cuda-runtime-8-0 8.0.61-1 [2,574 B]\n",
            "Get:30 http://developer.download.nvidia.com/compute/cuda/repos/ubuntu1604/x86_64  cuda-demo-suite-8-0 8.0.61-1 [4,988 kB]\n",
            "Get:31 http://developer.download.nvidia.com/compute/cuda/repos/ubuntu1604/x86_64  cuda-8-0 8.0.61-1 [2,556 B]\n",
            "Fetched 1,352 MB in 27s (50.3 MB/s)\n",
            "Extracting templates from packages: 100%\n",
            "Selecting previously unselected package cuda-license-8-0.\n",
            "(Reading database ... 120644 files and directories currently installed.)\n",
            "Preparing to unpack .../00-cuda-license-8-0_8.0.61-1_amd64.deb ...\n",
            "Unpacking cuda-license-8-0 (8.0.61-1) ...\n",
            "Selecting previously unselected package cuda-misc-headers-8-0.\n",
            "Preparing to unpack .../01-cuda-misc-headers-8-0_8.0.61-1_amd64.deb ...\n",
            "Unpacking cuda-misc-headers-8-0 (8.0.61-1) ...\n",
            "Selecting previously unselected package cuda-core-8-0.\n",
            "Preparing to unpack .../02-cuda-core-8-0_8.0.61-1_amd64.deb ...\n",
            "Unpacking cuda-core-8-0 (8.0.61-1) ...\n",
            "Selecting previously unselected package cuda-cudart-8-0.\n",
            "Preparing to unpack .../03-cuda-cudart-8-0_8.0.61-1_amd64.deb ...\n",
            "Unpacking cuda-cudart-8-0 (8.0.61-1) ...\n",
            "Selecting previously unselected package cuda-driver-dev-8-0.\n",
            "Preparing to unpack .../04-cuda-driver-dev-8-0_8.0.61-1_amd64.deb ...\n",
            "Unpacking cuda-driver-dev-8-0 (8.0.61-1) ...\n",
            "Selecting previously unselected package cuda-cudart-dev-8-0.\n",
            "Preparing to unpack .../05-cuda-cudart-dev-8-0_8.0.61-1_amd64.deb ...\n",
            "Unpacking cuda-cudart-dev-8-0 (8.0.61-1) ...\n",
            "Selecting previously unselected package cuda-command-line-tools-8-0.\n",
            "Preparing to unpack .../06-cuda-command-line-tools-8-0_8.0.61-1_amd64.deb ...\n",
            "Unpacking cuda-command-line-tools-8-0 (8.0.61-1) ...\n",
            "Selecting previously unselected package cuda-nvrtc-8-0.\n",
            "Preparing to unpack .../07-cuda-nvrtc-8-0_8.0.61-1_amd64.deb ...\n",
            "Unpacking cuda-nvrtc-8-0 (8.0.61-1) ...\n",
            "Selecting previously unselected package cuda-nvrtc-dev-8-0.\n",
            "Preparing to unpack .../08-cuda-nvrtc-dev-8-0_8.0.61-1_amd64.deb ...\n",
            "Unpacking cuda-nvrtc-dev-8-0 (8.0.61-1) ...\n",
            "Selecting previously unselected package cuda-cusolver-8-0.\n",
            "Preparing to unpack .../09-cuda-cusolver-8-0_8.0.61-1_amd64.deb ...\n",
            "Unpacking cuda-cusolver-8-0 (8.0.61-1) ...\n",
            "Selecting previously unselected package cuda-cusolver-dev-8-0.\n",
            "Preparing to unpack .../10-cuda-cusolver-dev-8-0_8.0.61-1_amd64.deb ...\n",
            "Unpacking cuda-cusolver-dev-8-0 (8.0.61-1) ...\n",
            "Selecting previously unselected package cuda-cublas-8-0.\n",
            "Preparing to unpack .../11-cuda-cublas-8-0_8.0.61.2-1_amd64.deb ...\n",
            "Unpacking cuda-cublas-8-0 (8.0.61.2-1) ...\n",
            "Selecting previously unselected package cuda-cublas-dev-8-0.\n",
            "Preparing to unpack .../12-cuda-cublas-dev-8-0_8.0.61.2-1_amd64.deb ...\n",
            "Unpacking cuda-cublas-dev-8-0 (8.0.61.2-1) ...\n",
            "Selecting previously unselected package cuda-cufft-8-0.\n",
            "Preparing to unpack .../13-cuda-cufft-8-0_8.0.61-1_amd64.deb ...\n",
            "Unpacking cuda-cufft-8-0 (8.0.61-1) ...\n",
            "Selecting previously unselected package cuda-cufft-dev-8-0.\n",
            "Preparing to unpack .../14-cuda-cufft-dev-8-0_8.0.61-1_amd64.deb ...\n",
            "Unpacking cuda-cufft-dev-8-0 (8.0.61-1) ...\n",
            "Selecting previously unselected package cuda-curand-8-0.\n",
            "Preparing to unpack .../15-cuda-curand-8-0_8.0.61-1_amd64.deb ...\n",
            "Unpacking cuda-curand-8-0 (8.0.61-1) ...\n",
            "Selecting previously unselected package cuda-curand-dev-8-0.\n",
            "Preparing to unpack .../16-cuda-curand-dev-8-0_8.0.61-1_amd64.deb ...\n",
            "Unpacking cuda-curand-dev-8-0 (8.0.61-1) ...\n",
            "Selecting previously unselected package cuda-cusparse-8-0.\n",
            "Preparing to unpack .../17-cuda-cusparse-8-0_8.0.61-1_amd64.deb ...\n",
            "Unpacking cuda-cusparse-8-0 (8.0.61-1) ...\n",
            "Selecting previously unselected package cuda-cusparse-dev-8-0.\n",
            "Preparing to unpack .../18-cuda-cusparse-dev-8-0_8.0.61-1_amd64.deb ...\n",
            "Unpacking cuda-cusparse-dev-8-0 (8.0.61-1) ...\n",
            "Selecting previously unselected package cuda-npp-8-0.\n",
            "Preparing to unpack .../19-cuda-npp-8-0_8.0.61-1_amd64.deb ...\n",
            "Unpacking cuda-npp-8-0 (8.0.61-1) ...\n",
            "Selecting previously unselected package cuda-npp-dev-8-0.\n",
            "Preparing to unpack .../20-cuda-npp-dev-8-0_8.0.61-1_amd64.deb ...\n",
            "Unpacking cuda-npp-dev-8-0 (8.0.61-1) ...\n",
            "Selecting previously unselected package cuda-samples-8-0.\n",
            "Preparing to unpack .../21-cuda-samples-8-0_8.0.61-1_amd64.deb ...\n",
            "Unpacking cuda-samples-8-0 (8.0.61-1) ...\n",
            "Selecting previously unselected package cuda-documentation-8-0.\n",
            "Preparing to unpack .../22-cuda-documentation-8-0_8.0.61-1_amd64.deb ...\n",
            "Unpacking cuda-documentation-8-0 (8.0.61-1) ...\n",
            "Selecting previously unselected package cuda-nvml-dev-8-0.\n",
            "Preparing to unpack .../23-cuda-nvml-dev-8-0_8.0.61-1_amd64.deb ...\n",
            "Unpacking cuda-nvml-dev-8-0 (8.0.61-1) ...\n",
            "Selecting previously unselected package cuda-nvgraph-8-0.\n",
            "Preparing to unpack .../24-cuda-nvgraph-8-0_8.0.61-1_amd64.deb ...\n",
            "Unpacking cuda-nvgraph-8-0 (8.0.61-1) ...\n",
            "Selecting previously unselected package cuda-nvgraph-dev-8-0.\n",
            "Preparing to unpack .../25-cuda-nvgraph-dev-8-0_8.0.61-1_amd64.deb ...\n",
            "Unpacking cuda-nvgraph-dev-8-0 (8.0.61-1) ...\n",
            "Selecting previously unselected package cuda-visual-tools-8-0.\n",
            "Preparing to unpack .../26-cuda-visual-tools-8-0_8.0.61-1_amd64.deb ...\n",
            "Unpacking cuda-visual-tools-8-0 (8.0.61-1) ...\n",
            "Selecting previously unselected package cuda-toolkit-8-0.\n",
            "Preparing to unpack .../27-cuda-toolkit-8-0_8.0.61-1_amd64.deb ...\n",
            "Unpacking cuda-toolkit-8-0 (8.0.61-1) ...\n",
            "Selecting previously unselected package cuda-runtime-8-0.\n",
            "Preparing to unpack .../28-cuda-runtime-8-0_8.0.61-1_amd64.deb ...\n",
            "Unpacking cuda-runtime-8-0 (8.0.61-1) ...\n",
            "Selecting previously unselected package cuda-demo-suite-8-0.\n",
            "Preparing to unpack .../29-cuda-demo-suite-8-0_8.0.61-1_amd64.deb ...\n",
            "Unpacking cuda-demo-suite-8-0 (8.0.61-1) ...\n",
            "Selecting previously unselected package cuda-8-0.\n",
            "Preparing to unpack .../30-cuda-8-0_8.0.61-1_amd64.deb ...\n",
            "Unpacking cuda-8-0 (8.0.61-1) ...\n",
            "Setting up cuda-license-8-0 (8.0.61-1) ...\n",
            "*** LICENSE AGREEMENT ***\n",
            "By using this software you agree to fully comply with the terms and \n",
            "conditions of the EULA (End User License Agreement). The EULA is located\n",
            "at /usr/local/cuda-8.0/doc/EULA.txt. The EULA can also be found at\n",
            "http://docs.nvidia.com/cuda/eula/index.html. If you do not agree to the\n",
            "terms and conditions of the EULA, do not use the software.\n",
            "\n",
            "Setting up cuda-nvgraph-8-0 (8.0.61-1) ...\n",
            "Setting up cuda-cufft-8-0 (8.0.61-1) ...\n",
            "Setting up cuda-npp-8-0 (8.0.61-1) ...\n",
            "Setting up cuda-nvgraph-dev-8-0 (8.0.61-1) ...\n",
            "Setting up cuda-cudart-8-0 (8.0.61-1) ...\n",
            "Setting up cuda-driver-dev-8-0 (8.0.61-1) ...\n",
            "Setting up cuda-cusolver-8-0 (8.0.61-1) ...\n",
            "Setting up cuda-nvml-dev-8-0 (8.0.61-1) ...\n",
            "Setting up cuda-cufft-dev-8-0 (8.0.61-1) ...\n",
            "Setting up cuda-misc-headers-8-0 (8.0.61-1) ...\n",
            "Setting up cuda-cusparse-8-0 (8.0.61-1) ...\n",
            "Setting up cuda-nvrtc-8-0 (8.0.61-1) ...\n",
            "Setting up cuda-nvrtc-dev-8-0 (8.0.61-1) ...\n",
            "Setting up cuda-curand-8-0 (8.0.61-1) ...\n",
            "Setting up cuda-cublas-8-0 (8.0.61.2-1) ...\n",
            "Setting up cuda-cusolver-dev-8-0 (8.0.61-1) ...\n",
            "Setting up cuda-core-8-0 (8.0.61-1) ...\n",
            "Setting up cuda-curand-dev-8-0 (8.0.61-1) ...\n",
            "Setting up cuda-npp-dev-8-0 (8.0.61-1) ...\n",
            "Setting up cuda-cudart-dev-8-0 (8.0.61-1) ...\n",
            "Setting up cuda-cublas-dev-8-0 (8.0.61.2-1) ...\n",
            "Setting up cuda-runtime-8-0 (8.0.61-1) ...\n",
            "Setting up cuda-cusparse-dev-8-0 (8.0.61-1) ...\n",
            "Setting up cuda-command-line-tools-8-0 (8.0.61-1) ...\n",
            "Setting up cuda-demo-suite-8-0 (8.0.61-1) ...\n",
            "Setting up cuda-samples-8-0 (8.0.61-1) ...\n",
            "Setting up cuda-visual-tools-8-0 (8.0.61-1) ...\n",
            "Setting up cuda-documentation-8-0 (8.0.61-1) ...\n",
            "Setting up cuda-toolkit-8-0 (8.0.61-1) ...\n",
            "Setting up cuda-8-0 (8.0.61-1) ...\n",
            "Processing triggers for libc-bin (2.27-3ubuntu1) ...\n"
          ],
          "name": "stdout"
        }
      ]
    },
    {
      "metadata": {
        "id": "-p_Q0a0wyksF",
        "colab_type": "text"
      },
      "cell_type": "markdown",
      "source": [
        "cuDNN6.0の準備（GoogleColabratoryはcuDNN7.2を使用しているのでこれを入れる）"
      ]
    },
    {
      "metadata": {
        "id": "w8nlDMfzvIjU",
        "colab_type": "code",
        "colab": {
          "base_uri": "https://localhost:8080/",
          "height": 289
        },
        "outputId": "ec28c14a-0aab-4be9-e413-bb8d425ec01b"
      },
      "cell_type": "code",
      "source": [
        "!wget http://developer.download.nvidia.com/compute/redist/cudnn/v6.0/cudnn-8.0-linux-x64-v6.0.tgz\n",
        "!tar -xzvf cudnn-8.0-linux-x64-v6.0.tgz\n",
        "!cp cuda/lib64/libcudnn.so.6.0.21 /usr/lib64-nvidia/libcudnn.so.6\n",
        "#!cp -P cuda/include/cudnn.h /usr/local/cuda-8.0/include\n",
        "#!cp -P cuda/lib64/libcudnn* /usr/local/cuda-8.0/lib64/\n",
        "#!chmod a+r /usr/local/cuda-8.0/lib64/libcudnn*\n",
        "#!cp -P /usr/local/cuda-8.0/lib64/libcudnn.so.6 /usr/lib64-nvidia\n",
        "#!cp -P /usr/local/cuda-8.0/lib64/libcudnn.so.6.0.21 /usr/lib64-nvidia"
      ],
      "execution_count": 7,
      "outputs": [
        {
          "output_type": "stream",
          "text": [
            "--2019-02-11 06:03:10--  http://developer.download.nvidia.com/compute/redist/cudnn/v6.0/cudnn-8.0-linux-x64-v6.0.tgz\n",
            "Resolving developer.download.nvidia.com (developer.download.nvidia.com)... 192.229.211.70, 2606:2800:21f:3aa:dcf:37b:1ed6:1fb\n",
            "Connecting to developer.download.nvidia.com (developer.download.nvidia.com)|192.229.211.70|:80... connected.\n",
            "HTTP request sent, awaiting response... 200 OK\n",
            "Length: 201134139 (192M) [application/x-compressed]\n",
            "Saving to: ‘cudnn-8.0-linux-x64-v6.0.tgz’\n",
            "\n",
            "cudnn-8.0-linux-x64 100%[===================>] 191.82M  3.31MB/s    in 58s     \n",
            "\n",
            "2019-02-11 06:04:08 (3.30 MB/s) - ‘cudnn-8.0-linux-x64-v6.0.tgz’ saved [201134139/201134139]\n",
            "\n",
            "cuda/include/cudnn.h\n",
            "cuda/lib64/libcudnn.so\n",
            "cuda/lib64/libcudnn.so.6\n",
            "cuda/lib64/libcudnn.so.6.0.21\n",
            "cuda/lib64/libcudnn_static.a\n"
          ],
          "name": "stdout"
        }
      ]
    },
    {
      "metadata": {
        "id": "N9zTIwqiy-xu",
        "colab_type": "text"
      },
      "cell_type": "markdown",
      "source": [
        "## 3. LipReadingの実行"
      ]
    },
    {
      "metadata": {
        "id": "HiaCAMfRzIbN",
        "colab_type": "text"
      },
      "cell_type": "markdown",
      "source": [
        "ダウンロードしたファイルの確認"
      ]
    },
    {
      "metadata": {
        "id": "_6JVdyohXlSp",
        "colab_type": "code",
        "colab": {
          "base_uri": "https://localhost:8080/",
          "height": 119
        },
        "outputId": "ba25693e-fc4a-43ae-98fc-3689e92ef8cf"
      },
      "cell_type": "code",
      "source": [
        "!ls"
      ],
      "execution_count": 8,
      "outputs": [
        {
          "output_type": "stream",
          "text": [
            "assets\t\t\t\t\t LICENSE\t  setup.py\n",
            "common\t\t\t\t\t lipnet\t\t  tests\n",
            "cuda\t\t\t\t\t lipnet.egg-info  train\n",
            "cuda-repo-ubuntu1604_8.0.61-1_amd64.deb  predict\t  training\n",
            "cudnn-8.0-linux-x64-v6.0.tgz\t\t README.md\n",
            "evaluation\t\t\t\t scripts\n"
          ],
          "name": "stdout"
        }
      ]
    },
    {
      "metadata": {
        "id": "NqF6-N7ozOat",
        "colab_type": "text"
      },
      "cell_type": "markdown",
      "source": [
        "モデルファイルの確認"
      ]
    },
    {
      "metadata": {
        "id": "6PyqTyrYaaa8",
        "colab_type": "code",
        "colab": {
          "base_uri": "https://localhost:8080/",
          "height": 34
        },
        "outputId": "c60d475f-627a-433c-fd2e-976b282c599c"
      },
      "cell_type": "code",
      "source": [
        "!ls ./evaluation/models"
      ],
      "execution_count": 9,
      "outputs": [
        {
          "output_type": "stream",
          "text": [
            "overlapped-weights368.h5  unseen-weights178.h5\n"
          ],
          "name": "stdout"
        }
      ]
    },
    {
      "metadata": {
        "id": "CMC2p74A0BJP",
        "colab_type": "text"
      },
      "cell_type": "markdown",
      "source": [
        "使用できるサンプル動画の確認"
      ]
    },
    {
      "metadata": {
        "id": "n7hkWl5vz3cq",
        "colab_type": "code",
        "colab": {
          "base_uri": "https://localhost:8080/",
          "height": 51
        },
        "outputId": "20e668f1-0a3f-4ffc-8460-7b9d1a743db9"
      },
      "cell_type": "code",
      "source": [
        "!ls ./evaluation/samples/GRID"
      ],
      "execution_count": 10,
      "outputs": [
        {
          "output_type": "stream",
          "text": [
            "bbaf2n.mpg  lbax4n.mpg\tlrwp9a.mpg  pwij3p.mpg\tsbwe5n.mpg\n",
            "brbk7n.mpg  lbbc2a.mpg\tlwbsza.mpg  sbia1a.mpg\tswiz3n.mpg\n"
          ],
          "name": "stdout"
        }
      ]
    },
    {
      "metadata": {
        "id": "YmxWq1m4zSpd",
        "colab_type": "text"
      },
      "cell_type": "markdown",
      "source": [
        "LipReadingの実行  \n",
        "・./evaluation/samples/GRID/***　の部分を他のmpgに帰ると、他のサンプル動画に変えられる  \n",
        "・最後に出てくる[DECODED]が結果  \n",
        "　　→ bbaf2n.mpg の結果は 「bin blue at f two now」  \n",
        "　"
      ]
    },
    {
      "metadata": {
        "id": "edA9BrdUgasE",
        "colab_type": "code",
        "colab": {
          "base_uri": "https://localhost:8080/",
          "height": 581
        },
        "outputId": "807b9d1e-79ef-4463-c8f2-d77488018cd0"
      },
      "cell_type": "code",
      "source": [
        "!./predict ./evaluation/models/overlapped-weights368.h5 ./evaluation/samples/GRID/bbaf2n.mpg"
      ],
      "execution_count": 14,
      "outputs": [
        {
          "output_type": "stream",
          "text": [
            "Using TensorFlow backend.\n",
            "\n",
            "Loading data from disk...\n",
            "/usr/local/lib/python2.7/dist-packages/scipy/misc/pilutil.py:482: FutureWarning: Conversion of the second argument of issubdtype from `int` to `np.signedinteger` is deprecated. In future, it will be treated as `np.int64 == np.dtype(int).type`.\n",
            "  if issubdtype(ts, int):\n",
            "/usr/local/lib/python2.7/dist-packages/scipy/misc/pilutil.py:485: FutureWarning: Conversion of the second argument of issubdtype from `float` to `np.floating` is deprecated. In future, it will be treated as `np.float64 == np.dtype(float).type`.\n",
            "  elif issubdtype(type(size), float):\n",
            "Data loaded.\n",
            "\n",
            "2019-02-11 06:20:08.796358: I tensorflow/core/platform/cpu_feature_guard.cc:137] Your CPU supports instructions that this TensorFlow binary was not compiled to use: SSE4.1 SSE4.2 AVX AVX2 FMA\n",
            "2019-02-11 06:20:08.953146: I tensorflow/stream_executor/cuda/cuda_gpu_executor.cc:892] successful NUMA node read from SysFS had negative value (-1), but there must be at least one NUMA node, so returning NUMA node zero\n",
            "2019-02-11 06:20:08.953540: I tensorflow/core/common_runtime/gpu/gpu_device.cc:1030] Found device 0 with properties: \n",
            "name: Tesla K80 major: 3 minor: 7 memoryClockRate(GHz): 0.8235\n",
            "pciBusID: 0000:00:04.0\n",
            "totalMemory: 11.17GiB freeMemory: 11.10GiB\n",
            "2019-02-11 06:20:08.953584: I tensorflow/core/common_runtime/gpu/gpu_device.cc:1120] Creating TensorFlow device (/device:GPU:0) -> (device: 0, name: Tesla K80, pci bus id: 0000:00:04.0, compute capability: 3.7)\n",
            "/usr/local/lib/python2.7/dist-packages/matplotlib/figure.py:402: UserWarning: matplotlib is currently using a non-GUI backend, so cannot show the figure\n",
            "  \"matplotlib is currently using a non-GUI backend, \"\n",
            "\n",
            " __                   __  __          __      \n",
            "/\\ \\       __        /\\ \\/\\ \\        /\\ \\__   \n",
            "\\ \\ \\     /\\_\\  _____\\ \\ `\\\\ \\     __\\ \\ ,_\\  \n",
            " \\ \\ \\  __\\/\\ \\/\\ '__`\\ \\ , ` \\  /'__`\\ \\ \\/  \n",
            "  \\ \\ \\L\\ \\\\ \\ \\ \\ \\L\\ \\ \\ \\`\\ \\/\\  __/\\ \\ \\_ \n",
            "   \\ \\____/ \\ \\_\\ \\ ,__/\\ \\_\\ \\_\\ \\____\\\\ \\__\\\n",
            "    \\/___/   \\/_/\\ \\ \\/  \\/_/\\/_/\\/____/ \\/__/\n",
            "                  \\ \\_\\                       \n",
            "                   \\/_/                       \n",
            "\n",
            "             ------------------------ \n",
            "[ DECODED ] |> bin blue at f two now |\n",
            "             ------------------------ \n"
          ],
          "name": "stdout"
        }
      ]
    },
    {
      "metadata": {
        "id": "PX4BCmNU298B",
        "colab_type": "text"
      },
      "cell_type": "markdown",
      "source": [
        "## 4. LipReadingの結果に関して\n",
        "・LipNetの出力は「command(4) + color(4) +preposition(4) + letter(25) + digit(10) + adverb(4)」の順番に限定されている  \n",
        "　　　→ 認識できるものは以下のモノ　  \n",
        "　　　　　command　：{bin, lay, place, set}  \n",
        "　　　　　color　　　 ：{blue, green, red, white}  \n",
        "　　　　　preposition  ：{at, by, in, with}  \n",
        "　　　　　letter　　　 ：{A, . . . , Z}\\{W}  \n",
        "　　　　　digit　　　  ：{zero, . . . , nine}  \n",
        "　　　　　adverb　　 ：{again, now, please, soon}  \n",
        " ・詳細は論文「https://arxiv.org/abs/1611.01599」を参照してください。"
      ]
    },
    {
      "metadata": {
        "id": "aspjFCtTUXRG",
        "colab_type": "code",
        "colab": {}
      },
      "cell_type": "code",
      "source": [
        ""
      ],
      "execution_count": 0,
      "outputs": []
    }
  ]
}