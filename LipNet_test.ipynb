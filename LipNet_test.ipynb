{
  "nbformat": 4,
  "nbformat_minor": 0,
  "metadata": {
    "colab": {
      "name": "LipNet_on_GoogleColab.ipynb",
      "version": "0.3.2",
      "provenance": [],
      "collapsed_sections": [],
      "toc_visible": true,
      "include_colab_link": true
    },
    "kernelspec": {
      "name": "python2",
      "display_name": "Python 2"
    },
    "accelerator": "GPU"
  },
  "cells": [
    {
      "cell_type": "markdown",
      "metadata": {
        "id": "view-in-github",
        "colab_type": "text"
      },
      "source": [
        "<a href=\"https://colab.research.google.com/github/june1st/GoogleColab/blob/master/LipNet_test.ipynb\" target=\"_parent\"><img src=\"https://colab.research.google.com/assets/colab-badge.svg\" alt=\"Open In Colab\"/></a>"
      ]
    },
    {
      "metadata": {
        "id": "rkTLZ3I4_7c_",
        "colab_type": "text"
      },
      "cell_type": "markdown",
      "source": [
        "# LipNetのテスト\n",
        "\n",
        "<table class=\"tfo-notebook-buttons\" align=\"left\" >\n",
        " <td>\n",
        "<img src=\"https://www.tensorflow.org/images/colab_logo_32px.png\" />\n",
        "  <td>\n",
        "<img src=\"https://www.tensorflow.org/images/GitHub-Mark-32px.png\" />\n",
        "  </td>\n",
        "</table>\n"
      ]
    },
    {
      "metadata": {
        "id": "RTL4tgzT3nNj",
        "colab_type": "text"
      },
      "cell_type": "markdown",
      "source": [
        "## 0.最初にやること  \n",
        "・LipNetのスクリプトはGPUとPython2.7を使います。  \n",
        "・GoogleColabratory、左上の  「編集→ノートブックの設定」で、  \n",
        "　　→ ランタイムのタイプ「Python2」  \n",
        "　　→ ハードウェアアクセラレータ「GPU」  \n",
        "　に変更してください。"
      ]
    },
    {
      "metadata": {
        "id": "DxtoJpEFwz7B",
        "colab_type": "text"
      },
      "cell_type": "markdown",
      "source": [
        "## 1. 最初に現在のGoogleColabランタイムの状況を確認"
      ]
    },
    {
      "metadata": {
        "id": "co8HlrpYc4yl",
        "colab_type": "code",
        "colab": {}
      },
      "cell_type": "code",
      "source": [
        "!ls -la\n",
        "%pwd"
      ],
      "execution_count": 0,
      "outputs": []
    },
    {
      "metadata": {
        "id": "CU4ZDzTTiFyV",
        "colab_type": "code",
        "colab": {}
      },
      "cell_type": "code",
      "source": [
        "!python -c 'import chainer; chainer.print_runtime_info()'"
      ],
      "execution_count": 0,
      "outputs": []
    },
    {
      "metadata": {
        "id": "6LC_G27oxj7Y",
        "colab_type": "text"
      },
      "cell_type": "markdown",
      "source": [
        "## 2. LipNetのスクリプトをダウンロード"
      ]
    },
    {
      "metadata": {
        "id": "WZlXvFeVWz0w",
        "colab_type": "code",
        "colab": {}
      },
      "cell_type": "code",
      "source": [
        "#https://www.tensorflow.org/install/install_sources#common_installation_problems\n",
        "!git clone https://github.com/rizkiarm/LipNet\n",
        "%cd LipNet"
      ],
      "execution_count": 0,
      "outputs": []
    },
    {
      "metadata": {
        "id": "A6MTEE_OpJCy",
        "colab_type": "code",
        "colab": {}
      },
      "cell_type": "code",
      "source": [
        "!sed -i s/'dlib==19.4.0'/'dlib==19.9.0'/ setup.py\n",
        "!sed -i s/'tensorflow-gpu==1.0.1'/'tensorflow-gpu==1.4.0'/ setup.py\n",
        "!sed -i s/'numpy==1.12.1'/'numpy==1.14.3'/ -i setup.py\n",
        "!pip install distro\n",
        "!apt update\n",
        "!apt install -y cmake\n",
        "!apt install ffmpeg\n",
        "!pip install dlib\n",
        "!pip install boost\n",
        "!pip install -e ."
      ],
      "execution_count": 0,
      "outputs": []
    },
    {
      "metadata": {
        "id": "rHhoNDpVobK0",
        "colab_type": "text"
      },
      "cell_type": "markdown",
      "source": [
        "CUDA9.0のランタイム準備（LipNetは8.0を使うのでここは不要）"
      ]
    },
    {
      "metadata": {
        "id": "b-rCJf0oll_-",
        "colab_type": "code",
        "colab": {}
      },
      "cell_type": "code",
      "source": [
        "#!wget http://developer.download.nvidia.com/compute/cuda/repos/ubuntu1604/x86_64/cuda-repo-ubuntu1604_9.0.176-1_amd64.deb\n",
        "#!dpkg -i --force-confnew cuda-repo-ubuntu1604_9.0.176-1_amd64.deb\n",
        "#!apt-key adv --fetch-keys http://developer.download.nvidia.com/compute/cuda/repos/ubuntu1604/x86_64/7fa2af80.pub\n",
        "#!apt-get update\n",
        "#!apt-get install cuda-9-0"
      ],
      "execution_count": 0,
      "outputs": []
    },
    {
      "metadata": {
        "id": "qkh2NV7klzzT",
        "colab_type": "text"
      },
      "cell_type": "markdown",
      "source": [
        "CUDA8.0のランタイム準備（CoocleColaboraroryはCUDA9.2を使用しているのでこれを入れる）  \n",
        "※ --force-confnewしないと途中で止まるので注意  → http://za.toypark.in/html/2010/06-04.html"
      ]
    },
    {
      "metadata": {
        "id": "IcEaXtmMnyvX",
        "colab_type": "code",
        "colab": {}
      },
      "cell_type": "code",
      "source": [
        "!wget https://developer.download.nvidia.com/compute/cuda/repos/ubuntu1604/x86_64/cuda-repo-ubuntu1604_8.0.61-1_amd64.deb\n",
        "!dpkg -i --force-confnew cuda-repo-ubuntu1604_8.0.61-1_amd64.deb\n",
        "!apt-key adv --fetch-keys http://developer.download.nvidia.com/compute/cuda/repos/ubuntu1604/x86_64/7fa2af80.pub\n",
        "!apt-get update\n",
        "!apt-get install cuda-8-0"
      ],
      "execution_count": 0,
      "outputs": []
    },
    {
      "metadata": {
        "id": "-p_Q0a0wyksF",
        "colab_type": "text"
      },
      "cell_type": "markdown",
      "source": [
        "cuDNN6.0の準備（GoogleColabratoryはcuDNN7.2を使用しているのでこれを入れる）"
      ]
    },
    {
      "metadata": {
        "id": "w8nlDMfzvIjU",
        "colab_type": "code",
        "colab": {}
      },
      "cell_type": "code",
      "source": [
        "!wget http://developer.download.nvidia.com/compute/redist/cudnn/v6.0/cudnn-8.0-linux-x64-v6.0.tgz\n",
        "!tar -xzvf cudnn-8.0-linux-x64-v6.0.tgz\n",
        "!cp cuda/lib64/libcudnn.so.6.0.21 /usr/lib64-nvidia/libcudnn.so.6\n",
        "#!cp -P cuda/include/cudnn.h /usr/local/cuda-8.0/include\n",
        "#!cp -P cuda/lib64/libcudnn* /usr/local/cuda-8.0/lib64/\n",
        "#!chmod a+r /usr/local/cuda-8.0/lib64/libcudnn*\n",
        "#!cp -P /usr/local/cuda-8.0/lib64/libcudnn.so.6 /usr/lib64-nvidia\n",
        "#!cp -P /usr/local/cuda-8.0/lib64/libcudnn.so.6.0.21 /usr/lib64-nvidia"
      ],
      "execution_count": 0,
      "outputs": []
    },
    {
      "metadata": {
        "id": "N9zTIwqiy-xu",
        "colab_type": "text"
      },
      "cell_type": "markdown",
      "source": [
        "## 3. LipReadingの実行"
      ]
    },
    {
      "metadata": {
        "id": "HiaCAMfRzIbN",
        "colab_type": "text"
      },
      "cell_type": "markdown",
      "source": [
        "ダウンロードしたファイルの確認"
      ]
    },
    {
      "metadata": {
        "id": "_6JVdyohXlSp",
        "colab_type": "code",
        "colab": {}
      },
      "cell_type": "code",
      "source": [
        "!ls"
      ],
      "execution_count": 0,
      "outputs": []
    },
    {
      "metadata": {
        "id": "NqF6-N7ozOat",
        "colab_type": "text"
      },
      "cell_type": "markdown",
      "source": [
        "モデルファイルの確認"
      ]
    },
    {
      "metadata": {
        "id": "6PyqTyrYaaa8",
        "colab_type": "code",
        "colab": {}
      },
      "cell_type": "code",
      "source": [
        "!ls ./evaluation/models"
      ],
      "execution_count": 0,
      "outputs": []
    },
    {
      "metadata": {
        "id": "CMC2p74A0BJP",
        "colab_type": "text"
      },
      "cell_type": "markdown",
      "source": [
        "使用できるサンプル動画の確認"
      ]
    },
    {
      "metadata": {
        "id": "n7hkWl5vz3cq",
        "colab_type": "code",
        "colab": {}
      },
      "cell_type": "code",
      "source": [
        "!ls ./evaluation/samples/GRID"
      ],
      "execution_count": 0,
      "outputs": []
    },
    {
      "metadata": {
        "id": "YmxWq1m4zSpd",
        "colab_type": "text"
      },
      "cell_type": "markdown",
      "source": [
        "LipReadingの実行  \n",
        "・./evaluation/samples/GRID/***　の部分を他のmpgに帰ると、他のサンプル動画に変えられる  \n",
        "・最後に出てくる[DECODED]が結果  \n",
        "　　→ bbaf2n.mpg の結果は 「bin blue at f two now」  \n",
        "　"
      ]
    },
    {
      "metadata": {
        "id": "edA9BrdUgasE",
        "colab_type": "code",
        "colab": {}
      },
      "cell_type": "code",
      "source": [
        "!./predict ./evaluation/models/overlapped-weights368.h5 ./evaluation/samples/GRID/bbaf2n.mpg"
      ],
      "execution_count": 0,
      "outputs": []
    },
    {
      "metadata": {
        "id": "PX4BCmNU298B",
        "colab_type": "text"
      },
      "cell_type": "markdown",
      "source": [
        "## 4. LipReadingの結果に関して\n",
        "・LipNetの出力は「command(4) + color(4) +preposition(4) + letter(25) + digit(10) + adverb(4)」の順番に限定されている  \n",
        "　　　→ 認識できるものは以下のモノ　  \n",
        "　　　　　command　：{bin, lay, place, set}  \n",
        "　　　　　color　　　 ：{blue, green, red, white}  \n",
        "　　　　　preposition  ：{at, by, in, with}  \n",
        "　　　　　letter　　　 ：{A, . . . , Z}\\{W}  \n",
        "　　　　　digit　　　  ：{zero, . . . , nine}  \n",
        "　　　　　adverb　　 ：{again, now, please, soon}  \n",
        " ・詳細は論文「https://arxiv.org/abs/1611.01599」を参照してください。"
      ]
    },
    {
      "metadata": {
        "id": "aspjFCtTUXRG",
        "colab_type": "code",
        "colab": {}
      },
      "cell_type": "code",
      "source": [
        ""
      ],
      "execution_count": 0,
      "outputs": []
    }
  ]
}