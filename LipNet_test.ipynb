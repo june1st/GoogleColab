{
  "nbformat": 4,
  "nbformat_minor": 0,
  "metadata": {
    "colab": {
      "name": "LipNet_on_GoogleColab.ipynb",
      "version": "0.3.2",
      "provenance": [],
      "collapsed_sections": [],
      "toc_visible": true,
      "include_colab_link": true
    },
    "kernelspec": {
      "name": "python2",
      "display_name": "Python 2"
    },
    "accelerator": "GPU"
  },
  "cells": [
    {
      "cell_type": "markdown",
      "metadata": {
        "id": "view-in-github",
        "colab_type": "text"
      },
      "source": [
        "<a href=\"https://colab.research.google.com/github/june1st/GoogleColab/blob/master/LipNet_test.ipynb\" target=\"_parent\"><img src=\"https://colab.research.google.com/assets/colab-badge.svg\" alt=\"Open In Colab\"/></a>"
      ]
    },
    {
      "metadata": {
        "id": "rkTLZ3I4_7c_",
        "colab_type": "text"
      },
      "cell_type": "markdown",
      "source": [
        "# LipNetのテスト\n",
        "\n",
        "<table class=\"tfo-notebook-buttons\" align=\"left\" >\n",
        " <td>\n",
        "<img src=\"https://www.tensorflow.org/images/colab_logo_32px.png\" />\n",
        "  <td>\n",
        "<img src=\"https://www.tensorflow.org/images/GitHub-Mark-32px.png\" />\n",
        "  </td>\n",
        "</table>\n"
      ]
    },
    {
      "metadata": {
        "id": "RTL4tgzT3nNj",
        "colab_type": "text"
      },
      "cell_type": "markdown",
      "source": [
        "## 0.最初にやること  \n",
        "・LipNetのスクリプトはGPUとPython2.7を使います。  \n",
        "・GoogleColabratory、左上の  「編集→ノートブックの設定」で、  \n",
        "　　→ ランタイムのタイプ「Python2」  \n",
        "　　→ ハードウェアアクセラレータ「GPU」  \n",
        "　に変更してください。"
      ]
    },
    {
      "metadata": {
        "id": "DxtoJpEFwz7B",
        "colab_type": "text"
      },
      "cell_type": "markdown",
      "source": [
        "## 1. 最初に現在のGoogleColabランタイムの状況を確認"
      ]
    },
    {
      "metadata": {
        "id": "co8HlrpYc4yl",
        "colab_type": "code",
        "colab": {
          "base_uri": "https://localhost:8080/",
          "height": 148
        },
        "outputId": "20984b8c-1a5e-4a6c-c2bf-f2af5b51de60"
      },
      "cell_type": "code",
      "source": [
        "!ls -la\n",
        "%pwd"
      ],
      "execution_count": 1,
      "outputs": [
        {
          "output_type": "stream",
          "text": [
            "total 20\n",
            "drwxr-xr-x  1 root root 4096 Dec 19 22:40 .\n",
            "drwxr-xr-x  1 root root 4096 Dec 19 22:39 ..\n",
            "drwxr-xr-x  1 root root 4096 Dec 18 20:29 .config\n",
            "drwxr-xr-x 11 root root 4096 Dec 19 23:14 LipNet\n",
            "drwxr-xr-x  1 root root 4096 Dec 18 20:29 sample_data\n"
          ],
          "name": "stdout"
        },
        {
          "output_type": "execute_result",
          "data": {
            "text/plain": [
              "u'/content'"
            ]
          },
          "metadata": {
            "tags": []
          },
          "execution_count": 1
        }
      ]
    },
    {
      "metadata": {
        "id": "CU4ZDzTTiFyV",
        "colab_type": "code",
        "colab": {
          "base_uri": "https://localhost:8080/",
          "height": 260
        },
        "outputId": "b5805cff-4891-460e-8611-69accef946cf"
      },
      "cell_type": "code",
      "source": [
        "!python -c 'import chainer; chainer.print_runtime_info()'"
      ],
      "execution_count": 2,
      "outputs": [
        {
          "output_type": "stream",
          "text": [
            "Platform: Linux-4.14.65+-x86_64-with-Ubuntu-18.04-bionic\n",
            "Chainer: 5.0.0\n",
            "NumPy: 1.14.3\n",
            "CuPy:\n",
            "  CuPy Version          : 5.0.0\n",
            "  CUDA Root             : /usr/local/cuda\n",
            "  CUDA Build Version    : 9020\n",
            "  CUDA Driver Version   : 9020\n",
            "  CUDA Runtime Version  : 9020\n",
            "  cuDNN Build Version   : 7201\n",
            "  cuDNN Version         : 7201\n",
            "  NCCL Build Version    : 2213\n",
            "iDeep: 2.0.0.post3\n"
          ],
          "name": "stdout"
        }
      ]
    },
    {
      "metadata": {
        "id": "6LC_G27oxj7Y",
        "colab_type": "text"
      },
      "cell_type": "markdown",
      "source": [
        "## 2. LipNetのスクリプトをダウンロード"
      ]
    },
    {
      "metadata": {
        "id": "WZlXvFeVWz0w",
        "colab_type": "code",
        "colab": {}
      },
      "cell_type": "code",
      "source": [
        "#https://www.tensorflow.org/install/install_sources#common_installation_problems\n",
        "!git clone https://github.com/rizkiarm/LipNet\n",
        "%cd LipNet"
      ],
      "execution_count": 0,
      "outputs": []
    },
    {
      "metadata": {
        "id": "A6MTEE_OpJCy",
        "colab_type": "code",
        "colab": {}
      },
      "cell_type": "code",
      "source": [
        "!sed -i s/'dlib==19.4.0'/'dlib==19.9.0'/ setup.py\n",
        "!sed -i s/'tensorflow-gpu==1.0.1'/'tensorflow-gpu==1.4.0'/ setup.py\n",
        "!sed -i s/'numpy==1.12.1'/'numpy==1.14.3'/ -i setup.py\n",
        "!pip install distro\n",
        "!apt update\n",
        "!apt install -y cmake\n",
        "!apt install ffmpeg\n",
        "!pip install dlib\n",
        "!pip install boost\n",
        "!pip install -e ."
      ],
      "execution_count": 0,
      "outputs": []
    },
    {
      "metadata": {
        "id": "rHhoNDpVobK0",
        "colab_type": "text"
      },
      "cell_type": "markdown",
      "source": [
        "CUDA9.0のランタイム準備（LipNetは8.0を使うのでここは不要）"
      ]
    },
    {
      "metadata": {
        "id": "b-rCJf0oll_-",
        "colab_type": "code",
        "colab": {}
      },
      "cell_type": "code",
      "source": [
        "#!wget http://developer.download.nvidia.com/compute/cuda/repos/ubuntu1604/x86_64/cuda-repo-ubuntu1604_9.0.176-1_amd64.deb\n",
        "#!dpkg -i cuda-repo-ubuntu1604_9.0.176-1_amd64.deb\n",
        "#!apt-key adv --fetch-keys http://developer.download.nvidia.com/compute/cuda/repos/ubuntu1604/x86_64/7fa2af80.pub\n",
        "#!apt-get update\n",
        "#!sudo apt-get install cuda-9-0"
      ],
      "execution_count": 0,
      "outputs": []
    },
    {
      "metadata": {
        "id": "qkh2NV7klzzT",
        "colab_type": "text"
      },
      "cell_type": "markdown",
      "source": [
        "CUDA8.0のランタイム準備（CoocleColaboraroryはCUDA9.2を使用しているのでこれを入れる）"
      ]
    },
    {
      "metadata": {
        "id": "IcEaXtmMnyvX",
        "colab_type": "code",
        "colab": {}
      },
      "cell_type": "code",
      "source": [
        "!wget https://developer.download.nvidia.com/compute/cuda/repos/ubuntu1604/x86_64/cuda-repo-ubuntu1604_8.0.61-1_amd64.deb\n",
        "!dpkg -i cuda-repo-ubuntu1604_8.0.61-1_amd64.deb\n",
        "!apt-key adv --fetch-keys http://developer.download.nvidia.com/compute/cuda/repos/ubuntu1604/x86_64/7fa2af80.pub\n",
        "!apt-get update\n",
        "!sudo apt-get install cuda-8-0"
      ],
      "execution_count": 0,
      "outputs": []
    },
    {
      "metadata": {
        "id": "-p_Q0a0wyksF",
        "colab_type": "text"
      },
      "cell_type": "markdown",
      "source": [
        "cuDNN6.0の準備（GoogleColabratoryはcuDNN7.2を使用しているのでこれを入れる）"
      ]
    },
    {
      "metadata": {
        "id": "w8nlDMfzvIjU",
        "colab_type": "code",
        "colab": {}
      },
      "cell_type": "code",
      "source": [
        "!wget https://developer.download.nvidia.com/compute/machine-learning/cudnn/secure/v6/prod/8.0_20170427/Ubuntu16_04-x64/libcudnn6_6.0.21-1%2Bcuda8.0_amd64.deb?47ppyHzjzJsX25j3SY6RXR0XT6Rnoh0gTcKxwLSliQEJjQFNmq_B-mVP_LlT5SWjOInhQuGNW3g27OKzdwmm2YiJeHBece-0on5WUvuPEHgSMS7bxrk2450CSuE0FQz44rgmEem7OQ7fUJOccZu9Xdhp0W3CsAC5hTgq660cvExKlYH2TBFrM2KokeW5YBB81LpGIecrYSuCO0B3LkfVNyYbHlBVdDhllnPJPnumEq8 -O libcudnn6_6.0.21-1+cuda8.0_amd64.deb\n",
        "!dpkg -i libcudnn6_6.0.21-1+cuda8.0_amd64.deb"
      ],
      "execution_count": 0,
      "outputs": []
    },
    {
      "metadata": {
        "id": "N9zTIwqiy-xu",
        "colab_type": "text"
      },
      "cell_type": "markdown",
      "source": [
        "## 3. LipReadingの実行"
      ]
    },
    {
      "metadata": {
        "id": "HiaCAMfRzIbN",
        "colab_type": "text"
      },
      "cell_type": "markdown",
      "source": [
        "ダウンロードしらファイルの確認"
      ]
    },
    {
      "metadata": {
        "id": "_6JVdyohXlSp",
        "colab_type": "code",
        "colab": {}
      },
      "cell_type": "code",
      "source": [
        "!ls"
      ],
      "execution_count": 0,
      "outputs": []
    },
    {
      "metadata": {
        "id": "NqF6-N7ozOat",
        "colab_type": "text"
      },
      "cell_type": "markdown",
      "source": [
        "モデルファイルの確認"
      ]
    },
    {
      "metadata": {
        "id": "6PyqTyrYaaa8",
        "colab_type": "code",
        "colab": {}
      },
      "cell_type": "code",
      "source": [
        "!ls ./evaluation/models"
      ],
      "execution_count": 0,
      "outputs": []
    },
    {
      "metadata": {
        "id": "CMC2p74A0BJP",
        "colab_type": "text"
      },
      "cell_type": "markdown",
      "source": [
        "使用できるサンプル動画の確認"
      ]
    },
    {
      "metadata": {
        "id": "n7hkWl5vz3cq",
        "colab_type": "code",
        "colab": {}
      },
      "cell_type": "code",
      "source": [
        "!ls ./evaluation/samples/GRID"
      ],
      "execution_count": 0,
      "outputs": []
    },
    {
      "metadata": {
        "id": "YmxWq1m4zSpd",
        "colab_type": "text"
      },
      "cell_type": "markdown",
      "source": [
        "LipReadingの実行  \n",
        "・./evaluation/samples/GRID/***　の部分を他のmpgに帰ると、他のサンプル動画に変えられる  \n",
        "・最後に出てくる[DECODED]が結果  \n",
        "　　→ bbaf2n.mpg の結果は 「bin blue at f two now」  \n",
        "　"
      ]
    },
    {
      "metadata": {
        "id": "edA9BrdUgasE",
        "colab_type": "code",
        "colab": {}
      },
      "cell_type": "code",
      "source": [
        "!./predict ./evaluation/models/overlapped-weights368.h5 ./evaluation/samples/GRID/bbaf2n.mpg"
      ],
      "execution_count": 0,
      "outputs": []
    },
    {
      "metadata": {
        "id": "PX4BCmNU298B",
        "colab_type": "text"
      },
      "cell_type": "markdown",
      "source": [
        "## 4. LipReadingの結果に関して\n",
        "・LipNetの出力は「command(4) + color(4) +preposition(4) + letter(25) + digit(10) + adverb(4)」の順番に限定されている  \n",
        "　　　→ 認識できるものは以下のモノ　  \n",
        "　　　　　command　：{bin, lay, place, set}  \n",
        "　　　　　color　　　 ：{blue, green, red, white}  \n",
        "　　　　　preposition  ：{at, by, in, with}  \n",
        "　　　　　letter　　　 ：{A, . . . , Z}\\{W}  \n",
        "　　　　　digit　　　  ：{zero, . . . , nine}  \n",
        "　　　　　adverb　　 ：{again, now, please, soon}  \n",
        " ・詳細は論文「https://arxiv.org/abs/1611.01599」を参照してください。"
      ]
    },
    {
      "metadata": {
        "id": "aspjFCtTUXRG",
        "colab_type": "code",
        "colab": {}
      },
      "cell_type": "code",
      "source": [
        ""
      ],
      "execution_count": 0,
      "outputs": []
    }
  ]
}