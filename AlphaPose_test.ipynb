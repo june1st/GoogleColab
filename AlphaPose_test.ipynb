{
  "nbformat": 4,
  "nbformat_minor": 0,
  "metadata": {
    "colab": {
      "name": "Untitled9.ipynb",
      "version": "0.3.2",
      "provenance": [],
      "include_colab_link": true
    },
    "kernelspec": {
      "name": "python2",
      "display_name": "Python 2"
    },
    "accelerator": "GPU"
  },
  "cells": [
    {
      "cell_type": "markdown",
      "metadata": {
        "id": "view-in-github",
        "colab_type": "text"
      },
      "source": [
        "<a href=\"https://colab.research.google.com/github/june1st/GoogleColab/blob/master/AlphaPose_test.ipynb\" target=\"_parent\"><img src=\"https://colab.research.google.com/assets/colab-badge.svg\" alt=\"Open In Colab\"/></a>"
      ]
    },
    {
      "metadata": {
        "id": "fq39I0TBhnQ0",
        "colab_type": "code",
        "colab": {
          "base_uri": "https://localhost:8080/",
          "height": 145
        },
        "outputId": "5a307302-610a-4b07-e968-84f88efd83ce"
      },
      "cell_type": "code",
      "source": [
        "!git clone https://github.com/MVIG-SJTU/AlphaPose"
      ],
      "execution_count": 1,
      "outputs": [
        {
          "output_type": "stream",
          "text": [
            "Cloning into 'AlphaPose'...\n",
            "remote: Enumerating objects: 3, done.\u001b[K\n",
            "remote: Counting objects: 100% (3/3), done.\u001b[K\n",
            "remote: Compressing objects: 100% (3/3), done.\u001b[K\n",
            "remote: Total 2285 (delta 0), reused 0 (delta 0), pack-reused 2282\u001b[K\n",
            "Receiving objects: 100% (2285/2285), 119.07 MiB | 27.67 MiB/s, done.\n",
            "Resolving deltas: 100% (915/915), done.\n"
          ],
          "name": "stdout"
        }
      ]
    },
    {
      "metadata": {
        "id": "RQGcs_5thsmG",
        "colab_type": "code",
        "colab": {
          "base_uri": "https://localhost:8080/",
          "height": 35
        },
        "outputId": "fafe1510-33fd-49af-a27d-2aca5376aab7"
      },
      "cell_type": "code",
      "source": [
        "%cd /content/AlphaPose/human-detection/lib/"
      ],
      "execution_count": 32,
      "outputs": [
        {
          "output_type": "stream",
          "text": [
            "/content/AlphaPose/human-detection/lib\n"
          ],
          "name": "stdout"
        }
      ]
    },
    {
      "metadata": {
        "id": "AQSsbe4yh9Hl",
        "colab_type": "code",
        "colab": {
          "base_uri": "https://localhost:8080/",
          "height": 54
        },
        "outputId": "007f4b9b-41cf-4f56-c2bf-879f88e38964"
      },
      "cell_type": "code",
      "source": [
        "!make clean"
      ],
      "execution_count": 33,
      "outputs": [
        {
          "output_type": "stream",
          "text": [
            "rm -rf */*.pyc\n",
            "rm -rf */*.so\n"
          ],
          "name": "stdout"
        }
      ]
    },
    {
      "metadata": {
        "id": "vY-idgG3h_IN",
        "colab_type": "code",
        "colab": {
          "base_uri": "https://localhost:8080/",
          "height": 328
        },
        "outputId": "d287be13-23cf-47fe-e1a0-e2de9e968b99"
      },
      "cell_type": "code",
      "source": [
        "!make "
      ],
      "execution_count": 34,
      "outputs": [
        {
          "output_type": "stream",
          "text": [
            "python2 setup.py build_ext --inplace\n",
            "running build_ext\n",
            "skipping 'utils/bbox.c' Cython extension (up-to-date)\n",
            "building 'utils.cython_bbox' extension\n",
            "creating build\n",
            "creating build/temp.linux-x86_64-2.7\n",
            "creating build/temp.linux-x86_64-2.7/utils\n",
            "{'gcc': ['-Wno-cpp', '-Wno-unused-function']}\n",
            "x86_64-linux-gnu-gcc -pthread -DNDEBUG -g -fwrapv -O2 -Wall -Wstrict-prototypes -fno-strict-aliasing -Wdate-time -D_FORTIFY_SOURCE=2 -g -fdebug-prefix-map=/build/python2.7-3hk45v/python2.7-2.7.15~rc1=. -fstack-protector-strong -Wformat -Werror=format-security -fPIC -I/usr/local/lib/python2.7/dist-packages/numpy/core/include -I/usr/include/python2.7 -c utils/bbox.c -o build/temp.linux-x86_64-2.7/utils/bbox.o -Wno-cpp -Wno-unused-function\n",
            "x86_64-linux-gnu-gcc -pthread -shared -Wl,-O1 -Wl,-Bsymbolic-functions -Wl,-Bsymbolic-functions -Wl,-z,relro -fno-strict-aliasing -DNDEBUG -g -fwrapv -O2 -Wall -Wstrict-prototypes -Wdate-time -D_FORTIFY_SOURCE=2 -g -fdebug-prefix-map=/build/python2.7-3hk45v/python2.7-2.7.15~rc1=. -fstack-protector-strong -Wformat -Werror=format-security -Wl,-Bsymbolic-functions -Wl,-z,relro -Wdate-time -D_FORTIFY_SOURCE=2 -g -fdebug-prefix-map=/build/python2.7-3hk45v/python2.7-2.7.15~rc1=. -fstack-protector-strong -Wformat -Werror=format-security build/temp.linux-x86_64-2.7/utils/bbox.o -o /content/AlphaPose/human-detection/lib/utils/cython_bbox.so\n",
            "skipping 'utils/nms.c' Cython extension (up-to-date)\n",
            "building 'utils.cython_nms' extension\n",
            "{'gcc': ['-Wno-cpp', '-Wno-unused-function']}\n",
            "x86_64-linux-gnu-gcc -pthread -DNDEBUG -g -fwrapv -O2 -Wall -Wstrict-prototypes -fno-strict-aliasing -Wdate-time -D_FORTIFY_SOURCE=2 -g -fdebug-prefix-map=/build/python2.7-3hk45v/python2.7-2.7.15~rc1=. -fstack-protector-strong -Wformat -Werror=format-security -fPIC -I/usr/local/lib/python2.7/dist-packages/numpy/core/include -I/usr/include/python2.7 -c utils/nms.c -o build/temp.linux-x86_64-2.7/utils/nms.o -Wno-cpp -Wno-unused-function\n",
            "x86_64-linux-gnu-gcc -pthread -shared -Wl,-O1 -Wl,-Bsymbolic-functions -Wl,-Bsymbolic-functions -Wl,-z,relro -fno-strict-aliasing -DNDEBUG -g -fwrapv -O2 -Wall -Wstrict-prototypes -Wdate-time -D_FORTIFY_SOURCE=2 -g -fdebug-prefix-map=/build/python2.7-3hk45v/python2.7-2.7.15~rc1=. -fstack-protector-strong -Wformat -Werror=format-security -Wl,-Bsymbolic-functions -Wl,-z,relro -Wdate-time -D_FORTIFY_SOURCE=2 -g -fdebug-prefix-map=/build/python2.7-3hk45v/python2.7-2.7.15~rc1=. -fstack-protector-strong -Wformat -Werror=format-security build/temp.linux-x86_64-2.7/utils/nms.o -o /content/AlphaPose/human-detection/lib/utils/cython_nms.so\n",
            "rm -rf build\n"
          ],
          "name": "stdout"
        }
      ]
    },
    {
      "metadata": {
        "id": "u5DUcoKmiBEF",
        "colab_type": "code",
        "colab": {
          "base_uri": "https://localhost:8080/",
          "height": 35
        },
        "outputId": "cf847a51-32f6-49f2-ee65-886f76aef4b9"
      },
      "cell_type": "code",
      "source": [
        "%cd newnms/"
      ],
      "execution_count": 35,
      "outputs": [
        {
          "output_type": "stream",
          "text": [
            "/content/AlphaPose/human-detection/lib/newnms\n"
          ],
          "name": "stdout"
        }
      ]
    },
    {
      "metadata": {
        "id": "23cjQ_u8iHil",
        "colab_type": "code",
        "colab": {
          "base_uri": "https://localhost:8080/",
          "height": 528
        },
        "outputId": "b868695f-6b55-45dc-983b-29b40828f8d5"
      },
      "cell_type": "code",
      "source": [
        "!make"
      ],
      "execution_count": 36,
      "outputs": [
        {
          "output_type": "stream",
          "text": [
            "python2 setup_linux.py build_ext --inplace\n",
            "running build_ext\n",
            "skipping 'cpu_nms.c' Cython extension (up-to-date)\n",
            "building 'cpu_nms' extension\n",
            "creating build\n",
            "creating build/temp.linux-x86_64-2.7\n",
            "x86_64-linux-gnu-gcc -pthread -DNDEBUG -g -fwrapv -O2 -Wall -Wstrict-prototypes -fno-strict-aliasing -Wdate-time -D_FORTIFY_SOURCE=2 -g -fdebug-prefix-map=/build/python2.7-3hk45v/python2.7-2.7.15~rc1=. -fstack-protector-strong -Wformat -Werror=format-security -fPIC -I/usr/local/lib/python2.7/dist-packages/numpy/core/include -I/usr/include/python2.7 -c cpu_nms.c -o build/temp.linux-x86_64-2.7/cpu_nms.o -Wno-cpp -Wno-unused-function\n",
            "x86_64-linux-gnu-gcc -pthread -shared -Wl,-O1 -Wl,-Bsymbolic-functions -Wl,-Bsymbolic-functions -Wl,-z,relro -fno-strict-aliasing -DNDEBUG -g -fwrapv -O2 -Wall -Wstrict-prototypes -Wdate-time -D_FORTIFY_SOURCE=2 -g -fdebug-prefix-map=/build/python2.7-3hk45v/python2.7-2.7.15~rc1=. -fstack-protector-strong -Wformat -Werror=format-security -Wl,-Bsymbolic-functions -Wl,-z,relro -Wdate-time -D_FORTIFY_SOURCE=2 -g -fdebug-prefix-map=/build/python2.7-3hk45v/python2.7-2.7.15~rc1=. -fstack-protector-strong -Wformat -Werror=format-security build/temp.linux-x86_64-2.7/cpu_nms.o -o /content/AlphaPose/human-detection/lib/newnms/cpu_nms.so\n",
            "skipping 'gpu_nms.cpp' Cython extension (up-to-date)\n",
            "building 'gpu_nms' extension\n",
            "/usr/local/cuda/bin/nvcc -I/usr/local/lib/python2.7/dist-packages/numpy/core/include -I/usr/local/cuda/include -I/usr/include/python2.7 -c nms_kernel.cu -o build/temp.linux-x86_64-2.7/nms_kernel.o -arch=sm_35 --ptxas-options=-v -c --compiler-options '-fPIC'\n",
            "ptxas info    : 0 bytes gmem\n",
            "ptxas info    : Compiling entry function '_Z10nms_kernelifPKfPy' for 'sm_35'\n",
            "ptxas info    : Function properties for _Z10nms_kernelifPKfPy\n",
            "    0 bytes stack frame, 0 bytes spill stores, 0 bytes spill loads\n",
            "ptxas info    : Used 23 registers, 1280 bytes smem, 344 bytes cmem[0], 16 bytes cmem[2]\n",
            "x86_64-linux-gnu-gcc -pthread -DNDEBUG -g -fwrapv -O2 -Wall -Wstrict-prototypes -fno-strict-aliasing -Wdate-time -D_FORTIFY_SOURCE=2 -g -fdebug-prefix-map=/build/python2.7-3hk45v/python2.7-2.7.15~rc1=. -fstack-protector-strong -Wformat -Werror=format-security -fPIC -I/usr/local/lib/python2.7/dist-packages/numpy/core/include -I/usr/local/cuda/include -I/usr/include/python2.7 -c gpu_nms.cpp -o build/temp.linux-x86_64-2.7/gpu_nms.o -Wno-unused-function\n",
            "\u001b[01m\u001b[Kcc1plus:\u001b[m\u001b[K \u001b[01;35m\u001b[Kwarning: \u001b[m\u001b[Kcommand line option ‘\u001b[01m\u001b[K-Wstrict-prototypes\u001b[m\u001b[K’ is valid for C/ObjC but not for C++\n",
            "In file included from \u001b[01m\u001b[K/usr/local/lib/python2.7/dist-packages/numpy/core/include/numpy/ndarraytypes.h:1816:0\u001b[m\u001b[K,\n",
            "                 from \u001b[01m\u001b[K/usr/local/lib/python2.7/dist-packages/numpy/core/include/numpy/ndarrayobject.h:18\u001b[m\u001b[K,\n",
            "                 from \u001b[01m\u001b[K/usr/local/lib/python2.7/dist-packages/numpy/core/include/numpy/arrayobject.h:4\u001b[m\u001b[K,\n",
            "                 from \u001b[01m\u001b[Kgpu_nms.cpp:449\u001b[m\u001b[K:\n",
            "\u001b[01m\u001b[K/usr/local/lib/python2.7/dist-packages/numpy/core/include/numpy/npy_1_7_deprecated_api.h:15:2:\u001b[m\u001b[K \u001b[01;35m\u001b[Kwarning: \u001b[m\u001b[K#warning \"Using deprecated NumPy API, disable it by \" \"#defining NPY_NO_DEPRECATED_API NPY_1_7_API_VERSION\" [\u001b[01;35m\u001b[K-Wcpp\u001b[m\u001b[K]\n",
            " #\u001b[01;35m\u001b[Kwarning\u001b[m\u001b[K \"Using deprecated NumPy API, disable it by \" \\\n",
            "  \u001b[01;35m\u001b[K^~~~~~~\u001b[m\u001b[K\n",
            "x86_64-linux-gnu-g++ -pthread -shared -Wl,-O1 -Wl,-Bsymbolic-functions -Wl,-Bsymbolic-functions -Wl,-z,relro -fno-strict-aliasing -DNDEBUG -g -fwrapv -O2 -Wall -Wstrict-prototypes -Wdate-time -D_FORTIFY_SOURCE=2 -g -fdebug-prefix-map=/build/python2.7-3hk45v/python2.7-2.7.15~rc1=. -fstack-protector-strong -Wformat -Werror=format-security -Wl,-Bsymbolic-functions -Wl,-z,relro -Wdate-time -D_FORTIFY_SOURCE=2 -g -fdebug-prefix-map=/build/python2.7-3hk45v/python2.7-2.7.15~rc1=. -fstack-protector-strong -Wformat -Werror=format-security build/temp.linux-x86_64-2.7/nms_kernel.o build/temp.linux-x86_64-2.7/gpu_nms.o -L/usr/local/cuda/lib64 -Wl,-R/usr/local/cuda/lib64 -lcudart -o /content/AlphaPose/human-detection/lib/newnms/gpu_nms.so\n",
            "rm -rf build\n"
          ],
          "name": "stdout"
        }
      ]
    },
    {
      "metadata": {
        "id": "yUVbxYpNiIIz",
        "colab_type": "code",
        "colab": {
          "base_uri": "https://localhost:8080/",
          "height": 35
        },
        "outputId": "4432f54f-57b2-43a0-809f-da484e642cf1"
      },
      "cell_type": "code",
      "source": [
        "%cd ../../../"
      ],
      "execution_count": 37,
      "outputs": [
        {
          "output_type": "stream",
          "text": [
            "/content/AlphaPose\n"
          ],
          "name": "stdout"
        }
      ]
    },
    {
      "metadata": {
        "id": "JFuc_QscmX97",
        "colab_type": "code",
        "colab": {
          "base_uri": "https://localhost:8080/",
          "height": 2126
        },
        "outputId": "3ad755b4-0e18-4637-a80b-7f2fe56766e6"
      },
      "cell_type": "code",
      "source": [
        "!apt update\n",
        "!apt install luarocks"
      ],
      "execution_count": 16,
      "outputs": [
        {
          "output_type": "stream",
          "text": [
            "\u001b[33m\r0% [Working]\u001b[0m\r            \rGet:1 http://ppa.launchpad.net/graphics-drivers/ppa/ubuntu bionic InRelease [21.3 kB]\n",
            "\u001b[33m\r0% [Connecting to archive.ubuntu.com (91.189.88.152)] [Waiting for headers] [Co\u001b[0m\u001b[33m\r0% [Connecting to archive.ubuntu.com (91.189.88.152)] [Waiting for headers] [Co\u001b[0m\u001b[33m\r0% [1 InRelease gpgv 21.3 kB] [Connecting to archive.ubuntu.com (91.189.88.152)\u001b[0m\r                                                                               \rGet:2 http://ppa.launchpad.net/marutter/c2d4u3.5/ubuntu bionic InRelease [15.4 kB]\n",
            "\u001b[33m\r0% [1 InRelease gpgv 21.3 kB] [Connecting to archive.ubuntu.com (91.189.88.152)\u001b[0m\u001b[33m\r0% [1 InRelease gpgv 21.3 kB] [Connecting to archive.ubuntu.com (91.189.88.152)\u001b[0m\r                                                                               \rGet:3 https://cloud.r-project.org/bin/linux/ubuntu bionic-cran35/ InRelease [3,609 B]\n",
            "\u001b[33m\r0% [1 InRelease gpgv 21.3 kB] [Connecting to archive.ubuntu.com (91.189.88.152)\u001b[0m\u001b[33m\r0% [1 InRelease gpgv 21.3 kB] [Connecting to archive.ubuntu.com (91.189.88.152)\u001b[0m\u001b[33m\r                                                                               \r0% [Waiting for headers] [Waiting for headers] [Waiting for headers]\u001b[0m\u001b[33m\r0% [2 InRelease gpgv 15.4 kB] [Waiting for headers] [Waiting for headers] [Wait\u001b[0m\r                                                                               \rGet:4 http://ppa.launchpad.net/graphics-drivers/ppa/ubuntu bionic/main amd64 Packages [31.0 kB]\n",
            "\u001b[33m\r0% [2 InRelease gpgv 15.4 kB] [Waiting for headers] [Waiting for headers] [Wait\u001b[0m\u001b[33m\r0% [2 InRelease gpgv 15.4 kB] [Waiting for headers] [Waiting for headers] [Wait\u001b[0m\u001b[33m\r0% [4 Packages store 0 B] [2 InRelease gpgv 15.4 kB] [Waiting for headers] [Wai\u001b[0m\u001b[33m\r0% [2 InRelease gpgv 15.4 kB] [Waiting for headers] [Waiting for headers] [Wait\u001b[0m\r                                                                               \rGet:5 http://security.ubuntu.com/ubuntu bionic-security InRelease [88.7 kB]\n",
            "\u001b[33m\r0% [2 InRelease gpgv 15.4 kB] [Waiting for headers] [5 InRelease 2,587 B/88.7 k\u001b[0m\u001b[33m\r                                                                               \r0% [2 InRelease gpgv 15.4 kB] [Waiting for headers] [Waiting for headers]\u001b[0m\u001b[33m\r                                                                         \r0% [Waiting for headers] [Waiting for headers]\u001b[0m\u001b[33m\r0% [3 InRelease gpgv 3,609 B] [Waiting for headers] [Waiting for headers] [Conn\u001b[0m\r                                                                               \rGet:6 http://ppa.launchpad.net/marutter/c2d4u3.5/ubuntu bionic/main Sources [1,627 kB]\n",
            "\u001b[33m\r0% [3 InRelease gpgv 3,609 B] [Waiting for headers] [Waiting for headers] [6 So\u001b[0m\r                                                                               \rIgn:7 https://developer.download.nvidia.com/compute/cuda/repos/ubuntu1804/x86_64  InRelease\n",
            "\u001b[33m\r0% [3 InRelease gpgv 3,609 B] [Waiting for headers] [Waiting for headers] [6 So\u001b[0m\r                                                                               \rHit:8 http://archive.ubuntu.com/ubuntu bionic InRelease\n",
            "\u001b[33m\r0% [3 InRelease gpgv 3,609 B] [Waiting for headers] [Waiting for headers] [6 So\u001b[0m\r                                                                               \rGet:9 http://archive.ubuntu.com/ubuntu bionic-updates InRelease [88.7 kB]\n",
            "\u001b[33m\r0% [3 InRelease gpgv 3,609 B] [9 InRelease 2,604 B/88.7 kB 3%] [Waiting for hea\u001b[0m\u001b[33m\r0% [3 InRelease gpgv 3,609 B] [Waiting for headers] [Waiting for headers] [6 So\u001b[0m\r                                                                               \rGet:10 http://archive.ubuntu.com/ubuntu bionic-backports InRelease [74.6 kB]\n",
            "Get:11 https://cloud.r-project.org/bin/linux/ubuntu bionic-cran35/ Packages [59.6 kB]\n",
            "Get:12 http://security.ubuntu.com/ubuntu bionic-security/multiverse amd64 Packages [3,910 B]\n",
            "Get:13 http://security.ubuntu.com/ubuntu bionic-security/main amd64 Packages [361 kB]\n",
            "Get:14 http://security.ubuntu.com/ubuntu bionic-security/universe amd64 Packages [160 kB]\n",
            "Get:15 http://ppa.launchpad.net/marutter/c2d4u3.5/ubuntu bionic/main amd64 Packages [782 kB]\n",
            "Ign:16 https://developer.download.nvidia.com/compute/machine-learning/repos/ubuntu1804/x86_64  InRelease\n",
            "Get:17 https://developer.download.nvidia.com/compute/cuda/repos/ubuntu1804/x86_64  Release [564 B]\n",
            "Hit:18 https://developer.download.nvidia.com/compute/machine-learning/repos/ubuntu1804/x86_64  Release\n",
            "Get:19 https://developer.download.nvidia.com/compute/cuda/repos/ubuntu1804/x86_64  Release.gpg [819 B]\n",
            "Get:20 http://archive.ubuntu.com/ubuntu bionic-updates/universe amd64 Packages [955 kB]\n",
            "Get:21 http://archive.ubuntu.com/ubuntu bionic-updates/multiverse amd64 Packages [6,968 B]\n",
            "Get:22 http://archive.ubuntu.com/ubuntu bionic-updates/main amd64 Packages [725 kB]\n",
            "Get:23 http://archive.ubuntu.com/ubuntu bionic-backports/universe amd64 Packages [3,659 B]\n",
            "Get:24 http://archive.ubuntu.com/ubuntu bionic-backports/main amd64 Packages [942 B]\n",
            "Get:26 https://developer.download.nvidia.com/compute/cuda/repos/ubuntu1804/x86_64  Packages [71.4 kB]\n",
            "Fetched 5,080 kB in 2s (2,491 kB/s)\n",
            "Reading package lists... Done\n",
            "Building dependency tree       \n",
            "Reading state information... Done\n",
            "127 packages can be upgraded. Run 'apt list --upgradable' to see them.\n",
            "Reading package lists... Done\n",
            "Building dependency tree       \n",
            "Reading state information... Done\n",
            "The following package was automatically installed and is no longer required:\n",
            "  libnvidia-common-410\n",
            "Use 'apt autoremove' to remove it.\n",
            "The following additional packages will be installed:\n",
            "  autotools-dev file liblua5.1-0-dev libmagic-mgc libmagic1 libtool\n",
            "  libtool-bin lua-any lua-sec lua-socket lua5.1\n",
            "Suggested packages:\n",
            "  libtool-doc autoconf automaken gcj-jdk\n",
            "The following NEW packages will be installed:\n",
            "  autotools-dev file liblua5.1-0-dev libmagic-mgc libmagic1 libtool\n",
            "  libtool-bin lua-any lua-sec lua-socket lua5.1 luarocks\n",
            "0 upgraded, 12 newly installed, 0 to remove and 127 not upgraded.\n",
            "Need to get 1,002 kB of archives.\n",
            "After this operation, 9,769 kB of additional disk space will be used.\n",
            "Get:1 http://archive.ubuntu.com/ubuntu bionic-updates/main amd64 libmagic-mgc amd64 1:5.32-2ubuntu0.2 [184 kB]\n",
            "Get:2 http://archive.ubuntu.com/ubuntu bionic-updates/main amd64 libmagic1 amd64 1:5.32-2ubuntu0.2 [68.5 kB]\n",
            "Get:3 http://archive.ubuntu.com/ubuntu bionic-updates/main amd64 file amd64 1:5.32-2ubuntu0.2 [22.1 kB]\n",
            "Get:4 http://archive.ubuntu.com/ubuntu bionic/main amd64 autotools-dev all 20180224.1 [39.6 kB]\n",
            "Get:5 http://archive.ubuntu.com/ubuntu bionic/universe amd64 liblua5.1-0-dev amd64 5.1.5-8.1build2 [119 kB]\n",
            "Get:6 http://archive.ubuntu.com/ubuntu bionic/main amd64 libtool all 2.4.6-2 [194 kB]\n",
            "Get:7 http://archive.ubuntu.com/ubuntu bionic/main amd64 libtool-bin amd64 2.4.6-2 [79.5 kB]\n",
            "Get:8 http://archive.ubuntu.com/ubuntu bionic/universe amd64 lua5.1 amd64 5.1.5-8.1build2 [93.2 kB]\n",
            "Get:9 http://archive.ubuntu.com/ubuntu bionic/universe amd64 lua-any all 24 [4,718 B]\n",
            "Get:10 http://archive.ubuntu.com/ubuntu bionic/universe amd64 lua-socket amd64 3.0~rc1+git+ac3201d-4 [70.5 kB]\n",
            "Get:11 http://archive.ubuntu.com/ubuntu bionic/universe amd64 lua-sec amd64 0.6-4 [29.5 kB]\n",
            "Get:12 http://archive.ubuntu.com/ubuntu bionic/universe amd64 luarocks all 2.4.2+dfsg-1 [97.6 kB]\n",
            "Fetched 1,002 kB in 0s (2,487 kB/s)\n",
            "Selecting previously unselected package libmagic-mgc.\n",
            "(Reading database ... 131323 files and directories currently installed.)\n",
            "Preparing to unpack .../00-libmagic-mgc_1%3a5.32-2ubuntu0.2_amd64.deb ...\n",
            "Unpacking libmagic-mgc (1:5.32-2ubuntu0.2) ...\n",
            "Selecting previously unselected package libmagic1:amd64.\n",
            "Preparing to unpack .../01-libmagic1_1%3a5.32-2ubuntu0.2_amd64.deb ...\n",
            "Unpacking libmagic1:amd64 (1:5.32-2ubuntu0.2) ...\n",
            "Selecting previously unselected package file.\n",
            "Preparing to unpack .../02-file_1%3a5.32-2ubuntu0.2_amd64.deb ...\n",
            "Unpacking file (1:5.32-2ubuntu0.2) ...\n",
            "Selecting previously unselected package autotools-dev.\n",
            "Preparing to unpack .../03-autotools-dev_20180224.1_all.deb ...\n",
            "Unpacking autotools-dev (20180224.1) ...\n",
            "Selecting previously unselected package liblua5.1-0-dev:amd64.\n",
            "Preparing to unpack .../04-liblua5.1-0-dev_5.1.5-8.1build2_amd64.deb ...\n",
            "Unpacking liblua5.1-0-dev:amd64 (5.1.5-8.1build2) ...\n",
            "Selecting previously unselected package libtool.\n",
            "Preparing to unpack .../05-libtool_2.4.6-2_all.deb ...\n",
            "Unpacking libtool (2.4.6-2) ...\n",
            "Selecting previously unselected package libtool-bin.\n",
            "Preparing to unpack .../06-libtool-bin_2.4.6-2_amd64.deb ...\n",
            "Unpacking libtool-bin (2.4.6-2) ...\n",
            "Selecting previously unselected package lua5.1.\n",
            "Preparing to unpack .../07-lua5.1_5.1.5-8.1build2_amd64.deb ...\n",
            "Unpacking lua5.1 (5.1.5-8.1build2) ...\n",
            "Selecting previously unselected package lua-any.\n",
            "Preparing to unpack .../08-lua-any_24_all.deb ...\n",
            "Unpacking lua-any (24) ...\n",
            "Selecting previously unselected package lua-socket:amd64.\n",
            "Preparing to unpack .../09-lua-socket_3.0~rc1+git+ac3201d-4_amd64.deb ...\n",
            "Unpacking lua-socket:amd64 (3.0~rc1+git+ac3201d-4) ...\n",
            "Selecting previously unselected package lua-sec:amd64.\n",
            "Preparing to unpack .../10-lua-sec_0.6-4_amd64.deb ...\n",
            "Unpacking lua-sec:amd64 (0.6-4) ...\n",
            "Selecting previously unselected package luarocks.\n",
            "Preparing to unpack .../11-luarocks_2.4.2+dfsg-1_all.deb ...\n",
            "Unpacking luarocks (2.4.2+dfsg-1) ...\n",
            "Setting up lua-socket:amd64 (3.0~rc1+git+ac3201d-4) ...\n",
            "Setting up lua-sec:amd64 (0.6-4) ...\n",
            "Setting up liblua5.1-0-dev:amd64 (5.1.5-8.1build2) ...\n",
            "Setting up libmagic-mgc (1:5.32-2ubuntu0.2) ...\n",
            "Setting up libmagic1:amd64 (1:5.32-2ubuntu0.2) ...\n",
            "Setting up lua5.1 (5.1.5-8.1build2) ...\n",
            "update-alternatives: using /usr/bin/lua5.1 to provide /usr/bin/lua (lua-interpreter) in auto mode\n",
            "update-alternatives: using /usr/bin/luac5.1 to provide /usr/bin/luac (lua-compiler) in auto mode\n",
            "Processing triggers for libc-bin (2.27-3ubuntu1) ...\n",
            "Setting up autotools-dev (20180224.1) ...\n",
            "Processing triggers for man-db (2.8.3-2ubuntu0.1) ...\n",
            "Setting up lua-any (24) ...\n",
            "Setting up luarocks (2.4.2+dfsg-1) ...\n",
            "Making manifest for /usr/local/lib/luarocks/rocks\n",
            "Warning: This looks like a local rocks tree, but you did not pass --local-tree.\n",
            "Generating index.html for /usr/local/lib/luarocks/rocks\n",
            "Setting up file (1:5.32-2ubuntu0.2) ...\n",
            "Setting up libtool (2.4.6-2) ...\n",
            "Setting up libtool-bin (2.4.6-2) ...\n"
          ],
          "name": "stdout"
        }
      ]
    },
    {
      "metadata": {
        "id": "912xOUAoiOdl",
        "colab_type": "code",
        "colab": {}
      },
      "cell_type": "code",
      "source": [
        "!chmod +x install.sh"
      ],
      "execution_count": 0,
      "outputs": []
    },
    {
      "metadata": {
        "id": "Ar4WhiQSm3Xi",
        "colab_type": "code",
        "colab": {
          "base_uri": "https://localhost:8080/",
          "height": 908
        },
        "outputId": "a9fc5160-05d5-4e03-89d0-0b192662c52d"
      },
      "cell_type": "code",
      "source": [
        "!gcc --version\n",
        "!apt-get install gcc-7-plugin-dev"
      ],
      "execution_count": 22,
      "outputs": [
        {
          "output_type": "stream",
          "text": [
            "gcc (Ubuntu 7.3.0-27ubuntu1~18.04) 7.3.0\n",
            "Copyright (C) 2017 Free Software Foundation, Inc.\n",
            "This is free software; see the source for copying conditions.  There is NO\n",
            "warranty; not even for MERCHANTABILITY or FITNESS FOR A PARTICULAR PURPOSE.\n",
            "\n",
            "Reading package lists... Done\n",
            "Building dependency tree       \n",
            "Reading state information... Done\n",
            "The following package was automatically installed and is no longer required:\n",
            "  libnvidia-common-410\n",
            "Use 'apt autoremove' to remove it.\n",
            "The following additional packages will be installed:\n",
            "  libgmp-dev libgmpxx4ldbl libmpc-dev libmpfr-dev\n",
            "Suggested packages:\n",
            "  gmp-doc libgmp10-doc libmpfr-doc\n",
            "The following NEW packages will be installed:\n",
            "  gcc-7-plugin-dev libgmp-dev libgmpxx4ldbl libmpc-dev libmpfr-dev\n",
            "0 upgraded, 5 newly installed, 0 to remove and 127 not upgraded.\n",
            "Need to get 1,752 kB of archives.\n",
            "After this operation, 11.0 MB of additional disk space will be used.\n",
            "Get:1 http://archive.ubuntu.com/ubuntu bionic/main amd64 libgmpxx4ldbl amd64 2:6.1.2+dfsg-2 [8,964 B]\n",
            "Get:2 http://archive.ubuntu.com/ubuntu bionic/main amd64 libgmp-dev amd64 2:6.1.2+dfsg-2 [316 kB]\n",
            "Get:3 http://archive.ubuntu.com/ubuntu bionic/main amd64 libmpfr-dev amd64 4.0.1-1 [249 kB]\n",
            "Get:4 http://archive.ubuntu.com/ubuntu bionic/main amd64 libmpc-dev amd64 1.1.0-1 [50.5 kB]\n",
            "Get:5 http://archive.ubuntu.com/ubuntu bionic-updates/main amd64 gcc-7-plugin-dev amd64 7.3.0-27ubuntu1~18.04 [1,127 kB]\n",
            "Fetched 1,752 kB in 0s (4,404 kB/s)\n",
            "Selecting previously unselected package libgmpxx4ldbl:amd64.\n",
            "(Reading database ... 131787 files and directories currently installed.)\n",
            "Preparing to unpack .../libgmpxx4ldbl_2%3a6.1.2+dfsg-2_amd64.deb ...\n",
            "Unpacking libgmpxx4ldbl:amd64 (2:6.1.2+dfsg-2) ...\n",
            "Selecting previously unselected package libgmp-dev:amd64.\n",
            "Preparing to unpack .../libgmp-dev_2%3a6.1.2+dfsg-2_amd64.deb ...\n",
            "Unpacking libgmp-dev:amd64 (2:6.1.2+dfsg-2) ...\n",
            "Selecting previously unselected package libmpfr-dev:amd64.\n",
            "Preparing to unpack .../libmpfr-dev_4.0.1-1_amd64.deb ...\n",
            "Unpacking libmpfr-dev:amd64 (4.0.1-1) ...\n",
            "Selecting previously unselected package libmpc-dev:amd64.\n",
            "Preparing to unpack .../libmpc-dev_1.1.0-1_amd64.deb ...\n",
            "Unpacking libmpc-dev:amd64 (1.1.0-1) ...\n",
            "Selecting previously unselected package gcc-7-plugin-dev.\n",
            "Preparing to unpack .../gcc-7-plugin-dev_7.3.0-27ubuntu1~18.04_amd64.deb ...\n",
            "Unpacking gcc-7-plugin-dev (7.3.0-27ubuntu1~18.04) ...\n",
            "Processing triggers for libc-bin (2.27-3ubuntu1) ...\n",
            "Setting up libgmpxx4ldbl:amd64 (2:6.1.2+dfsg-2) ...\n",
            "Setting up libgmp-dev:amd64 (2:6.1.2+dfsg-2) ...\n",
            "Setting up libmpfr-dev:amd64 (4.0.1-1) ...\n",
            "Setting up libmpc-dev:amd64 (1.1.0-1) ...\n",
            "Setting up gcc-7-plugin-dev (7.3.0-27ubuntu1~18.04) ...\n",
            "Processing triggers for libc-bin (2.27-3ubuntu1) ...\n"
          ],
          "name": "stdout"
        }
      ]
    },
    {
      "metadata": {
        "id": "3dJTwd3piQnE",
        "colab_type": "code",
        "colab": {
          "base_uri": "https://localhost:8080/",
          "height": 563
        },
        "outputId": "8be5a968-b7e2-4b32-9f49-be15bc6b3c6a"
      },
      "cell_type": "code",
      "source": [
        "!./install.sh"
      ],
      "execution_count": 39,
      "outputs": [
        {
          "output_type": "stream",
          "text": [
            "Requirement already satisfied: easydict in /usr/local/lib/python2.7/dist-packages (1.9)\n",
            "Requirement already satisfied: tqdm in /usr/local/lib/python2.7/dist-packages (4.28.1)\n",
            "Requirement already satisfied: opencv-python in /usr/local/lib/python2.7/dist-packages (3.4.5.20)\n",
            "Requirement already satisfied: numpy>=1.11.1 in /usr/local/lib/python2.7/dist-packages (from opencv-python) (1.14.6)\n",
            "Requirement already satisfied: h5py in /usr/local/lib/python2.7/dist-packages (2.8.0)\n",
            "Requirement already satisfied: numpy>=1.7 in /usr/local/lib/python2.7/dist-packages (from h5py) (1.14.6)\n",
            "Requirement already satisfied: six in /usr/local/lib/python2.7/dist-packages (from h5py) (1.11.0)\n",
            "Installing https://luarocks.org/hdf5-2.0.0-1.src.rock\n",
            "Warning: variable CFLAGS was not passed in build_variables\n",
            "make[1]: Entering directory '/tmp/luarocks_hdf5-2.0.0-1-Bo0Vi0/lua-hdf5/gcc-lua'\n",
            "make[2]: Entering directory '/tmp/luarocks_hdf5-2.0.0-1-Bo0Vi0/lua-hdf5/gcc-lua/gcc'\n",
            "gcc -c -o gcclua.o -I/usr/lib/gcc/x86_64-linux-gnu/7/plugin/include -fPIC -xc++  -O2 -Wall -Wformat-security -I/usr/include/lua5.1 gcclua.c\n",
            "\u001b[01m\u001b[Kgcclua.c:\u001b[m\u001b[K In function ‘\u001b[01m\u001b[Kint gcclua_tree_get_type_anonymous(lua_State*)\u001b[m\u001b[K’:\n",
            "\u001b[01m\u001b[Kgcclua.c:636:22:\u001b[m\u001b[K \u001b[01;31m\u001b[Kerror: \u001b[m\u001b[K‘\u001b[01m\u001b[KTYPE_ANONYMOUS_P\u001b[m\u001b[K’ was not declared in this scope\n",
            "   lua_pushboolean(L, \u001b[01;31m\u001b[KTYPE_ANONYMOUS_P\u001b[m\u001b[K(*t));\n",
            "                      \u001b[01;31m\u001b[K^~~~~~~~~~~~~~~~\u001b[m\u001b[K\n",
            "\u001b[01m\u001b[Kgcclua.c:636:22:\u001b[m\u001b[K \u001b[01;36m\u001b[Knote: \u001b[m\u001b[Ksuggested alternative: ‘\u001b[01m\u001b[KMAP_ANONYMOUS\u001b[m\u001b[K’\n",
            "   lua_pushboolean(L, \u001b[01;36m\u001b[KTYPE_ANONYMOUS_P\u001b[m\u001b[K(*t));\n",
            "                      \u001b[01;36m\u001b[K^~~~~~~~~~~~~~~~\u001b[m\u001b[K\n",
            "                      \u001b[32m\u001b[KMAP_ANONYMOUS\u001b[m\u001b[K\n",
            "Makefile:29: recipe for target 'gcclua.o' failed\n",
            "make[2]: *** [gcclua.o] Error 1\n",
            "make[2]: Leaving directory '/tmp/luarocks_hdf5-2.0.0-1-Bo0Vi0/lua-hdf5/gcc-lua/gcc'\n",
            "Makefile:38: recipe for target 'gcc' failed\n",
            "make[1]: *** [gcc] Error 2\n",
            "make[1]: Leaving directory '/tmp/luarocks_hdf5-2.0.0-1-Bo0Vi0/lua-hdf5/gcc-lua'\n",
            "Makefile:44: recipe for target 'gcc-lua' failed\n",
            "make: *** [gcc-lua] Error 2\n",
            "\n",
            "Error: Build error: Failed building.\n"
          ],
          "name": "stdout"
        }
      ]
    },
    {
      "metadata": {
        "id": "E2xOs3pmoSXZ",
        "colab_type": "code",
        "colab": {
          "base_uri": "https://localhost:8080/",
          "height": 35
        },
        "outputId": "d355010b-e345-4d7d-cf8a-cc0bcd1f7d55"
      },
      "cell_type": "code",
      "source": [
        "!tortch --version"
      ],
      "execution_count": 31,
      "outputs": [
        {
          "output_type": "stream",
          "text": [
            "/bin/bash: tortch: command not found\n"
          ],
          "name": "stdout"
        }
      ]
    },
    {
      "metadata": {
        "id": "mRKMy97XnmVe",
        "colab_type": "code",
        "colab": {
          "base_uri": "https://localhost:8080/",
          "height": 872
        },
        "outputId": "5d0e56d5-8116-43ad-9426-1821442ab8e0"
      },
      "cell_type": "code",
      "source": [
        "!pip install --user easydict\n",
        "!pip install --user tqdm\n",
        "!pip install --user opencv-python\n",
        "!pip install --user h5py\n",
        "\n",
        "!apt-get install libhdf5-serial-dev hdf5-tools\n",
        "!git clone https://github.com/deepmind/torch-hdf5\n",
        "%cd torch-hdf5\n",
        "!luarocks make hdf5-0-0.rockspec LIBHDF5_LIBDIR=\"/usr/lib/x86_64-linux-gnu/\"\n"
      ],
      "execution_count": 26,
      "outputs": [
        {
          "output_type": "stream",
          "text": [
            "Requirement already satisfied: easydict in /usr/local/lib/python2.7/dist-packages (1.9)\n",
            "Requirement already satisfied: tqdm in /usr/local/lib/python2.7/dist-packages (4.28.1)\n",
            "Requirement already satisfied: opencv-python in /usr/local/lib/python2.7/dist-packages (3.4.5.20)\n",
            "Requirement already satisfied: numpy>=1.11.1 in /usr/local/lib/python2.7/dist-packages (from opencv-python) (1.14.6)\n",
            "Requirement already satisfied: h5py in /usr/local/lib/python2.7/dist-packages (2.8.0)\n",
            "Requirement already satisfied: numpy>=1.7 in /usr/local/lib/python2.7/dist-packages (from h5py) (1.14.6)\n",
            "Requirement already satisfied: six in /usr/local/lib/python2.7/dist-packages (from h5py) (1.11.0)\n",
            "Reading package lists... Done\n",
            "Building dependency tree       \n",
            "Reading state information... Done\n",
            "The following package was automatically installed and is no longer required:\n",
            "  libnvidia-common-410\n",
            "Use 'apt autoremove' to remove it.\n",
            "The following NEW packages will be installed:\n",
            "  hdf5-tools libhdf5-serial-dev\n",
            "0 upgraded, 2 newly installed, 0 to remove and 127 not upgraded.\n",
            "Need to get 393 kB of archives.\n",
            "After this operation, 2,318 kB of additional disk space will be used.\n",
            "Get:1 http://archive.ubuntu.com/ubuntu bionic/universe amd64 hdf5-tools amd64 1.10.0-patch1+docs-4 [390 kB]\n",
            "Get:2 http://archive.ubuntu.com/ubuntu bionic/universe amd64 libhdf5-serial-dev all 1.10.0-patch1+docs-4 [2,898 B]\n",
            "Fetched 393 kB in 1s (567 kB/s)\n",
            "Selecting previously unselected package hdf5-tools.\n",
            "(Reading database ... 132240 files and directories currently installed.)\n",
            "Preparing to unpack .../hdf5-tools_1.10.0-patch1+docs-4_amd64.deb ...\n",
            "Unpacking hdf5-tools (1.10.0-patch1+docs-4) ...\n",
            "Selecting previously unselected package libhdf5-serial-dev.\n",
            "Preparing to unpack .../libhdf5-serial-dev_1.10.0-patch1+docs-4_all.deb ...\n",
            "Unpacking libhdf5-serial-dev (1.10.0-patch1+docs-4) ...\n",
            "Setting up libhdf5-serial-dev (1.10.0-patch1+docs-4) ...\n",
            "Setting up hdf5-tools (1.10.0-patch1+docs-4) ...\n",
            "Processing triggers for man-db (2.8.3-2ubuntu0.1) ...\n",
            "Cloning into 'torch-hdf5'...\n",
            "remote: Enumerating objects: 14, done.\u001b[K\n",
            "remote: Counting objects: 100% (14/14), done.\u001b[K\n",
            "remote: Compressing objects: 100% (11/11), done.\u001b[K\n",
            "remote: Total 737 (delta 6), reused 10 (delta 3), pack-reused 723\u001b[K\n",
            "Receiving objects: 100% (737/737), 246.72 KiB | 902.00 KiB/s, done.\n",
            "Resolving deltas: 100% (429/429), done.\n",
            "/content/AlphaPose/torch-hdf5\n",
            "Missing dependencies for hdf5 0-0:\n",
            "   torch >= 7.0 (not installed)\n",
            "   penlight (not installed)\n",
            "   totem (not installed)\n",
            "\n",
            "hdf5 0-0 depends on torch >= 7.0 (not installed)\n",
            "\n",
            "Error: Could not satisfy dependency torch >= 7.0: No results matching query were found.\n"
          ],
          "name": "stdout"
        }
      ]
    },
    {
      "metadata": {
        "id": "4pYMB6OkiSr1",
        "colab_type": "code",
        "colab": {}
      },
      "cell_type": "code",
      "source": [
        "!chmod +x fetch_models.sh"
      ],
      "execution_count": 0,
      "outputs": []
    },
    {
      "metadata": {
        "id": "4MotFcyOiaBs",
        "colab_type": "code",
        "colab": {
          "base_uri": "https://localhost:8080/",
          "height": 545
        },
        "outputId": "c39e7b08-5b95-424e-8dc1-ecb448a88800"
      },
      "cell_type": "code",
      "source": [
        "!./fetch_models.sh"
      ],
      "execution_count": 13,
      "outputs": [
        {
          "output_type": "stream",
          "text": [
            "--2019-03-28 04:23:25--  http://mvig.sjtu.edu.cn/publications/rmpe/output.zip\n",
            "Resolving mvig.sjtu.edu.cn (mvig.sjtu.edu.cn)... 202.121.182.216\n",
            "Connecting to mvig.sjtu.edu.cn (mvig.sjtu.edu.cn)|202.121.182.216|:80... connected.\n",
            "HTTP request sent, awaiting response... 200 OK\n",
            "Length: 2064384 (2.0M) [application/zip]\n",
            "Saving to: ‘output.zip’\n",
            "\n",
            "output.zip          100%[===================>]   1.97M   312KB/s    in 6.5s    \n",
            "\n",
            "2019-03-28 04:23:33 (312 KB/s) - ‘output.zip’ saved [2064384/2064384]\n",
            "\n",
            "Archive:  output.zip\n",
            "  End-of-central-directory signature not found.  Either this file is not\n",
            "  a zipfile, or it constitutes one disk of a multi-part archive.  In the\n",
            "  latter case the central directory and zipfile comment will be found on\n",
            "  the last disk(s) of this archive.\n",
            "unzip:  cannot find zipfile directory in one of output.zip or\n",
            "        output.zip.zip, and cannot find output.zip.ZIP, period.\n",
            "--2019-03-28 04:23:33--  http://mvig.sjtu.edu.cn/publications/rmpe/final_model.t7\n",
            "Resolving mvig.sjtu.edu.cn (mvig.sjtu.edu.cn)... 202.121.182.216\n",
            "Connecting to mvig.sjtu.edu.cn (mvig.sjtu.edu.cn)|202.121.182.216|:80... connected.\n",
            "HTTP request sent, awaiting response... 200 OK\n",
            "Length: 2064384 (2.0M) [application/octet-stream]\n",
            "Saving to: ‘final_model.t7’\n",
            "\n",
            "final_model.t7      100%[===================>]   1.97M   332KB/s    in 7.7s    \n",
            "\n",
            "2019-03-28 04:23:41 (262 KB/s) - ‘final_model.t7’ saved [2064384/2064384]\n",
            "\n"
          ],
          "name": "stdout"
        }
      ]
    },
    {
      "metadata": {
        "id": "CAiQ4BkVicjk",
        "colab_type": "code",
        "colab": {
          "base_uri": "https://localhost:8080/",
          "height": 565
        },
        "outputId": "272438dd-e87e-4a77-860c-b92391784c95"
      },
      "cell_type": "code",
      "source": [
        "!./run.sh --indir examples/demo/ --outdir examples/results/ --vis"
      ],
      "execution_count": 14,
      "outputs": [
        {
          "output_type": "stream",
          "text": [
            "0\n",
            "generating bbox from Faster RCNN...\n",
            "Traceback (most recent call last):\n",
            "  File \"demo-alpha-pose.py\", line 128, in <module>\n",
            "    'our server and place them properly?').format(tfmodel + '.meta'))\n",
            "IOError: ../output/res152/coco_2014_train+coco_2014_valminusminival/default/res152.ckpt.meta not found.\n",
            "Did you download the proper networks from our server and place them properly?\n",
            "pose estimation with RMPE...\n",
            "./run.sh: line 78: th: command not found\n",
            "Traceback (most recent call last):\n",
            "  File \"parametric-pose-nms-MPII.py\", line 257, in <module>\n",
            "    get_result_json(args)\n",
            "  File \"parametric-pose-nms-MPII.py\", line 244, in get_result_json\n",
            "    test_parametric_pose_NMS_json(delta1, delta2, mu, gamma,args.outputpath)\n",
            "  File \"parametric-pose-nms-MPII.py\", line 100, in test_parametric_pose_NMS_json\n",
            "    h5file = h5py.File(os.path.join(outputpath,\"POSE/test-pose.h5\"), 'r')\n",
            "  File \"/usr/local/lib/python2.7/dist-packages/h5py/_hl/files.py\", line 312, in __init__\n",
            "    fid = make_fid(name, mode, userblock_size, fapl, swmr=swmr)\n",
            "  File \"/usr/local/lib/python2.7/dist-packages/h5py/_hl/files.py\", line 142, in make_fid\n",
            "    fid = h5f.open(name, flags, fapl=fapl)\n",
            "  File \"h5py/_objects.pyx\", line 54, in h5py._objects.with_phil.wrapper\n",
            "  File \"h5py/_objects.pyx\", line 55, in h5py._objects.with_phil.wrapper\n",
            "  File \"h5py/h5f.pyx\", line 78, in h5py.h5f.open\n",
            "IOError: Unable to open file (unable to open file: name = '/content/AlphaPose/examples/results/POSE/test-pose.h5', errno = 2, error message = 'No such file or directory', flags = 0, o_flags = 0)\n",
            "visualization...\n",
            "Traceback (most recent call last):\n",
            "  File \"json-video.py\", line 65, in <module>\n",
            "    with open(jsonpath) as f:\n",
            "IOError: [Errno 2] No such file or directory: '/content/AlphaPose/examples/results/POSE/alpha-pose-results-forvis.json'\n"
          ],
          "name": "stdout"
        }
      ]
    },
    {
      "metadata": {
        "id": "02b-rwnWijpd",
        "colab_type": "code",
        "colab": {}
      },
      "cell_type": "code",
      "source": [
        ""
      ],
      "execution_count": 0,
      "outputs": []
    }
  ]
}