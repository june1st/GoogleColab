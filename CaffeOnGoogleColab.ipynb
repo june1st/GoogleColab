{
  "nbformat": 4,
  "nbformat_minor": 0,
  "metadata": {
    "colab": {
      "name": "BERT FineTuning with Cloud TPU: Sentence and Sentence-Pair Classification Tasks",
      "version": "0.3.2",
      "provenance": [],
      "collapsed_sections": [],
      "toc_visible": true,
      "include_colab_link": true
    },
    "kernelspec": {
      "name": "python2",
      "display_name": "Python 2"
    },
    "accelerator": "GPU"
  },
  "cells": [
    {
      "cell_type": "markdown",
      "metadata": {
        "id": "view-in-github",
        "colab_type": "text"
      },
      "source": [
        "<a href=\"https://colab.research.google.com/github/june1st/GoogleColab/blob/master/CaffeOnGoogleColab.ipynb\" target=\"_parent\"><img src=\"https://colab.research.google.com/assets/colab-badge.svg\" alt=\"Open In Colab\"/></a>"
      ]
    },
    {
      "metadata": {
        "id": "rkTLZ3I4_7c_",
        "colab_type": "text"
      },
      "cell_type": "markdown",
      "source": [
        "# Blank File\n",
        "\n",
        "<table class=\"tfo-notebook-buttons\" align=\"left\" >\n",
        " <td>\n",
        "<img src=\"https://www.tensorflow.org/images/colab_logo_32px.png\" />\n",
        "  <td>\n",
        "<img src=\"https://www.tensorflow.org/images/GitHub-Mark-32px.png\" />\n",
        "  </td>\n",
        "</table>\n"
      ]
    },
    {
      "metadata": {
        "id": "co8HlrpYc4yl",
        "colab_type": "code",
        "colab": {
          "base_uri": "https://localhost:8080/",
          "height": 139
        },
        "outputId": "6db0733b-9058-445c-b0c3-bd0d5d8fdb10"
      },
      "cell_type": "code",
      "source": [
        "!pip install torch"
      ],
      "execution_count": 2,
      "outputs": [
        {
          "output_type": "stream",
          "text": [
            "Collecting torch\n",
            "\u001b[?25l  Downloading https://files.pythonhosted.org/packages/56/92/419c6959c0c427909994f019c039bf963354fe50153fa3a41094782b3a43/torch-1.0.0-cp27-cp27mu-manylinux1_x86_64.whl (591.8MB)\n",
            "\u001b[K    100% |████████████████████████████████| 591.8MB 24kB/s \n",
            "tcmalloc: large alloc 1073750016 bytes == 0x56039419e000 @  0x7f469355b2a4 0x5603328b5f18 0x5603329a9a85 0x5603328c94ca 0x5603328ce232 0x5603328c6d0a 0x5603328ce5fe 0x5603328c6d0a 0x5603328ce5fe 0x5603328c6d0a 0x5603328ce5fe 0x5603328c6d0a 0x5603328cec38 0x5603328c6d0a 0x5603328ce5fe 0x5603328c6d0a 0x5603328ce5fe 0x5603328ce232 0x5603328ce232 0x5603328c6d0a 0x5603328cec38 0x5603328ce232 0x5603328c6d0a 0x5603328cec38 0x5603328c6d0a 0x5603328cec38 0x5603328c6d0a 0x5603328ce5fe 0x5603328c6d0a 0x5603328c6629 0x5603328f761f\n",
            "\u001b[?25hInstalling collected packages: torch\n",
            "Successfully installed torch-1.0.0\n"
          ],
          "name": "stdout"
        }
      ]
    },
    {
      "metadata": {
        "id": "8lS0ELSTg7dF",
        "colab_type": "code",
        "colab": {
          "base_uri": "https://localhost:8080/",
          "height": 238
        },
        "outputId": "217533b7-b376-4231-9098-3f911b08cb11"
      },
      "cell_type": "code",
      "source": [
        "#CUDA 90 を入れたい\n",
        "!python -c 'import chainer; chainer.print_runtime_info()'"
      ],
      "execution_count": 5,
      "outputs": [
        {
          "output_type": "stream",
          "text": [
            "Platform: Linux-4.14.79+-x86_64-with-Ubuntu-18.04-bionic\n",
            "Chainer: 5.0.0\n",
            "NumPy: 1.14.6\n",
            "CuPy:\n",
            "  CuPy Version          : 5.0.0\n",
            "  CUDA Root             : /usr/local/cuda\n",
            "  CUDA Build Version    : 9020\n",
            "  CUDA Driver Version   : 9020\n",
            "  CUDA Runtime Version  : 9020\n",
            "  cuDNN Build Version   : 7201\n",
            "  cuDNN Version         : 7201\n",
            "  NCCL Build Version    : 2213\n",
            "iDeep: 2.0.0.post3\n"
          ],
          "name": "stdout"
        }
      ]
    },
    {
      "metadata": {
        "id": "wQwv1v9Sh0oH",
        "colab_type": "code",
        "colab": {
          "base_uri": "https://localhost:8080/",
          "height": 4250
        },
        "outputId": "68ca3f59-d0e3-40e5-ef11-6a6b24835d7e"
      },
      "cell_type": "code",
      "source": [
        "!wget http://developer.download.nvidia.com/compute/cuda/repos/ubuntu1604/x86_64/cuda-repo-ubuntu1604_9.0.176-1_amd64.deb\n",
        "!dpkg -i --force-confnew cuda-repo-ubuntu1604_9.0.176-1_amd64.deb\n",
        "!apt-key adv --fetch-keys http://developer.download.nvidia.com/compute/cuda/repos/ubuntu1604/x86_64/7fa2af80.pub\n",
        "!apt-get update\n",
        "!apt-get install cuda-9-0"
      ],
      "execution_count": 4,
      "outputs": [
        {
          "output_type": "stream",
          "text": [
            "--2019-01-16 07:19:40--  http://developer.download.nvidia.com/compute/cuda/repos/ubuntu1604/x86_64/cuda-repo-ubuntu1604_9.0.176-1_amd64.deb\n",
            "Resolving developer.download.nvidia.com (developer.download.nvidia.com)... 192.229.211.70, 2606:2800:21f:3aa:dcf:37b:1ed6:1fb\n",
            "Connecting to developer.download.nvidia.com (developer.download.nvidia.com)|192.229.211.70|:80... connected.\n",
            "HTTP request sent, awaiting response... 200 OK\n",
            "Length: 2838 (2.8K) [application/x-deb]\n",
            "Saving to: ‘cuda-repo-ubuntu1604_9.0.176-1_amd64.deb’\n",
            "\n",
            "\r          cuda-repo   0%[                    ]       0  --.-KB/s               \rcuda-repo-ubuntu160 100%[===================>]   2.77K  --.-KB/s    in 0s      \n",
            "\n",
            "2019-01-16 07:19:40 (426 MB/s) - ‘cuda-repo-ubuntu1604_9.0.176-1_amd64.deb’ saved [2838/2838]\n",
            "\n",
            "Selecting previously unselected package cuda-repo-ubuntu1604.\n",
            "(Reading database ... 110851 files and directories currently installed.)\n",
            "Preparing to unpack cuda-repo-ubuntu1604_9.0.176-1_amd64.deb ...\n",
            "Unpacking cuda-repo-ubuntu1604 (9.0.176-1) ...\n",
            "Setting up cuda-repo-ubuntu1604 (9.0.176-1) ...\n",
            "\n",
            "Configuration file '/etc/apt/sources.list.d/cuda.list'\n",
            " ==> File on system created by you or by a script.\n",
            " ==> File also in package provided by package maintainer.\n",
            " ==> Using new file as you requested.\n",
            "Installing new version of config file /etc/apt/sources.list.d/cuda.list ...\n",
            "Executing: /tmp/apt-key-gpghome.lZp6uTzTVk/gpg.1.sh --fetch-keys http://developer.download.nvidia.com/compute/cuda/repos/ubuntu1604/x86_64/7fa2af80.pub\n",
            "gpg: requesting key from 'http://developer.download.nvidia.com/compute/cuda/repos/ubuntu1604/x86_64/7fa2af80.pub'\n",
            "gpg: key F60F4B3D7FA2AF80: \"cudatools <cudatools@nvidia.com>\" not changed\n",
            "gpg: Total number processed: 1\n",
            "gpg:              unchanged: 1\n",
            "Ign:1 http://developer.download.nvidia.com/compute/cuda/repos/ubuntu1604/x86_64  InRelease\n",
            "Get:2 http://developer.download.nvidia.com/compute/cuda/repos/ubuntu1604/x86_64  Release [564 B]\n",
            "Get:3 http://developer.download.nvidia.com/compute/cuda/repos/ubuntu1604/x86_64  Release.gpg [819 B]\n",
            "Ign:4 https://developer.download.nvidia.com/compute/machine-learning/repos/ubuntu1604/x86_64  InRelease\n",
            "Hit:5 https://developer.download.nvidia.com/compute/machine-learning/repos/ubuntu1604/x86_64  Release\n",
            "Hit:6 http://ppa.launchpad.net/graphics-drivers/ppa/ubuntu bionic InRelease\n",
            "Get:7 http://security.ubuntu.com/ubuntu bionic-security InRelease [83.2 kB]\n",
            "Get:8 http://developer.download.nvidia.com/compute/cuda/repos/ubuntu1604/x86_64  Packages [161 kB]\n",
            "Hit:9 http://archive.ubuntu.com/ubuntu bionic InRelease\n",
            "Get:11 http://archive.ubuntu.com/ubuntu bionic-updates InRelease [88.7 kB]\n",
            "Get:12 http://archive.ubuntu.com/ubuntu bionic-backports InRelease [74.6 kB]\n",
            "Get:13 http://security.ubuntu.com/ubuntu bionic-security/universe amd64 Packages [138 kB]\n",
            "Get:14 http://archive.ubuntu.com/ubuntu bionic-updates/universe amd64 Packages [905 kB]\n",
            "Get:15 http://security.ubuntu.com/ubuntu bionic-security/main amd64 Packages [308 kB]\n",
            "Get:16 http://security.ubuntu.com/ubuntu bionic-security/multiverse amd64 Packages [1,365 B]\n",
            "Get:17 http://archive.ubuntu.com/ubuntu bionic-updates/main amd64 Packages [634 kB]\n",
            "Get:18 http://archive.ubuntu.com/ubuntu bionic-updates/multiverse amd64 Packages [6,933 B]\n",
            "Fetched 2,403 kB in 2s (1,152 kB/s)\n",
            "Reading package lists... Done\n",
            "Reading package lists... Done\n",
            "Building dependency tree       \n",
            "Reading state information... Done\n",
            "The following additional packages will be installed:\n",
            "  cuda-command-line-tools-9-0 cuda-core-9-0 cuda-cublas-9-0\n",
            "  cuda-cublas-dev-9-0 cuda-cudart-9-0 cuda-cudart-dev-9-0 cuda-cufft-9-0\n",
            "  cuda-cufft-dev-9-0 cuda-curand-9-0 cuda-curand-dev-9-0 cuda-cusolver-9-0\n",
            "  cuda-cusolver-dev-9-0 cuda-cusparse-9-0 cuda-cusparse-dev-9-0\n",
            "  cuda-demo-suite-9-0 cuda-documentation-9-0 cuda-driver-dev-9-0\n",
            "  cuda-libraries-9-0 cuda-libraries-dev-9-0 cuda-license-9-0\n",
            "  cuda-misc-headers-9-0 cuda-npp-9-0 cuda-npp-dev-9-0 cuda-nvgraph-9-0\n",
            "  cuda-nvgraph-dev-9-0 cuda-nvml-dev-9-0 cuda-nvrtc-9-0 cuda-nvrtc-dev-9-0\n",
            "  cuda-runtime-9-0 cuda-samples-9-0 cuda-toolkit-9-0 cuda-visual-tools-9-0\n",
            "The following NEW packages will be installed:\n",
            "  cuda-9-0 cuda-command-line-tools-9-0 cuda-core-9-0 cuda-cublas-9-0\n",
            "  cuda-cublas-dev-9-0 cuda-cudart-9-0 cuda-cudart-dev-9-0 cuda-cufft-9-0\n",
            "  cuda-cufft-dev-9-0 cuda-curand-9-0 cuda-curand-dev-9-0 cuda-cusolver-9-0\n",
            "  cuda-cusolver-dev-9-0 cuda-cusparse-9-0 cuda-cusparse-dev-9-0\n",
            "  cuda-demo-suite-9-0 cuda-documentation-9-0 cuda-driver-dev-9-0\n",
            "  cuda-libraries-9-0 cuda-libraries-dev-9-0 cuda-license-9-0\n",
            "  cuda-misc-headers-9-0 cuda-npp-9-0 cuda-npp-dev-9-0 cuda-nvgraph-9-0\n",
            "  cuda-nvgraph-dev-9-0 cuda-nvml-dev-9-0 cuda-nvrtc-9-0 cuda-nvrtc-dev-9-0\n",
            "  cuda-runtime-9-0 cuda-samples-9-0 cuda-toolkit-9-0 cuda-visual-tools-9-0\n",
            "0 upgraded, 33 newly installed, 0 to remove and 48 not upgraded.\n",
            "Need to get 1,126 MB of archives.\n",
            "After this operation, 2,386 MB of additional disk space will be used.\n",
            "Get:1 http://developer.download.nvidia.com/compute/cuda/repos/ubuntu1604/x86_64  cuda-license-9-0 9.0.176-1 [22.0 kB]\n",
            "Get:2 http://developer.download.nvidia.com/compute/cuda/repos/ubuntu1604/x86_64  cuda-misc-headers-9-0 9.0.176-1 [684 kB]\n",
            "Get:3 http://developer.download.nvidia.com/compute/cuda/repos/ubuntu1604/x86_64  cuda-core-9-0 9.0.176.3-1 [16.9 MB]\n",
            "Get:4 http://developer.download.nvidia.com/compute/cuda/repos/ubuntu1604/x86_64  cuda-cudart-9-0 9.0.176-1 [106 kB]\n",
            "Get:5 http://developer.download.nvidia.com/compute/cuda/repos/ubuntu1604/x86_64  cuda-driver-dev-9-0 9.0.176-1 [10.9 kB]\n",
            "Get:6 http://developer.download.nvidia.com/compute/cuda/repos/ubuntu1604/x86_64  cuda-cudart-dev-9-0 9.0.176-1 [767 kB]\n",
            "Get:7 http://developer.download.nvidia.com/compute/cuda/repos/ubuntu1604/x86_64  cuda-command-line-tools-9-0 9.0.176-1 [25.4 MB]\n",
            "Get:8 http://developer.download.nvidia.com/compute/cuda/repos/ubuntu1604/x86_64  cuda-nvrtc-9-0 9.0.176-1 [6,348 kB]\n",
            "Get:9 http://developer.download.nvidia.com/compute/cuda/repos/ubuntu1604/x86_64  cuda-nvrtc-dev-9-0 9.0.176-1 [9,334 B]\n",
            "Get:10 http://developer.download.nvidia.com/compute/cuda/repos/ubuntu1604/x86_64  cuda-cusolver-9-0 9.0.176-1 [26.2 MB]\n",
            "Get:11 http://developer.download.nvidia.com/compute/cuda/repos/ubuntu1604/x86_64  cuda-cusolver-dev-9-0 9.0.176-1 [5,317 kB]\n",
            "Get:12 http://developer.download.nvidia.com/compute/cuda/repos/ubuntu1604/x86_64  cuda-cublas-9-0 9.0.176.4-1 [52.1 MB]\n",
            "Get:13 http://developer.download.nvidia.com/compute/cuda/repos/ubuntu1604/x86_64  cuda-cublas-dev-9-0 9.0.176.4-1 [51.3 MB]\n",
            "Get:14 http://developer.download.nvidia.com/compute/cuda/repos/ubuntu1604/x86_64  cuda-cufft-9-0 9.0.176-1 [84.1 MB]\n",
            "Get:15 http://developer.download.nvidia.com/compute/cuda/repos/ubuntu1604/x86_64  cuda-cufft-dev-9-0 9.0.176-1 [73.7 MB]\n",
            "Get:16 http://developer.download.nvidia.com/compute/cuda/repos/ubuntu1604/x86_64  cuda-curand-9-0 9.0.176-1 [38.8 MB]\n",
            "Get:17 http://developer.download.nvidia.com/compute/cuda/repos/ubuntu1604/x86_64  cuda-curand-dev-9-0 9.0.176-1 [57.9 MB]\n",
            "Get:18 http://developer.download.nvidia.com/compute/cuda/repos/ubuntu1604/x86_64  cuda-cusparse-9-0 9.0.176-1 [25.2 MB]\n",
            "Get:19 http://developer.download.nvidia.com/compute/cuda/repos/ubuntu1604/x86_64  cuda-cusparse-dev-9-0 9.0.176-1 [25.3 MB]\n",
            "Get:20 http://developer.download.nvidia.com/compute/cuda/repos/ubuntu1604/x86_64  cuda-npp-9-0 9.0.176-1 [46.6 MB]\n",
            "Get:21 http://developer.download.nvidia.com/compute/cuda/repos/ubuntu1604/x86_64  cuda-npp-dev-9-0 9.0.176-1 [46.6 MB]\n",
            "Get:22 http://developer.download.nvidia.com/compute/cuda/repos/ubuntu1604/x86_64  cuda-nvgraph-9-0 9.0.176-1 [6,081 kB]\n",
            "Get:23 http://developer.download.nvidia.com/compute/cuda/repos/ubuntu1604/x86_64  cuda-nvgraph-dev-9-0 9.0.176-1 [5,658 kB]\n",
            "Get:24 http://developer.download.nvidia.com/compute/cuda/repos/ubuntu1604/x86_64  cuda-samples-9-0 9.0.176-1 [75.9 MB]\n",
            "Get:25 http://developer.download.nvidia.com/compute/cuda/repos/ubuntu1604/x86_64  cuda-documentation-9-0 9.0.176-1 [53.1 MB]\n",
            "Get:26 http://developer.download.nvidia.com/compute/cuda/repos/ubuntu1604/x86_64  cuda-libraries-dev-9-0 9.0.176-1 [2,596 B]\n",
            "Get:27 http://developer.download.nvidia.com/compute/cuda/repos/ubuntu1604/x86_64  cuda-nvml-dev-9-0 9.0.176-1 [47.6 kB]\n",
            "Get:28 http://developer.download.nvidia.com/compute/cuda/repos/ubuntu1604/x86_64  cuda-visual-tools-9-0 9.0.176-1 [398 MB]\n",
            "Get:29 http://developer.download.nvidia.com/compute/cuda/repos/ubuntu1604/x86_64  cuda-toolkit-9-0 9.0.176-1 [2,836 B]\n",
            "Get:30 http://developer.download.nvidia.com/compute/cuda/repos/ubuntu1604/x86_64  cuda-libraries-9-0 9.0.176-1 [2,566 B]\n",
            "Get:31 http://developer.download.nvidia.com/compute/cuda/repos/ubuntu1604/x86_64  cuda-runtime-9-0 9.0.176-1 [2,526 B]\n",
            "Get:32 http://developer.download.nvidia.com/compute/cuda/repos/ubuntu1604/x86_64  cuda-demo-suite-9-0 9.0.176-1 [3,880 kB]\n",
            "Get:33 http://developer.download.nvidia.com/compute/cuda/repos/ubuntu1604/x86_64  cuda-9-0 9.0.176-1 [2,552 B]\n",
            "Fetched 1,126 MB in 29s (38.9 MB/s)\n",
            "Extracting templates from packages: 100%\n",
            "Selecting previously unselected package cuda-license-9-0.\n",
            "(Reading database ... 110854 files and directories currently installed.)\n",
            "Preparing to unpack .../00-cuda-license-9-0_9.0.176-1_amd64.deb ...\n",
            "Unpacking cuda-license-9-0 (9.0.176-1) ...\n",
            "Selecting previously unselected package cuda-misc-headers-9-0.\n",
            "Preparing to unpack .../01-cuda-misc-headers-9-0_9.0.176-1_amd64.deb ...\n",
            "Unpacking cuda-misc-headers-9-0 (9.0.176-1) ...\n",
            "Selecting previously unselected package cuda-core-9-0.\n",
            "Preparing to unpack .../02-cuda-core-9-0_9.0.176.3-1_amd64.deb ...\n",
            "Unpacking cuda-core-9-0 (9.0.176.3-1) ...\n",
            "Selecting previously unselected package cuda-cudart-9-0.\n",
            "Preparing to unpack .../03-cuda-cudart-9-0_9.0.176-1_amd64.deb ...\n",
            "Unpacking cuda-cudart-9-0 (9.0.176-1) ...\n",
            "Selecting previously unselected package cuda-driver-dev-9-0.\n",
            "Preparing to unpack .../04-cuda-driver-dev-9-0_9.0.176-1_amd64.deb ...\n",
            "Unpacking cuda-driver-dev-9-0 (9.0.176-1) ...\n",
            "Selecting previously unselected package cuda-cudart-dev-9-0.\n",
            "Preparing to unpack .../05-cuda-cudart-dev-9-0_9.0.176-1_amd64.deb ...\n",
            "Unpacking cuda-cudart-dev-9-0 (9.0.176-1) ...\n",
            "Selecting previously unselected package cuda-command-line-tools-9-0.\n",
            "Preparing to unpack .../06-cuda-command-line-tools-9-0_9.0.176-1_amd64.deb ...\n",
            "Unpacking cuda-command-line-tools-9-0 (9.0.176-1) ...\n",
            "Selecting previously unselected package cuda-nvrtc-9-0.\n",
            "Preparing to unpack .../07-cuda-nvrtc-9-0_9.0.176-1_amd64.deb ...\n",
            "Unpacking cuda-nvrtc-9-0 (9.0.176-1) ...\n",
            "Selecting previously unselected package cuda-nvrtc-dev-9-0.\n",
            "Preparing to unpack .../08-cuda-nvrtc-dev-9-0_9.0.176-1_amd64.deb ...\n",
            "Unpacking cuda-nvrtc-dev-9-0 (9.0.176-1) ...\n",
            "Selecting previously unselected package cuda-cusolver-9-0.\n",
            "Preparing to unpack .../09-cuda-cusolver-9-0_9.0.176-1_amd64.deb ...\n",
            "Unpacking cuda-cusolver-9-0 (9.0.176-1) ...\n",
            "Selecting previously unselected package cuda-cusolver-dev-9-0.\n",
            "Preparing to unpack .../10-cuda-cusolver-dev-9-0_9.0.176-1_amd64.deb ...\n",
            "Unpacking cuda-cusolver-dev-9-0 (9.0.176-1) ...\n",
            "Selecting previously unselected package cuda-cublas-9-0.\n",
            "Preparing to unpack .../11-cuda-cublas-9-0_9.0.176.4-1_amd64.deb ...\n",
            "Unpacking cuda-cublas-9-0 (9.0.176.4-1) ...\n",
            "Selecting previously unselected package cuda-cublas-dev-9-0.\n",
            "Preparing to unpack .../12-cuda-cublas-dev-9-0_9.0.176.4-1_amd64.deb ...\n",
            "Unpacking cuda-cublas-dev-9-0 (9.0.176.4-1) ...\n",
            "Selecting previously unselected package cuda-cufft-9-0.\n",
            "Preparing to unpack .../13-cuda-cufft-9-0_9.0.176-1_amd64.deb ...\n",
            "Unpacking cuda-cufft-9-0 (9.0.176-1) ...\n",
            "Selecting previously unselected package cuda-cufft-dev-9-0.\n",
            "Preparing to unpack .../14-cuda-cufft-dev-9-0_9.0.176-1_amd64.deb ...\n",
            "Unpacking cuda-cufft-dev-9-0 (9.0.176-1) ...\n",
            "Selecting previously unselected package cuda-curand-9-0.\n",
            "Preparing to unpack .../15-cuda-curand-9-0_9.0.176-1_amd64.deb ...\n",
            "Unpacking cuda-curand-9-0 (9.0.176-1) ...\n",
            "Selecting previously unselected package cuda-curand-dev-9-0.\n",
            "Preparing to unpack .../16-cuda-curand-dev-9-0_9.0.176-1_amd64.deb ...\n",
            "Unpacking cuda-curand-dev-9-0 (9.0.176-1) ...\n",
            "Selecting previously unselected package cuda-cusparse-9-0.\n",
            "Preparing to unpack .../17-cuda-cusparse-9-0_9.0.176-1_amd64.deb ...\n",
            "Unpacking cuda-cusparse-9-0 (9.0.176-1) ...\n",
            "Selecting previously unselected package cuda-cusparse-dev-9-0.\n",
            "Preparing to unpack .../18-cuda-cusparse-dev-9-0_9.0.176-1_amd64.deb ...\n",
            "Unpacking cuda-cusparse-dev-9-0 (9.0.176-1) ...\n",
            "Selecting previously unselected package cuda-npp-9-0.\n",
            "Preparing to unpack .../19-cuda-npp-9-0_9.0.176-1_amd64.deb ...\n",
            "Unpacking cuda-npp-9-0 (9.0.176-1) ...\n",
            "Selecting previously unselected package cuda-npp-dev-9-0.\n",
            "Preparing to unpack .../20-cuda-npp-dev-9-0_9.0.176-1_amd64.deb ...\n",
            "Unpacking cuda-npp-dev-9-0 (9.0.176-1) ...\n",
            "Selecting previously unselected package cuda-nvgraph-9-0.\n",
            "Preparing to unpack .../21-cuda-nvgraph-9-0_9.0.176-1_amd64.deb ...\n",
            "Unpacking cuda-nvgraph-9-0 (9.0.176-1) ...\n",
            "Selecting previously unselected package cuda-nvgraph-dev-9-0.\n",
            "Preparing to unpack .../22-cuda-nvgraph-dev-9-0_9.0.176-1_amd64.deb ...\n",
            "Unpacking cuda-nvgraph-dev-9-0 (9.0.176-1) ...\n",
            "Selecting previously unselected package cuda-samples-9-0.\n",
            "Preparing to unpack .../23-cuda-samples-9-0_9.0.176-1_amd64.deb ...\n",
            "Unpacking cuda-samples-9-0 (9.0.176-1) ...\n",
            "Selecting previously unselected package cuda-documentation-9-0.\n",
            "Preparing to unpack .../24-cuda-documentation-9-0_9.0.176-1_amd64.deb ...\n",
            "Unpacking cuda-documentation-9-0 (9.0.176-1) ...\n",
            "Selecting previously unselected package cuda-libraries-dev-9-0.\n",
            "Preparing to unpack .../25-cuda-libraries-dev-9-0_9.0.176-1_amd64.deb ...\n",
            "Unpacking cuda-libraries-dev-9-0 (9.0.176-1) ...\n",
            "Selecting previously unselected package cuda-nvml-dev-9-0.\n",
            "Preparing to unpack .../26-cuda-nvml-dev-9-0_9.0.176-1_amd64.deb ...\n",
            "Unpacking cuda-nvml-dev-9-0 (9.0.176-1) ...\n",
            "Selecting previously unselected package cuda-visual-tools-9-0.\n",
            "Preparing to unpack .../27-cuda-visual-tools-9-0_9.0.176-1_amd64.deb ...\n",
            "Unpacking cuda-visual-tools-9-0 (9.0.176-1) ...\n",
            "Selecting previously unselected package cuda-toolkit-9-0.\n",
            "Preparing to unpack .../28-cuda-toolkit-9-0_9.0.176-1_amd64.deb ...\n",
            "Unpacking cuda-toolkit-9-0 (9.0.176-1) ...\n",
            "Selecting previously unselected package cuda-libraries-9-0.\n",
            "Preparing to unpack .../29-cuda-libraries-9-0_9.0.176-1_amd64.deb ...\n",
            "Unpacking cuda-libraries-9-0 (9.0.176-1) ...\n",
            "Selecting previously unselected package cuda-runtime-9-0.\n",
            "Preparing to unpack .../30-cuda-runtime-9-0_9.0.176-1_amd64.deb ...\n",
            "Unpacking cuda-runtime-9-0 (9.0.176-1) ...\n",
            "Selecting previously unselected package cuda-demo-suite-9-0.\n",
            "Preparing to unpack .../31-cuda-demo-suite-9-0_9.0.176-1_amd64.deb ...\n",
            "Unpacking cuda-demo-suite-9-0 (9.0.176-1) ...\n",
            "Selecting previously unselected package cuda-9-0.\n",
            "Preparing to unpack .../32-cuda-9-0_9.0.176-1_amd64.deb ...\n",
            "Unpacking cuda-9-0 (9.0.176-1) ...\n",
            "Processing triggers for libc-bin (2.27-3ubuntu1) ...\n",
            "Setting up cuda-license-9-0 (9.0.176-1) ...\n",
            "*** LICENSE AGREEMENT ***\n",
            "By using this software you agree to fully comply with the terms and \n",
            "conditions of the EULA (End User License Agreement). The EULA is located\n",
            "at /usr/local/cuda-9.0/doc/EULA.txt. The EULA can also be found at\n",
            "http://docs.nvidia.com/cuda/eula/index.html. If you do not agree to the\n",
            "terms and conditions of the EULA, do not use the software.\n",
            "\n",
            "Setting up cuda-cusparse-9-0 (9.0.176-1) ...\n",
            "Setting up cuda-cudart-9-0 (9.0.176-1) ...\n",
            "Setting up cuda-nvrtc-9-0 (9.0.176-1) ...\n",
            "Setting up cuda-cusparse-dev-9-0 (9.0.176-1) ...\n",
            "Setting up cuda-cufft-9-0 (9.0.176-1) ...\n",
            "Setting up cuda-cusolver-9-0 (9.0.176-1) ...\n",
            "Setting up cuda-nvml-dev-9-0 (9.0.176-1) ...\n",
            "Setting up cuda-npp-9-0 (9.0.176-1) ...\n",
            "Setting up cuda-cusolver-dev-9-0 (9.0.176-1) ...\n",
            "Setting up cuda-misc-headers-9-0 (9.0.176-1) ...\n",
            "Setting up cuda-cublas-9-0 (9.0.176.4-1) ...\n",
            "Setting up cuda-nvrtc-dev-9-0 (9.0.176-1) ...\n",
            "Setting up cuda-driver-dev-9-0 (9.0.176-1) ...\n",
            "Setting up cuda-curand-9-0 (9.0.176-1) ...\n",
            "Setting up cuda-nvgraph-9-0 (9.0.176-1) ...\n",
            "Setting up cuda-core-9-0 (9.0.176.3-1) ...\n",
            "Setting up cuda-libraries-9-0 (9.0.176-1) ...\n",
            "Setting up cuda-runtime-9-0 (9.0.176-1) ...\n",
            "Setting up cuda-cudart-dev-9-0 (9.0.176-1) ...\n",
            "Setting up cuda-cufft-dev-9-0 (9.0.176-1) ...\n",
            "Setting up cuda-npp-dev-9-0 (9.0.176-1) ...\n",
            "Setting up cuda-curand-dev-9-0 (9.0.176-1) ...\n",
            "Setting up cuda-cublas-dev-9-0 (9.0.176.4-1) ...\n",
            "Setting up cuda-nvgraph-dev-9-0 (9.0.176-1) ...\n",
            "Setting up cuda-command-line-tools-9-0 (9.0.176-1) ...\n",
            "Setting up cuda-demo-suite-9-0 (9.0.176-1) ...\n",
            "Setting up cuda-visual-tools-9-0 (9.0.176-1) ...\n",
            "Setting up cuda-samples-9-0 (9.0.176-1) ...\n",
            "Setting up cuda-libraries-dev-9-0 (9.0.176-1) ...\n",
            "Setting up cuda-documentation-9-0 (9.0.176-1) ...\n",
            "Setting up cuda-toolkit-9-0 (9.0.176-1) ...\n",
            "Setting up cuda-9-0 (9.0.176-1) ...\n",
            "Processing triggers for libc-bin (2.27-3ubuntu1) ...\n"
          ],
          "name": "stdout"
        }
      ]
    },
    {
      "metadata": {
        "id": "gjqRPlLIh6PX",
        "colab_type": "code",
        "colab": {
          "base_uri": "https://localhost:8080/",
          "height": 85
        },
        "outputId": "0ebe916b-8efd-421e-dd0c-255e9138e40e"
      },
      "cell_type": "code",
      "source": [
        "!nvcc -V"
      ],
      "execution_count": 6,
      "outputs": [
        {
          "output_type": "stream",
          "text": [
            "nvcc: NVIDIA (R) Cuda compiler driver\n",
            "Copyright (c) 2005-2017 NVIDIA Corporation\n",
            "Built on Fri_Sep__1_21:08:03_CDT_2017\n",
            "Cuda compilation tools, release 9.0, V9.0.176\n"
          ],
          "name": "stdout"
        }
      ]
    },
    {
      "metadata": {
        "id": "Gby3XxMmj6q4",
        "colab_type": "code",
        "colab": {
          "base_uri": "https://localhost:8080/",
          "height": 204
        },
        "outputId": "8768209b-ae3d-460b-c3a3-46bdb760c91a"
      },
      "cell_type": "code",
      "source": [
        "!pip install caffe2"
      ],
      "execution_count": 9,
      "outputs": [
        {
          "output_type": "stream",
          "text": [
            "Collecting caffe2\n",
            "  Using cached https://files.pythonhosted.org/packages/0f/b5/b4824aeeef2fc0a54e6f9f090545a486c2e5db0e18faae011c16465ee917/caffe2-0.5.0a0.dev100.tar.gz\n",
            "    Complete output from command python setup.py egg_info:\n",
            "    Traceback (most recent call last):\n",
            "      File \"<string>\", line 1, in <module>\n",
            "      File \"/tmp/pip-install-d_Ihvp/caffe2/setup.py\", line 108, in <module>\n",
            "        from tools.setup_helpers.env import check_env_flag, check_negative_env_flag\n",
            "    ImportError: No module named tools.setup_helpers.env\n",
            "    \n",
            "    ----------------------------------------\n",
            "\u001b[31mCommand \"python setup.py egg_info\" failed with error code 1 in /tmp/pip-install-d_Ihvp/caffe2/\u001b[0m\n"
          ],
          "name": "stdout"
        }
      ]
    },
    {
      "metadata": {
        "id": "njWqCED7sisf",
        "colab_type": "code",
        "colab": {
          "base_uri": "https://localhost:8080/",
          "height": 2111
        },
        "outputId": "f6677bdd-c147-4f97-b55b-29e048c03cd8"
      },
      "cell_type": "code",
      "source": [
        "  !sudo apt-get install libprotobuf-dev libleveldb-dev libsnappy-dev libopencv-dev libhdf5-serial-dev protobuf-compiler\n",
        "  !sudo apt-get install --no-install-recommends libboost-all-dev\n",
        "  !sudo apt-get install libopenblas-dev\n",
        "  !sudo apt-get install libgflags-dev libgoogle-glog-dev liblmdb-dev"
      ],
      "execution_count": 49,
      "outputs": [
        {
          "output_type": "stream",
          "text": [
            "Reading package lists... Done\n",
            "Building dependency tree       \n",
            "Reading state information... Done\n",
            "protobuf-compiler is already the newest version (3.0.0-9.1ubuntu1).\n",
            "libopencv-dev is already the newest version (3.2.0+dfsg-4ubuntu0.1).\n",
            "Suggested packages:\n",
            "  leveldb-doc\n",
            "The following NEW packages will be installed:\n",
            "  libhdf5-serial-dev libleveldb-dev libleveldb1v5 libprotobuf-dev\n",
            "  libprotobuf-lite10 libsnappy-dev\n",
            "0 upgraded, 6 newly installed, 0 to remove and 48 not upgraded.\n",
            "Need to get 1,400 kB of archives.\n",
            "After this operation, 9,964 kB of additional disk space will be used.\n",
            "Get:1 http://archive.ubuntu.com/ubuntu bionic/universe amd64 libhdf5-serial-dev all 1.10.0-patch1+docs-4 [2,898 B]\n",
            "Get:2 http://archive.ubuntu.com/ubuntu bionic/main amd64 libleveldb1v5 amd64 1.20-2 [136 kB]\n",
            "Get:3 http://archive.ubuntu.com/ubuntu bionic/main amd64 libleveldb-dev amd64 1.20-2 [177 kB]\n",
            "Get:4 http://archive.ubuntu.com/ubuntu bionic/main amd64 libprotobuf-lite10 amd64 3.0.0-9.1ubuntu1 [97.7 kB]\n",
            "Get:5 http://archive.ubuntu.com/ubuntu bionic/main amd64 libprotobuf-dev amd64 3.0.0-9.1ubuntu1 [959 kB]\n",
            "Get:6 http://archive.ubuntu.com/ubuntu bionic/main amd64 libsnappy-dev amd64 1.1.7-1 [27.2 kB]\n",
            "Fetched 1,400 kB in 1s (1,005 kB/s)\n",
            "debconf: unable to initialize frontend: Dialog\n",
            "debconf: (No usable dialog-like program is installed, so the dialog based frontend cannot be used. at /usr/share/perl5/Debconf/FrontEnd/Dialog.pm line 76, <> line 6.)\n",
            "debconf: falling back to frontend: Readline\n",
            "debconf: unable to initialize frontend: Readline\n",
            "debconf: (This frontend requires a controlling tty.)\n",
            "debconf: falling back to frontend: Teletype\n",
            "dpkg-preconfigure: unable to re-open stdin: \n",
            "Selecting previously unselected package libhdf5-serial-dev.\n",
            "(Reading database ... 120109 files and directories currently installed.)\n",
            "Preparing to unpack .../0-libhdf5-serial-dev_1.10.0-patch1+docs-4_all.deb ...\n",
            "Unpacking libhdf5-serial-dev (1.10.0-patch1+docs-4) ...\n",
            "Selecting previously unselected package libleveldb1v5:amd64.\n",
            "Preparing to unpack .../1-libleveldb1v5_1.20-2_amd64.deb ...\n",
            "Unpacking libleveldb1v5:amd64 (1.20-2) ...\n",
            "Selecting previously unselected package libleveldb-dev:amd64.\n",
            "Preparing to unpack .../2-libleveldb-dev_1.20-2_amd64.deb ...\n",
            "Unpacking libleveldb-dev:amd64 (1.20-2) ...\n",
            "Selecting previously unselected package libprotobuf-lite10:amd64.\n",
            "Preparing to unpack .../3-libprotobuf-lite10_3.0.0-9.1ubuntu1_amd64.deb ...\n",
            "Unpacking libprotobuf-lite10:amd64 (3.0.0-9.1ubuntu1) ...\n",
            "Selecting previously unselected package libprotobuf-dev:amd64.\n",
            "Preparing to unpack .../4-libprotobuf-dev_3.0.0-9.1ubuntu1_amd64.deb ...\n",
            "Unpacking libprotobuf-dev:amd64 (3.0.0-9.1ubuntu1) ...\n",
            "Selecting previously unselected package libsnappy-dev:amd64.\n",
            "Preparing to unpack .../5-libsnappy-dev_1.1.7-1_amd64.deb ...\n",
            "Unpacking libsnappy-dev:amd64 (1.1.7-1) ...\n",
            "Setting up libleveldb1v5:amd64 (1.20-2) ...\n",
            "Setting up libhdf5-serial-dev (1.10.0-patch1+docs-4) ...\n",
            "Processing triggers for libc-bin (2.27-3ubuntu1) ...\n",
            "Setting up libsnappy-dev:amd64 (1.1.7-1) ...\n",
            "Setting up libprotobuf-lite10:amd64 (3.0.0-9.1ubuntu1) ...\n",
            "Setting up libprotobuf-dev:amd64 (3.0.0-9.1ubuntu1) ...\n",
            "Setting up libleveldb-dev:amd64 (1.20-2) ...\n",
            "Processing triggers for libc-bin (2.27-3ubuntu1) ...\n",
            "Reading package lists... Done\n",
            "Building dependency tree       \n",
            "Reading state information... Done\n",
            "libboost-all-dev is already the newest version (1.65.1.0ubuntu1).\n",
            "0 upgraded, 0 newly installed, 0 to remove and 48 not upgraded.\n",
            "Reading package lists... Done\n",
            "Building dependency tree       \n",
            "Reading state information... Done\n",
            "libopenblas-dev is already the newest version (0.2.20+ds-4).\n",
            "0 upgraded, 0 newly installed, 0 to remove and 48 not upgraded.\n",
            "Reading package lists... Done\n",
            "Building dependency tree       \n",
            "Reading state information... Done\n",
            "The following additional packages will be installed:\n",
            "  libgflags2.2 libgoogle-glog0v5 liblmdb0 lmdb-doc\n",
            "The following NEW packages will be installed:\n",
            "  libgflags-dev libgflags2.2 libgoogle-glog-dev libgoogle-glog0v5 liblmdb-dev\n",
            "  liblmdb0 lmdb-doc\n",
            "0 upgraded, 7 newly installed, 0 to remove and 48 not upgraded.\n",
            "Need to get 662 kB of archives.\n",
            "After this operation, 4,125 kB of additional disk space will be used.\n",
            "Get:1 http://archive.ubuntu.com/ubuntu bionic/universe amd64 libgflags2.2 amd64 2.2.1-1 [72.4 kB]\n",
            "Get:2 http://archive.ubuntu.com/ubuntu bionic/universe amd64 libgflags-dev amd64 2.2.1-1 [86.1 kB]\n",
            "Get:3 http://archive.ubuntu.com/ubuntu bionic/universe amd64 libgoogle-glog0v5 amd64 0.3.5-1 [50.5 kB]\n",
            "Get:4 http://archive.ubuntu.com/ubuntu bionic/universe amd64 libgoogle-glog-dev amd64 0.3.5-1 [73.8 kB]\n",
            "Get:5 http://archive.ubuntu.com/ubuntu bionic/universe amd64 liblmdb0 amd64 0.9.21-1 [43.6 kB]\n",
            "Get:6 http://archive.ubuntu.com/ubuntu bionic/universe amd64 liblmdb-dev amd64 0.9.21-1 [58.8 kB]\n",
            "Get:7 http://archive.ubuntu.com/ubuntu bionic/universe amd64 lmdb-doc all 0.9.21-1 [277 kB]\n",
            "Fetched 662 kB in 1s (532 kB/s)\n",
            "debconf: unable to initialize frontend: Dialog\n",
            "debconf: (No usable dialog-like program is installed, so the dialog based frontend cannot be used. at /usr/share/perl5/Debconf/FrontEnd/Dialog.pm line 76, <> line 7.)\n",
            "debconf: falling back to frontend: Readline\n",
            "debconf: unable to initialize frontend: Readline\n",
            "debconf: (This frontend requires a controlling tty.)\n",
            "debconf: falling back to frontend: Teletype\n",
            "dpkg-preconfigure: unable to re-open stdin: \n",
            "Selecting previously unselected package libgflags2.2.\n",
            "(Reading database ... 120280 files and directories currently installed.)\n",
            "Preparing to unpack .../0-libgflags2.2_2.2.1-1_amd64.deb ...\n",
            "Unpacking libgflags2.2 (2.2.1-1) ...\n",
            "Selecting previously unselected package libgflags-dev.\n",
            "Preparing to unpack .../1-libgflags-dev_2.2.1-1_amd64.deb ...\n",
            "Unpacking libgflags-dev (2.2.1-1) ...\n",
            "Selecting previously unselected package libgoogle-glog0v5.\n",
            "Preparing to unpack .../2-libgoogle-glog0v5_0.3.5-1_amd64.deb ...\n",
            "Unpacking libgoogle-glog0v5 (0.3.5-1) ...\n",
            "Selecting previously unselected package libgoogle-glog-dev.\n",
            "Preparing to unpack .../3-libgoogle-glog-dev_0.3.5-1_amd64.deb ...\n",
            "Unpacking libgoogle-glog-dev (0.3.5-1) ...\n",
            "Selecting previously unselected package liblmdb0:amd64.\n",
            "Preparing to unpack .../4-liblmdb0_0.9.21-1_amd64.deb ...\n",
            "Unpacking liblmdb0:amd64 (0.9.21-1) ...\n",
            "Selecting previously unselected package liblmdb-dev:amd64.\n",
            "Preparing to unpack .../5-liblmdb-dev_0.9.21-1_amd64.deb ...\n",
            "Unpacking liblmdb-dev:amd64 (0.9.21-1) ...\n",
            "Selecting previously unselected package lmdb-doc.\n",
            "Preparing to unpack .../6-lmdb-doc_0.9.21-1_all.deb ...\n",
            "Unpacking lmdb-doc (0.9.21-1) ...\n",
            "Setting up libgflags2.2 (2.2.1-1) ...\n",
            "Setting up libgflags-dev (2.2.1-1) ...\n",
            "Setting up liblmdb0:amd64 (0.9.21-1) ...\n",
            "Processing triggers for libc-bin (2.27-3ubuntu1) ...\n",
            "Setting up libgoogle-glog0v5 (0.3.5-1) ...\n",
            "Processing triggers for man-db (2.8.3-2ubuntu0.1) ...\n",
            "Setting up liblmdb-dev:amd64 (0.9.21-1) ...\n",
            "Setting up lmdb-doc (0.9.21-1) ...\n",
            "Setting up libgoogle-glog-dev (0.3.5-1) ...\n",
            "Processing triggers for libc-bin (2.27-3ubuntu1) ...\n"
          ],
          "name": "stdout"
        }
      ]
    },
    {
      "metadata": {
        "id": "DPqYAgqQtF0Q",
        "colab_type": "code",
        "colab": {}
      },
      "cell_type": "code",
      "source": [
        "  #%cd /usr/lib/x86_64-linux-gnu\n",
        "  !unlink /usr/lib/x86_64-linux-gnu/libhdf5.so\n",
        "  !unlink /usr/lib/x86_64-linux-gnu/libhdf5_hl.so\n",
        "  !sudo ln -s /usr/lib/x86_64-linux-gnu/libhdf5_serial.so.100.0.1 /usr/lib/x86_64-linux-gnu/libhdf5.so\n",
        "  !sudo ln -s /usr/lib/x86_64-linux-gnu/libhdf5_serial_hl.so.100.0.0 /usr/lib/x86_64-linux-gnu/libhdf5_hl.so"
      ],
      "execution_count": 0,
      "outputs": []
    },
    {
      "metadata": {
        "id": "APzyBQgeuNK4",
        "colab_type": "text"
      },
      "cell_type": "markdown",
      "source": [
        ""
      ]
    },
    {
      "metadata": {
        "id": "Jr0dRWtouCDR",
        "colab_type": "code",
        "colab": {
          "base_uri": "https://localhost:8080/",
          "height": 306
        },
        "outputId": "ca7a0e20-05ad-47d4-ab60-be0fe29508e7"
      },
      "cell_type": "code",
      "source": [
        "ls /usr/lib/x86_64-linux-gnu/libhdf5_serial*"
      ],
      "execution_count": 55,
      "outputs": [
        {
          "output_type": "stream",
          "text": [
            "/usr/lib/x86_64-linux-gnu/libhdf5_serial.a\n",
            "/usr/lib/x86_64-linux-gnu/libhdf5_serial_fortran.a\n",
            "\u001b[0m\u001b[01;36m/usr/lib/x86_64-linux-gnu/libhdf5_serial_fortran.so\u001b[0m@\n",
            "\u001b[01;36m/usr/lib/x86_64-linux-gnu/libhdf5_serial_fortran.so.100\u001b[0m@\n",
            "/usr/lib/x86_64-linux-gnu/libhdf5_serial_fortran.so.100.0.1\n",
            "/usr/lib/x86_64-linux-gnu/libhdf5_serial_hl.a\n",
            "/usr/lib/x86_64-linux-gnu/libhdf5_serialhl_fortran.a\n",
            "\u001b[01;36m/usr/lib/x86_64-linux-gnu/libhdf5_serialhl_fortran.so\u001b[0m@\n",
            "\u001b[01;36m/usr/lib/x86_64-linux-gnu/libhdf5_serialhl_fortran.so.100\u001b[0m@\n",
            "/usr/lib/x86_64-linux-gnu/libhdf5_serialhl_fortran.so.100.0.0\n",
            "\u001b[01;36m/usr/lib/x86_64-linux-gnu/libhdf5_serial_hl.so\u001b[0m@\n",
            "\u001b[01;36m/usr/lib/x86_64-linux-gnu/libhdf5_serial_hl.so.100\u001b[0m@\n",
            "/usr/lib/x86_64-linux-gnu/libhdf5_serial_hl.so.100.0.0\n",
            "/usr/lib/x86_64-linux-gnu/libhdf5_serial.settings\n",
            "\u001b[01;36m/usr/lib/x86_64-linux-gnu/libhdf5_serial.so\u001b[0m@\n",
            "\u001b[01;36m/usr/lib/x86_64-linux-gnu/libhdf5_serial.so.100\u001b[0m@\n",
            "/usr/lib/x86_64-linux-gnu/libhdf5_serial.so.100.0.1\n"
          ],
          "name": "stdout"
        }
      ]
    },
    {
      "metadata": {
        "id": "k7jRJxXnlp3G",
        "colab_type": "code",
        "colab": {
          "base_uri": "https://localhost:8080/",
          "height": 102
        },
        "outputId": "ef83a346-8986-4b00-a372-60b7b3ff0b61"
      },
      "cell_type": "code",
      "source": [
        "!git clone https://github.com/BVLC/caffe"
      ],
      "execution_count": 33,
      "outputs": [
        {
          "output_type": "stream",
          "text": [
            "Cloning into 'caffe'...\n",
            "remote: Enumerating objects: 64876, done.\u001b[K\n",
            "remote: Total 64876 (delta 0), reused 0 (delta 0), pack-reused 64876\u001b[K\n",
            "Receiving objects: 100% (64876/64876), 70.12 MiB | 22.89 MiB/s, done.\n",
            "Resolving deltas: 100% (41116/41116), done.\n"
          ],
          "name": "stdout"
        }
      ]
    },
    {
      "metadata": {
        "id": "25AtnqFGl7vK",
        "colab_type": "code",
        "colab": {}
      },
      "cell_type": "code",
      "source": [
        "#!rm -rf caffe2"
      ],
      "execution_count": 0,
      "outputs": []
    },
    {
      "metadata": {
        "id": "8t-Cn0Hxl711",
        "colab_type": "code",
        "colab": {
          "base_uri": "https://localhost:8080/",
          "height": 34
        },
        "outputId": "3dee9e8f-5f04-462f-aa91-4e56fdb63425"
      },
      "cell_type": "code",
      "source": [
        "%cd caffe"
      ],
      "execution_count": 35,
      "outputs": [
        {
          "output_type": "stream",
          "text": [
            "/content/caffe\n"
          ],
          "name": "stdout"
        }
      ]
    },
    {
      "metadata": {
        "id": "GVD9XxSQrBu8",
        "colab_type": "code",
        "colab": {}
      },
      "cell_type": "code",
      "source": [
        "with open('Makefile.config.example') as f:\n",
        "  config = f.read()\n",
        "  \n",
        "comment = ['CUDA_DIR := /usr/local/cuda', \n",
        "           'BLAS := open']\n",
        "uncomment = ['# CUDA_DIR := /usr', \n",
        "             '# BLAS := atlas', \n",
        "             '# OPENCV_VERSION := 3', '# WITH_PYTHON_LAYER := 1'] #\n",
        "replace = [('INCLUDE_DIRS := $(PYTHON_INCLUDE) /usr/local/include',\n",
        "            'INCLUDE_DIRS := $(PYTHON_INCLUDE) /usr/local/include /usr/include/hdf5/serial /usr/local/lib/python2.7/dist-packages/numpy/core/include/'), \n",
        "           ('LIBRARY_DIRS := $(PYTHON_LIB) /usr/local/lib /usr/lib',\n",
        "            'LIBRARY_DIRS := $(PYTHON_LIB) /usr/local/lib /usr/lib /usr/lib/x86_64-linux-gnu/hdf5/serial')]\n",
        "\n",
        "for c in uncomment:\n",
        "  config = config.replace(c, c[2:])\n",
        "for c in comment:\n",
        "  config = config.replace(c, '# '+c)\n",
        "for c1,c2 in replace:\n",
        "  config = config.replace(c1, c2)\n",
        "  \n",
        "with open('Makefile.config', 'w') as f:\n",
        "  f.write(config)"
      ],
      "execution_count": 0,
      "outputs": []
    },
    {
      "metadata": {
        "id": "h2UUHaXJrNfA",
        "colab_type": "code",
        "colab": {}
      },
      "cell_type": "code",
      "source": [
        "# MakefileのCUDA_ARCH\n",
        "# https://kusanohitoshi.blogspot.com/2017/02/caffe.html\n",
        "#!cat Makefile.config\n",
        "###################################################\n",
        "with open('./Makefile.config') as f:\n",
        "  txt = f.read()\n",
        "with open('./Makefile.config', 'w') as f:\n",
        "  f.write(txt.replace('CUDA_ARCH := -gencode arch=compute_20,code=sm_20 \\\\',\n",
        "                      'CUDA_ARCH := \\#-gencode arch=compute_20,code=sm_20 \\\\'))\n",
        "###################################################\n",
        "with open('./Makefile.config') as f:\n",
        "  txt = f.read()\n",
        "with open('./Makefile.config', 'w') as f:\n",
        "  f.write(txt.replace('\t\t-gencode arch=compute_20,code=sm_21',\n",
        "                      '#\t\t-gencode arch=compute_20,code=sm_21'))"
      ],
      "execution_count": 0,
      "outputs": []
    },
    {
      "metadata": {
        "id": "YfxNT7EsvcDQ",
        "colab_type": "code",
        "colab": {}
      },
      "cell_type": "code",
      "source": [
        "##https://qiita.com/yoyoyo_/items/ed723a6e81c1f4046241\n",
        "##BLAS関係の修正\n",
        "#BLAS_INCLUDE := /usr/local/cuda/targets/x86_64-linux/include\n",
        "#BLAS_LIB := /usr/local/cuda/targets/x86_64-linux/lib\n",
        "#!cat Makefile.config\n",
        "with open('./Makefile.config') as f:\n",
        "  txt = f.read()\n",
        "with open('./Makefile.config', 'w') as f:\n",
        "  f.write(txt.replace('# BLAS_INCLUDE := /path/to/your/blas',\n",
        "                      'BLAS_INCLUDE := /usr/local/cuda/targets/x86_64-linux/include'))\n",
        "with open('./Makefile.config') as f:\n",
        "  txt = f.read()\n",
        "with open('./Makefile.config', 'w') as f:\n",
        "  f.write(txt.replace('# BLAS_LIB := /path/to/your/blas',\n",
        "                      'BLAS_LIB := /usr/local/cuda/targets/x86_64-linux/lib'))"
      ],
      "execution_count": 0,
      "outputs": []
    },
    {
      "metadata": {
        "id": "mYX7imKOrpas",
        "colab_type": "code",
        "colab": {}
      },
      "cell_type": "code",
      "source": [
        "!cat Makefile.config"
      ],
      "execution_count": 0,
      "outputs": []
    },
    {
      "metadata": {
        "id": "bSkBmkAoxlHm",
        "colab_type": "code",
        "colab": {
          "base_uri": "https://localhost:8080/",
          "height": 2026
        },
        "outputId": "8a379803-e727-4d08-9d63-62ac0657ae04"
      },
      "cell_type": "code",
      "source": [
        "!make clean\n",
        "!mkdir build\n",
        "%cd build\n",
        "!cmake .."
      ],
      "execution_count": 83,
      "outputs": [
        {
          "output_type": "stream",
          "text": [
            "/content/caffe/build\n",
            "-- The C compiler identification is GNU 7.3.0\n",
            "-- The CXX compiler identification is GNU 7.3.0\n",
            "-- Check for working C compiler: /usr/bin/cc\n",
            "-- Check for working C compiler: /usr/bin/cc -- works\n",
            "-- Detecting C compiler ABI info\n",
            "-- Detecting C compiler ABI info - done\n",
            "-- Detecting C compile features\n",
            "-- Detecting C compile features - done\n",
            "-- Check for working CXX compiler: /usr/bin/c++\n",
            "-- Check for working CXX compiler: /usr/bin/c++ -- works\n",
            "-- Detecting CXX compiler ABI info\n",
            "-- Detecting CXX compiler ABI info - done\n",
            "-- Detecting CXX compile features\n",
            "-- Detecting CXX compile features - done\n",
            "-- Looking for pthread.h\n",
            "-- Looking for pthread.h - found\n",
            "-- Looking for pthread_create\n",
            "-- Looking for pthread_create - not found\n",
            "-- Looking for pthread_create in pthreads\n",
            "-- Looking for pthread_create in pthreads - not found\n",
            "-- Looking for pthread_create in pthread\n",
            "-- Looking for pthread_create in pthread - found\n",
            "-- Found Threads: TRUE  \n",
            "-- Boost version: 1.65.1\n",
            "-- Found the following Boost libraries:\n",
            "--   system\n",
            "--   thread\n",
            "--   filesystem\n",
            "--   chrono\n",
            "--   date_time\n",
            "--   atomic\n",
            "-- Found GFlags: /usr/include  \n",
            "-- Found gflags  (include: /usr/include, library: /usr/lib/x86_64-linux-gnu/libgflags.so)\n",
            "-- Found Glog: /usr/include  \n",
            "-- Found glog    (include: /usr/include, library: /usr/lib/x86_64-linux-gnu/libglog.so)\n",
            "-- Found Protobuf: /usr/lib/x86_64-linux-gnu/libprotobuf.so;-lpthread (found version \"3.0.0\") \n",
            "-- Found PROTOBUF Compiler: /usr/bin/protoc\n",
            "-- HDF5: Using hdf5 compiler wrapper to determine C configuration\n",
            "-- HDF5: Using hdf5 compiler wrapper to determine CXX configuration\n",
            "-- Found HDF5: /usr/lib/x86_64-linux-gnu/hdf5/serial/libhdf5_cpp.so;/usr/lib/x86_64-linux-gnu/hdf5/serial/libhdf5.so;/usr/lib/x86_64-linux-gnu/libpthread.so;/usr/lib/x86_64-linux-gnu/libsz.so;/usr/lib/x86_64-linux-gnu/libz.so;/usr/lib/x86_64-linux-gnu/libdl.so;/usr/lib/x86_64-linux-gnu/libm.so (found version \"1.10.0.1\") found components:  HL \n",
            "-- Found LMDB: /usr/include  \n",
            "-- Found lmdb    (include: /usr/include, library: /usr/lib/x86_64-linux-gnu/liblmdb.so)\n",
            "-- Found LevelDB: /usr/include  \n",
            "-- Found LevelDB (include: /usr/include, library: /usr/lib/x86_64-linux-gnu/libleveldb.so)\n",
            "-- Found Snappy: /usr/include  \n",
            "-- Found Snappy  (include: /usr/include, library: /usr/lib/x86_64-linux-gnu/libsnappy.so)\n",
            "-- CUDA detected: 9.0\n",
            "-- Found cuDNN: ver. 7.4.1 found (include: /usr/include, library: /usr/lib/x86_64-linux-gnu/libcudnn.so)\n",
            "-- Added CUDA NVCC flags for: sm_37\n",
            "-- OpenCV found (/usr/share/OpenCV)\n",
            "-- Found Atlas: /usr/include/x86_64-linux-gnu  \n",
            "-- Found Atlas (include: /usr/include/x86_64-linux-gnu library: /usr/lib/x86_64-linux-gnu/libatlas.so lapack: /usr/lib/x86_64-linux-gnu/liblapack.so\n",
            "-- Found PythonInterp: /usr/bin/python2.7 (found suitable version \"2.7.15\", minimum required is \"2.7\") \n",
            "-- Found PythonLibs: /usr/lib/x86_64-linux-gnu/libpython2.7.so (found suitable version \"2.7.15rc1\", minimum required is \"2.7\") \n",
            "-- Found NumPy: /usr/local/lib/python2.7/dist-packages/numpy/core/include (found suitable version \"1.14.6\", minimum required is \"1.7.1\") \n",
            "-- NumPy ver. 1.14.6 found (include: /usr/local/lib/python2.7/dist-packages/numpy/core/include)\n",
            "-- Boost version: 1.65.1\n",
            "-- Found the following Boost libraries:\n",
            "--   python\n",
            "-- Could NOT find Doxygen (missing: DOXYGEN_EXECUTABLE) \n",
            "-- Found Git: /usr/bin/git (found version \"2.17.1\") \n",
            "-- \n",
            "-- ******************* Caffe Configuration Summary *******************\n",
            "-- General:\n",
            "--   Version           :   1.0.0\n",
            "--   Git               :   1.0-132-g99bd9979\n",
            "--   System            :   Linux\n",
            "--   C++ compiler      :   /usr/bin/c++\n",
            "--   Release CXX flags :   -O3 -DNDEBUG -fPIC -Wall -Wno-sign-compare -Wno-uninitialized\n",
            "--   Debug CXX flags   :   -g -fPIC -Wall -Wno-sign-compare -Wno-uninitialized\n",
            "--   Build type        :   Release\n",
            "-- \n",
            "--   BUILD_SHARED_LIBS :   ON\n",
            "--   BUILD_python      :   ON\n",
            "--   BUILD_matlab      :   OFF\n",
            "--   BUILD_docs        :   ON\n",
            "--   CPU_ONLY          :   OFF\n",
            "--   USE_OPENCV        :   ON\n",
            "--   USE_LEVELDB       :   ON\n",
            "--   USE_LMDB          :   ON\n",
            "--   USE_NCCL          :   OFF\n",
            "--   ALLOW_LMDB_NOLOCK :   OFF\n",
            "--   USE_HDF5          :   ON\n",
            "-- \n",
            "-- Dependencies:\n",
            "--   BLAS              :   Yes (Atlas)\n",
            "--   Boost             :   Yes (ver. 1.65)\n",
            "--   glog              :   Yes\n",
            "--   gflags            :   Yes\n",
            "--   protobuf          :   Yes (ver. 3.0.0)\n",
            "--   lmdb              :   Yes (ver. 0.9.21)\n",
            "--   LevelDB           :   Yes (ver. 1.20)\n",
            "--   Snappy            :   Yes (ver. ..)\n",
            "--   OpenCV            :   Yes (ver. 3.2.0)\n",
            "--   CUDA              :   Yes (ver. 9.0)\n",
            "-- \n",
            "-- NVIDIA CUDA:\n",
            "--   Target GPU(s)     :   Auto\n",
            "--   GPU arch(s)       :   sm_37\n",
            "--   cuDNN             :   Yes (ver. 7.4.1)\n",
            "-- \n",
            "-- Python:\n",
            "--   Interpreter       :   /usr/bin/python2.7 (ver. 2.7.15)\n",
            "--   Libraries         :   /usr/lib/x86_64-linux-gnu/libpython2.7.so (ver 2.7.15rc1)\n",
            "--   NumPy             :   /usr/local/lib/python2.7/dist-packages/numpy/core/include (ver 1.14.6)\n",
            "-- \n",
            "-- Documentaion:\n",
            "--   Doxygen           :   No\n",
            "--   config_file       :   \n",
            "-- \n",
            "-- Install:\n",
            "--   Install path      :   /content/caffe/build/install\n",
            "-- \n",
            "-- Configuring done\n",
            "-- Generating done\n",
            "-- Build files have been written to: /content/caffe/build\n"
          ],
          "name": "stdout"
        }
      ]
    },
    {
      "metadata": {
        "id": "z4687BCB1Qli",
        "colab_type": "code",
        "colab": {
          "base_uri": "https://localhost:8080/",
          "height": 51
        },
        "outputId": "66383fef-9fde-496e-ea30-728e877358cd"
      },
      "cell_type": "code",
      "source": [
        "!update-alternatives --install /usr/bin/gcc gcc /usr/bin/gcc-4.8 48 --slave /usr/bin/g++ g++ /usr/bin/g++-4.8 --slave /usr/bin/gcov gcov /usr/bin/gcov-4.8\n",
        "!update-alternatives --install /usr/bin/gcc gcc /usr/bin/gcc-7 70 --slave /usr/bin/g++ g++ /usr/bin/g++-7 --slave /usr/bin/gcov gcov /usr/bin/gcov-7"
      ],
      "execution_count": 86,
      "outputs": [
        {
          "output_type": "stream",
          "text": [
            "update-alternatives: using /usr/bin/gcc-4.8 to provide /usr/bin/gcc (gcc) in auto mode\n",
            "update-alternatives: using /usr/bin/gcc-7 to provide /usr/bin/gcc (gcc) in auto mode\n"
          ],
          "name": "stdout"
        }
      ]
    },
    {
      "metadata": {
        "id": "LjC3GT7z1_JY",
        "colab_type": "code",
        "colab": {
          "base_uri": "https://localhost:8080/",
          "height": 51
        },
        "outputId": "2c0976f5-12af-4ea8-a49b-7886ef7a8ae7"
      },
      "cell_type": "code",
      "source": [
        "!update-alternatives --list gcc"
      ],
      "execution_count": 89,
      "outputs": [
        {
          "output_type": "stream",
          "text": [
            "/usr/bin/gcc-4.8\n",
            "/usr/bin/gcc-7\n"
          ],
          "name": "stdout"
        }
      ]
    },
    {
      "metadata": {
        "id": "Qm2v4Wfz2F2J",
        "colab_type": "code",
        "colab": {
          "base_uri": "https://localhost:8080/",
          "height": 187
        },
        "outputId": "2d1919c0-907d-454e-84ef-1750bc025eee"
      },
      "cell_type": "code",
      "source": [
        "!update-alternatives --config gcc"
      ],
      "execution_count": 90,
      "outputs": [
        {
          "output_type": "stream",
          "text": [
            "There are 2 choices for the alternative gcc (providing /usr/bin/gcc).\n",
            "\n",
            "  Selection    Path              Priority   Status\n",
            "------------------------------------------------------------\n",
            "* 0            /usr/bin/gcc-7     70        auto mode\n",
            "  1            /usr/bin/gcc-4.8   48        manual mode\n",
            "  2            /usr/bin/gcc-7     70        manual mode\n",
            "\n",
            "Press <enter> to keep the current choice[*], or type selection number: 1\n",
            "update-alternatives: using /usr/bin/gcc-4.8 to provide /usr/bin/gcc (gcc) in manual mode\n"
          ],
          "name": "stdout"
        }
      ]
    },
    {
      "metadata": {
        "id": "mNV7uOIp2NQX",
        "colab_type": "code",
        "colab": {
          "base_uri": "https://localhost:8080/",
          "height": 156
        },
        "outputId": "45b3ae4b-9377-4a5f-ae8e-fce89b6895f9"
      },
      "cell_type": "code",
      "source": [
        "!gcc -v"
      ],
      "execution_count": 91,
      "outputs": [
        {
          "output_type": "stream",
          "text": [
            "Using built-in specs.\n",
            "COLLECT_GCC=gcc\n",
            "COLLECT_LTO_WRAPPER=/usr/lib/gcc/x86_64-linux-gnu/4.8/lto-wrapper\n",
            "Target: x86_64-linux-gnu\n",
            "Configured with: ../src/configure -v --with-pkgversion='Ubuntu 4.8.5-4ubuntu8' --with-bugurl=file:///usr/share/doc/gcc-4.8/README.Bugs --enable-languages=c,c++,go,d,fortran,objc,obj-c++ --prefix=/usr --program-suffix=-4.8 --enable-shared --enable-linker-build-id --libexecdir=/usr/lib --without-included-gettext --enable-threads=posix --with-gxx-include-dir=/usr/include/c++/4.8 --libdir=/usr/lib --enable-nls --with-sysroot=/ --enable-clocale=gnu --enable-libstdcxx-debug --enable-libstdcxx-time=yes --enable-gnu-unique-object --disable-libmudflap --enable-plugin --with-system-zlib --enable-objc-gc --enable-multiarch --disable-werror --with-arch-32=i686 --with-abi=m64 --with-multilib-list=m32,m64,mx32 --with-tune=generic --enable-checking=release --build=x86_64-linux-gnu --host=x86_64-linux-gnu --target=x86_64-linux-gnu\n",
            "Thread model: posix\n",
            "gcc version 4.8.5 (Ubuntu 4.8.5-4ubuntu8) \n"
          ],
          "name": "stdout"
        }
      ]
    },
    {
      "metadata": {
        "id": "ndDbHbZX1f6F",
        "colab_type": "code",
        "colab": {
          "base_uri": "https://localhost:8080/",
          "height": 85
        },
        "outputId": "4640a5c0-6d46-47db-ec0c-8a1050d6ca00"
      },
      "cell_type": "code",
      "source": [
        "!ls /usr/bin/gcc-*"
      ],
      "execution_count": 85,
      "outputs": [
        {
          "output_type": "stream",
          "text": [
            "/usr/bin/gcc-4.8     /usr/bin/gcc-ar-7\t  /usr/bin/gcc-ranlib\n",
            "/usr/bin/gcc-7\t     /usr/bin/gcc-nm\t  /usr/bin/gcc-ranlib-4.8\n",
            "/usr/bin/gcc-ar      /usr/bin/gcc-nm-4.8  /usr/bin/gcc-ranlib-7\n",
            "/usr/bin/gcc-ar-4.8  /usr/bin/gcc-nm-7\n"
          ],
          "name": "stdout"
        }
      ]
    },
    {
      "metadata": {
        "id": "jbIkTEnJl8N5",
        "colab_type": "code",
        "colab": {
          "base_uri": "https://localhost:8080/",
          "height": 4253
        },
        "outputId": "d030537b-ce1f-4855-bec8-c449b61839b1"
      },
      "cell_type": "code",
      "source": [
        "!make all -j $(($(nproc) + 1))"
      ],
      "execution_count": 92,
      "outputs": [
        {
          "output_type": "stream",
          "text": [
            "[  1%] Built target caffeproto\n",
            "[  1%] \u001b[34m\u001b[1mBuilding NVCC (Device) object src/caffe/CMakeFiles/cuda_compile_1.dir/util/cuda_compile_1_generated_math_functions.cu.o\u001b[0m\n",
            "[  1%] \u001b[34m\u001b[1mBuilding NVCC (Device) object src/caffe/CMakeFiles/cuda_compile_1.dir/layers/cuda_compile_1_generated_accuracy_layer.cu.o\u001b[0m\n",
            "[  1%] \u001b[34m\u001b[1mBuilding NVCC (Device) object src/caffe/CMakeFiles/cuda_compile_1.dir/layers/cuda_compile_1_generated_absval_layer.cu.o\u001b[0m\n",
            "[  2%] \u001b[34m\u001b[1mBuilding NVCC (Device) object src/caffe/CMakeFiles/cuda_compile_1.dir/layers/cuda_compile_1_generated_base_data_layer.cu.o\u001b[0m\n",
            "[  2%] \u001b[34m\u001b[1mBuilding NVCC (Device) object src/caffe/CMakeFiles/cuda_compile_1.dir/layers/cuda_compile_1_generated_batch_norm_layer.cu.o\u001b[0m\n",
            "[  2%] \u001b[34m\u001b[1mBuilding NVCC (Device) object src/caffe/CMakeFiles/cuda_compile_1.dir/layers/cuda_compile_1_generated_batch_reindex_layer.cu.o\u001b[0m\n",
            "[  4%] \u001b[34m\u001b[1mBuilding NVCC (Device) object src/caffe/CMakeFiles/cuda_compile_1.dir/layers/cuda_compile_1_generated_bias_layer.cu.o\u001b[0m\n",
            "[  4%] \u001b[34m\u001b[1mBuilding NVCC (Device) object src/caffe/CMakeFiles/cuda_compile_1.dir/layers/cuda_compile_1_generated_bnll_layer.cu.o\u001b[0m\n",
            "[  4%] \u001b[34m\u001b[1mBuilding NVCC (Device) object src/caffe/CMakeFiles/cuda_compile_1.dir/layers/cuda_compile_1_generated_clip_layer.cu.o\u001b[0m\n",
            "[  5%] \u001b[34m\u001b[1mBuilding NVCC (Device) object src/caffe/CMakeFiles/cuda_compile_1.dir/layers/cuda_compile_1_generated_concat_layer.cu.o\u001b[0m\n",
            "[  5%] \u001b[34m\u001b[1mBuilding NVCC (Device) object src/caffe/CMakeFiles/cuda_compile_1.dir/layers/cuda_compile_1_generated_contrastive_loss_layer.cu.o\u001b[0m\n",
            "[  6%] \u001b[34m\u001b[1mBuilding NVCC (Device) object src/caffe/CMakeFiles/cuda_compile_1.dir/layers/cuda_compile_1_generated_conv_layer.cu.o\u001b[0m\n",
            "[  6%] \u001b[34m\u001b[1mBuilding NVCC (Device) object src/caffe/CMakeFiles/cuda_compile_1.dir/layers/cuda_compile_1_generated_crop_layer.cu.o\u001b[0m\n",
            "[  6%] \u001b[34m\u001b[1mBuilding NVCC (Device) object src/caffe/CMakeFiles/cuda_compile_1.dir/layers/cuda_compile_1_generated_cudnn_conv_layer.cu.o\u001b[0m\n",
            "[  8%] \u001b[34m\u001b[1mBuilding NVCC (Device) object src/caffe/CMakeFiles/cuda_compile_1.dir/layers/cuda_compile_1_generated_cudnn_deconv_layer.cu.o\u001b[0m\n",
            "[  8%] \u001b[34m\u001b[1mBuilding NVCC (Device) object src/caffe/CMakeFiles/cuda_compile_1.dir/layers/cuda_compile_1_generated_cudnn_lcn_layer.cu.o\u001b[0m\n",
            "[  8%] \u001b[34m\u001b[1mBuilding NVCC (Device) object src/caffe/CMakeFiles/cuda_compile_1.dir/layers/cuda_compile_1_generated_cudnn_lrn_layer.cu.o\u001b[0m\n",
            "[  9%] \u001b[34m\u001b[1mBuilding NVCC (Device) object src/caffe/CMakeFiles/cuda_compile_1.dir/layers/cuda_compile_1_generated_cudnn_pooling_layer.cu.o\u001b[0m\n",
            "[  9%] \u001b[34m\u001b[1mBuilding NVCC (Device) object src/caffe/CMakeFiles/cuda_compile_1.dir/layers/cuda_compile_1_generated_cudnn_relu_layer.cu.o\u001b[0m\n",
            "[ 10%] \u001b[34m\u001b[1mBuilding NVCC (Device) object src/caffe/CMakeFiles/cuda_compile_1.dir/layers/cuda_compile_1_generated_cudnn_sigmoid_layer.cu.o\u001b[0m\n",
            "[ 10%] \u001b[34m\u001b[1mBuilding NVCC (Device) object src/caffe/CMakeFiles/cuda_compile_1.dir/layers/cuda_compile_1_generated_cudnn_softmax_layer.cu.o\u001b[0m\n",
            "[ 10%] \u001b[34m\u001b[1mBuilding NVCC (Device) object src/caffe/CMakeFiles/cuda_compile_1.dir/layers/cuda_compile_1_generated_cudnn_tanh_layer.cu.o\u001b[0m\n",
            "[ 12%] \u001b[34m\u001b[1mBuilding NVCC (Device) object src/caffe/CMakeFiles/cuda_compile_1.dir/layers/cuda_compile_1_generated_deconv_layer.cu.o\u001b[0m\n",
            "[ 12%] \u001b[34m\u001b[1mBuilding NVCC (Device) object src/caffe/CMakeFiles/cuda_compile_1.dir/layers/cuda_compile_1_generated_dropout_layer.cu.o\u001b[0m\n",
            "[ 12%] \u001b[34m\u001b[1mBuilding NVCC (Device) object src/caffe/CMakeFiles/cuda_compile_1.dir/layers/cuda_compile_1_generated_eltwise_layer.cu.o\u001b[0m\n",
            "[ 13%] \u001b[34m\u001b[1mBuilding NVCC (Device) object src/caffe/CMakeFiles/cuda_compile_1.dir/layers/cuda_compile_1_generated_elu_layer.cu.o\u001b[0m\n",
            "[ 13%] \u001b[34m\u001b[1mBuilding NVCC (Device) object src/caffe/CMakeFiles/cuda_compile_1.dir/layers/cuda_compile_1_generated_embed_layer.cu.o\u001b[0m\n",
            "[ 15%] \u001b[34m\u001b[1mBuilding NVCC (Device) object src/caffe/CMakeFiles/cuda_compile_1.dir/layers/cuda_compile_1_generated_euclidean_loss_layer.cu.o\u001b[0m\n",
            "[ 15%] \u001b[34m\u001b[1mBuilding NVCC (Device) object src/caffe/CMakeFiles/cuda_compile_1.dir/layers/cuda_compile_1_generated_exp_layer.cu.o\u001b[0m\n",
            "[ 15%] \u001b[34m\u001b[1mBuilding NVCC (Device) object src/caffe/CMakeFiles/cuda_compile_1.dir/layers/cuda_compile_1_generated_filter_layer.cu.o\u001b[0m\n",
            "[ 16%] \u001b[34m\u001b[1mBuilding NVCC (Device) object src/caffe/CMakeFiles/cuda_compile_1.dir/layers/cuda_compile_1_generated_hdf5_data_layer.cu.o\u001b[0m\n",
            "[ 16%] \u001b[34m\u001b[1mBuilding NVCC (Device) object src/caffe/CMakeFiles/cuda_compile_1.dir/layers/cuda_compile_1_generated_hdf5_output_layer.cu.o\u001b[0m\n",
            "[ 16%] \u001b[34m\u001b[1mBuilding NVCC (Device) object src/caffe/CMakeFiles/cuda_compile_1.dir/layers/cuda_compile_1_generated_im2col_layer.cu.o\u001b[0m\n",
            "[ 17%] \u001b[34m\u001b[1mBuilding NVCC (Device) object src/caffe/CMakeFiles/cuda_compile_1.dir/layers/cuda_compile_1_generated_inner_product_layer.cu.o\u001b[0m\n",
            "[ 17%] \u001b[34m\u001b[1mBuilding NVCC (Device) object src/caffe/CMakeFiles/cuda_compile_1.dir/layers/cuda_compile_1_generated_log_layer.cu.o\u001b[0m\n",
            "[ 19%] \u001b[34m\u001b[1mBuilding NVCC (Device) object src/caffe/CMakeFiles/cuda_compile_1.dir/layers/cuda_compile_1_generated_lrn_layer.cu.o\u001b[0m\n",
            "[ 19%] \u001b[34m\u001b[1mBuilding NVCC (Device) object src/caffe/CMakeFiles/cuda_compile_1.dir/layers/cuda_compile_1_generated_lstm_unit_layer.cu.o\u001b[0m\n",
            "[ 19%] \u001b[34m\u001b[1mBuilding NVCC (Device) object src/caffe/CMakeFiles/cuda_compile_1.dir/layers/cuda_compile_1_generated_mvn_layer.cu.o\u001b[0m\n",
            "[ 20%] \u001b[34m\u001b[1mBuilding NVCC (Device) object src/caffe/CMakeFiles/cuda_compile_1.dir/layers/cuda_compile_1_generated_pooling_layer.cu.o\u001b[0m\n",
            "[ 20%] \u001b[34m\u001b[1mBuilding NVCC (Device) object src/caffe/CMakeFiles/cuda_compile_1.dir/layers/cuda_compile_1_generated_power_layer.cu.o\u001b[0m\n",
            "[ 20%] \u001b[34m\u001b[1mBuilding NVCC (Device) object src/caffe/CMakeFiles/cuda_compile_1.dir/layers/cuda_compile_1_generated_prelu_layer.cu.o\u001b[0m\n",
            "[ 21%] \u001b[34m\u001b[1mBuilding NVCC (Device) object src/caffe/CMakeFiles/cuda_compile_1.dir/layers/cuda_compile_1_generated_recurrent_layer.cu.o\u001b[0m\n",
            "[ 21%] \u001b[34m\u001b[1mBuilding NVCC (Device) object src/caffe/CMakeFiles/cuda_compile_1.dir/layers/cuda_compile_1_generated_reduction_layer.cu.o\u001b[0m\n",
            "[ 23%] \u001b[34m\u001b[1mBuilding NVCC (Device) object src/caffe/CMakeFiles/cuda_compile_1.dir/layers/cuda_compile_1_generated_relu_layer.cu.o\u001b[0m\n",
            "[ 23%] \u001b[34m\u001b[1mBuilding NVCC (Device) object src/caffe/CMakeFiles/cuda_compile_1.dir/layers/cuda_compile_1_generated_scale_layer.cu.o\u001b[0m\n",
            "[ 23%] \u001b[34m\u001b[1mBuilding NVCC (Device) object src/caffe/CMakeFiles/cuda_compile_1.dir/layers/cuda_compile_1_generated_sigmoid_cross_entropy_loss_layer.cu.o\u001b[0m\n",
            "[ 24%] \u001b[34m\u001b[1mBuilding NVCC (Device) object src/caffe/CMakeFiles/cuda_compile_1.dir/layers/cuda_compile_1_generated_sigmoid_layer.cu.o\u001b[0m\n",
            "[ 24%] \u001b[34m\u001b[1mBuilding NVCC (Device) object src/caffe/CMakeFiles/cuda_compile_1.dir/layers/cuda_compile_1_generated_silence_layer.cu.o\u001b[0m\n",
            "[ 24%] \u001b[34m\u001b[1mBuilding NVCC (Device) object src/caffe/CMakeFiles/cuda_compile_1.dir/layers/cuda_compile_1_generated_slice_layer.cu.o\u001b[0m\n",
            "[ 26%] \u001b[34m\u001b[1mBuilding NVCC (Device) object src/caffe/CMakeFiles/cuda_compile_1.dir/layers/cuda_compile_1_generated_softmax_layer.cu.o\u001b[0m\n",
            "[ 26%] \u001b[34m\u001b[1mBuilding NVCC (Device) object src/caffe/CMakeFiles/cuda_compile_1.dir/layers/cuda_compile_1_generated_softmax_loss_layer.cu.o\u001b[0m\n",
            "[ 27%] \u001b[34m\u001b[1mBuilding NVCC (Device) object src/caffe/CMakeFiles/cuda_compile_1.dir/layers/cuda_compile_1_generated_split_layer.cu.o\u001b[0m\n",
            "[ 27%] \u001b[34m\u001b[1mBuilding NVCC (Device) object src/caffe/CMakeFiles/cuda_compile_1.dir/layers/cuda_compile_1_generated_swish_layer.cu.o\u001b[0m\n",
            "[ 27%] \u001b[34m\u001b[1mBuilding NVCC (Device) object src/caffe/CMakeFiles/cuda_compile_1.dir/layers/cuda_compile_1_generated_tanh_layer.cu.o\u001b[0m\n",
            "[ 28%] \u001b[34m\u001b[1mBuilding NVCC (Device) object src/caffe/CMakeFiles/cuda_compile_1.dir/layers/cuda_compile_1_generated_threshold_layer.cu.o\u001b[0m\n",
            "[ 28%] \u001b[34m\u001b[1mBuilding NVCC (Device) object src/caffe/CMakeFiles/cuda_compile_1.dir/layers/cuda_compile_1_generated_tile_layer.cu.o\u001b[0m\n",
            "[ 28%] \u001b[34m\u001b[1mBuilding NVCC (Device) object src/caffe/CMakeFiles/cuda_compile_1.dir/solvers/cuda_compile_1_generated_adadelta_solver.cu.o\u001b[0m\n",
            "[ 30%] \u001b[34m\u001b[1mBuilding NVCC (Device) object src/caffe/CMakeFiles/cuda_compile_1.dir/solvers/cuda_compile_1_generated_adagrad_solver.cu.o\u001b[0m\n",
            "[ 30%] \u001b[34m\u001b[1mBuilding NVCC (Device) object src/caffe/CMakeFiles/cuda_compile_1.dir/solvers/cuda_compile_1_generated_adam_solver.cu.o\u001b[0m\n",
            "[ 31%] \u001b[34m\u001b[1mBuilding NVCC (Device) object src/caffe/CMakeFiles/cuda_compile_1.dir/solvers/cuda_compile_1_generated_nesterov_solver.cu.o\u001b[0m\n",
            "[ 31%] \u001b[34m\u001b[1mBuilding NVCC (Device) object src/caffe/CMakeFiles/cuda_compile_1.dir/solvers/cuda_compile_1_generated_rmsprop_solver.cu.o\u001b[0m\n",
            "[ 31%] \u001b[34m\u001b[1mBuilding NVCC (Device) object src/caffe/CMakeFiles/cuda_compile_1.dir/solvers/cuda_compile_1_generated_sgd_solver.cu.o\u001b[0m\n",
            "[ 32%] \u001b[34m\u001b[1mBuilding NVCC (Device) object src/caffe/CMakeFiles/cuda_compile_1.dir/util/cuda_compile_1_generated_im2col.cu.o\u001b[0m\n",
            "\u001b[35m\u001b[1mScanning dependencies of target caffe\u001b[0m\n",
            "[ 32%] \u001b[32mBuilding CXX object src/caffe/CMakeFiles/caffe.dir/blob.cpp.o\u001b[0m\n",
            "[ 32%] \u001b[32mBuilding CXX object src/caffe/CMakeFiles/caffe.dir/data_transformer.cpp.o\u001b[0m\n",
            "[ 34%] \u001b[32mBuilding CXX object src/caffe/CMakeFiles/caffe.dir/common.cpp.o\u001b[0m\n",
            "[ 35%] \u001b[32mBuilding CXX object src/caffe/CMakeFiles/caffe.dir/internal_thread.cpp.o\u001b[0m\n",
            "[ 35%] \u001b[32mBuilding CXX object src/caffe/CMakeFiles/caffe.dir/layer.cpp.o\u001b[0m\n",
            "[ 35%] \u001b[32mBuilding CXX object src/caffe/CMakeFiles/caffe.dir/layer_factory.cpp.o\u001b[0m\n",
            "[ 36%] \u001b[32mBuilding CXX object src/caffe/CMakeFiles/caffe.dir/layers/absval_layer.cpp.o\u001b[0m\n",
            "[ 36%] \u001b[32mBuilding CXX object src/caffe/CMakeFiles/caffe.dir/layers/accuracy_layer.cpp.o\u001b[0m\n",
            "[ 36%] \u001b[32mBuilding CXX object src/caffe/CMakeFiles/caffe.dir/layers/argmax_layer.cpp.o\u001b[0m\n",
            "[ 38%] \u001b[32mBuilding CXX object src/caffe/CMakeFiles/caffe.dir/layers/base_conv_layer.cpp.o\u001b[0m\n",
            "[ 38%] \u001b[32mBuilding CXX object src/caffe/CMakeFiles/caffe.dir/layers/base_data_layer.cpp.o\u001b[0m\n",
            "[ 39%] \u001b[32mBuilding CXX object src/caffe/CMakeFiles/caffe.dir/layers/batch_norm_layer.cpp.o\u001b[0m\n",
            "[ 39%] \u001b[32mBuilding CXX object src/caffe/CMakeFiles/caffe.dir/layers/batch_reindex_layer.cpp.o\u001b[0m\n",
            "[ 39%] \u001b[32mBuilding CXX object src/caffe/CMakeFiles/caffe.dir/layers/bias_layer.cpp.o\u001b[0m\n",
            "[ 41%] \u001b[32mBuilding CXX object src/caffe/CMakeFiles/caffe.dir/layers/bnll_layer.cpp.o\u001b[0m\n",
            "[ 41%] \u001b[32mBuilding CXX object src/caffe/CMakeFiles/caffe.dir/layers/clip_layer.cpp.o\u001b[0m\n",
            "[ 41%] \u001b[32mBuilding CXX object src/caffe/CMakeFiles/caffe.dir/layers/concat_layer.cpp.o\u001b[0m\n",
            "[ 42%] \u001b[32mBuilding CXX object src/caffe/CMakeFiles/caffe.dir/layers/contrastive_loss_layer.cpp.o\u001b[0m\n",
            "[ 42%] \u001b[32mBuilding CXX object src/caffe/CMakeFiles/caffe.dir/layers/conv_layer.cpp.o\u001b[0m\n",
            "[ 43%] \u001b[32mBuilding CXX object src/caffe/CMakeFiles/caffe.dir/layers/crop_layer.cpp.o\u001b[0m\n",
            "[ 43%] \u001b[32mBuilding CXX object src/caffe/CMakeFiles/caffe.dir/layers/cudnn_conv_layer.cpp.o\u001b[0m\n",
            "[ 43%] \u001b[32mBuilding CXX object src/caffe/CMakeFiles/caffe.dir/layers/cudnn_deconv_layer.cpp.o\u001b[0m\n",
            "[ 45%] \u001b[32mBuilding CXX object src/caffe/CMakeFiles/caffe.dir/layers/cudnn_lcn_layer.cpp.o\u001b[0m\n",
            "[ 45%] \u001b[32mBuilding CXX object src/caffe/CMakeFiles/caffe.dir/layers/cudnn_lrn_layer.cpp.o\u001b[0m\n",
            "[ 45%] \u001b[32mBuilding CXX object src/caffe/CMakeFiles/caffe.dir/layers/cudnn_pooling_layer.cpp.o\u001b[0m\n",
            "[ 46%] \u001b[32mBuilding CXX object src/caffe/CMakeFiles/caffe.dir/layers/cudnn_relu_layer.cpp.o\u001b[0m\n",
            "[ 46%] \u001b[32mBuilding CXX object src/caffe/CMakeFiles/caffe.dir/layers/cudnn_sigmoid_layer.cpp.o\u001b[0m\n",
            "[ 47%] \u001b[32mBuilding CXX object src/caffe/CMakeFiles/caffe.dir/layers/cudnn_softmax_layer.cpp.o\u001b[0m\n",
            "[ 47%] \u001b[32mBuilding CXX object src/caffe/CMakeFiles/caffe.dir/layers/cudnn_tanh_layer.cpp.o\u001b[0m\n",
            "[ 47%] \u001b[32mBuilding CXX object src/caffe/CMakeFiles/caffe.dir/layers/data_layer.cpp.o\u001b[0m\n",
            "[ 49%] \u001b[32mBuilding CXX object src/caffe/CMakeFiles/caffe.dir/layers/deconv_layer.cpp.o\u001b[0m\n",
            "[ 49%] \u001b[32mBuilding CXX object src/caffe/CMakeFiles/caffe.dir/layers/dropout_layer.cpp.o\u001b[0m\n",
            "[ 49%] \u001b[32mBuilding CXX object src/caffe/CMakeFiles/caffe.dir/layers/dummy_data_layer.cpp.o\u001b[0m\n",
            "[ 50%] \u001b[32mBuilding CXX object src/caffe/CMakeFiles/caffe.dir/layers/eltwise_layer.cpp.o\u001b[0m\n",
            "[ 50%] \u001b[32mBuilding CXX object src/caffe/CMakeFiles/caffe.dir/layers/elu_layer.cpp.o\u001b[0m\n",
            "[ 52%] \u001b[32mBuilding CXX object src/caffe/CMakeFiles/caffe.dir/layers/embed_layer.cpp.o\u001b[0m\n",
            "[ 52%] \u001b[32mBuilding CXX object src/caffe/CMakeFiles/caffe.dir/layers/euclidean_loss_layer.cpp.o\u001b[0m\n",
            "[ 52%] \u001b[32mBuilding CXX object src/caffe/CMakeFiles/caffe.dir/layers/exp_layer.cpp.o\u001b[0m\n",
            "[ 53%] \u001b[32mBuilding CXX object src/caffe/CMakeFiles/caffe.dir/layers/filter_layer.cpp.o\u001b[0m\n",
            "[ 53%] \u001b[32mBuilding CXX object src/caffe/CMakeFiles/caffe.dir/layers/flatten_layer.cpp.o\u001b[0m\n",
            "[ 53%] \u001b[32mBuilding CXX object src/caffe/CMakeFiles/caffe.dir/layers/hdf5_data_layer.cpp.o\u001b[0m\n",
            "[ 54%] \u001b[32mBuilding CXX object src/caffe/CMakeFiles/caffe.dir/layers/hdf5_output_layer.cpp.o\u001b[0m\n",
            "[ 54%] \u001b[32mBuilding CXX object src/caffe/CMakeFiles/caffe.dir/layers/hinge_loss_layer.cpp.o\u001b[0m\n",
            "[ 56%] \u001b[32mBuilding CXX object src/caffe/CMakeFiles/caffe.dir/layers/im2col_layer.cpp.o\u001b[0m\n",
            "[ 56%] \u001b[32mBuilding CXX object src/caffe/CMakeFiles/caffe.dir/layers/image_data_layer.cpp.o\u001b[0m\n",
            "[ 56%] \u001b[32mBuilding CXX object src/caffe/CMakeFiles/caffe.dir/layers/infogain_loss_layer.cpp.o\u001b[0m\n",
            "[ 57%] \u001b[32mBuilding CXX object src/caffe/CMakeFiles/caffe.dir/layers/inner_product_layer.cpp.o\u001b[0m\n",
            "[ 57%] \u001b[32mBuilding CXX object src/caffe/CMakeFiles/caffe.dir/layers/input_layer.cpp.o\u001b[0m\n",
            "[ 57%] \u001b[32mBuilding CXX object src/caffe/CMakeFiles/caffe.dir/layers/log_layer.cpp.o\u001b[0m\n",
            "[ 58%] \u001b[32mBuilding CXX object src/caffe/CMakeFiles/caffe.dir/layers/loss_layer.cpp.o\u001b[0m\n",
            "[ 58%] \u001b[32mBuilding CXX object src/caffe/CMakeFiles/caffe.dir/layers/lrn_layer.cpp.o\u001b[0m\n",
            "[ 60%] \u001b[32mBuilding CXX object src/caffe/CMakeFiles/caffe.dir/layers/lstm_layer.cpp.o\u001b[0m\n",
            "[ 60%] \u001b[32mBuilding CXX object src/caffe/CMakeFiles/caffe.dir/layers/lstm_unit_layer.cpp.o\u001b[0m\n",
            "[ 60%] \u001b[32mBuilding CXX object src/caffe/CMakeFiles/caffe.dir/layers/memory_data_layer.cpp.o\u001b[0m\n",
            "[ 61%] \u001b[32mBuilding CXX object src/caffe/CMakeFiles/caffe.dir/layers/multinomial_logistic_loss_layer.cpp.o\u001b[0m\n",
            "[ 61%] \u001b[32mBuilding CXX object src/caffe/CMakeFiles/caffe.dir/layers/mvn_layer.cpp.o\u001b[0m\n",
            "[ 61%] \u001b[32mBuilding CXX object src/caffe/CMakeFiles/caffe.dir/layers/neuron_layer.cpp.o\u001b[0m\n",
            "[ 63%] \u001b[32mBuilding CXX object src/caffe/CMakeFiles/caffe.dir/layers/parameter_layer.cpp.o\u001b[0m\n",
            "[ 63%] \u001b[32mBuilding CXX object src/caffe/CMakeFiles/caffe.dir/layers/pooling_layer.cpp.o\u001b[0m\n",
            "[ 64%] \u001b[32mBuilding CXX object src/caffe/CMakeFiles/caffe.dir/layers/power_layer.cpp.o\u001b[0m\n",
            "[ 64%] \u001b[32mBuilding CXX object src/caffe/CMakeFiles/caffe.dir/layers/prelu_layer.cpp.o\u001b[0m\n",
            "[ 64%] \u001b[32mBuilding CXX object src/caffe/CMakeFiles/caffe.dir/layers/recurrent_layer.cpp.o\u001b[0m\n",
            "[ 65%] \u001b[32mBuilding CXX object src/caffe/CMakeFiles/caffe.dir/layers/reduction_layer.cpp.o\u001b[0m\n",
            "[ 65%] \u001b[32mBuilding CXX object src/caffe/CMakeFiles/caffe.dir/layers/relu_layer.cpp.o\u001b[0m\n",
            "[ 65%] \u001b[32mBuilding CXX object src/caffe/CMakeFiles/caffe.dir/layers/reshape_layer.cpp.o\u001b[0m\n",
            "[ 67%] \u001b[32mBuilding CXX object src/caffe/CMakeFiles/caffe.dir/layers/rnn_layer.cpp.o\u001b[0m\n",
            "[ 67%] \u001b[32mBuilding CXX object src/caffe/CMakeFiles/caffe.dir/layers/scale_layer.cpp.o\u001b[0m\n",
            "[ 68%] \u001b[32mBuilding CXX object src/caffe/CMakeFiles/caffe.dir/layers/sigmoid_cross_entropy_loss_layer.cpp.o\u001b[0m\n",
            "[ 68%] \u001b[32mBuilding CXX object src/caffe/CMakeFiles/caffe.dir/layers/sigmoid_layer.cpp.o\u001b[0m\n",
            "[ 68%] \u001b[32mBuilding CXX object src/caffe/CMakeFiles/caffe.dir/layers/silence_layer.cpp.o\u001b[0m\n",
            "[ 69%] \u001b[32mBuilding CXX object src/caffe/CMakeFiles/caffe.dir/layers/slice_layer.cpp.o\u001b[0m\n",
            "[ 69%] \u001b[32mBuilding CXX object src/caffe/CMakeFiles/caffe.dir/layers/softmax_layer.cpp.o\u001b[0m\n",
            "[ 69%] \u001b[32mBuilding CXX object src/caffe/CMakeFiles/caffe.dir/layers/softmax_loss_layer.cpp.o\u001b[0m\n",
            "[ 71%] \u001b[32mBuilding CXX object src/caffe/CMakeFiles/caffe.dir/layers/split_layer.cpp.o\u001b[0m\n",
            "[ 71%] \u001b[32mBuilding CXX object src/caffe/CMakeFiles/caffe.dir/layers/spp_layer.cpp.o\u001b[0m\n",
            "[ 72%] \u001b[32mBuilding CXX object src/caffe/CMakeFiles/caffe.dir/layers/swish_layer.cpp.o\u001b[0m\n",
            "[ 72%] \u001b[32mBuilding CXX object src/caffe/CMakeFiles/caffe.dir/layers/tanh_layer.cpp.o\u001b[0m\n",
            "[ 72%] \u001b[32mBuilding CXX object src/caffe/CMakeFiles/caffe.dir/layers/threshold_layer.cpp.o\u001b[0m\n",
            "[ 73%] \u001b[32mBuilding CXX object src/caffe/CMakeFiles/caffe.dir/layers/tile_layer.cpp.o\u001b[0m\n",
            "[ 73%] \u001b[32mBuilding CXX object src/caffe/CMakeFiles/caffe.dir/layers/window_data_layer.cpp.o\u001b[0m\n",
            "[ 73%] \u001b[32mBuilding CXX object src/caffe/CMakeFiles/caffe.dir/net.cpp.o\u001b[0m\n",
            "[ 75%] \u001b[32mBuilding CXX object src/caffe/CMakeFiles/caffe.dir/parallel.cpp.o\u001b[0m\n",
            "[ 75%] \u001b[32mBuilding CXX object src/caffe/CMakeFiles/caffe.dir/solver.cpp.o\u001b[0m\n",
            "[ 76%] \u001b[32mBuilding CXX object src/caffe/CMakeFiles/caffe.dir/solvers/adadelta_solver.cpp.o\u001b[0m\n",
            "[ 76%] \u001b[32mBuilding CXX object src/caffe/CMakeFiles/caffe.dir/solvers/adagrad_solver.cpp.o\u001b[0m\n",
            "[ 76%] \u001b[32mBuilding CXX object src/caffe/CMakeFiles/caffe.dir/solvers/adam_solver.cpp.o\u001b[0m\n",
            "[ 78%] \u001b[32mBuilding CXX object src/caffe/CMakeFiles/caffe.dir/solvers/nesterov_solver.cpp.o\u001b[0m\n",
            "[ 78%] \u001b[32mBuilding CXX object src/caffe/CMakeFiles/caffe.dir/solvers/rmsprop_solver.cpp.o\u001b[0m\n",
            "[ 78%] \u001b[32mBuilding CXX object src/caffe/CMakeFiles/caffe.dir/solvers/sgd_solver.cpp.o\u001b[0m\n",
            "[ 79%] \u001b[32mBuilding CXX object src/caffe/CMakeFiles/caffe.dir/syncedmem.cpp.o\u001b[0m\n",
            "[ 79%] \u001b[32mBuilding CXX object src/caffe/CMakeFiles/caffe.dir/util/benchmark.cpp.o\u001b[0m\n",
            "[ 80%] \u001b[32mBuilding CXX object src/caffe/CMakeFiles/caffe.dir/util/blocking_queue.cpp.o\u001b[0m\n",
            "[ 80%] \u001b[32mBuilding CXX object src/caffe/CMakeFiles/caffe.dir/util/cudnn.cpp.o\u001b[0m\n",
            "[ 80%] \u001b[32mBuilding CXX object src/caffe/CMakeFiles/caffe.dir/util/db.cpp.o\u001b[0m\n",
            "[ 82%] \u001b[32mBuilding CXX object src/caffe/CMakeFiles/caffe.dir/util/db_leveldb.cpp.o\u001b[0m\n",
            "[ 82%] \u001b[32mBuilding CXX object src/caffe/CMakeFiles/caffe.dir/util/db_lmdb.cpp.o\u001b[0m\n",
            "[ 82%] \u001b[32mBuilding CXX object src/caffe/CMakeFiles/caffe.dir/util/hdf5.cpp.o\u001b[0m\n",
            "[ 83%] \u001b[32mBuilding CXX object src/caffe/CMakeFiles/caffe.dir/util/im2col.cpp.o\u001b[0m\n",
            "[ 83%] \u001b[32mBuilding CXX object src/caffe/CMakeFiles/caffe.dir/util/insert_splits.cpp.o\u001b[0m\n",
            "[ 84%] \u001b[32mBuilding CXX object src/caffe/CMakeFiles/caffe.dir/util/io.cpp.o\u001b[0m\n",
            "[ 84%] \u001b[32mBuilding CXX object src/caffe/CMakeFiles/caffe.dir/util/math_functions.cpp.o\u001b[0m\n",
            "[ 84%] \u001b[32mBuilding CXX object src/caffe/CMakeFiles/caffe.dir/util/signal_handler.cpp.o\u001b[0m\n",
            "[ 86%] \u001b[32mBuilding CXX object src/caffe/CMakeFiles/caffe.dir/util/upgrade_proto.cpp.o\u001b[0m\n",
            "[ 86%] \u001b[32m\u001b[1mLinking CXX shared library ../../lib/libcaffe.so\u001b[0m\n",
            "[ 86%] Built target caffe\n",
            "\u001b[35m\u001b[1mScanning dependencies of target caffe.bin\u001b[0m\n",
            "\u001b[35m\u001b[1mScanning dependencies of target upgrade_net_proto_binary\u001b[0m\n",
            "\u001b[35m\u001b[1mScanning dependencies of target compute_image_mean\u001b[0m\n",
            "[ 86%] \u001b[32mBuilding CXX object tools/CMakeFiles/caffe.bin.dir/caffe.cpp.o\u001b[0m\n",
            "[ 87%] \u001b[32mBuilding CXX object tools/CMakeFiles/upgrade_net_proto_binary.dir/upgrade_net_proto_binary.cpp.o\u001b[0m\n",
            "[ 87%] \u001b[32mBuilding CXX object tools/CMakeFiles/compute_image_mean.dir/compute_image_mean.cpp.o\u001b[0m\n",
            "[ 87%] \u001b[32m\u001b[1mLinking CXX executable compute_image_mean\u001b[0m\n",
            "CMakeFiles/compute_image_mean.dir/compute_image_mean.cpp.o: In function `std::string* google::MakeCheckOpString<int, int>(int const&, int const&, char const*)':\n",
            "compute_image_mean.cpp:(.text._ZN6google17MakeCheckOpStringIiiEEPSsRKT_RKT0_PKc[_ZN6google17MakeCheckOpStringIiiEEPSsRKT_RKT0_PKc]+0x43): undefined reference to `google::base::CheckOpMessageBuilder::NewString()'\n",
            "CMakeFiles/compute_image_mean.dir/compute_image_mean.cpp.o: In function `std::string* google::MakeCheckOpString<unsigned long, int>(unsigned long const&, int const&, char const*)':\n",
            "compute_image_mean.cpp:(.text._ZN6google17MakeCheckOpStringImiEEPSsRKT_RKT0_PKc[_ZN6google17MakeCheckOpStringImiEEPSsRKT_RKT0_PKc]+0x43): undefined reference to `google::base::CheckOpMessageBuilder::NewString()'\n",
            "CMakeFiles/compute_image_mean.dir/compute_image_mean.cpp.o: In function `_GLOBAL__sub_I_compute_image_mean.cpp':\n",
            "compute_image_mean.cpp:(.text.startup+0xaf): undefined reference to `google::FlagRegisterer::FlagRegisterer<std::string>(char const*, char const*, char const*, std::string*, std::string*)'\n",
            "CMakeFiles/compute_image_mean.dir/compute_image_mean.cpp.o: In function `main':\n",
            "compute_image_mean.cpp:(.text.startup+0x15f): undefined reference to `google::SetUsageMessage(std::string const&)'\n",
            "compute_image_mean.cpp:(.text.startup+0x263): undefined reference to `google::protobuf::MessageLite::ParseFromString(std::string const&)'\n",
            "compute_image_mean.cpp:(.text.startup+0x3f9): undefined reference to `google::protobuf::MessageLite::ParseFromString(std::string const&)'\n",
            "../lib/libcaffe.so.1.0.0: undefined reference to `caffe::FillerParameter::_default_type_'\n",
            "../lib/libcaffe.so.1.0.0: undefined reference to `google::protobuf::Message::DebugString() const'\n",
            "../lib/libcaffe.so.1.0.0: undefined reference to `google::protobuf::internal::empty_string_'\n",
            "../lib/libcaffe.so.1.0.0: undefined reference to `google::protobuf::internal::NameOfEnum(google::protobuf::EnumDescriptor const*, int)'\n",
            "../lib/libcaffe.so.1.0.0: undefined reference to `caffe::SolverParameter::_default_type_'\n",
            "../lib/libcaffe.so.1.0.0: undefined reference to `leveldb::DB::Open(leveldb::Options const&, std::string const&, leveldb::DB**)'\n",
            "../lib/libcaffe.so.1.0.0: undefined reference to `caffe::WindowDataParameter::_default_crop_mode_'\n",
            "../lib/libcaffe.so.1.0.0: undefined reference to `leveldb::Status::ToString() const'\n",
            "collect2: error: ld returned 1 exit status\n",
            "tools/CMakeFiles/compute_image_mean.dir/build.make:127: recipe for target 'tools/compute_image_mean' failed\n",
            "make[2]: *** [tools/compute_image_mean] Error 1\n",
            "CMakeFiles/Makefile2:500: recipe for target 'tools/CMakeFiles/compute_image_mean.dir/all' failed\n",
            "make[1]: *** [tools/CMakeFiles/compute_image_mean.dir/all] Error 2\n",
            "make[1]: *** Waiting for unfinished jobs....\n",
            "[ 87%] \u001b[32m\u001b[1mLinking CXX executable upgrade_net_proto_binary\u001b[0m\n",
            "../lib/libcaffe.so.1.0.0: undefined reference to `caffe::FillerParameter::_default_type_'\n",
            "../lib/libcaffe.so.1.0.0: undefined reference to `google::base::CheckOpMessageBuilder::NewString()'\n",
            "../lib/libcaffe.so.1.0.0: undefined reference to `google::protobuf::Message::DebugString() const'\n",
            "../lib/libcaffe.so.1.0.0: undefined reference to `google::protobuf::internal::empty_string_'\n",
            "../lib/libcaffe.so.1.0.0: undefined reference to `google::protobuf::MessageLite::ParseFromString(std::string const&)'\n",
            "../lib/libcaffe.so.1.0.0: undefined reference to `google::protobuf::internal::NameOfEnum(google::protobuf::EnumDescriptor const*, int)'\n",
            "../lib/libcaffe.so.1.0.0: undefined reference to `caffe::SolverParameter::_default_type_'\n",
            "../lib/libcaffe.so.1.0.0: undefined reference to `leveldb::DB::Open(leveldb::Options const&, std::string const&, leveldb::DB**)'\n",
            "../lib/libcaffe.so.1.0.0: undefined reference to `caffe::WindowDataParameter::_default_crop_mode_'\n",
            "../lib/libcaffe.so.1.0.0: undefined reference to `leveldb::Status::ToString() const'\n",
            "collect2: error: ld returned 1 exit status\n",
            "tools/CMakeFiles/upgrade_net_proto_binary.dir/build.make:127: recipe for target 'tools/upgrade_net_proto_binary' failed\n",
            "make[2]: *** [tools/upgrade_net_proto_binary] Error 1\n",
            "CMakeFiles/Makefile2:538: recipe for target 'tools/CMakeFiles/upgrade_net_proto_binary.dir/all' failed\n",
            "make[1]: *** [tools/CMakeFiles/upgrade_net_proto_binary.dir/all] Error 2\n",
            "[ 89%] \u001b[32m\u001b[1mLinking CXX executable caffe\u001b[0m\n",
            "CMakeFiles/caffe.bin.dir/caffe.cpp.o: In function `std::string* google::MakeCheckOpString<cudaError, cudaError>(cudaError const&, cudaError const&, char const*)':\n",
            "caffe.cpp:(.text._ZN6google17MakeCheckOpStringI9cudaErrorS1_EEPSsRKT_RKT0_PKc[_ZN6google17MakeCheckOpStringI9cudaErrorS1_EEPSsRKT_RKT0_PKc]+0x43): undefined reference to `google::base::CheckOpMessageBuilder::NewString()'\n",
            "CMakeFiles/caffe.bin.dir/caffe.cpp.o: In function `std::string* google::MakeCheckOpString<unsigned long, int>(unsigned long const&, int const&, char const*)':\n",
            "caffe.cpp:(.text._ZN6google17MakeCheckOpStringImiEEPSsRKT_RKT0_PKc[_ZN6google17MakeCheckOpStringImiEEPSsRKT_RKT0_PKc]+0x43): undefined reference to `google::base::CheckOpMessageBuilder::NewString()'\n",
            "CMakeFiles/caffe.bin.dir/caffe.cpp.o: In function `main':\n",
            "caffe.cpp:(.text.startup+0x3e): undefined reference to `google::SetVersionString(std::string const&)'\n",
            "caffe.cpp:(.text.startup+0x6e): undefined reference to `google::SetUsageMessage(std::string const&)'\n",
            "CMakeFiles/caffe.bin.dir/caffe.cpp.o: In function `_GLOBAL__sub_I_caffe.cpp':\n",
            "caffe.cpp:(.text.startup+0x34c): undefined reference to `google::FlagRegisterer::FlagRegisterer<std::string>(char const*, char const*, char const*, std::string*, std::string*)'\n",
            "caffe.cpp:(.text.startup+0x3f8): undefined reference to `google::FlagRegisterer::FlagRegisterer<std::string>(char const*, char const*, char const*, std::string*, std::string*)'\n",
            "caffe.cpp:(.text.startup+0x49d): undefined reference to `google::FlagRegisterer::FlagRegisterer<std::string>(char const*, char const*, char const*, std::string*, std::string*)'\n",
            "caffe.cpp:(.text.startup+0x542): undefined reference to `google::FlagRegisterer::FlagRegisterer<std::string>(char const*, char const*, char const*, std::string*, std::string*)'\n",
            "caffe.cpp:(.text.startup+0x616): undefined reference to `google::FlagRegisterer::FlagRegisterer<std::string>(char const*, char const*, char const*, std::string*, std::string*)'\n",
            "CMakeFiles/caffe.bin.dir/caffe.cpp.o:caffe.cpp:(.text.startup+0x6bb): more undefined references to `google::FlagRegisterer::FlagRegisterer<std::string>(char const*, char const*, char const*, std::string*, std::string*)' follow\n",
            "../lib/libcaffe.so.1.0.0: undefined reference to `caffe::FillerParameter::_default_type_'\n",
            "../lib/libcaffe.so.1.0.0: undefined reference to `google::protobuf::Message::DebugString() const'\n",
            "../lib/libcaffe.so.1.0.0: undefined reference to `google::protobuf::internal::empty_string_'\n",
            "../lib/libcaffe.so.1.0.0: undefined reference to `google::protobuf::MessageLite::ParseFromString(std::string const&)'\n",
            "../lib/libcaffe.so.1.0.0: undefined reference to `google::protobuf::internal::NameOfEnum(google::protobuf::EnumDescriptor const*, int)'\n",
            "../lib/libcaffe.so.1.0.0: undefined reference to `caffe::SolverParameter::_default_type_'\n",
            "../lib/libcaffe.so.1.0.0: undefined reference to `leveldb::DB::Open(leveldb::Options const&, std::string const&, leveldb::DB**)'\n",
            "../lib/libcaffe.so.1.0.0: undefined reference to `caffe::WindowDataParameter::_default_crop_mode_'\n",
            "../lib/libcaffe.so.1.0.0: undefined reference to `leveldb::Status::ToString() const'\n",
            "collect2: error: ld returned 1 exit status\n",
            "tools/CMakeFiles/caffe.bin.dir/build.make:127: recipe for target 'tools/caffe' failed\n",
            "make[2]: *** [tools/caffe] Error 1\n",
            "CMakeFiles/Makefile2:462: recipe for target 'tools/CMakeFiles/caffe.bin.dir/all' failed\n",
            "make[1]: *** [tools/CMakeFiles/caffe.bin.dir/all] Error 2\n",
            "Makefile:129: recipe for target 'all' failed\n",
            "make: *** [all] Error 2\n"
          ],
          "name": "stdout"
        }
      ]
    },
    {
      "metadata": {
        "id": "A3LjbKK4yF7L",
        "colab_type": "code",
        "colab": {
          "base_uri": "https://localhost:8080/",
          "height": 190
        },
        "outputId": "d9cac9d4-90fc-4a14-bfab-63d87efab3c8"
      },
      "cell_type": "code",
      "source": [
        "!gcc -v"
      ],
      "execution_count": 79,
      "outputs": [
        {
          "output_type": "stream",
          "text": [
            "Using built-in specs.\n",
            "COLLECT_GCC=gcc\n",
            "COLLECT_LTO_WRAPPER=/usr/lib/gcc/x86_64-linux-gnu/7/lto-wrapper\n",
            "OFFLOAD_TARGET_NAMES=nvptx-none\n",
            "OFFLOAD_TARGET_DEFAULT=1\n",
            "Target: x86_64-linux-gnu\n",
            "Configured with: ../src/configure -v --with-pkgversion='Ubuntu 7.3.0-27ubuntu1~18.04' --with-bugurl=file:///usr/share/doc/gcc-7/README.Bugs --enable-languages=c,ada,c++,go,brig,d,fortran,objc,obj-c++ --prefix=/usr --with-gcc-major-version-only --program-suffix=-7 --program-prefix=x86_64-linux-gnu- --enable-shared --enable-linker-build-id --libexecdir=/usr/lib --without-included-gettext --enable-threads=posix --libdir=/usr/lib --enable-nls --with-sysroot=/ --enable-clocale=gnu --enable-libstdcxx-debug --enable-libstdcxx-time=yes --with-default-libstdcxx-abi=new --enable-gnu-unique-object --disable-vtable-verify --enable-libmpx --enable-plugin --enable-default-pie --with-system-zlib --with-target-system-zlib --enable-objc-gc=auto --enable-multiarch --disable-werror --with-arch-32=i686 --with-abi=m64 --with-multilib-list=m32,m64,mx32 --enable-multilib --with-tune=generic --enable-offload-targets=nvptx-none --without-cuda-driver --enable-checking=release --build=x86_64-linux-gnu --host=x86_64-linux-gnu --target=x86_64-linux-gnu\n",
            "Thread model: posix\n",
            "gcc version 7.3.0 (Ubuntu 7.3.0-27ubuntu1~18.04) \n"
          ],
          "name": "stdout"
        }
      ]
    },
    {
      "metadata": {
        "id": "mMeu8kE5440w",
        "colab_type": "code",
        "colab": {
          "base_uri": "https://localhost:8080/",
          "height": 309
        },
        "outputId": "96b73114-98e1-4a16-bd85-74f390cdf17d"
      },
      "cell_type": "code",
      "source": [
        "!wget https://dl.bintray.com/boostorg/release/1.67.0/source/boost_1_67_0.tar.bz2\n",
        "!tar --bzip2 -xf boost_1_67_0.tar.bz2"
      ],
      "execution_count": 95,
      "outputs": [
        {
          "output_type": "stream",
          "text": [
            "--2019-01-16 09:00:06--  https://dl.bintray.com/boostorg/release/1.67.0/source/boost_1_67_0.tar.bz2\n",
            "Resolving dl.bintray.com (dl.bintray.com)... 54.201.212.240, 52.34.118.86, 52.25.102.85, ...\n",
            "Connecting to dl.bintray.com (dl.bintray.com)|54.201.212.240|:443... connected.\n",
            "HTTP request sent, awaiting response... 302 \n",
            "Location: https://d29vzk4ow07wi7.cloudfront.net/2684c972994ee57fc5632e03bf044746f6eb45d4920c343937a465fd67a5adba?response-content-disposition=attachment%3Bfilename%3D%22boost_1_67_0.tar.bz2%22&Policy=eyJTdGF0ZW1lbnQiOiBbeyJSZXNvdXJjZSI6Imh0dHAqOi8vZDI5dnprNG93MDd3aTcuY2xvdWRmcm9udC5uZXQvMjY4NGM5NzI5OTRlZTU3ZmM1NjMyZTAzYmYwNDQ3NDZmNmViNDVkNDkyMGMzNDM5MzdhNDY1ZmQ2N2E1YWRiYT9yZXNwb25zZS1jb250ZW50LWRpc3Bvc2l0aW9uPWF0dGFjaG1lbnQlM0JmaWxlbmFtZSUzRCUyMmJvb3N0XzFfNjdfMC50YXIuYnoyJTIyIiwiQ29uZGl0aW9uIjp7IkRhdGVMZXNzVGhhbiI6eyJBV1M6RXBvY2hUaW1lIjoxNTQ3NjI5OTI2fSwiSXBBZGRyZXNzIjp7IkFXUzpTb3VyY2VJcCI6IjAuMC4wLjAvMCJ9fX1dfQ__&Signature=khAAy6MM~N4Fds37CQcIucVh0teZXMo2o0UwqFAsk93t7l4mQnXtiO~aoaCC7bvyEi7HfQo-AZj1h~ijWefes6P~10VilKDoKoGfCBSF-FwJFsQ9j7UhdiHpVns9HWnKShxGnfwi~Z6METtukN8~SLR7VTly9UTYtDwpe5rp3WQTM8NNyLK5OKQJnDWnM04vDqNmkjpIiuqRpJKFrj~NvCVT7bnSENmSPTbAgcmc2g2BtMlMf97n8eNIZBew0HuFExPBYAzZ0-HQAZM8fDKgY0gYVkLK0O4tNFA-33g9503gNUwhPwktrWZlfeSOFyRPidi~br43vg58LwL-Vnpkqw__&Key-Pair-Id=APKAIFKFWOMXM2UMTSFA [following]\n",
            "--2019-01-16 09:00:06--  https://d29vzk4ow07wi7.cloudfront.net/2684c972994ee57fc5632e03bf044746f6eb45d4920c343937a465fd67a5adba?response-content-disposition=attachment%3Bfilename%3D%22boost_1_67_0.tar.bz2%22&Policy=eyJTdGF0ZW1lbnQiOiBbeyJSZXNvdXJjZSI6Imh0dHAqOi8vZDI5dnprNG93MDd3aTcuY2xvdWRmcm9udC5uZXQvMjY4NGM5NzI5OTRlZTU3ZmM1NjMyZTAzYmYwNDQ3NDZmNmViNDVkNDkyMGMzNDM5MzdhNDY1ZmQ2N2E1YWRiYT9yZXNwb25zZS1jb250ZW50LWRpc3Bvc2l0aW9uPWF0dGFjaG1lbnQlM0JmaWxlbmFtZSUzRCUyMmJvb3N0XzFfNjdfMC50YXIuYnoyJTIyIiwiQ29uZGl0aW9uIjp7IkRhdGVMZXNzVGhhbiI6eyJBV1M6RXBvY2hUaW1lIjoxNTQ3NjI5OTI2fSwiSXBBZGRyZXNzIjp7IkFXUzpTb3VyY2VJcCI6IjAuMC4wLjAvMCJ9fX1dfQ__&Signature=khAAy6MM~N4Fds37CQcIucVh0teZXMo2o0UwqFAsk93t7l4mQnXtiO~aoaCC7bvyEi7HfQo-AZj1h~ijWefes6P~10VilKDoKoGfCBSF-FwJFsQ9j7UhdiHpVns9HWnKShxGnfwi~Z6METtukN8~SLR7VTly9UTYtDwpe5rp3WQTM8NNyLK5OKQJnDWnM04vDqNmkjpIiuqRpJKFrj~NvCVT7bnSENmSPTbAgcmc2g2BtMlMf97n8eNIZBew0HuFExPBYAzZ0-HQAZM8fDKgY0gYVkLK0O4tNFA-33g9503gNUwhPwktrWZlfeSOFyRPidi~br43vg58LwL-Vnpkqw__&Key-Pair-Id=APKAIFKFWOMXM2UMTSFA\n",
            "Resolving d29vzk4ow07wi7.cloudfront.net (d29vzk4ow07wi7.cloudfront.net)... 99.84.201.132, 99.84.201.83, 99.84.201.53, ...\n",
            "Connecting to d29vzk4ow07wi7.cloudfront.net (d29vzk4ow07wi7.cloudfront.net)|99.84.201.132|:443... connected.\n",
            "HTTP request sent, awaiting response... 200 OK\n",
            "Length: 87336566 (83M) [application/x-bzip2]\n",
            "Saving to: ‘boost_1_67_0.tar.bz2’\n",
            "\n",
            "boost_1_67_0.tar.bz 100%[===================>]  83.29M  82.8MB/s    in 1.0s    \n",
            "\n",
            "2019-01-16 09:00:08 (82.8 MB/s) - ‘boost_1_67_0.tar.bz2’ saved [87336566/87336566]\n",
            "\n"
          ],
          "name": "stdout"
        }
      ]
    },
    {
      "metadata": {
        "id": "rupuJFlJ5A3N",
        "colab_type": "code",
        "colab": {
          "base_uri": "https://localhost:8080/",
          "height": 386
        },
        "outputId": "1112390d-e4c2-41ad-83fa-a76ff3c056d2"
      },
      "cell_type": "code",
      "source": [
        "!cd boost_1_67_0 && ./bootstrap.sh --exec-prefix=/usr/local --with-libraries=system,filesystem,regex,thread,python \\\n",
        "--with-python-version=2.7 --with-python-root=/usr\n",
        "!cd boost_1_67_0 && ./b2 install > /dev/null\n",
        "!echo done"
      ],
      "execution_count": 0,
      "outputs": [
        {
          "output_type": "stream",
          "text": [
            "Building Boost.Build engine with toolset gcc... tools/build/src/engine/bin.linuxx86_64/b2\n",
            "Unicode/ICU support for Boost.Regex?... /usr\n",
            "Generating Boost.Build configuration in project-config.jam...\n",
            "\n",
            "Bootstrapping is done. To build, run:\n",
            "\n",
            "    ./b2\n",
            "    \n",
            "To adjust configuration, edit 'project-config.jam'.\n",
            "Further information:\n",
            "\n",
            "   - Command line help:\n",
            "     ./b2 --help\n",
            "     \n",
            "   - Getting started guide: \n",
            "     http://www.boost.org/more/getting_started/unix-variants.html\n",
            "     \n",
            "   - Boost.Build documentation:\n",
            "     http://www.boost.org/build/doc/html/index.html\n",
            "\n"
          ],
          "name": "stdout"
        }
      ]
    },
    {
      "metadata": {
        "id": "gGJiLLOOyTwG",
        "colab_type": "code",
        "colab": {
          "base_uri": "https://localhost:8080/",
          "height": 1377
        },
        "outputId": "36c52e5e-e2c4-4171-9c23-dd5699a851b2"
      },
      "cell_type": "code",
      "source": [
        "!add-apt-repository -y ppa:ubuntu-toolchain-r/test\n",
        "!apt update\n",
        "!apt-get install gcc-4.8 g++-4.8"
      ],
      "execution_count": 78,
      "outputs": [
        {
          "output_type": "stream",
          "text": [
            "\r0% [Working]\r            \rIgn:1 http://developer.download.nvidia.com/compute/cuda/repos/ubuntu1604/x86_64  InRelease\n",
            "Hit:2 http://developer.download.nvidia.com/compute/cuda/repos/ubuntu1604/x86_64  Release\n",
            "Ign:3 https://developer.download.nvidia.com/compute/machine-learning/repos/ubuntu1604/x86_64  InRelease\n",
            "Hit:4 https://developer.download.nvidia.com/compute/machine-learning/repos/ubuntu1604/x86_64  Release\n",
            "Hit:5 http://ppa.launchpad.net/graphics-drivers/ppa/ubuntu bionic InRelease\n",
            "Hit:6 http://archive.ubuntu.com/ubuntu bionic InRelease\n",
            "Hit:7 http://security.ubuntu.com/ubuntu bionic-security InRelease\n",
            "Hit:9 http://archive.ubuntu.com/ubuntu bionic-updates InRelease\n",
            "Hit:11 http://ppa.launchpad.net/ubuntu-toolchain-r/test/ubuntu bionic InRelease\n",
            "Hit:12 http://archive.ubuntu.com/ubuntu bionic-backports InRelease\n",
            "Reading package lists... Done\n",
            "Ign:1 http://developer.download.nvidia.com/compute/cuda/repos/ubuntu1604/x86_64  InRelease\n",
            "Hit:2 http://developer.download.nvidia.com/compute/cuda/repos/ubuntu1604/x86_64  Release\n",
            "Ign:3 https://developer.download.nvidia.com/compute/machine-learning/repos/ubuntu1604/x86_64  InRelease\n",
            "Hit:4 https://developer.download.nvidia.com/compute/machine-learning/repos/ubuntu1604/x86_64  Release\n",
            "Hit:5 http://ppa.launchpad.net/graphics-drivers/ppa/ubuntu bionic InRelease\n",
            "Hit:6 http://archive.ubuntu.com/ubuntu bionic InRelease\n",
            "Hit:7 http://security.ubuntu.com/ubuntu bionic-security InRelease\n",
            "Hit:9 http://archive.ubuntu.com/ubuntu bionic-updates InRelease\n",
            "Hit:11 http://ppa.launchpad.net/ubuntu-toolchain-r/test/ubuntu bionic InRelease\n",
            "Hit:12 http://archive.ubuntu.com/ubuntu bionic-backports InRelease\n",
            "Reading package lists... Done\n",
            "Building dependency tree       \n",
            "Reading state information... Done\n",
            "50 packages can be upgraded. Run 'apt list --upgradable' to see them.\n",
            "Reading package lists... Done\n",
            "Building dependency tree       \n",
            "Reading state information... Done\n",
            "The following additional packages will be installed:\n",
            "  cpp-4.8 gcc-4.8-base libasan0 libgcc-4.8-dev libstdc++-4.8-dev\n",
            "Suggested packages:\n",
            "  gcc-4.8-locales g++-4.8-multilib gcc-4.8-doc libstdc++6-4.8-dbg\n",
            "  gcc-4.8-multilib libgcc1-dbg libgomp1-dbg libitm1-dbg libatomic1-dbg\n",
            "  libasan0-dbg libtsan0-dbg libquadmath0-dbg libstdc++-4.8-doc\n",
            "The following NEW packages will be installed:\n",
            "  cpp-4.8 g++-4.8 gcc-4.8 gcc-4.8-base libasan0 libgcc-4.8-dev\n",
            "  libstdc++-4.8-dev\n",
            "0 upgraded, 7 newly installed, 0 to remove and 50 not upgraded.\n",
            "Need to get 29.3 MB of archives.\n",
            "After this operation, 73.2 MB of additional disk space will be used.\n",
            "Get:1 http://archive.ubuntu.com/ubuntu bionic/universe amd64 gcc-4.8-base amd64 4.8.5-4ubuntu8 [15.8 kB]\n",
            "Get:2 http://archive.ubuntu.com/ubuntu bionic/universe amd64 cpp-4.8 amd64 4.8.5-4ubuntu8 [4,368 kB]\n",
            "Get:3 http://archive.ubuntu.com/ubuntu bionic/universe amd64 libasan0 amd64 4.8.5-4ubuntu8 [63.0 kB]\n",
            "Get:4 http://archive.ubuntu.com/ubuntu bionic/universe amd64 libgcc-4.8-dev amd64 4.8.5-4ubuntu8 [1,691 kB]\n",
            "Get:5 http://archive.ubuntu.com/ubuntu bionic/universe amd64 gcc-4.8 amd64 4.8.5-4ubuntu8 [4,510 kB]\n",
            "Get:6 http://archive.ubuntu.com/ubuntu bionic/universe amd64 libstdc++-4.8-dev amd64 4.8.5-4ubuntu8 [1,043 kB]\n",
            "Get:7 http://archive.ubuntu.com/ubuntu bionic/universe amd64 g++-4.8 amd64 4.8.5-4ubuntu8 [17.6 MB]\n",
            "Fetched 29.3 MB in 3s (10.5 MB/s)\n",
            "Selecting previously unselected package gcc-4.8-base:amd64.\n",
            "(Reading database ... 120558 files and directories currently installed.)\n",
            "Preparing to unpack .../0-gcc-4.8-base_4.8.5-4ubuntu8_amd64.deb ...\n",
            "Unpacking gcc-4.8-base:amd64 (4.8.5-4ubuntu8) ...\n",
            "Selecting previously unselected package cpp-4.8.\n",
            "Preparing to unpack .../1-cpp-4.8_4.8.5-4ubuntu8_amd64.deb ...\n",
            "Unpacking cpp-4.8 (4.8.5-4ubuntu8) ...\n",
            "Selecting previously unselected package libasan0:amd64.\n",
            "Preparing to unpack .../2-libasan0_4.8.5-4ubuntu8_amd64.deb ...\n",
            "Unpacking libasan0:amd64 (4.8.5-4ubuntu8) ...\n",
            "Selecting previously unselected package libgcc-4.8-dev:amd64.\n",
            "Preparing to unpack .../3-libgcc-4.8-dev_4.8.5-4ubuntu8_amd64.deb ...\n",
            "Unpacking libgcc-4.8-dev:amd64 (4.8.5-4ubuntu8) ...\n",
            "Selecting previously unselected package gcc-4.8.\n",
            "Preparing to unpack .../4-gcc-4.8_4.8.5-4ubuntu8_amd64.deb ...\n",
            "Unpacking gcc-4.8 (4.8.5-4ubuntu8) ...\n",
            "Selecting previously unselected package libstdc++-4.8-dev:amd64.\n",
            "Preparing to unpack .../5-libstdc++-4.8-dev_4.8.5-4ubuntu8_amd64.deb ...\n",
            "Unpacking libstdc++-4.8-dev:amd64 (4.8.5-4ubuntu8) ...\n",
            "Selecting previously unselected package g++-4.8.\n",
            "Preparing to unpack .../6-g++-4.8_4.8.5-4ubuntu8_amd64.deb ...\n",
            "Unpacking g++-4.8 (4.8.5-4ubuntu8) ...\n",
            "Setting up gcc-4.8-base:amd64 (4.8.5-4ubuntu8) ...\n",
            "Processing triggers for libc-bin (2.27-3ubuntu1) ...\n",
            "Setting up cpp-4.8 (4.8.5-4ubuntu8) ...\n",
            "Processing triggers for man-db (2.8.3-2ubuntu0.1) ...\n",
            "Setting up libasan0:amd64 (4.8.5-4ubuntu8) ...\n",
            "Setting up libgcc-4.8-dev:amd64 (4.8.5-4ubuntu8) ...\n",
            "Setting up gcc-4.8 (4.8.5-4ubuntu8) ...\n",
            "Setting up libstdc++-4.8-dev:amd64 (4.8.5-4ubuntu8) ...\n",
            "Setting up g++-4.8 (4.8.5-4ubuntu8) ...\n",
            "Processing triggers for libc-bin (2.27-3ubuntu1) ...\n"
          ],
          "name": "stdout"
        }
      ]
    },
    {
      "metadata": {
        "id": "LSFXRXX40e1X",
        "colab_type": "code",
        "colab": {}
      },
      "cell_type": "code",
      "source": [
        "!ln -s /usr/bin/gcc-4.8 /usr/local/cuda/bin/gcc\n",
        "!ln -s /usr/bin/g++-4.8 /usr/local/cuda/bin/g++"
      ],
      "execution_count": 0,
      "outputs": []
    },
    {
      "metadata": {
        "id": "BspE3V3UlyUc",
        "colab_type": "code",
        "colab": {
          "base_uri": "https://localhost:8080/",
          "height": 646
        },
        "outputId": "cd0576d4-7c1c-4a5f-f40a-e339b93090ac"
      },
      "cell_type": "code",
      "source": [
        "ls -la"
      ],
      "execution_count": 22,
      "outputs": [
        {
          "output_type": "stream",
          "text": [
            "total 208\n",
            "drwxr-xr-x 29 root root  4096 Jan 16 07:40 \u001b[0m\u001b[01;34m.\u001b[0m/\n",
            "drwxr-xr-x 20 root root  4096 Jan 16 07:40 \u001b[01;34m..\u001b[0m/\n",
            "-rw-r--r--  1 root root  2540 Jan 16 07:40 .clang-format\n",
            "-rw-r--r--  1 root root 28542 Jan 16 07:40 CMakeLists.txt\n",
            "drwxr-xr-x 17 root root  4096 Jan 16 07:40 \u001b[01;34mcontrib\u001b[0m/\n",
            "drwxr-xr-x  5 root root  4096 Jan 16 07:40 \u001b[01;34mcore\u001b[0m/\n",
            "drwxr-xr-x  2 root root  4096 Jan 16 07:40 \u001b[01;34mcuda_rtc\u001b[0m/\n",
            "drwxr-xr-x  2 root root  4096 Jan 16 07:40 \u001b[01;34mdb\u001b[0m/\n",
            "drwxr-xr-x  2 root root  4096 Jan 16 07:40 \u001b[01;34mdistributed\u001b[0m/\n",
            "drwxr-xr-x  4 root root  4096 Jan 16 07:40 \u001b[01;34mexperiments\u001b[0m/\n",
            "drwxr-xr-x  4 root root  4096 Jan 16 07:40 \u001b[01;34mideep\u001b[0m/\n",
            "drwxr-xr-x  2 root root  4096 Jan 16 07:40 \u001b[01;34mimage\u001b[0m/\n",
            "-rw-r--r--  1 root root     0 Jan 16 07:40 __init__.py\n",
            "drwxr-xr-x  3 root root  4096 Jan 16 07:40 \u001b[01;34mmobile\u001b[0m/\n",
            "drwxr-xr-x  2 root root  4096 Jan 16 07:40 \u001b[01;34mmpi\u001b[0m/\n",
            "drwxr-xr-x  2 root root  4096 Jan 16 07:40 \u001b[01;34mobservers\u001b[0m/\n",
            "drwxr-xr-x  3 root root  4096 Jan 16 07:40 \u001b[01;34monnx\u001b[0m/\n",
            "drwxr-xr-x  6 root root 36864 Jan 16 07:40 \u001b[01;34moperators\u001b[0m/\n",
            "drwxr-xr-x  2 root root  4096 Jan 16 07:40 \u001b[01;34mopt\u001b[0m/\n",
            "drwxr-xr-x  2 root root  4096 Jan 16 07:40 \u001b[01;34mperfkernels\u001b[0m/\n",
            "drwxr-xr-x  3 root root  4096 Jan 16 07:40 \u001b[01;34mpredictor\u001b[0m/\n",
            "drwxr-xr-x  2 root root  4096 Jan 16 07:40 \u001b[01;34mproto\u001b[0m/\n",
            "drwxr-xr-x 18 root root 12288 Jan 16 07:40 \u001b[01;34mpython\u001b[0m/\n",
            "drwxr-xr-x  3 root root  4096 Jan 16 07:40 \u001b[01;34mquantization\u001b[0m/\n",
            "drwxr-xr-x  2 root root  4096 Jan 16 07:40 \u001b[01;34mqueue\u001b[0m/\n",
            "-rw-r--r--  1 root root  1114 Jan 16 07:40 README.md\n",
            "-rw-r--r--  1 root root  7893 Jan 16 07:40 release-notes.md\n",
            "-rw-r--r--  1 root root    27 Jan 16 07:40 requirements.txt\n",
            "drwxr-xr-x  2 root root  4096 Jan 16 07:40 \u001b[01;34mserialize\u001b[0m/\n",
            "drwxr-xr-x  2 root root  4096 Jan 16 07:40 \u001b[01;34msgd\u001b[0m/\n",
            "drwxr-xr-x  3 root root  4096 Jan 16 07:40 \u001b[01;34mshare\u001b[0m/\n",
            "drwxr-xr-x  3 root root  4096 Jan 16 07:40 \u001b[01;34mtest\u001b[0m/\n",
            "drwxr-xr-x  2 root root  4096 Jan 16 07:40 \u001b[01;34mtransforms\u001b[0m/\n",
            "drwxr-xr-x  4 root root  4096 Jan 16 07:40 \u001b[01;34mutils\u001b[0m/\n",
            "-rw-r--r--  1 root root     6 Jan 16 07:40 VERSION_NUMBER\n",
            "drwxr-xr-x  2 root root  4096 Jan 16 07:40 \u001b[01;34mvideo\u001b[0m/\n"
          ],
          "name": "stdout"
        }
      ]
    },
    {
      "metadata": {
        "id": "XsaZqb2Jluu8",
        "colab_type": "code",
        "colab": {
          "base_uri": "https://localhost:8080/",
          "height": 34
        },
        "outputId": "4445eba1-474b-49a5-b6b5-62f7855d9bc8"
      },
      "cell_type": "code",
      "source": [
        "!make"
      ],
      "execution_count": 23,
      "outputs": [
        {
          "output_type": "stream",
          "text": [
            "make: *** No targets specified and no makefile found.  Stop.\n"
          ],
          "name": "stdout"
        }
      ]
    },
    {
      "metadata": {
        "id": "ZBC8RRfjlM_v",
        "colab_type": "code",
        "colab": {}
      },
      "cell_type": "code",
      "source": [
        "!make　　# 30分くらいで何事もなく終わった\n",
        "!cd build && sudo make install　# こっちも30分くらい？目を離して終わってたので正確にわからず。。\n",
        "!python -c 'from caffe2.python import core' 2>/dev/null && echo \"Success\" || echo \"Failure\""
      ],
      "execution_count": 0,
      "outputs": []
    }
  ]
}