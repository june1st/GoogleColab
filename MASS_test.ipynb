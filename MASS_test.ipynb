{
  "nbformat": 4,
  "nbformat_minor": 0,
  "metadata": {
    "colab": {
      "name": "MASS_test.ipynb",
      "version": "0.3.2",
      "provenance": [],
      "include_colab_link": true
    },
    "kernelspec": {
      "name": "python3",
      "display_name": "Python 3"
    },
    "accelerator": "GPU"
  },
  "cells": [
    {
      "cell_type": "markdown",
      "metadata": {
        "id": "view-in-github",
        "colab_type": "text"
      },
      "source": [
        "<a href=\"https://colab.research.google.com/github/june1st/GoogleColab/blob/master/MASS_test.ipynb\" target=\"_parent\"><img src=\"https://colab.research.google.com/assets/colab-badge.svg\" alt=\"Open In Colab\"/></a>"
      ]
    },
    {
      "cell_type": "code",
      "metadata": {
        "id": "B0AmG47QuhgD",
        "colab_type": "code",
        "colab": {
          "base_uri": "https://localhost:8080/",
          "height": 145
        },
        "outputId": "50d1a555-2049-46b7-d649-16a0f48c2083"
      },
      "source": [
        "#git\n",
        "!git clone https://github.com/lsw9021/MASS\n",
        "%cd MASS"
      ],
      "execution_count": 2,
      "outputs": [
        {
          "output_type": "stream",
          "text": [
            "Cloning into 'MASS'...\n",
            "remote: Enumerating objects: 86, done.\u001b[K\n",
            "remote: Counting objects: 100% (86/86), done.\u001b[K\n",
            "remote: Compressing objects: 100% (72/72), done.\u001b[K\n",
            "remote: Total 86 (delta 11), reused 86 (delta 11), pack-reused 0\u001b[K\n",
            "Unpacking objects: 100% (86/86), done.\n",
            "/content/MASS\n"
          ],
          "name": "stdout"
        }
      ]
    },
    {
      "cell_type": "code",
      "metadata": {
        "id": "jMGyb7ljuwK5",
        "colab_type": "code",
        "colab": {
          "base_uri": "https://localhost:8080/",
          "height": 72
        },
        "outputId": "3b35775f-a5e2-4685-f705-01b177915fb7"
      },
      "source": [
        "#Install dependencies\n",
        "!apt install libtinyxml-dev libeigen3-dev libxi-dev libxmu-dev freeglut3-dev libassimp-dev libpython3-dev python3-tk python3-numpy virtualenv ipython3 cmake-curses-gui > /dev/null"
      ],
      "execution_count": 1,
      "outputs": [
        {
          "output_type": "stream",
          "text": [
            "\n",
            "WARNING: apt does not have a stable CLI interface. Use with caution in scripts.\n",
            "\n"
          ],
          "name": "stdout"
        }
      ]
    },
    {
      "cell_type": "code",
      "metadata": {
        "id": "_MJCS1dILuOE",
        "colab_type": "code",
        "colab": {
          "base_uri": "https://localhost:8080/",
          "height": 1035
        },
        "outputId": "45274110-8650-4ecf-f339-a8ddf8e23ed3"
      },
      "source": [
        "!apt remove freeglut3-dev \n",
        "!apt install freeglut3-dev"
      ],
      "execution_count": 36,
      "outputs": [
        {
          "output_type": "stream",
          "text": [
            "Reading package lists... Done\n",
            "Building dependency tree       \n",
            "Reading state information... Done\n",
            "Package 'freeglut3-dev' is not installed, so not removed\n",
            "The following packages were automatically installed and are no longer required:\n",
            "  coinor-libipopt-dev coinor-libipopt1v5 cuda-demo-suite-10-0 cuda-drivers\n",
            "  cuda-nsight-10-0 cuda-nsight-compute-10-0 cuda-nvvp-10-0 cuda-runtime-10-0\n",
            "  cuda-tools-10-0 cuda-visual-tools-10-0 dart6-data dart6-examples\n",
            "  dart6-tutorials default-jre dkms freeglut3 libbullet-dev libbullet2.87\n",
            "  libconsole-bridge-dev libconsole-bridge0.4 liblz4-dev libmumps-5.1.2\n",
            "  libmumps-dev libmumps-seq-5.1.2 libmumps-seq-dev libnlopt-dev libnlopt0\n",
            "  libnvidia-cfg1-418 libnvidia-common-410 libnvidia-common-418\n",
            "  libnvidia-decode-418 libnvidia-encode-418 libnvidia-fbc1-418\n",
            "  libnvidia-gl-418 libnvidia-ifr1-418 libode-dev libode6 libscalapack-mpi-dev\n",
            "  libscalapack-openmpi-dev libscalapack-openmpi2.0 libscotch-6.0 libtinyxml2-6\n",
            "  libtinyxml2-dev liburdfdom-dev liburdfdom-headers-dev liburdfdom-model\n",
            "  liburdfdom-model-state liburdfdom-sensor liburdfdom-world libxnvctrl0\n",
            "  nvidia-compute-utils-418 nvidia-dkms-418 nvidia-driver-418\n",
            "  nvidia-kernel-common-418 nvidia-kernel-source-418 nvidia-modprobe\n",
            "  nvidia-settings nvidia-utils-418 openjdk-11-jre policykit-1-gnome\n",
            "  python3-xkit screen-resolution-extra xserver-xorg-video-nvidia-418\n",
            "Use 'apt autoremove' to remove them.\n",
            "0 upgraded, 0 newly installed, 0 to remove and 59 not upgraded.\n",
            "Reading package lists... Done\n",
            "Building dependency tree       \n",
            "Reading state information... Done\n",
            "The following packages were automatically installed and are no longer required:\n",
            "  coinor-libipopt-dev coinor-libipopt1v5 cuda-demo-suite-10-0 cuda-drivers\n",
            "  cuda-nsight-10-0 cuda-nsight-compute-10-0 cuda-nvvp-10-0 cuda-runtime-10-0\n",
            "  cuda-tools-10-0 cuda-visual-tools-10-0 dart6-data dart6-examples\n",
            "  dart6-tutorials default-jre dkms libbullet-dev libbullet2.87\n",
            "  libconsole-bridge-dev libconsole-bridge0.4 liblz4-dev libmumps-5.1.2\n",
            "  libmumps-dev libmumps-seq-5.1.2 libmumps-seq-dev libnlopt-dev libnlopt0\n",
            "  libnvidia-cfg1-418 libnvidia-common-410 libnvidia-common-418\n",
            "  libnvidia-decode-418 libnvidia-encode-418 libnvidia-fbc1-418\n",
            "  libnvidia-gl-418 libnvidia-ifr1-418 libode-dev libode6 libscalapack-mpi-dev\n",
            "  libscalapack-openmpi-dev libscalapack-openmpi2.0 libscotch-6.0 libtinyxml2-6\n",
            "  libtinyxml2-dev liburdfdom-dev liburdfdom-headers-dev liburdfdom-model\n",
            "  liburdfdom-model-state liburdfdom-sensor liburdfdom-world libxnvctrl0\n",
            "  nvidia-compute-utils-418 nvidia-dkms-418 nvidia-driver-418\n",
            "  nvidia-kernel-common-418 nvidia-kernel-source-418 nvidia-modprobe\n",
            "  nvidia-settings nvidia-utils-418 openjdk-11-jre policykit-1-gnome\n",
            "  python3-xkit screen-resolution-extra xserver-xorg-video-nvidia-418\n",
            "Use 'apt autoremove' to remove them.\n",
            "The following NEW packages will be installed:\n",
            "  freeglut3-dev\n",
            "0 upgraded, 1 newly installed, 0 to remove and 59 not upgraded.\n",
            "Need to get 124 kB of archives.\n",
            "After this operation, 761 kB of additional disk space will be used.\n",
            "Get:1 http://archive.ubuntu.com/ubuntu bionic/universe amd64 freeglut3-dev amd64 2.8.1-3 [124 kB]\n",
            "Fetched 124 kB in 1s (86.7 kB/s)\n",
            "Selecting previously unselected package freeglut3-dev:amd64.\n",
            "(Reading database ... 134994 files and directories currently installed.)\n",
            "Preparing to unpack .../freeglut3-dev_2.8.1-3_amd64.deb ...\n",
            "Unpacking freeglut3-dev:amd64 (2.8.1-3) ...\n",
            "Setting up freeglut3-dev:amd64 (2.8.1-3) ...\n"
          ],
          "name": "stdout"
        }
      ]
    },
    {
      "cell_type": "code",
      "metadata": {
        "id": "qHoQ_Cuqu3wg",
        "colab_type": "code",
        "colab": {
          "base_uri": "https://localhost:8080/",
          "height": 765
        },
        "outputId": "c6978bb9-0d9d-4d1d-cf11-87d9fc1e44aa"
      },
      "source": [
        "#Install Boost\n",
        "!wget https://dl.bintray.com/boostorg/release/1.66.0/source/boost_1_66_0.tar.bz2\n",
        "!tar jxf boost_1_66_0.tar.bz2 > /dev/null\n",
        "%cd boost_1_66_0\n",
        "!./bootstrap.sh --with-python=python3\n",
        "!./b2 --with-python --with-filesystem --with-system --with-regex install > /dev/null\n",
        "!echo 'done'"
      ],
      "execution_count": 3,
      "outputs": [
        {
          "output_type": "stream",
          "text": [
            "--2019-05-06 06:54:33--  https://dl.bintray.com/boostorg/release/1.66.0/source/boost_1_66_0.tar.bz2\n",
            "Resolving dl.bintray.com (dl.bintray.com)... 52.37.112.198, 52.33.29.192\n",
            "Connecting to dl.bintray.com (dl.bintray.com)|52.37.112.198|:443... connected.\n",
            "HTTP request sent, awaiting response... 302 \n",
            "Location: https://d29vzk4ow07wi7.cloudfront.net/5721818253e6a0989583192f96782c4a98eb6204965316df9f5ad75819225ca9?response-content-disposition=attachment%3Bfilename%3D%22boost_1_66_0.tar.bz2%22&Policy=eyJTdGF0ZW1lbnQiOiBbeyJSZXNvdXJjZSI6Imh0dHAqOi8vZDI5dnprNG93MDd3aTcuY2xvdWRmcm9udC5uZXQvNTcyMTgxODI1M2U2YTA5ODk1ODMxOTJmOTY3ODJjNGE5OGViNjIwNDk2NTMxNmRmOWY1YWQ3NTgxOTIyNWNhOT9yZXNwb25zZS1jb250ZW50LWRpc3Bvc2l0aW9uPWF0dGFjaG1lbnQlM0JmaWxlbmFtZSUzRCUyMmJvb3N0XzFfNjZfMC50YXIuYnoyJTIyIiwiQ29uZGl0aW9uIjp7IkRhdGVMZXNzVGhhbiI6eyJBV1M6RXBvY2hUaW1lIjoxNTU3MTI2MzkzfSwiSXBBZGRyZXNzIjp7IkFXUzpTb3VyY2VJcCI6IjAuMC4wLjAvMCJ9fX1dfQ__&Signature=QbvculYpnhn8BKyVwlxbNROH6TjI5yJz-yaKgmWVwoOiliVdcxLxClEul-3K9WktXFRofmgbgYj1Nnayw0cKpNVJWABISywuhRVnUod0oKo2vAggMvAGEERS8AyytYI~hA5JaMGK2mQjA0cutO4-XbgeLkPddl8y3hTNkPNr7eJpsaKu6eaxzKtH6NLmeqjOgD090K9MejMQzm8CGoo05FOmGw3WMrVM~SKM0U8bHTP4wryOG~utpqPEUXTdea5sgJN-zc-xlmcgs7jgQwpM2dsgwTJl1BEmy8cMPNoavD~UGeixNTcAA3Tk92aV-ej6DSdedkUn5B9t22iRu52Z6g__&Key-Pair-Id=APKAIFKFWOMXM2UMTSFA [following]\n",
            "--2019-05-06 06:54:33--  https://d29vzk4ow07wi7.cloudfront.net/5721818253e6a0989583192f96782c4a98eb6204965316df9f5ad75819225ca9?response-content-disposition=attachment%3Bfilename%3D%22boost_1_66_0.tar.bz2%22&Policy=eyJTdGF0ZW1lbnQiOiBbeyJSZXNvdXJjZSI6Imh0dHAqOi8vZDI5dnprNG93MDd3aTcuY2xvdWRmcm9udC5uZXQvNTcyMTgxODI1M2U2YTA5ODk1ODMxOTJmOTY3ODJjNGE5OGViNjIwNDk2NTMxNmRmOWY1YWQ3NTgxOTIyNWNhOT9yZXNwb25zZS1jb250ZW50LWRpc3Bvc2l0aW9uPWF0dGFjaG1lbnQlM0JmaWxlbmFtZSUzRCUyMmJvb3N0XzFfNjZfMC50YXIuYnoyJTIyIiwiQ29uZGl0aW9uIjp7IkRhdGVMZXNzVGhhbiI6eyJBV1M6RXBvY2hUaW1lIjoxNTU3MTI2MzkzfSwiSXBBZGRyZXNzIjp7IkFXUzpTb3VyY2VJcCI6IjAuMC4wLjAvMCJ9fX1dfQ__&Signature=QbvculYpnhn8BKyVwlxbNROH6TjI5yJz-yaKgmWVwoOiliVdcxLxClEul-3K9WktXFRofmgbgYj1Nnayw0cKpNVJWABISywuhRVnUod0oKo2vAggMvAGEERS8AyytYI~hA5JaMGK2mQjA0cutO4-XbgeLkPddl8y3hTNkPNr7eJpsaKu6eaxzKtH6NLmeqjOgD090K9MejMQzm8CGoo05FOmGw3WMrVM~SKM0U8bHTP4wryOG~utpqPEUXTdea5sgJN-zc-xlmcgs7jgQwpM2dsgwTJl1BEmy8cMPNoavD~UGeixNTcAA3Tk92aV-ej6DSdedkUn5B9t22iRu52Z6g__&Key-Pair-Id=APKAIFKFWOMXM2UMTSFA\n",
            "Resolving d29vzk4ow07wi7.cloudfront.net (d29vzk4ow07wi7.cloudfront.net)... 13.33.151.4, 13.33.151.185, 13.33.151.155, ...\n",
            "Connecting to d29vzk4ow07wi7.cloudfront.net (d29vzk4ow07wi7.cloudfront.net)|13.33.151.4|:443... connected.\n",
            "HTTP request sent, awaiting response... 200 OK\n",
            "Length: 85995778 (82M) [application/x-bzip2]\n",
            "Saving to: ‘boost_1_66_0.tar.bz2’\n",
            "\n",
            "boost_1_66_0.tar.bz 100%[===================>]  82.01M  25.7MB/s    in 3.7s    \n",
            "\n",
            "2019-05-06 06:54:38 (22.0 MB/s) - ‘boost_1_66_0.tar.bz2’ saved [85995778/85995778]\n",
            "\n",
            "/content/MASS/boost_1_66_0\n",
            "Building Boost.Build engine with toolset gcc... tools/build/src/engine/bin.linuxx86_64/b2\n",
            "Detecting Python version... 3.6\n",
            "Detecting Python root... /usr\n",
            "Unicode/ICU support for Boost.Regex?... /usr\n",
            "Generating Boost.Build configuration in project-config.jam...\n",
            "\n",
            "Bootstrapping is done. To build, run:\n",
            "\n",
            "    ./b2\n",
            "    \n",
            "To adjust configuration, edit 'project-config.jam'.\n",
            "Further information:\n",
            "\n",
            "   - Command line help:\n",
            "     ./b2 --help\n",
            "     \n",
            "   - Getting started guide: \n",
            "     http://www.boost.org/more/getting_started/unix-variants.html\n",
            "     \n",
            "   - Boost.Build documentation:\n",
            "     http://www.boost.org/build/doc/html/index.html\n",
            "\n",
            "done\n"
          ],
          "name": "stdout"
        }
      ]
    },
    {
      "cell_type": "code",
      "metadata": {
        "id": "hNc5K2iJwmTt",
        "colab_type": "code",
        "colab": {}
      },
      "source": [
        "##Install Dart (allじゃないとmake通らないので注意)\n",
        "#!apt-add-repository --yes ppa:dartsim/ppa\n",
        "##!apt install libdart6-dev\n",
        "#!apt-get install libdart6-all-dev > /dev/null"
      ],
      "execution_count": 0,
      "outputs": []
    },
    {
      "cell_type": "code",
      "metadata": {
        "id": "srIOWNWREnfz",
        "colab_type": "code",
        "colab": {}
      },
      "source": [
        "#Install DART (aptの6.8はmakeできないので注意)\n",
        "#!apt remove libdart*\n",
        "!wget https://github.com/dartsim/dart/archive/v6.3.0.zip\n",
        "!unzip v6.3.0.zip > /dev/null\n",
        "%cd dart-6.3.0/"
      ],
      "execution_count": 0,
      "outputs": []
    },
    {
      "cell_type": "code",
      "metadata": {
        "id": "PH_IJjjDFLp1",
        "colab_type": "code",
        "colab": {}
      },
      "source": [
        "#dependencies\n",
        "!apt-get install build-essential cmake pkg-config git\n",
        "!apt-get install libeigen3-dev libassimp-dev libccd-dev libfcl-dev libboost-regex-dev libboost-system-dev\n",
        "!apt-get install libopenscenegraph-dev"
      ],
      "execution_count": 0,
      "outputs": []
    },
    {
      "cell_type": "code",
      "metadata": {
        "id": "Kc7R_qyJFZSo",
        "colab_type": "code",
        "colab": {}
      },
      "source": [
        "!mkdir build\n",
        "%cd build\n",
        "!cmake ..\n",
        "!make -j8"
      ],
      "execution_count": 0,
      "outputs": []
    },
    {
      "cell_type": "code",
      "metadata": {
        "id": "nAxbWPHAGC2M",
        "colab_type": "code",
        "colab": {}
      },
      "source": [
        "!make install"
      ],
      "execution_count": 0,
      "outputs": []
    },
    {
      "cell_type": "code",
      "metadata": {
        "id": "IVSoOZmG1smv",
        "colab_type": "code",
        "colab": {
          "base_uri": "https://localhost:8080/",
          "height": 963
        },
        "outputId": "730d4eea-bde6-486c-e8a2-744984dfde04"
      },
      "source": [
        "#CMake Error at /usr/local/lib/python2.7/dist-packages/cmake/data/share/cmake-3.12/Modules/FindPackageHandleStandardArgs.cmake:137 (message):\n",
        "#  Could NOT find DART (missing: collision-bullet)\n",
        "%cd /content/MASS\n",
        "!mkdir build\n",
        "%cd build\n",
        "!cmake .. \n",
        "!make -j8"
      ],
      "execution_count": 37,
      "outputs": [
        {
          "output_type": "stream",
          "text": [
            "/content/MASS\n",
            "mkdir: cannot create directory ‘build’: File exists\n",
            "/content/MASS/build\n",
            "-- Found DART: /usr/local/include  found components:  collision-bullet dart \n",
            "-- Found DART: /usr/local/include  found components:  gui collision-bullet dart \n",
            "CMake Warning (dev) at /usr/local/lib/python2.7/dist-packages/cmake/data/share/cmake-3.12/Modules/FindOpenGL.cmake:270 (message):\n",
            "  Policy CMP0072 is not set: FindOpenGL prefers GLVND by default when\n",
            "  available.  Run \"cmake --help-policy CMP0072\" for policy details.  Use the\n",
            "  cmake_policy command to set the policy and suppress this warning.\n",
            "\n",
            "  FindOpenGL found both a legacy GL library:\n",
            "\n",
            "    OPENGL_gl_LIBRARY: /usr/lib/x86_64-linux-gnu/libGL.so\n",
            "\n",
            "  and GLVND libraries for OpenGL and GLX:\n",
            "\n",
            "    OPENGL_opengl_LIBRARY: /usr/lib/x86_64-linux-gnu/libOpenGL.so\n",
            "    OPENGL_glx_LIBRARY: /usr/lib/x86_64-linux-gnu/libGLX.so\n",
            "\n",
            "  OpenGL_GL_PREFERENCE has not been set to \"GLVND\" or \"LEGACY\", so for\n",
            "  compatibility with CMake 3.10 and below the legacy GL library will be used.\n",
            "Call Stack (most recent call first):\n",
            "  render/CMakeLists.txt:8 (find_package)\n",
            "This warning is for project developers.  Use -Wno-dev to suppress it.\n",
            "\n",
            "-- Boost version: 1.66.0\n",
            "-- Found the following Boost libraries:\n",
            "--   filesystem\n",
            "--   python3\n",
            "--   numpy3\n",
            "--   system\n",
            "-- Boost version: 1.66.0\n",
            "-- Found the following Boost libraries:\n",
            "--   filesystem\n",
            "--   python3\n",
            "--   numpy3\n",
            "--   system\n",
            "-- Found DART: /usr/local/include  found components:  gui collision-bullet dart \n",
            "-- Configuring done\n",
            "-- Generating done\n",
            "-- Build files have been written to: /content/MASS/build\n",
            "[ 50%] Built target mss\n",
            "[ 58%] \u001b[32m\u001b[1mLinking CXX executable render\u001b[0m\n",
            "[ 83%] Built target pymss\n",
            "/usr/lib/gcc/x86_64-linux-gnu/7/../../../x86_64-linux-gnu/libGL.so: undefined reference to `_glapi_tls_Current'\n",
            "collect2: error: ld returned 1 exit status\n",
            "render/CMakeFiles/render.dir/build.make:127: recipe for target 'render/render' failed\n",
            "make[2]: *** [render/render] Error 1\n",
            "CMakeFiles/Makefile2:145: recipe for target 'render/CMakeFiles/render.dir/all' failed\n",
            "make[1]: *** [render/CMakeFiles/render.dir/all] Error 2\n",
            "Makefile:83: recipe for target 'all' failed\n",
            "make: *** [all] Error 2\n"
          ],
          "name": "stdout"
        }
      ]
    },
    {
      "cell_type": "code",
      "metadata": {
        "id": "ceOex55n9zcE",
        "colab_type": "code",
        "colab": {
          "base_uri": "https://localhost:8080/",
          "height": 35
        },
        "outputId": "23038324-ddbd-45da-b70f-3768cd981d30"
      },
      "source": [
        "!apt-file search libglfw | grep -v doc"
      ],
      "execution_count": 31,
      "outputs": [
        {
          "output_type": "stream",
          "text": [
            "/bin/bash: apt-file: command not found\n"
          ],
          "name": "stdout"
        }
      ]
    },
    {
      "cell_type": "code",
      "metadata": {
        "id": "0ijVT8LBJJKW",
        "colab_type": "code",
        "colab": {
          "base_uri": "https://localhost:8080/",
          "height": 381
        },
        "outputId": "efd272c1-7fc6-474f-f0bc-36f9f950463d"
      },
      "source": [
        "!ldd /usr/lib/x86_64-linux-gnu/libGL.so"
      ],
      "execution_count": 33,
      "outputs": [
        {
          "output_type": "stream",
          "text": [
            "\tlinux-vdso.so.1 (0x00007ffdc5fa6000)\n",
            "\t/usr/lib/x86_64-linux-gnu/libtcmalloc.so.4 (0x00007fcc135f4000)\n",
            "\tlibGLX.so.0 => /usr/lib64-nvidia/libGLX.so.0 (0x00007fcc133c4000)\n",
            "\tlibGLdispatch.so.0 => /usr/lib64-nvidia/libGLdispatch.so.0 (0x00007fcc130f1000)\n",
            "\tlibpthread.so.0 => /lib/x86_64-linux-gnu/libpthread.so.0 (0x00007fcc12ed2000)\n",
            "\tlibc.so.6 => /lib/x86_64-linux-gnu/libc.so.6 (0x00007fcc12ae1000)\n",
            "\tlibunwind.so.8 => /usr/lib/x86_64-linux-gnu/libunwind.so.8 (0x00007fcc128c6000)\n",
            "\tlibstdc++.so.6 => /usr/lib/x86_64-linux-gnu/libstdc++.so.6 (0x00007fcc1253d000)\n",
            "\tlibm.so.6 => /lib/x86_64-linux-gnu/libm.so.6 (0x00007fcc1219f000)\n",
            "\tlibdl.so.2 => /lib/x86_64-linux-gnu/libdl.so.2 (0x00007fcc11f9b000)\n",
            "\tlibX11.so.6 => /usr/lib/x86_64-linux-gnu/libX11.so.6 (0x00007fcc11c63000)\n",
            "\tlibXext.so.6 => /usr/lib/x86_64-linux-gnu/libXext.so.6 (0x00007fcc11a51000)\n",
            "\t/lib64/ld-linux-x86-64.so.2 (0x00007fcc13af0000)\n",
            "\tliblzma.so.5 => /lib/x86_64-linux-gnu/liblzma.so.5 (0x00007fcc1182b000)\n",
            "\tlibgcc_s.so.1 => /lib/x86_64-linux-gnu/libgcc_s.so.1 (0x00007fcc11613000)\n",
            "\tlibxcb.so.1 => /usr/lib/x86_64-linux-gnu/libxcb.so.1 (0x00007fcc113eb000)\n",
            "\tlibXau.so.6 => /usr/lib/x86_64-linux-gnu/libXau.so.6 (0x00007fcc111e7000)\n",
            "\tlibXdmcp.so.6 => /usr/lib/x86_64-linux-gnu/libXdmcp.so.6 (0x00007fcc10fe1000)\n",
            "\tlibbsd.so.0 => /lib/x86_64-linux-gnu/libbsd.so.0 (0x00007fcc10dcc000)\n",
            "\tlibrt.so.1 => /lib/x86_64-linux-gnu/librt.so.1 (0x00007fcc10bc4000)\n"
          ],
          "name": "stdout"
        }
      ]
    },
    {
      "cell_type": "code",
      "metadata": {
        "id": "8IlJndjzJ4i9",
        "colab_type": "code",
        "colab": {
          "base_uri": "https://localhost:8080/",
          "height": 35
        },
        "outputId": "b53151a4-5c3c-408e-f1d0-bca20346d506"
      },
      "source": [
        "!dpkg -S /usr/lib/x86_64-linux-gnu/libGL.so"
      ],
      "execution_count": 39,
      "outputs": [
        {
          "output_type": "stream",
          "text": [
            "libglvnd-dev:amd64: /usr/lib/x86_64-linux-gnu/libGL.so\n"
          ],
          "name": "stdout"
        }
      ]
    },
    {
      "cell_type": "code",
      "metadata": {
        "id": "AMyAxXVzMOj6",
        "colab_type": "code",
        "colab": {
          "base_uri": "https://localhost:8080/",
          "height": 35
        },
        "outputId": "270ab784-7937-4780-cc9e-69f3908a6ce4"
      },
      "source": [
        "%cd /usr/lib/x86_64-linux-gnu"
      ],
      "execution_count": 41,
      "outputs": [
        {
          "output_type": "stream",
          "text": [
            "/usr/lib/x86_64-linux-gnu\n"
          ],
          "name": "stdout"
        }
      ]
    },
    {
      "cell_type": "code",
      "metadata": {
        "id": "ESwvvKBaa1ot",
        "colab_type": "code",
        "colab": {
          "base_uri": "https://localhost:8080/",
          "height": 35
        },
        "outputId": "5ef874c2-b1b3-475f-c1d0-8835b0091b18"
      },
      "source": [
        "!ls -l libGL.so"
      ],
      "execution_count": 42,
      "outputs": [
        {
          "output_type": "stream",
          "text": [
            "lrwxrwxrwx 1 root root 14 Aug 15  2018 libGL.so -> libGL.so.1.0.0\n"
          ],
          "name": "stdout"
        }
      ]
    },
    {
      "cell_type": "code",
      "metadata": {
        "id": "hAMgBkvza5ye",
        "colab_type": "code",
        "colab": {
          "base_uri": "https://localhost:8080/",
          "height": 35
        },
        "outputId": "4089bb6d-1798-40cf-f96c-7775eea4668c"
      },
      "source": [
        "!ls -l libGL.so.1.0.0"
      ],
      "execution_count": 43,
      "outputs": [
        {
          "output_type": "stream",
          "text": [
            "-rw-r--r-- 1 root root 567624 Aug 15  2018 libGL.so.1.0.0\n"
          ],
          "name": "stdout"
        }
      ]
    },
    {
      "cell_type": "code",
      "metadata": {
        "id": "FeXjprRza9eG",
        "colab_type": "code",
        "colab": {
          "base_uri": "https://localhost:8080/",
          "height": 35
        },
        "outputId": "6e6af7f6-b168-4876-ca16-ee0055062aae"
      },
      "source": [
        "!readlink -f /usr/lib/x86_64-linux-gnu/libGL.so"
      ],
      "execution_count": 44,
      "outputs": [
        {
          "output_type": "stream",
          "text": [
            "/usr/lib/x86_64-linux-gnu/libGL.so.1.0.0\n"
          ],
          "name": "stdout"
        }
      ]
    },
    {
      "cell_type": "code",
      "metadata": {
        "id": "18m4Gi7rb7ax",
        "colab_type": "code",
        "colab": {}
      },
      "source": [
        ""
      ],
      "execution_count": 0,
      "outputs": []
    }
  ]
}