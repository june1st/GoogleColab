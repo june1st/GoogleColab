{
  "nbformat": 4,
  "nbformat_minor": 0,
  "metadata": {
    "colab": {
      "name": "RNN.ipynb",
      "version": "0.3.2",
      "provenance": [],
      "include_colab_link": true
    },
    "kernelspec": {
      "name": "python3",
      "display_name": "Python 3"
    },
    "accelerator": "GPU"
  },
  "cells": [
    {
      "cell_type": "markdown",
      "metadata": {
        "id": "view-in-github",
        "colab_type": "text"
      },
      "source": [
        "<a href=\"https://colab.research.google.com/github/june1st/GoogleColab/blob/master/RNNtest_n.ipynb\" target=\"_parent\"><img src=\"https://colab.research.google.com/assets/colab-badge.svg\" alt=\"Open In Colab\"/></a>"
      ]
    },
    {
      "metadata": {
        "id": "m4jQByHGgKGL",
        "colab_type": "code",
        "colab": {}
      },
      "cell_type": "code",
      "source": [
        "import numpy as np\n",
        "from matplotlib import pyplot as plt"
      ],
      "execution_count": 0,
      "outputs": []
    },
    {
      "metadata": {
        "id": "7utwCq9ZgKGS",
        "colab_type": "text"
      },
      "cell_type": "markdown",
      "source": [
        "# データの用意\n",
        "\n",
        "IMDb(※)のデータセットを使用します。  \n",
        "ここで使うのは映画のレビュー文章に、そのレビューが\"良い\"評価をしているのか\"悪い\"評価をしているのかのラベルをつけたデータセットです。\n",
        "\n",
        "※ IMDb : https://www.imdb.com/interfaces/"
      ]
    },
    {
      "metadata": {
        "id": "PzvXSLeigKGS",
        "colab_type": "text"
      },
      "cell_type": "markdown",
      "source": [
        "次のコードによってダウンロードできます。  \n",
        "ダウンロードされたデータ自体は`~/.keras/datasets/imdb.npz`に保存されます。`~`はホームディレクトリを表しています。"
      ]
    },
    {
      "metadata": {
        "id": "59eaXq1KgKGT",
        "colab_type": "code",
        "colab": {
          "base_uri": "https://localhost:8080/",
          "height": 68
        },
        "outputId": "5a6e8111-0db1-4889-8753-bd68eca7ec5d"
      },
      "cell_type": "code",
      "source": [
        "from keras.datasets import imdb\n",
        "train, test = imdb.load_data()\n",
        "\n",
        "#　エラーになる場合は補足資料を参照"
      ],
      "execution_count": 2,
      "outputs": [
        {
          "output_type": "stream",
          "text": [
            "Using TensorFlow backend.\n"
          ],
          "name": "stderr"
        },
        {
          "output_type": "stream",
          "text": [
            "Downloading data from https://s3.amazonaws.com/text-datasets/imdb.npz\n",
            "17465344/17464789 [==============================] - 3s 0us/step\n"
          ],
          "name": "stdout"
        }
      ]
    },
    {
      "metadata": {
        "id": "MkG66OzngKGX",
        "colab_type": "code",
        "colab": {
          "base_uri": "https://localhost:8080/",
          "height": 51
        },
        "outputId": "df02a070-b154-4331-c403-90b4bea01fa9"
      },
      "cell_type": "code",
      "source": [
        "# 後に使用する辞書データの読み込み（必須ではないです）\n",
        "words = imdb.get_word_index()"
      ],
      "execution_count": 3,
      "outputs": [
        {
          "output_type": "stream",
          "text": [
            "Downloading data from https://s3.amazonaws.com/text-datasets/imdb_word_index.json\n",
            "1646592/1641221 [==============================] - 1s 1us/step\n"
          ],
          "name": "stdout"
        }
      ]
    },
    {
      "metadata": {
        "id": "izNWpQBRgKGZ",
        "colab_type": "text"
      },
      "cell_type": "markdown",
      "source": [
        "## データの内容"
      ]
    },
    {
      "metadata": {
        "id": "YZSVKcVNgKGa",
        "colab_type": "text"
      },
      "cell_type": "markdown",
      "source": [
        "### データ数\n",
        "train : 25000データ  \n",
        "test : 25000データ"
      ]
    },
    {
      "metadata": {
        "scrolled": true,
        "id": "46ySiQuOgKGb",
        "colab_type": "code",
        "colab": {
          "base_uri": "https://localhost:8080/",
          "height": 51
        },
        "outputId": "2f0f189b-652f-4992-ab4c-d003c3eb3199"
      },
      "cell_type": "code",
      "source": [
        "print(train[0].shape)\n",
        "print(test[0].shape)"
      ],
      "execution_count": 4,
      "outputs": [
        {
          "output_type": "stream",
          "text": [
            "(25000,)\n",
            "(25000,)\n"
          ],
          "name": "stdout"
        }
      ]
    },
    {
      "metadata": {
        "id": "GwApc-kkgKGe",
        "colab_type": "text"
      },
      "cell_type": "markdown",
      "source": [
        "### データの形式\n",
        "`train` や `test` は `(x, y)` という形になっています。（タプルと呼ばれる型です。）  \n",
        "そして`x`や`y`は各データが入った配列になっています。(numpyのarray型です。)\n",
        "\n",
        "`x[i]` : `i`番目の文章データ(前処理済み)\n",
        "- 文章を単語ごとに区切り、単語の出現頻度順位 ( 3 ~ ) に置き換えたリストです。  \n",
        "- `i`によってリストの長さは異なります。\n",
        "\n",
        "`y[i]` : `i`番目のデータのラベル ( 1 or 0 )\n",
        "- 1: \"良い\"評価\n",
        "- 0: \"悪い\"評価"
      ]
    },
    {
      "metadata": {
        "id": "mcVMJ4EQgKGf",
        "colab_type": "code",
        "colab": {
          "base_uri": "https://localhost:8080/",
          "height": 71
        },
        "outputId": "188f40d5-f500-474c-b632-62ab64463db1"
      },
      "cell_type": "code",
      "source": [
        "print(len(train[0][0]))\n",
        "print(train[0][0])"
      ],
      "execution_count": 5,
      "outputs": [
        {
          "output_type": "stream",
          "text": [
            "218\n",
            "[1, 14, 22, 16, 43, 530, 973, 1622, 1385, 65, 458, 4468, 66, 3941, 4, 173, 36, 256, 5, 25, 100, 43, 838, 112, 50, 670, 22665, 9, 35, 480, 284, 5, 150, 4, 172, 112, 167, 21631, 336, 385, 39, 4, 172, 4536, 1111, 17, 546, 38, 13, 447, 4, 192, 50, 16, 6, 147, 2025, 19, 14, 22, 4, 1920, 4613, 469, 4, 22, 71, 87, 12, 16, 43, 530, 38, 76, 15, 13, 1247, 4, 22, 17, 515, 17, 12, 16, 626, 18, 19193, 5, 62, 386, 12, 8, 316, 8, 106, 5, 4, 2223, 5244, 16, 480, 66, 3785, 33, 4, 130, 12, 16, 38, 619, 5, 25, 124, 51, 36, 135, 48, 25, 1415, 33, 6, 22, 12, 215, 28, 77, 52, 5, 14, 407, 16, 82, 10311, 8, 4, 107, 117, 5952, 15, 256, 4, 31050, 7, 3766, 5, 723, 36, 71, 43, 530, 476, 26, 400, 317, 46, 7, 4, 12118, 1029, 13, 104, 88, 4, 381, 15, 297, 98, 32, 2071, 56, 26, 141, 6, 194, 7486, 18, 4, 226, 22, 21, 134, 476, 26, 480, 5, 144, 30, 5535, 18, 51, 36, 28, 224, 92, 25, 104, 4, 226, 65, 16, 38, 1334, 88, 12, 16, 283, 5, 16, 4472, 113, 103, 32, 15, 16, 5345, 19, 178, 32]\n"
          ],
          "name": "stdout"
        }
      ]
    },
    {
      "metadata": {
        "scrolled": true,
        "id": "ZO5myMzsgKGi",
        "colab_type": "code",
        "colab": {
          "base_uri": "https://localhost:8080/",
          "height": 34
        },
        "outputId": "0d0fa565-aba2-4d44-b446-1ea3111e4440"
      },
      "cell_type": "code",
      "source": [
        "print(train[1][0])"
      ],
      "execution_count": 6,
      "outputs": [
        {
          "output_type": "stream",
          "text": [
            "1\n"
          ],
          "name": "stdout"
        }
      ]
    },
    {
      "metadata": {
        "id": "YmNLYOwfgKGn",
        "colab_type": "code",
        "colab": {
          "base_uri": "https://localhost:8080/",
          "height": 71
        },
        "outputId": "2bc4a1f7-f235-42e9-a03a-490c64a75643"
      },
      "cell_type": "code",
      "source": [
        "print(len(train[0][1]))\n",
        "print(train[0][1])"
      ],
      "execution_count": 7,
      "outputs": [
        {
          "output_type": "stream",
          "text": [
            "189\n",
            "[1, 194, 1153, 194, 8255, 78, 228, 5, 6, 1463, 4369, 5012, 134, 26, 4, 715, 8, 118, 1634, 14, 394, 20, 13, 119, 954, 189, 102, 5, 207, 110, 3103, 21, 14, 69, 188, 8, 30, 23, 7, 4, 249, 126, 93, 4, 114, 9, 2300, 1523, 5, 647, 4, 116, 9, 35, 8163, 4, 229, 9, 340, 1322, 4, 118, 9, 4, 130, 4901, 19, 4, 1002, 5, 89, 29, 952, 46, 37, 4, 455, 9, 45, 43, 38, 1543, 1905, 398, 4, 1649, 26, 6853, 5, 163, 11, 3215, 10156, 4, 1153, 9, 194, 775, 7, 8255, 11596, 349, 2637, 148, 605, 15358, 8003, 15, 123, 125, 68, 23141, 6853, 15, 349, 165, 4362, 98, 5, 4, 228, 9, 43, 36893, 1157, 15, 299, 120, 5, 120, 174, 11, 220, 175, 136, 50, 9, 4373, 228, 8255, 5, 25249, 656, 245, 2350, 5, 4, 9837, 131, 152, 491, 18, 46151, 32, 7464, 1212, 14, 9, 6, 371, 78, 22, 625, 64, 1382, 9, 8, 168, 145, 23, 4, 1690, 15, 16, 4, 1355, 5, 28, 6, 52, 154, 462, 33, 89, 78, 285, 16, 145, 95]\n"
          ],
          "name": "stdout"
        }
      ]
    },
    {
      "metadata": {
        "id": "Ii1jQ4uMgKGq",
        "colab_type": "text"
      },
      "cell_type": "markdown",
      "source": [
        "### 具体的な文章"
      ]
    },
    {
      "metadata": {
        "id": "yQ_AOG_NgKGr",
        "colab_type": "code",
        "colab": {}
      },
      "cell_type": "code",
      "source": [
        "# \"単語　→　順位\"　という辞書から \"順位　→　単語\"　という辞書を作る\n",
        "words_i = dict([(v, k) for k,v in words.items()])"
      ],
      "execution_count": 0,
      "outputs": []
    },
    {
      "metadata": {
        "id": "m4xpYAJsgKGv",
        "colab_type": "code",
        "colab": {
          "base_uri": "https://localhost:8080/",
          "height": 34
        },
        "outputId": "646b512f-f4b9-461e-9533-6c7ced8ecd46"
      },
      "cell_type": "code",
      "source": [
        "words_i[4]"
      ],
      "execution_count": 9,
      "outputs": [
        {
          "output_type": "execute_result",
          "data": {
            "text/plain": [
              "'of'"
            ]
          },
          "metadata": {
            "tags": []
          },
          "execution_count": 9
        }
      ]
    },
    {
      "metadata": {
        "id": "xame8p2VgKGy",
        "colab_type": "code",
        "colab": {
          "base_uri": "https://localhost:8080/",
          "height": 54
        },
        "outputId": "0f4c8454-cd06-4a6a-dfb0-b4acb8c7fa0b"
      },
      "cell_type": "code",
      "source": [
        "s = ''\n",
        "for idx in train[0][0]:\n",
        "    s += words_i.get(idx - 3, '?') + ' '\n",
        "s"
      ],
      "execution_count": 10,
      "outputs": [
        {
          "output_type": "execute_result",
          "data": {
            "text/plain": [
              "\"? this film was just brilliant casting location scenery story direction everyone's really suited the part they played and you could just imagine being there robert redford's is an amazing actor and now the same being director norman's father came from the same scottish island as myself so i loved the fact there was a real connection with this film the witty remarks throughout the film were great it was just brilliant so much that i bought the film as soon as it was released for retail and would recommend it to everyone to watch and the fly fishing was amazing really cried at the end it was so sad and you know what they say if you cry at a film it must have been good and this definitely was also congratulations to the two little boy's that played the part's of norman and paul they were just brilliant children are often left out of the praising list i think because the stars that play them all grown up are such a big profile for the whole film but these children are amazing and should be praised for what they have done don't you think the whole story was so lovely because it was true and was someone's life after all that was shared with us all \""
            ]
          },
          "metadata": {
            "tags": []
          },
          "execution_count": 10
        }
      ]
    },
    {
      "metadata": {
        "id": "ekh71l7igKG2",
        "colab_type": "code",
        "colab": {}
      },
      "cell_type": "code",
      "source": [
        ""
      ],
      "execution_count": 0,
      "outputs": []
    },
    {
      "metadata": {
        "scrolled": true,
        "id": "pKfKUJMTgKG4",
        "colab_type": "code",
        "colab": {
          "base_uri": "https://localhost:8080/",
          "height": 54
        },
        "outputId": "78dccb4b-f776-4263-c2eb-335dd8a75ad0"
      },
      "cell_type": "code",
      "source": [
        "s = ''\n",
        "for idx in train[0][1]:\n",
        "    s += words_i.get(idx - 3, '?') + ' '\n",
        "s"
      ],
      "execution_count": 11,
      "outputs": [
        {
          "output_type": "execute_result",
          "data": {
            "text/plain": [
              "\"? big hair big boobs bad music and a giant safety pin these are the words to best describe this terrible movie i love cheesy horror movies and i've seen hundreds but this had got to be on of the worst ever made the plot is paper thin and ridiculous the acting is an abomination the script is completely laughable the best is the end showdown with the cop and how he worked out who the killer is it's just so damn terribly written the clothes are sickening and funny in equal measures the hair is big lots of boobs bounce men wear those cut tee shirts that show off their stomachs sickening that men actually wore them and the music is just synthesiser trash that plays over and over again in almost every scene there is trashy music boobs and paramedics taking away bodies and the gym still doesn't close for bereavement all joking aside this is a truly bad film whose only charm is to look back on the disaster that was the 80's and have a good old laugh at how bad everything was back then \""
            ]
          },
          "metadata": {
            "tags": []
          },
          "execution_count": 11
        }
      ]
    },
    {
      "metadata": {
        "id": "iJayYNYNgKG7",
        "colab_type": "code",
        "colab": {
          "base_uri": "https://localhost:8080/",
          "height": 34
        },
        "outputId": "a87882b9-8fb0-4569-bdc3-59776d93f9a6"
      },
      "cell_type": "code",
      "source": [
        "train[1][1]"
      ],
      "execution_count": 12,
      "outputs": [
        {
          "output_type": "execute_result",
          "data": {
            "text/plain": [
              "0"
            ]
          },
          "metadata": {
            "tags": []
          },
          "execution_count": 12
        }
      ]
    },
    {
      "metadata": {
        "id": "EslVo-PVgKHA",
        "colab_type": "code",
        "colab": {
          "base_uri": "https://localhost:8080/",
          "height": 54
        },
        "outputId": "7978ad61-cc00-4125-f68d-babd02c042cb"
      },
      "cell_type": "code",
      "source": [
        "s = ''\n",
        "for idx in train[0][0]:\n",
        "    s += words_i.get(idx - 3, '?') + ' '\n",
        "s"
      ],
      "execution_count": 13,
      "outputs": [
        {
          "output_type": "execute_result",
          "data": {
            "text/plain": [
              "\"? this film was just brilliant casting location scenery story direction everyone's really suited the part they played and you could just imagine being there robert redford's is an amazing actor and now the same being director norman's father came from the same scottish island as myself so i loved the fact there was a real connection with this film the witty remarks throughout the film were great it was just brilliant so much that i bought the film as soon as it was released for retail and would recommend it to everyone to watch and the fly fishing was amazing really cried at the end it was so sad and you know what they say if you cry at a film it must have been good and this definitely was also congratulations to the two little boy's that played the part's of norman and paul they were just brilliant children are often left out of the praising list i think because the stars that play them all grown up are such a big profile for the whole film but these children are amazing and should be praised for what they have done don't you think the whole story was so lovely because it was true and was someone's life after all that was shared with us all \""
            ]
          },
          "metadata": {
            "tags": []
          },
          "execution_count": 13
        }
      ]
    },
    {
      "metadata": {
        "id": "QKkCeGL2gKHC",
        "colab_type": "code",
        "colab": {
          "base_uri": "https://localhost:8080/",
          "height": 34
        },
        "outputId": "2e8950fa-a053-44f7-ca50-04db3236804e"
      },
      "cell_type": "code",
      "source": [
        "train[1][17934]"
      ],
      "execution_count": 14,
      "outputs": [
        {
          "output_type": "execute_result",
          "data": {
            "text/plain": [
              "1"
            ]
          },
          "metadata": {
            "tags": []
          },
          "execution_count": 14
        }
      ]
    },
    {
      "metadata": {
        "scrolled": true,
        "id": "DV69mCffgKHF",
        "colab_type": "code",
        "colab": {
          "base_uri": "https://localhost:8080/",
          "height": 54
        },
        "outputId": "a9814dd2-34ab-49a4-b876-7e7d8c6b1d2a"
      },
      "cell_type": "code",
      "source": [
        "s = ''\n",
        "for idx in test[0][0]:\n",
        "    s += words_i.get(idx - 3, '?') + ' '\n",
        "s"
      ],
      "execution_count": 15,
      "outputs": [
        {
          "output_type": "execute_result",
          "data": {
            "text/plain": [
              "\"? please give this one a miss br br kristy swanson and the rest of the cast rendered terrible performances the show is flat flat flat br br i don't know how michael madison could have allowed this one on his plate he almost seemed to know this wasn't going to work out and his performance was quite lacklustre so all you madison fans give this a miss \""
            ]
          },
          "metadata": {
            "tags": []
          },
          "execution_count": 15
        }
      ]
    },
    {
      "metadata": {
        "id": "SGRrD3kzgKHK",
        "colab_type": "code",
        "colab": {
          "base_uri": "https://localhost:8080/",
          "height": 34
        },
        "outputId": "1ae8fadb-f78d-4542-826f-0b10ba196247"
      },
      "cell_type": "code",
      "source": [
        "test[1][0]"
      ],
      "execution_count": 16,
      "outputs": [
        {
          "output_type": "execute_result",
          "data": {
            "text/plain": [
              "0"
            ]
          },
          "metadata": {
            "tags": []
          },
          "execution_count": 16
        }
      ]
    },
    {
      "metadata": {
        "scrolled": true,
        "id": "tQIqmLdcgKHM",
        "colab_type": "code",
        "colab": {
          "base_uri": "https://localhost:8080/",
          "height": 54
        },
        "outputId": "a1096b4f-c4b0-487f-9939-c2e954f3714d"
      },
      "cell_type": "code",
      "source": [
        "s = ''\n",
        "for idx in test[0][1]:\n",
        "    s += words_i.get(idx -3, '?') + ' '\n",
        "s"
      ],
      "execution_count": 17,
      "outputs": [
        {
          "output_type": "execute_result",
          "data": {
            "text/plain": [
              "\"? this film requires a lot of patience because it focuses on mood and character development the plot is very simple and many of the scenes take place on the same set in frances austen's the sandy dennis character apartment but the film builds to a disturbing climax br br the characters create an atmosphere rife with sexual tension and psychological trickery it's very interesting that robert altman directed this considering the style and structure of his other films still the trademark altman audio style is evident here and there i think what really makes this film work is the brilliant performance by sandy dennis it's definitely one of her darker characters but she plays it so perfectly and convincingly that it's scary michael burns does a good job as the mute young man regular altman player michael murphy has a small part the solemn moody set fits the content of the story very well in short this movie is a powerful study of loneliness sexual repression and desperation be patient soak up the atmosphere and pay attention to the wonderfully written script br br i praise robert altman this is one of his many films that deals with unconventional fascinating subject matter this film is disturbing but it's sincere and it's sure to elicit a strong emotional response from the viewer if you want to see an unusual film some might even say bizarre this is worth the time br br unfortunately it's very difficult to find in video stores you may have to buy it off the internet \""
            ]
          },
          "metadata": {
            "tags": []
          },
          "execution_count": 17
        }
      ]
    },
    {
      "metadata": {
        "id": "er3pAIqdgKHQ",
        "colab_type": "code",
        "colab": {
          "base_uri": "https://localhost:8080/",
          "height": 34
        },
        "outputId": "b2e53dee-1683-403a-c333-0180f241f78c"
      },
      "cell_type": "code",
      "source": [
        "test[1][1]"
      ],
      "execution_count": 18,
      "outputs": [
        {
          "output_type": "execute_result",
          "data": {
            "text/plain": [
              "1"
            ]
          },
          "metadata": {
            "tags": []
          },
          "execution_count": 18
        }
      ]
    },
    {
      "metadata": {
        "id": "8cPkSjF8gKHT",
        "colab_type": "code",
        "colab": {}
      },
      "cell_type": "code",
      "source": [
        ""
      ],
      "execution_count": 0,
      "outputs": []
    },
    {
      "metadata": {
        "id": "QHZZ6vpcgKHX",
        "colab_type": "text"
      },
      "cell_type": "markdown",
      "source": [
        "#### インデックスの最大値"
      ]
    },
    {
      "metadata": {
        "id": "SkK_F6-YgKHX",
        "colab_type": "code",
        "colab": {
          "base_uri": "https://localhost:8080/",
          "height": 34
        },
        "outputId": "8c982e59-4f76-4ba1-dc33-b9b1302ebd76"
      },
      "cell_type": "code",
      "source": [
        "max_index = max([max(x) for x in train[0]] + [max(x) for x in test[0]])\n",
        "max_index"
      ],
      "execution_count": 19,
      "outputs": [
        {
          "output_type": "execute_result",
          "data": {
            "text/plain": [
              "88586"
            ]
          },
          "metadata": {
            "tags": []
          },
          "execution_count": 19
        }
      ]
    },
    {
      "metadata": {
        "id": "aHcJ0-xygKHa",
        "colab_type": "text"
      },
      "cell_type": "markdown",
      "source": [
        "### 各単語の出現回数"
      ]
    },
    {
      "metadata": {
        "id": "awdiDVL5gKHb",
        "colab_type": "code",
        "colab": {
          "base_uri": "https://localhost:8080/",
          "height": 51
        },
        "outputId": "79899278-a58b-4119-fd15-45e8a794da15"
      },
      "cell_type": "code",
      "source": [
        "idx = 88584\n",
        "word = words_i[idx]\n",
        "print('word : ', word)\n",
        "wsum = 0\n",
        "for x in train[0] + test[0]:\n",
        "    for w in x:\n",
        "        if w == idx + 3:\n",
        "            wsum = wsum + 1\n",
        "print(wsum, ' times')"
      ],
      "execution_count": 20,
      "outputs": [
        {
          "output_type": "stream",
          "text": [
            "word :  'l'\n",
            "0  times\n"
          ],
          "name": "stdout"
        }
      ]
    },
    {
      "metadata": {
        "id": "Y-sgeS2RgKHd",
        "colab_type": "text"
      },
      "cell_type": "markdown",
      "source": [
        "### 文章の長さ\n",
        "\n",
        "何度か使うので長さを要素とするarrayを作っておきます。"
      ]
    },
    {
      "metadata": {
        "id": "oLsetzffgKHd",
        "colab_type": "code",
        "colab": {}
      },
      "cell_type": "code",
      "source": [
        "x_train_len = np.array([len(x) for x in train[0]])\n",
        "x_test_len = np.array([len(x) for x in test[0]])"
      ],
      "execution_count": 0,
      "outputs": []
    },
    {
      "metadata": {
        "id": "yMO91YOUgKHg",
        "colab_type": "text"
      },
      "cell_type": "markdown",
      "source": [
        "#### 最大の長さを見てみると..."
      ]
    },
    {
      "metadata": {
        "id": "e6RhKtHJgKHh",
        "colab_type": "code",
        "colab": {
          "base_uri": "https://localhost:8080/",
          "height": 51
        },
        "outputId": "fea516ca-a1da-472f-af42-44c481b963fb"
      },
      "cell_type": "code",
      "source": [
        "print(x_train_len.max())\n",
        "print(x_test_len.max())"
      ],
      "execution_count": 22,
      "outputs": [
        {
          "output_type": "stream",
          "text": [
            "2494\n",
            "2315\n"
          ],
          "name": "stdout"
        }
      ]
    },
    {
      "metadata": {
        "id": "uhuAEX9IgKHk",
        "colab_type": "text"
      },
      "cell_type": "markdown",
      "source": [
        "#### 念のため平均を計算"
      ]
    },
    {
      "metadata": {
        "id": "_OIaOEedgKHk",
        "colab_type": "code",
        "colab": {
          "base_uri": "https://localhost:8080/",
          "height": 51
        },
        "outputId": "e59f412c-0fab-465c-f506-e541eda4c99c"
      },
      "cell_type": "code",
      "source": [
        "print(x_train_len.mean())\n",
        "print(x_test_len.mean())"
      ],
      "execution_count": 23,
      "outputs": [
        {
          "output_type": "stream",
          "text": [
            "238.71364\n",
            "230.8042\n"
          ],
          "name": "stdout"
        }
      ]
    },
    {
      "metadata": {
        "id": "QOgUsc13gKHo",
        "colab_type": "text"
      },
      "cell_type": "markdown",
      "source": [
        "#### 分布を確認\n",
        "\n",
        "最大値はかなり外れた値であることが想像できるので、実際に分布を確認してみます。"
      ]
    },
    {
      "metadata": {
        "id": "RT3HG5FggKHp",
        "colab_type": "code",
        "colab": {
          "base_uri": "https://localhost:8080/",
          "height": 398
        },
        "outputId": "c7779e3e-e096-43b7-93b6-c2895f5a6f06"
      },
      "cell_type": "code",
      "source": [
        "# train\n",
        "plt.figure()\n",
        "plt.hist(x_train_len, bins=50)\n",
        "plt.xlim(xmin=0)\n",
        "plt.show()"
      ],
      "execution_count": 24,
      "outputs": [
        {
          "output_type": "stream",
          "text": [
            "/usr/local/lib/python3.6/dist-packages/matplotlib/axes/_base.py:3215: MatplotlibDeprecationWarning: \n",
            "The `xmin` argument was deprecated in Matplotlib 3.0 and will be removed in 3.2. Use `left` instead.\n",
            "  alternative='`left`', obj_type='argument')\n"
          ],
          "name": "stderr"
        },
        {
          "output_type": "display_data",
          "data": {
            "image/png": "[encoded data removed]",
            "text/plain": [
              "<Figure size 576x396 with 1 Axes>"
            ]
          },
          "metadata": {
            "tags": []
          }
        }
      ]
    },
    {
      "metadata": {
        "id": "h1fgUQLUgKHs",
        "colab_type": "code",
        "colab": {
          "base_uri": "https://localhost:8080/",
          "height": 402
        },
        "outputId": "be1b2b4b-70c8-4046-bab4-3b5695014cdf"
      },
      "cell_type": "code",
      "source": [
        "# train, 縦に拡大\n",
        "plt.figure()\n",
        "plt.hist(x_train_len, bins=50)\n",
        "plt.xlim(xmin=0)\n",
        "plt.ylim(0 ,10)  #  プロットの上下の表示域を指定\n",
        "plt.show()"
      ],
      "execution_count": 25,
      "outputs": [
        {
          "output_type": "stream",
          "text": [
            "/usr/local/lib/python3.6/dist-packages/matplotlib/axes/_base.py:3215: MatplotlibDeprecationWarning: \n",
            "The `xmin` argument was deprecated in Matplotlib 3.0 and will be removed in 3.2. Use `left` instead.\n",
            "  alternative='`left`', obj_type='argument')\n"
          ],
          "name": "stderr"
        },
        {
          "output_type": "display_data",
          "data": {
            "image/png": "[encoded data removed]",
            "text/plain": [
              "<Figure size 576x396 with 1 Axes>"
            ]
          },
          "metadata": {
            "tags": []
          }
        }
      ]
    },
    {
      "metadata": {
        "id": "pmd9dHsCgKHw",
        "colab_type": "code",
        "colab": {
          "base_uri": "https://localhost:8080/",
          "height": 398
        },
        "outputId": "de38332d-82c2-4b09-ba74-ade5a478a5ea"
      },
      "cell_type": "code",
      "source": [
        "# test\n",
        "plt.figure()\n",
        "plt.hist(x_test_len, bins=50)\n",
        "plt.xlim(xmin=0)\n",
        "plt.show()"
      ],
      "execution_count": 26,
      "outputs": [
        {
          "output_type": "stream",
          "text": [
            "/usr/local/lib/python3.6/dist-packages/matplotlib/axes/_base.py:3215: MatplotlibDeprecationWarning: \n",
            "The `xmin` argument was deprecated in Matplotlib 3.0 and will be removed in 3.2. Use `left` instead.\n",
            "  alternative='`left`', obj_type='argument')\n"
          ],
          "name": "stderr"
        },
        {
          "output_type": "display_data",
          "data": {
            "image/png": "[encoded data removed]",
            "text/plain": [
              "<Figure size 576x396 with 1 Axes>"
            ]
          },
          "metadata": {
            "tags": []
          }
        }
      ]
    },
    {
      "metadata": {
        "id": "RDWoHSV_gKHz",
        "colab_type": "code",
        "colab": {
          "base_uri": "https://localhost:8080/",
          "height": 402
        },
        "outputId": "5be37fbb-d2ad-4a9f-aa28-926a2dd4379a"
      },
      "cell_type": "code",
      "source": [
        "# test, 拡大\n",
        "plt.figure()\n",
        "plt.hist(x_test_len, bins=50)\n",
        "plt.xlim(xmin=0)\n",
        "plt.ylim(0,10)\n",
        "plt.show()"
      ],
      "execution_count": 27,
      "outputs": [
        {
          "output_type": "stream",
          "text": [
            "/usr/local/lib/python3.6/dist-packages/matplotlib/axes/_base.py:3215: MatplotlibDeprecationWarning: \n",
            "The `xmin` argument was deprecated in Matplotlib 3.0 and will be removed in 3.2. Use `left` instead.\n",
            "  alternative='`left`', obj_type='argument')\n"
          ],
          "name": "stderr"
        },
        {
          "output_type": "display_data",
          "data": {
            "image/png": "[encoded data removed]",
            "text/plain": [
              "<Figure size 576x396 with 1 Axes>"
            ]
          },
          "metadata": {
            "tags": []
          }
        }
      ]
    },
    {
      "metadata": {
        "id": "luyyph6rgKH1",
        "colab_type": "text"
      },
      "cell_type": "markdown",
      "source": [
        "## データの前処理\n",
        "\n",
        "長さが揃っていないlistのarrayを、`(len(sequences), maxlen)`というサイズの2次元arrayにします。(長さを揃える)　　\n",
        "\n",
        "`pad_sequences(sequences, maxlen=None, dtype='int32', padding='pre', truncating='pre', value=0.0)`  \n",
        "- `sequences` :　整形したいデータ(listのarray)。\n",
        "- `maxlen` : 出力の系列の長さ。`None`の場合は入力の中の最大長。\n",
        "- `dtype` : データの要素の型。\n",
        "- `padding` : `'pre'`, `'post'`のどちらか。系列長が`maxlen`に足りない場合に、前後どちらにパディングをするか。\n",
        "- `truncating` : `'pre'`, `'post'`のどちらか。系列長が`maxlen`より長い場合に、前後どちらを削るか。\n",
        "- `value` : パディングで使う値。"
      ]
    },
    {
      "metadata": {
        "id": "nUH83FdPgKH2",
        "colab_type": "code",
        "colab": {}
      },
      "cell_type": "code",
      "source": [
        "from keras.preprocessing.sequence import pad_sequences"
      ],
      "execution_count": 0,
      "outputs": []
    },
    {
      "metadata": {
        "id": "w5wKxGgZgKH5",
        "colab_type": "code",
        "colab": {}
      },
      "cell_type": "code",
      "source": [
        "maxlen = 500\n",
        "x_train_pad = pad_sequences(train[0], maxlen = maxlen)\n",
        "x_test_pad = pad_sequences(test[0], maxlen = maxlen)"
      ],
      "execution_count": 0,
      "outputs": []
    },
    {
      "metadata": {
        "id": "3cdlsUhUgKH7",
        "colab_type": "text"
      },
      "cell_type": "markdown",
      "source": [
        "データが多く、全て使うと学習に時間がかかるため、  \n",
        "train : 10000データ  \n",
        "validation : 1000データ  \n",
        "test : 1000データ  \n",
        "とします。"
      ]
    },
    {
      "metadata": {
        "id": "W8Hmb8XagKH8",
        "colab_type": "code",
        "colab": {}
      },
      "cell_type": "code",
      "source": [
        "x_train = x_train_pad[:10000]\n",
        "y_train = train[1][:10000]\n",
        "x_valid = x_test_pad[:1000]\n",
        "y_valid = test[1][:1000]\n",
        "x_test = x_test_pad[1000:2000]\n",
        "y_test = test[1][1000:2000]"
      ],
      "execution_count": 0,
      "outputs": []
    },
    {
      "metadata": {
        "id": "kzsTI3JygKH9",
        "colab_type": "code",
        "colab": {
          "base_uri": "https://localhost:8080/",
          "height": 68
        },
        "outputId": "74b648d9-0adf-43e2-c73a-db5dfdd74d49"
      },
      "cell_type": "code",
      "source": [
        "print(y_train.sum())\n",
        "print(y_valid.sum())\n",
        "print(y_test.sum())"
      ],
      "execution_count": 31,
      "outputs": [
        {
          "output_type": "stream",
          "text": [
            "5053\n",
            "474\n",
            "479\n"
          ],
          "name": "stdout"
        }
      ]
    },
    {
      "metadata": {
        "id": "gQ7vCpofgKIA",
        "colab_type": "text"
      },
      "cell_type": "markdown",
      "source": [
        "# モデルの構築\n",
        "\n",
        "次のようなモデルを作成します。\n",
        "\n",
        "入力　ー　Embedding　ー　LSTM(50)　ー　Dense(1)　ー　出力\n",
        "\n",
        "Embedding : 整数のラベルがついたデータを実数のベクトルに変換する操作。onehotエンコーディングに近いものです。"
      ]
    },
    {
      "metadata": {
        "id": "Zpkeggg9gKIC",
        "colab_type": "text"
      },
      "cell_type": "markdown",
      "source": [
        "## Sequentialモデル\n",
        "\n",
        "`keras.models.Sequential`を使えば、層を一つずつ重ねていくことでモデルを設計できます。\n",
        "\n",
        "なお、tensorflowなどのように関数を適用していくことでモデルを設計する方法も可能です。(Functional API)"
      ]
    },
    {
      "metadata": {
        "id": "IChqeDtlgKIE",
        "colab_type": "code",
        "colab": {}
      },
      "cell_type": "code",
      "source": [
        "from keras.models import Sequential\n",
        "from keras.layers import LSTM, Dense\n",
        "from keras.layers.embeddings import Embedding"
      ],
      "execution_count": 0,
      "outputs": []
    },
    {
      "metadata": {
        "id": "kap6sFBrgKIH",
        "colab_type": "text"
      },
      "cell_type": "markdown",
      "source": [
        "Sequentialモデルを表す変数`model`に対して、`add()`関数を実行することで層を追加できます。  \n",
        "その後、`compile()`によって計算グラフを確定させます。\n",
        "\n",
        "#### `Embedding(input_dim, output_dim, mask_zero=False, input_length=None, ...)`\n",
        "- `input_dim` : 入力の整数ラベルの最大値。\n",
        "- `output_dim` : 各ラベルを何次元のベクトルに変換するか。\n",
        "- `mask_zero` : `True`または`False`。０をマスクされた特別な値として扱うか。`True`の場合は`input_dim`の値を+1する必要がある。\n",
        "- `input_length` : 入力する系列の長さ。\n",
        "\n",
        "#### `Dense(units, activation=None, ...)`\n",
        "- `units` : ニューロンの数＝出力ベクトルの次元。\n",
        "- `activation` : 活性化関数。指定しない場合は`f(x) = x`という線形関数になる。\n",
        "\n",
        "#### `LSTM(units, return_sequences=False, ...)`\n",
        "- `units` : LSTM層のユニット数。\n",
        "- `return_sequences` : 各時点の出力全てを並べた系列を出力するかどうか。`False`なら最後の出力だけを返す。\n",
        "\n",
        "#### `compile(loss=None, optimizer=None, metrics=None)`\n",
        "- `loss` : 損失関数。kerasにある関数を文字列で指定するか、自分で作成した損失関数を与えることができる。\n",
        "- `optimizer` : 最適化手法。文字列または作成したoptimizerインスタンス。\n",
        "- `metrics` : 評価関数のリスト。リストの要素は文字列か作成した評価関数。"
      ]
    },
    {
      "metadata": {
        "id": "Ejz_sugRgKIK",
        "colab_type": "code",
        "colab": {
          "base_uri": "https://localhost:8080/",
          "height": 88
        },
        "outputId": "55e954eb-5f2f-4110-92d6-ac7d59afeef6"
      },
      "cell_type": "code",
      "source": [
        "model = Sequential()\n",
        "model.add(Embedding(max_index+1, 100, mask_zero=True, input_length=maxlen))\n",
        "model.add(LSTM(51))\n",
        "model.add(Dense(1, activation='sigmoid'))\n",
        "\n",
        "model.compile(loss='binary_crossentropy', optimizer='adam', metrics=['accuracy'])"
      ],
      "execution_count": 33,
      "outputs": [
        {
          "output_type": "stream",
          "text": [
            "WARNING:tensorflow:From /usr/local/lib/python3.6/dist-packages/tensorflow/python/framework/op_def_library.py:263: colocate_with (from tensorflow.python.framework.ops) is deprecated and will be removed in a future version.\n",
            "Instructions for updating:\n",
            "Colocations handled automatically by placer.\n"
          ],
          "name": "stdout"
        }
      ]
    },
    {
      "metadata": {
        "id": "IKnLt4a_gKIO",
        "colab_type": "text"
      },
      "cell_type": "markdown",
      "source": [
        "### 作成したモデルの構造"
      ]
    },
    {
      "metadata": {
        "scrolled": true,
        "id": "1U5we3_QgKIP",
        "colab_type": "code",
        "colab": {
          "base_uri": "https://localhost:8080/",
          "height": 238
        },
        "outputId": "6caca706-0447-4e4e-f7d6-67d0c90059cc"
      },
      "cell_type": "code",
      "source": [
        "model.summary()"
      ],
      "execution_count": 34,
      "outputs": [
        {
          "output_type": "stream",
          "text": [
            "_________________________________________________________________\n",
            "Layer (type)                 Output Shape              Param #   \n",
            "=================================================================\n",
            "embedding_1 (Embedding)      (None, 500, 100)          8858700   \n",
            "_________________________________________________________________\n",
            "lstm_1 (LSTM)                (None, 51)                31008     \n",
            "_________________________________________________________________\n",
            "dense_1 (Dense)              (None, 1)                 52        \n",
            "=================================================================\n",
            "Total params: 8,889,760\n",
            "Trainable params: 8,889,760\n",
            "Non-trainable params: 0\n",
            "_________________________________________________________________\n"
          ],
          "name": "stdout"
        }
      ]
    },
    {
      "metadata": {
        "id": "oDpf7UCngKIT",
        "colab_type": "text"
      },
      "cell_type": "markdown",
      "source": [
        "#### モデルをグラフで表現(スライドにある図)\n",
        "`model.png`という画像ファイルが作成されます。  \n",
        "※　実行するためには追加のライブラリが必要です。  \n",
        "pythonのライブラリである pydot と、pythonのライブラリではない　graphviz というものです。"
      ]
    },
    {
      "metadata": {
        "id": "svtSXkG9gKIW",
        "colab_type": "code",
        "colab": {}
      },
      "cell_type": "code",
      "source": [
        "from keras.utils import plot_model\n",
        "plot_model(model, show_shapes=True, to_file='model.png')"
      ],
      "execution_count": 0,
      "outputs": []
    },
    {
      "metadata": {
        "id": "h4tROzK8g227",
        "colab_type": "code",
        "colab": {
          "base_uri": "https://localhost:8080/",
          "height": 409
        },
        "outputId": "b63e6b3a-5b63-4199-cca0-34e52d02ceb9"
      },
      "cell_type": "code",
      "source": [
        "from IPython.display import Image,display_png,display_jpeg\n",
        "display_png(Image('model.png'))"
      ],
      "execution_count": 36,
      "outputs": [
        {
          "output_type": "display_data",
          "data": {
            "image/png": "[encoded data removed]"
          },
          "metadata": {
            "tags": []
          }
        }
      ]
    },
    {
      "metadata": {
        "id": "sCtir5iKgKIZ",
        "colab_type": "text"
      },
      "cell_type": "markdown",
      "source": [
        "### モデルの保存\n",
        "\n",
        "コールバックを利用してモデルの情報をファイルに保存します。\n",
        "\n",
        "#### `ModelCheckpoint(filepath, monitor='val_loss', save_best_only=False, mode='auto', ...)`\n",
        "- `filepath` : モデルを保存する場所、ファイル名の指定。\n",
        "- `monitor` : モデルの評価指標とする値。\n",
        "- `save_best_only` : これまでの学習の中で最善のモデルとなった場合にのみモデルを保存するかどうか。\n",
        "- `mode` : `'auto'`, `'min'`, `'max'`のいずれか。評価指標の値がどうなることが望ましいのかを指定。"
      ]
    },
    {
      "metadata": {
        "id": "CHcvB17FgKIa",
        "colab_type": "code",
        "colab": {}
      },
      "cell_type": "code",
      "source": [
        "from keras.callbacks import ModelCheckpoint"
      ],
      "execution_count": 0,
      "outputs": []
    },
    {
      "metadata": {
        "id": "SlWlUIG7gKIc",
        "colab_type": "code",
        "colab": {}
      },
      "cell_type": "code",
      "source": [
        "callbacks = []\n",
        "callbacks.append(ModelCheckpoint('model.hdf5', save_best_only=True))"
      ],
      "execution_count": 0,
      "outputs": []
    },
    {
      "metadata": {
        "id": "Ib9HVL3LgKIf",
        "colab_type": "text"
      },
      "cell_type": "markdown",
      "source": [
        "## 学習\n",
        "\n",
        "#### `fit(x, y, batch_size=None, epochs=1, callbacks=None, validation_split=0, validation_data=None, shuffle=True, ...)`\n",
        "- `x` : トレーニングデータの説明変数。\n",
        "- `y` : トレーニングデータの正解値。\n",
        "- `batch_size` : 学習時のミニバッチのサイズ。\n",
        "- `epochs` : ミニバッチに分けた学習をトレーニングデータ何周分行うか。\n",
        "- `callbacks` : コールバック。\n",
        "- `validation_split` : 0〜1の値を設定すると、与えたデータ `x`, `y`のうちその割合のデータをバリデーション(検証)データとして扱う。\n",
        "- `validation_data` : `(x_validation, y_validation)`という形式で直接バリデーションデータを指定できる。\n",
        "- `shuffle` : epochごとにトレーニングデータの順番をシャッフルするかどうか。\n",
        "\n",
        "返り値 : 学習の途中状態を記録したhistoryデータ。"
      ]
    },
    {
      "metadata": {
        "id": "ihO7WJyAgKIg",
        "colab_type": "code",
        "colab": {
          "base_uri": "https://localhost:8080/",
          "height": 207
        },
        "outputId": "6f6c3b41-9485-44f9-e6f1-debbb653a31d"
      },
      "cell_type": "code",
      "source": [
        "# 時間がかかります\n",
        "history = model.fit(x_train, y_train, batch_size=500, epochs=3, validation_data=(x_valid, y_valid), callbacks=callbacks)"
      ],
      "execution_count": 39,
      "outputs": [
        {
          "output_type": "stream",
          "text": [
            "WARNING:tensorflow:From /usr/local/lib/python3.6/dist-packages/tensorflow/python/ops/math_ops.py:3066: to_int32 (from tensorflow.python.ops.math_ops) is deprecated and will be removed in a future version.\n",
            "Instructions for updating:\n",
            "Use tf.cast instead.\n",
            "Train on 10000 samples, validate on 1000 samples\n",
            "Epoch 1/3\n",
            "10000/10000 [==============================] - 32s 3ms/step - loss: 0.6878 - acc: 0.5768 - val_loss: 0.6734 - val_acc: 0.6580\n",
            "Epoch 2/3\n",
            "10000/10000 [==============================] - 29s 3ms/step - loss: 0.5687 - acc: 0.7565 - val_loss: 0.4535 - val_acc: 0.8020\n",
            "Epoch 3/3\n",
            "10000/10000 [==============================] - 29s 3ms/step - loss: 0.3076 - acc: 0.8805 - val_loss: 0.3618 - val_acc: 0.8430\n"
          ],
          "name": "stdout"
        }
      ]
    },
    {
      "metadata": {
        "id": "zGAtHJ0VgKIi",
        "colab_type": "text"
      },
      "cell_type": "markdown",
      "source": [
        "### 保存したモデルの復元"
      ]
    },
    {
      "metadata": {
        "id": "rHtq8XgSgKIj",
        "colab_type": "text"
      },
      "cell_type": "markdown",
      "source": [
        "ライブラリ： h5py"
      ]
    },
    {
      "metadata": {
        "id": "CIyt9lX5gKIk",
        "colab_type": "code",
        "colab": {}
      },
      "cell_type": "code",
      "source": [
        "from keras.models import load_model"
      ],
      "execution_count": 0,
      "outputs": []
    },
    {
      "metadata": {
        "id": "OHoFRp5WgKIp",
        "colab_type": "code",
        "colab": {}
      },
      "cell_type": "code",
      "source": [
        "best_model = load_model('model.hdf5')"
      ],
      "execution_count": 0,
      "outputs": []
    },
    {
      "metadata": {
        "id": "PVZVn8PfgKIs",
        "colab_type": "code",
        "colab": {}
      },
      "cell_type": "code",
      "source": [
        "pred = best_model.predict(x_test)"
      ],
      "execution_count": 0,
      "outputs": []
    },
    {
      "metadata": {
        "id": "fkYzej3JgKIv",
        "colab_type": "code",
        "colab": {
          "base_uri": "https://localhost:8080/",
          "height": 17017
        },
        "outputId": "66b38399-8d22-45b0-d0f8-81d4097d8a43"
      },
      "cell_type": "code",
      "source": [
        "pred"
      ],
      "execution_count": 43,
      "outputs": [
        {
          "output_type": "execute_result",
          "data": {
            "text/plain": [
              "array([[0.05682158],\n",
              "       [0.86583817],\n",
              "       [0.15038031],\n",
              "       [0.30508497],\n",
              "       [0.05959675],\n",
              "       [0.27984777],\n",
              "       [0.06237614],\n",
              "       [0.05194741],\n",
              "       [0.1510047 ],\n",
              "       [0.1221742 ],\n",
              "       [0.15031722],\n",
              "       [0.9346842 ],\n",
              "       [0.85672504],\n",
              "       [0.11815831],\n",
              "       [0.7234682 ],\n",
              "       [0.08005062],\n",
              "       [0.22010005],\n",
              "       [0.37564474],\n",
              "       [0.95766395],\n",
              "       [0.7370384 ],\n",
              "       [0.70060194],\n",
              "       [0.77044463],\n",
              "       [0.9067599 ],\n",
              "       [0.12224871],\n",
              "       [0.10282499],\n",
              "       [0.10553989],\n",
              "       [0.889912  ],\n",
              "       [0.05647194],\n",
              "       [0.40691078],\n",
              "       [0.09879002],\n",
              "       [0.05736193],\n",
              "       [0.9558891 ],\n",
              "       [0.94314134],\n",
              "       [0.26736355],\n",
              "       [0.6005367 ],\n",
              "       [0.03545466],\n",
              "       [0.697072  ],\n",
              "       [0.07282567],\n",
              "       [0.58396316],\n",
              "       [0.23298323],\n",
              "       [0.06047562],\n",
              "       [0.84391856],\n",
              "       [0.85259926],\n",
              "       [0.0458062 ],\n",
              "       [0.8207288 ],\n",
              "       [0.2733575 ],\n",
              "       [0.1770941 ],\n",
              "       [0.04048055],\n",
              "       [0.12138474],\n",
              "       [0.23549762],\n",
              "       [0.727137  ],\n",
              "       [0.93332505],\n",
              "       [0.8356089 ],\n",
              "       [0.7125807 ],\n",
              "       [0.769778  ],\n",
              "       [0.90762913],\n",
              "       [0.23488802],\n",
              "       [0.9399071 ],\n",
              "       [0.92323583],\n",
              "       [0.42529678],\n",
              "       [0.9329647 ],\n",
              "       [0.92069215],\n",
              "       [0.07337433],\n",
              "       [0.04842448],\n",
              "       [0.8963869 ],\n",
              "       [0.9629513 ],\n",
              "       [0.12938625],\n",
              "       [0.9142105 ],\n",
              "       [0.12520769],\n",
              "       [0.94101536],\n",
              "       [0.07989582],\n",
              "       [0.07124934],\n",
              "       [0.92682445],\n",
              "       [0.44445905],\n",
              "       [0.9000546 ],\n",
              "       [0.05270678],\n",
              "       [0.17368904],\n",
              "       [0.33020627],\n",
              "       [0.49454004],\n",
              "       [0.03199816],\n",
              "       [0.04610059],\n",
              "       [0.6797763 ],\n",
              "       [0.92260957],\n",
              "       [0.07950449],\n",
              "       [0.14469618],\n",
              "       [0.0415684 ],\n",
              "       [0.09194118],\n",
              "       [0.08927703],\n",
              "       [0.95748067],\n",
              "       [0.95351624],\n",
              "       [0.9341477 ],\n",
              "       [0.92304015],\n",
              "       [0.21779406],\n",
              "       [0.05968872],\n",
              "       [0.88219345],\n",
              "       [0.05275804],\n",
              "       [0.9092319 ],\n",
              "       [0.12957856],\n",
              "       [0.04338029],\n",
              "       [0.8918267 ],\n",
              "       [0.10213107],\n",
              "       [0.1125333 ],\n",
              "       [0.9541487 ],\n",
              "       [0.04488254],\n",
              "       [0.5353585 ],\n",
              "       [0.4977854 ],\n",
              "       [0.7514622 ],\n",
              "       [0.8929663 ],\n",
              "       [0.92030704],\n",
              "       [0.12540507],\n",
              "       [0.07493615],\n",
              "       [0.94370365],\n",
              "       [0.657741  ],\n",
              "       [0.08307308],\n",
              "       [0.91108096],\n",
              "       [0.19502103],\n",
              "       [0.64089835],\n",
              "       [0.15916404],\n",
              "       [0.10600245],\n",
              "       [0.10712644],\n",
              "       [0.06484172],\n",
              "       [0.8982738 ],\n",
              "       [0.20177329],\n",
              "       [0.81530154],\n",
              "       [0.84847677],\n",
              "       [0.10769087],\n",
              "       [0.40341148],\n",
              "       [0.07451314],\n",
              "       [0.06552786],\n",
              "       [0.8835104 ],\n",
              "       [0.20450538],\n",
              "       [0.9563762 ],\n",
              "       [0.9331383 ],\n",
              "       [0.96150494],\n",
              "       [0.74868375],\n",
              "       [0.11100534],\n",
              "       [0.9554075 ],\n",
              "       [0.38281056],\n",
              "       [0.06990102],\n",
              "       [0.7945292 ],\n",
              "       [0.50538915],\n",
              "       [0.06641331],\n",
              "       [0.80970836],\n",
              "       [0.77678794],\n",
              "       [0.0559732 ],\n",
              "       [0.07634538],\n",
              "       [0.44965047],\n",
              "       [0.10772845],\n",
              "       [0.9284047 ],\n",
              "       [0.94408906],\n",
              "       [0.92982924],\n",
              "       [0.53135633],\n",
              "       [0.37374443],\n",
              "       [0.90354747],\n",
              "       [0.93842316],\n",
              "       [0.11302832],\n",
              "       [0.15559751],\n",
              "       [0.07340395],\n",
              "       [0.8497642 ],\n",
              "       [0.15504634],\n",
              "       [0.9588487 ],\n",
              "       [0.9154279 ],\n",
              "       [0.07473674],\n",
              "       [0.89035   ],\n",
              "       [0.21229121],\n",
              "       [0.11580676],\n",
              "       [0.40496475],\n",
              "       [0.22076121],\n",
              "       [0.04202205],\n",
              "       [0.8025185 ],\n",
              "       [0.9138992 ],\n",
              "       [0.08502349],\n",
              "       [0.13661504],\n",
              "       [0.7076318 ],\n",
              "       [0.0789496 ],\n",
              "       [0.16630563],\n",
              "       [0.07392555],\n",
              "       [0.07377896],\n",
              "       [0.45952815],\n",
              "       [0.3815156 ],\n",
              "       [0.11875618],\n",
              "       [0.0486111 ],\n",
              "       [0.06147966],\n",
              "       [0.838297  ],\n",
              "       [0.8972471 ],\n",
              "       [0.8327906 ],\n",
              "       [0.647135  ],\n",
              "       [0.548018  ],\n",
              "       [0.90499866],\n",
              "       [0.06798816],\n",
              "       [0.15104222],\n",
              "       [0.08931527],\n",
              "       [0.4057967 ],\n",
              "       [0.45814648],\n",
              "       [0.28391436],\n",
              "       [0.11603111],\n",
              "       [0.94437313],\n",
              "       [0.9377407 ],\n",
              "       [0.713042  ],\n",
              "       [0.626869  ],\n",
              "       [0.0736137 ],\n",
              "       [0.39061782],\n",
              "       [0.13810834],\n",
              "       [0.06398055],\n",
              "       [0.05916664],\n",
              "       [0.90592724],\n",
              "       [0.09379292],\n",
              "       [0.95384157],\n",
              "       [0.9189521 ],\n",
              "       [0.9173903 ],\n",
              "       [0.8344083 ],\n",
              "       [0.9023808 ],\n",
              "       [0.3923781 ],\n",
              "       [0.08297285],\n",
              "       [0.93218553],\n",
              "       [0.8718704 ],\n",
              "       [0.07139263],\n",
              "       [0.90908265],\n",
              "       [0.9101459 ],\n",
              "       [0.17743397],\n",
              "       [0.04086369],\n",
              "       [0.6515107 ],\n",
              "       [0.9456662 ],\n",
              "       [0.9311701 ],\n",
              "       [0.15358624],\n",
              "       [0.05649945],\n",
              "       [0.86248934],\n",
              "       [0.07761088],\n",
              "       [0.97061974],\n",
              "       [0.17363077],\n",
              "       [0.8394407 ],\n",
              "       [0.76973057],\n",
              "       [0.83869064],\n",
              "       [0.8873615 ],\n",
              "       [0.9094378 ],\n",
              "       [0.03549474],\n",
              "       [0.38027886],\n",
              "       [0.05522081],\n",
              "       [0.05011889],\n",
              "       [0.9620311 ],\n",
              "       [0.16192856],\n",
              "       [0.26835003],\n",
              "       [0.25184828],\n",
              "       [0.13330442],\n",
              "       [0.87493706],\n",
              "       [0.9064332 ],\n",
              "       [0.9387709 ],\n",
              "       [0.08868158],\n",
              "       [0.11801949],\n",
              "       [0.9265375 ],\n",
              "       [0.918682  ],\n",
              "       [0.6428375 ],\n",
              "       [0.3087187 ],\n",
              "       [0.5728869 ],\n",
              "       [0.04607782],\n",
              "       [0.09958678],\n",
              "       [0.07981637],\n",
              "       [0.9185418 ],\n",
              "       [0.87564325],\n",
              "       [0.15029147],\n",
              "       [0.6238455 ],\n",
              "       [0.10097906],\n",
              "       [0.0425337 ],\n",
              "       [0.05849826],\n",
              "       [0.925192  ],\n",
              "       [0.3939285 ],\n",
              "       [0.9199007 ],\n",
              "       [0.90715814],\n",
              "       [0.960284  ],\n",
              "       [0.8834669 ],\n",
              "       [0.95801777],\n",
              "       [0.96335036],\n",
              "       [0.75031805],\n",
              "       [0.5822572 ],\n",
              "       [0.08551133],\n",
              "       [0.9031892 ],\n",
              "       [0.9328743 ],\n",
              "       [0.0679543 ],\n",
              "       [0.6627258 ],\n",
              "       [0.06733853],\n",
              "       [0.2398622 ],\n",
              "       [0.0931873 ],\n",
              "       [0.20033595],\n",
              "       [0.3076179 ],\n",
              "       [0.9281849 ],\n",
              "       [0.11233816],\n",
              "       [0.08306444],\n",
              "       [0.31955677],\n",
              "       [0.843866  ],\n",
              "       [0.09206465],\n",
              "       [0.05552158],\n",
              "       [0.56245524],\n",
              "       [0.07101804],\n",
              "       [0.25700074],\n",
              "       [0.07085133],\n",
              "       [0.03758433],\n",
              "       [0.11607105],\n",
              "       [0.33859736],\n",
              "       [0.33426434],\n",
              "       [0.04121652],\n",
              "       [0.7993426 ],\n",
              "       [0.9458924 ],\n",
              "       [0.38994142],\n",
              "       [0.85338163],\n",
              "       [0.91719663],\n",
              "       [0.09669882],\n",
              "       [0.07904169],\n",
              "       [0.38365632],\n",
              "       [0.03723758],\n",
              "       [0.04338375],\n",
              "       [0.08323002],\n",
              "       [0.96838677],\n",
              "       [0.1619013 ],\n",
              "       [0.05346623],\n",
              "       [0.80558133],\n",
              "       [0.8760481 ],\n",
              "       [0.14716661],\n",
              "       [0.9528049 ],\n",
              "       [0.30546975],\n",
              "       [0.06519863],\n",
              "       [0.93339217],\n",
              "       [0.2706169 ],\n",
              "       [0.9637599 ],\n",
              "       [0.04162097],\n",
              "       [0.23561868],\n",
              "       [0.9260384 ],\n",
              "       [0.9399128 ],\n",
              "       [0.929257  ],\n",
              "       [0.05026305],\n",
              "       [0.86331534],\n",
              "       [0.0492118 ],\n",
              "       [0.90162754],\n",
              "       [0.12394148],\n",
              "       [0.7988062 ],\n",
              "       [0.25280368],\n",
              "       [0.15100819],\n",
              "       [0.89292395],\n",
              "       [0.42459074],\n",
              "       [0.69447774],\n",
              "       [0.49996907],\n",
              "       [0.11537322],\n",
              "       [0.32431847],\n",
              "       [0.16019931],\n",
              "       [0.12595558],\n",
              "       [0.9523177 ],\n",
              "       [0.08259392],\n",
              "       [0.8136157 ],\n",
              "       [0.7832719 ],\n",
              "       [0.0602853 ],\n",
              "       [0.764878  ],\n",
              "       [0.8179052 ],\n",
              "       [0.93323433],\n",
              "       [0.9418971 ],\n",
              "       [0.7046324 ],\n",
              "       [0.34944385],\n",
              "       [0.04362765],\n",
              "       [0.9107597 ],\n",
              "       [0.21529368],\n",
              "       [0.87346876],\n",
              "       [0.03597862],\n",
              "       [0.93458354],\n",
              "       [0.68095636],\n",
              "       [0.16925946],\n",
              "       [0.96696544],\n",
              "       [0.13389641],\n",
              "       [0.48428938],\n",
              "       [0.04092807],\n",
              "       [0.08475247],\n",
              "       [0.10554332],\n",
              "       [0.15587214],\n",
              "       [0.9068922 ],\n",
              "       [0.943318  ],\n",
              "       [0.09399232],\n",
              "       [0.08058763],\n",
              "       [0.9326823 ],\n",
              "       [0.9108629 ],\n",
              "       [0.89724636],\n",
              "       [0.91437316],\n",
              "       [0.8336501 ],\n",
              "       [0.9025952 ],\n",
              "       [0.95157635],\n",
              "       [0.923803  ],\n",
              "       [0.05109259],\n",
              "       [0.9333584 ],\n",
              "       [0.8054483 ],\n",
              "       [0.07523626],\n",
              "       [0.05331522],\n",
              "       [0.5543156 ],\n",
              "       [0.8202809 ],\n",
              "       [0.957103  ],\n",
              "       [0.80933225],\n",
              "       [0.179874  ],\n",
              "       [0.06559983],\n",
              "       [0.10011208],\n",
              "       [0.8911375 ],\n",
              "       [0.94530034],\n",
              "       [0.04460236],\n",
              "       [0.92694664],\n",
              "       [0.9162897 ],\n",
              "       [0.76202977],\n",
              "       [0.10863021],\n",
              "       [0.81906986],\n",
              "       [0.02575612],\n",
              "       [0.84571964],\n",
              "       [0.15263203],\n",
              "       [0.9116446 ],\n",
              "       [0.8939743 ],\n",
              "       [0.21491173],\n",
              "       [0.06396845],\n",
              "       [0.858841  ],\n",
              "       [0.8972932 ],\n",
              "       [0.90473205],\n",
              "       [0.7528182 ],\n",
              "       [0.96573234],\n",
              "       [0.21350068],\n",
              "       [0.16022435],\n",
              "       [0.9436231 ],\n",
              "       [0.8733463 ],\n",
              "       [0.9448344 ],\n",
              "       [0.06886449],\n",
              "       [0.39109725],\n",
              "       [0.04449615],\n",
              "       [0.27686778],\n",
              "       [0.05064276],\n",
              "       [0.9373312 ],\n",
              "       [0.9038236 ],\n",
              "       [0.3252712 ],\n",
              "       [0.08211869],\n",
              "       [0.22363654],\n",
              "       [0.8870634 ],\n",
              "       [0.95211005],\n",
              "       [0.7598256 ],\n",
              "       [0.22458836],\n",
              "       [0.8405002 ],\n",
              "       [0.04584697],\n",
              "       [0.03710905],\n",
              "       [0.13566431],\n",
              "       [0.8799859 ],\n",
              "       [0.07616118],\n",
              "       [0.8567614 ],\n",
              "       [0.13706425],\n",
              "       [0.87686574],\n",
              "       [0.6602382 ],\n",
              "       [0.13213646],\n",
              "       [0.06288898],\n",
              "       [0.45911855],\n",
              "       [0.13928828],\n",
              "       [0.12421298],\n",
              "       [0.8999014 ],\n",
              "       [0.10262728],\n",
              "       [0.7484387 ],\n",
              "       [0.6946932 ],\n",
              "       [0.14128846],\n",
              "       [0.4449465 ],\n",
              "       [0.08372688],\n",
              "       [0.08822334],\n",
              "       [0.07021388],\n",
              "       [0.08867607],\n",
              "       [0.12474594],\n",
              "       [0.17077339],\n",
              "       [0.8677763 ],\n",
              "       [0.12922078],\n",
              "       [0.23049375],\n",
              "       [0.04757211],\n",
              "       [0.04808196],\n",
              "       [0.9450456 ],\n",
              "       [0.05466267],\n",
              "       [0.9555238 ],\n",
              "       [0.92910355],\n",
              "       [0.0621503 ],\n",
              "       [0.14909655],\n",
              "       [0.9545727 ],\n",
              "       [0.95339775],\n",
              "       [0.96122164],\n",
              "       [0.9293544 ],\n",
              "       [0.08287084],\n",
              "       [0.25879982],\n",
              "       [0.05192974],\n",
              "       [0.22587582],\n",
              "       [0.8293923 ],\n",
              "       [0.9463313 ],\n",
              "       [0.9191284 ],\n",
              "       [0.9433543 ],\n",
              "       [0.84060514],\n",
              "       [0.9255052 ],\n",
              "       [0.9140345 ],\n",
              "       [0.9048134 ],\n",
              "       [0.7946546 ],\n",
              "       [0.09884191],\n",
              "       [0.04231977],\n",
              "       [0.08092067],\n",
              "       [0.16178733],\n",
              "       [0.94250476],\n",
              "       [0.8111862 ],\n",
              "       [0.04621571],\n",
              "       [0.9155376 ],\n",
              "       [0.9524774 ],\n",
              "       [0.32539117],\n",
              "       [0.8639473 ],\n",
              "       [0.15121502],\n",
              "       [0.91709864],\n",
              "       [0.89027107],\n",
              "       [0.954693  ],\n",
              "       [0.03939432],\n",
              "       [0.8559319 ],\n",
              "       [0.12146357],\n",
              "       [0.9121647 ],\n",
              "       [0.9541521 ],\n",
              "       [0.20766431],\n",
              "       [0.1281065 ],\n",
              "       [0.9366162 ],\n",
              "       [0.947753  ],\n",
              "       [0.06082052],\n",
              "       [0.9210758 ],\n",
              "       [0.90076256],\n",
              "       [0.06553683],\n",
              "       [0.9104542 ],\n",
              "       [0.9075769 ],\n",
              "       [0.8785106 ],\n",
              "       [0.06274086],\n",
              "       [0.9197657 ],\n",
              "       [0.9262243 ],\n",
              "       [0.06350455],\n",
              "       [0.94136   ],\n",
              "       [0.53170186],\n",
              "       [0.8883947 ],\n",
              "       [0.05052683],\n",
              "       [0.9124569 ],\n",
              "       [0.9674815 ],\n",
              "       [0.9319092 ],\n",
              "       [0.8618575 ],\n",
              "       [0.6526409 ],\n",
              "       [0.9153223 ],\n",
              "       [0.04112053],\n",
              "       [0.82083386],\n",
              "       [0.90356207],\n",
              "       [0.10323679],\n",
              "       [0.08457601],\n",
              "       [0.08075109],\n",
              "       [0.8665384 ],\n",
              "       [0.04897657],\n",
              "       [0.70004195],\n",
              "       [0.1276606 ],\n",
              "       [0.94580233],\n",
              "       [0.2256329 ],\n",
              "       [0.03697154],\n",
              "       [0.08993733],\n",
              "       [0.03324366],\n",
              "       [0.7519637 ],\n",
              "       [0.15213764],\n",
              "       [0.43201616],\n",
              "       [0.83210415],\n",
              "       [0.94515467],\n",
              "       [0.05957478],\n",
              "       [0.8685851 ],\n",
              "       [0.05967349],\n",
              "       [0.08317378],\n",
              "       [0.9549525 ],\n",
              "       [0.8401847 ],\n",
              "       [0.3384253 ],\n",
              "       [0.92632985],\n",
              "       [0.9455923 ],\n",
              "       [0.8603784 ],\n",
              "       [0.9126314 ],\n",
              "       [0.6349214 ],\n",
              "       [0.2481299 ],\n",
              "       [0.95334226],\n",
              "       [0.8079291 ],\n",
              "       [0.91249955],\n",
              "       [0.60009044],\n",
              "       [0.5242956 ],\n",
              "       [0.9263104 ],\n",
              "       [0.21098742],\n",
              "       [0.10269448],\n",
              "       [0.7819582 ],\n",
              "       [0.6942464 ],\n",
              "       [0.0447765 ],\n",
              "       [0.90794384],\n",
              "       [0.9068112 ],\n",
              "       [0.8845705 ],\n",
              "       [0.5148213 ],\n",
              "       [0.11256927],\n",
              "       [0.06189135],\n",
              "       [0.37885487],\n",
              "       [0.85342085],\n",
              "       [0.6328579 ],\n",
              "       [0.05499861],\n",
              "       [0.9365238 ],\n",
              "       [0.958166  ],\n",
              "       [0.15617049],\n",
              "       [0.8748058 ],\n",
              "       [0.93218553],\n",
              "       [0.8687986 ],\n",
              "       [0.9224166 ],\n",
              "       [0.9657421 ],\n",
              "       [0.55704796],\n",
              "       [0.9334661 ],\n",
              "       [0.27818716],\n",
              "       [0.7929354 ],\n",
              "       [0.9251384 ],\n",
              "       [0.13077947],\n",
              "       [0.16285288],\n",
              "       [0.05468035],\n",
              "       [0.87758076],\n",
              "       [0.28234607],\n",
              "       [0.6861625 ],\n",
              "       [0.04167753],\n",
              "       [0.5981014 ],\n",
              "       [0.12512827],\n",
              "       [0.14461493],\n",
              "       [0.84120774],\n",
              "       [0.06051561],\n",
              "       [0.12407333],\n",
              "       [0.9099449 ],\n",
              "       [0.03053638],\n",
              "       [0.10790518],\n",
              "       [0.14197788],\n",
              "       [0.05598876],\n",
              "       [0.5912982 ],\n",
              "       [0.39774984],\n",
              "       [0.89658415],\n",
              "       [0.91309637],\n",
              "       [0.6531167 ],\n",
              "       [0.9559468 ],\n",
              "       [0.9070522 ],\n",
              "       [0.48622543],\n",
              "       [0.9258375 ],\n",
              "       [0.04628211],\n",
              "       [0.9370494 ],\n",
              "       [0.07052007],\n",
              "       [0.09871313],\n",
              "       [0.09192568],\n",
              "       [0.94166505],\n",
              "       [0.52287215],\n",
              "       [0.87316394],\n",
              "       [0.3197878 ],\n",
              "       [0.9358232 ],\n",
              "       [0.93414617],\n",
              "       [0.0757668 ],\n",
              "       [0.8981733 ],\n",
              "       [0.08490607],\n",
              "       [0.91176116],\n",
              "       [0.05502072],\n",
              "       [0.48396254],\n",
              "       [0.07397896],\n",
              "       [0.7728585 ],\n",
              "       [0.69169277],\n",
              "       [0.71639955],\n",
              "       [0.893055  ],\n",
              "       [0.10685456],\n",
              "       [0.08700377],\n",
              "       [0.89518195],\n",
              "       [0.9608389 ],\n",
              "       [0.06858635],\n",
              "       [0.9011413 ],\n",
              "       [0.06683546],\n",
              "       [0.95195925],\n",
              "       [0.8889813 ],\n",
              "       [0.05378634],\n",
              "       [0.2603639 ],\n",
              "       [0.92480916],\n",
              "       [0.6225086 ],\n",
              "       [0.4382543 ],\n",
              "       [0.11113799],\n",
              "       [0.03631595],\n",
              "       [0.05223522],\n",
              "       [0.8586997 ],\n",
              "       [0.1066266 ],\n",
              "       [0.918926  ],\n",
              "       [0.4524705 ],\n",
              "       [0.8680504 ],\n",
              "       [0.9353722 ],\n",
              "       [0.08251658],\n",
              "       [0.07593447],\n",
              "       [0.9460466 ],\n",
              "       [0.2431942 ],\n",
              "       [0.18298268],\n",
              "       [0.25511444],\n",
              "       [0.04920745],\n",
              "       [0.0889484 ],\n",
              "       [0.92636913],\n",
              "       [0.9042498 ],\n",
              "       [0.15412056],\n",
              "       [0.06984854],\n",
              "       [0.85242397],\n",
              "       [0.8469442 ],\n",
              "       [0.9451971 ],\n",
              "       [0.9237293 ],\n",
              "       [0.8561325 ],\n",
              "       [0.16402194],\n",
              "       [0.11810389],\n",
              "       [0.11278257],\n",
              "       [0.22909981],\n",
              "       [0.59057283],\n",
              "       [0.05094442],\n",
              "       [0.6753049 ],\n",
              "       [0.78311765],\n",
              "       [0.07524461],\n",
              "       [0.95076305],\n",
              "       [0.773044  ],\n",
              "       [0.05120003],\n",
              "       [0.41531122],\n",
              "       [0.9619179 ],\n",
              "       [0.03609282],\n",
              "       [0.9143467 ],\n",
              "       [0.9550309 ],\n",
              "       [0.6752845 ],\n",
              "       [0.06491262],\n",
              "       [0.8836103 ],\n",
              "       [0.893675  ],\n",
              "       [0.11559981],\n",
              "       [0.9232381 ],\n",
              "       [0.66024816],\n",
              "       [0.93989176],\n",
              "       [0.28694907],\n",
              "       [0.66647506],\n",
              "       [0.9190688 ],\n",
              "       [0.9517685 ],\n",
              "       [0.81507885],\n",
              "       [0.06802502],\n",
              "       [0.27051327],\n",
              "       [0.68967396],\n",
              "       [0.71085536],\n",
              "       [0.67426765],\n",
              "       [0.08039412],\n",
              "       [0.92940533],\n",
              "       [0.05862412],\n",
              "       [0.9246168 ],\n",
              "       [0.9473255 ],\n",
              "       [0.16156414],\n",
              "       [0.90395844],\n",
              "       [0.06927991],\n",
              "       [0.69022024],\n",
              "       [0.87360275],\n",
              "       [0.77216566],\n",
              "       [0.08375916],\n",
              "       [0.81782806],\n",
              "       [0.33136433],\n",
              "       [0.5017645 ],\n",
              "       [0.8468735 ],\n",
              "       [0.7874793 ],\n",
              "       [0.51062065],\n",
              "       [0.9286144 ],\n",
              "       [0.12864378],\n",
              "       [0.31404924],\n",
              "       [0.85755444],\n",
              "       [0.05640179],\n",
              "       [0.8993212 ],\n",
              "       [0.08030605],\n",
              "       [0.88287044],\n",
              "       [0.18319365],\n",
              "       [0.91365665],\n",
              "       [0.4405294 ],\n",
              "       [0.9102336 ],\n",
              "       [0.9211047 ],\n",
              "       [0.9057927 ],\n",
              "       [0.907963  ],\n",
              "       [0.9242631 ],\n",
              "       [0.5966644 ],\n",
              "       [0.5914024 ],\n",
              "       [0.0799655 ],\n",
              "       [0.62782925],\n",
              "       [0.10968521],\n",
              "       [0.93659157],\n",
              "       [0.30123258],\n",
              "       [0.9198626 ],\n",
              "       [0.54889995],\n",
              "       [0.21898597],\n",
              "       [0.8555026 ],\n",
              "       [0.05040824],\n",
              "       [0.9353986 ],\n",
              "       [0.06693012],\n",
              "       [0.8020384 ],\n",
              "       [0.21048582],\n",
              "       [0.08101448],\n",
              "       [0.8602705 ],\n",
              "       [0.13156193],\n",
              "       [0.8874874 ],\n",
              "       [0.5632558 ],\n",
              "       [0.9030955 ],\n",
              "       [0.22540805],\n",
              "       [0.49458128],\n",
              "       [0.8402028 ],\n",
              "       [0.11459246],\n",
              "       [0.04820648],\n",
              "       [0.9296926 ],\n",
              "       [0.8136816 ],\n",
              "       [0.9034506 ],\n",
              "       [0.12637484],\n",
              "       [0.43024883],\n",
              "       [0.70510745],\n",
              "       [0.0883083 ],\n",
              "       [0.06207767],\n",
              "       [0.4756485 ],\n",
              "       [0.59363955],\n",
              "       [0.76228166],\n",
              "       [0.9061112 ],\n",
              "       [0.8543631 ],\n",
              "       [0.5124949 ],\n",
              "       [0.93012005],\n",
              "       [0.823259  ],\n",
              "       [0.9252529 ],\n",
              "       [0.04918498],\n",
              "       [0.8536309 ],\n",
              "       [0.76403534],\n",
              "       [0.85822856],\n",
              "       [0.0583294 ],\n",
              "       [0.34952217],\n",
              "       [0.07751742],\n",
              "       [0.04087585],\n",
              "       [0.09253237],\n",
              "       [0.10869652],\n",
              "       [0.8908284 ],\n",
              "       [0.38291433],\n",
              "       [0.07079062],\n",
              "       [0.04756275],\n",
              "       [0.800565  ],\n",
              "       [0.23687503],\n",
              "       [0.22364268],\n",
              "       [0.8795358 ],\n",
              "       [0.04472318],\n",
              "       [0.1131371 ],\n",
              "       [0.15156356],\n",
              "       [0.96614724],\n",
              "       [0.25326303],\n",
              "       [0.8235667 ],\n",
              "       [0.0430789 ],\n",
              "       [0.9365508 ],\n",
              "       [0.8829571 ],\n",
              "       [0.18078068],\n",
              "       [0.16386312],\n",
              "       [0.10505897],\n",
              "       [0.4670215 ],\n",
              "       [0.9493046 ],\n",
              "       [0.08812359],\n",
              "       [0.37130487],\n",
              "       [0.96500564],\n",
              "       [0.51773983],\n",
              "       [0.0930402 ],\n",
              "       [0.8925771 ],\n",
              "       [0.85773563],\n",
              "       [0.78812695],\n",
              "       [0.05464649],\n",
              "       [0.8925617 ],\n",
              "       [0.88485503],\n",
              "       [0.8601648 ],\n",
              "       [0.1627548 ],\n",
              "       [0.18549636],\n",
              "       [0.8753619 ],\n",
              "       [0.11935213],\n",
              "       [0.07202137],\n",
              "       [0.04844522],\n",
              "       [0.94239765],\n",
              "       [0.12852496],\n",
              "       [0.08759531],\n",
              "       [0.94589   ],\n",
              "       [0.9701115 ],\n",
              "       [0.91582406],\n",
              "       [0.10395974],\n",
              "       [0.6345099 ],\n",
              "       [0.44256872],\n",
              "       [0.81032693],\n",
              "       [0.05860031],\n",
              "       [0.77457094],\n",
              "       [0.87166464],\n",
              "       [0.85235405],\n",
              "       [0.94079757],\n",
              "       [0.90529525],\n",
              "       [0.07375565],\n",
              "       [0.9623568 ],\n",
              "       [0.4062212 ],\n",
              "       [0.14915964],\n",
              "       [0.07273915],\n",
              "       [0.9466971 ],\n",
              "       [0.04885951],\n",
              "       [0.51076925],\n",
              "       [0.04628956],\n",
              "       [0.93233407],\n",
              "       [0.06306028],\n",
              "       [0.96986663],\n",
              "       [0.94952846],\n",
              "       [0.08339313],\n",
              "       [0.16028088],\n",
              "       [0.11727723],\n",
              "       [0.9004003 ],\n",
              "       [0.92797065],\n",
              "       [0.30350256],\n",
              "       [0.96031916],\n",
              "       [0.926206  ],\n",
              "       [0.22372022],\n",
              "       [0.9119454 ],\n",
              "       [0.70762205],\n",
              "       [0.75349414],\n",
              "       [0.2639744 ],\n",
              "       [0.14452517],\n",
              "       [0.562693  ],\n",
              "       [0.09726474],\n",
              "       [0.16284427],\n",
              "       [0.76697063],\n",
              "       [0.48696363],\n",
              "       [0.05335161],\n",
              "       [0.8843273 ],\n",
              "       [0.09765279],\n",
              "       [0.08620971],\n",
              "       [0.95162714],\n",
              "       [0.86842036],\n",
              "       [0.07537708],\n",
              "       [0.8029146 ],\n",
              "       [0.9465568 ],\n",
              "       [0.90153265],\n",
              "       [0.12729797],\n",
              "       [0.16299939],\n",
              "       [0.0545136 ],\n",
              "       [0.88917875],\n",
              "       [0.05333591],\n",
              "       [0.07509503],\n",
              "       [0.04067102],\n",
              "       [0.09464955],\n",
              "       [0.57088244],\n",
              "       [0.10152179],\n",
              "       [0.69598746],\n",
              "       [0.95034945],\n",
              "       [0.9274197 ],\n",
              "       [0.8711412 ],\n",
              "       [0.07824165],\n",
              "       [0.09469515],\n",
              "       [0.842617  ],\n",
              "       [0.0636982 ],\n",
              "       [0.33894372],\n",
              "       [0.25883937],\n",
              "       [0.86265564],\n",
              "       [0.9245417 ],\n",
              "       [0.07295215],\n",
              "       [0.89894176],\n",
              "       [0.80361843],\n",
              "       [0.9121186 ],\n",
              "       [0.87478507],\n",
              "       [0.14276513],\n",
              "       [0.8627963 ],\n",
              "       [0.12628186],\n",
              "       [0.15461296],\n",
              "       [0.9584825 ],\n",
              "       [0.8664365 ],\n",
              "       [0.9189868 ],\n",
              "       [0.16205236],\n",
              "       [0.37951052],\n",
              "       [0.44283047],\n",
              "       [0.20236829],\n",
              "       [0.92878044],\n",
              "       [0.81962657],\n",
              "       [0.05760667],\n",
              "       [0.06763977],\n",
              "       [0.07631919],\n",
              "       [0.08658442],\n",
              "       [0.68780464],\n",
              "       [0.21033442],\n",
              "       [0.7256507 ],\n",
              "       [0.07473168],\n",
              "       [0.93058527],\n",
              "       [0.6557114 ],\n",
              "       [0.09979358],\n",
              "       [0.21799478],\n",
              "       [0.07439572],\n",
              "       [0.13349107],\n",
              "       [0.8498057 ],\n",
              "       [0.84291464],\n",
              "       [0.8059164 ],\n",
              "       [0.38751805],\n",
              "       [0.15308279],\n",
              "       [0.81468666],\n",
              "       [0.58972687],\n",
              "       [0.75293136],\n",
              "       [0.8316914 ],\n",
              "       [0.35665828],\n",
              "       [0.8368919 ],\n",
              "       [0.06643966],\n",
              "       [0.8595718 ],\n",
              "       [0.06812587],\n",
              "       [0.94086933],\n",
              "       [0.7959977 ],\n",
              "       [0.11530158],\n",
              "       [0.8428879 ],\n",
              "       [0.9122293 ],\n",
              "       [0.9559954 ],\n",
              "       [0.08195686],\n",
              "       [0.11046261],\n",
              "       [0.8381516 ],\n",
              "       [0.84488285],\n",
              "       [0.07084808],\n",
              "       [0.923406  ],\n",
              "       [0.2951488 ],\n",
              "       [0.7853265 ],\n",
              "       [0.69910115],\n",
              "       [0.9339419 ],\n",
              "       [0.95782757],\n",
              "       [0.8388792 ],\n",
              "       [0.03361779],\n",
              "       [0.28425133],\n",
              "       [0.6349819 ],\n",
              "       [0.9241253 ]], dtype=float32)"
            ]
          },
          "metadata": {
            "tags": []
          },
          "execution_count": 43
        }
      ]
    },
    {
      "metadata": {
        "id": "QkpQ2D8cgKIw",
        "colab_type": "text"
      },
      "cell_type": "markdown",
      "source": [
        "### テストデータに対する予測精度"
      ]
    },
    {
      "metadata": {
        "id": "5LS49RUogKIx",
        "colab_type": "code",
        "colab": {
          "base_uri": "https://localhost:8080/",
          "height": 68
        },
        "outputId": "32e638cb-bb0a-4a67-ffc5-6a23e15dd460"
      },
      "cell_type": "code",
      "source": [
        "[test_loss, accuracy] = best_model.evaluate(x_test, y_test)\n",
        "print('loss : ', test_loss)\n",
        "print('acc : ', accuracy)"
      ],
      "execution_count": 44,
      "outputs": [
        {
          "output_type": "stream",
          "text": [
            "1000/1000 [==============================] - 15s 15ms/step\n",
            "loss :  0.36857970762252806\n",
            "acc :  0.836\n"
          ],
          "name": "stdout"
        }
      ]
    },
    {
      "metadata": {
        "id": "dgZ2P9q_gKI0",
        "colab_type": "text"
      },
      "cell_type": "markdown",
      "source": [
        "### `history`から学習の様子を確認"
      ]
    },
    {
      "metadata": {
        "id": "xnuekpEngKI1",
        "colab_type": "code",
        "colab": {
          "base_uri": "https://localhost:8080/",
          "height": 85
        },
        "outputId": "f69646e2-12b0-4dee-a3e2-5afab1e26522"
      },
      "cell_type": "code",
      "source": [
        "history.history"
      ],
      "execution_count": 45,
      "outputs": [
        {
          "output_type": "execute_result",
          "data": {
            "text/plain": [
              "{'acc': [0.5768000036478043, 0.7565000027418136, 0.880500003695488],\n",
              " 'loss': [0.6877816528081894, 0.5686925545334816, 0.30757385566830636],\n",
              " 'val_acc': [0.6579999923706055, 0.8019999861717224, 0.8429999947547913],\n",
              " 'val_loss': [0.6733608543872833, 0.45350609719753265, 0.3617803305387497]}"
            ]
          },
          "metadata": {
            "tags": []
          },
          "execution_count": 45
        }
      ]
    },
    {
      "metadata": {
        "id": "UGg0bWsXgKI4",
        "colab_type": "code",
        "colab": {
          "base_uri": "https://localhost:8080/",
          "height": 51
        },
        "outputId": "896aaa23-618a-4a12-d2d5-9eb09a50912c"
      },
      "cell_type": "code",
      "source": [
        "plt.figure()"
      ],
      "execution_count": 49,
      "outputs": [
        {
          "output_type": "execute_result",
          "data": {
            "text/plain": [
              "<Figure size 576x396 with 0 Axes>"
            ]
          },
          "metadata": {
            "tags": []
          },
          "execution_count": 49
        },
        {
          "output_type": "display_data",
          "data": {
            "text/plain": [
              "<Figure size 576x396 with 0 Axes>"
            ]
          },
          "metadata": {
            "tags": []
          }
        }
      ]
    },
    {
      "metadata": {
        "id": "QLT5vayBgKI5",
        "colab_type": "text"
      },
      "cell_type": "markdown",
      "source": [
        "## 上位10,000語だけを用いた場合\n",
        "上位10,000語以外は未知の単語としてインデックス2を割り当てます。"
      ]
    },
    {
      "metadata": {
        "id": "y5YBWstegKI6",
        "colab_type": "code",
        "colab": {}
      },
      "cell_type": "code",
      "source": [
        "train, test = imdb.load_data(num_words=10000) # 上位10,000語以外は未知の単語とする\n",
        "max_index = 10000"
      ],
      "execution_count": 0,
      "outputs": []
    },
    {
      "metadata": {
        "id": "By8HQPbcgKI9",
        "colab_type": "code",
        "colab": {}
      },
      "cell_type": "code",
      "source": [
        "# データの一部を使用\n",
        "maxlen =500\n",
        "x_train_pad = pad_sequences(train[0], maxlen = maxlen)\n",
        "x_test_pad = pad_sequences(test[0], maxlen = maxlen)\n",
        "x_train = x_train_pad[:10000]\n",
        "y_train = train[1][:10000]\n",
        "x_valid = x_test_pad[:1000]\n",
        "y_valid = test[1][:1000]\n",
        "x_test = x_test_pad[1000:2000]\n",
        "y_test = test[1][1000:2000]"
      ],
      "execution_count": 0,
      "outputs": []
    },
    {
      "metadata": {
        "id": "X0HY0H6LgKI_",
        "colab_type": "code",
        "colab": {}
      },
      "cell_type": "code",
      "source": [
        "model2 = Sequential()\n",
        "model2.add(Embedding(max_index+1, 100, mask_zero=True, input_length=maxlen))\n",
        "model2.add(LSTM(100))\n",
        "model2.add(Dense(1, activation='sigmoid'))\n",
        "\n",
        "model2.compile(loss='binary_crossentropy', optimizer='adam', metrics=['accuracy'])"
      ],
      "execution_count": 0,
      "outputs": []
    },
    {
      "metadata": {
        "id": "R54PuPhWgKJC",
        "colab_type": "code",
        "colab": {
          "base_uri": "https://localhost:8080/",
          "height": 238
        },
        "outputId": "9cd928af-0a2f-4c43-dff3-802a398cc8ae"
      },
      "cell_type": "code",
      "source": [
        "model2.summary()"
      ],
      "execution_count": 53,
      "outputs": [
        {
          "output_type": "stream",
          "text": [
            "_________________________________________________________________\n",
            "Layer (type)                 Output Shape              Param #   \n",
            "=================================================================\n",
            "embedding_2 (Embedding)      (None, 500, 100)          1000100   \n",
            "_________________________________________________________________\n",
            "lstm_2 (LSTM)                (None, 100)               80400     \n",
            "_________________________________________________________________\n",
            "dense_2 (Dense)              (None, 1)                 101       \n",
            "=================================================================\n",
            "Total params: 1,080,601\n",
            "Trainable params: 1,080,601\n",
            "Non-trainable params: 0\n",
            "_________________________________________________________________\n"
          ],
          "name": "stdout"
        }
      ]
    },
    {
      "metadata": {
        "scrolled": true,
        "id": "JZhTFy4AgKJE",
        "colab_type": "code",
        "colab": {}
      },
      "cell_type": "code",
      "source": [
        "callbacks2 = []\n",
        "callbacks2.append(ModelCheckpoint('model2.hdf5', save_best_only=True))"
      ],
      "execution_count": 0,
      "outputs": []
    },
    {
      "metadata": {
        "id": "4umo1K_5gKJF",
        "colab_type": "code",
        "colab": {
          "base_uri": "https://localhost:8080/",
          "height": 374
        },
        "outputId": "2680da8a-d86c-4203-cc46-73f77763c426"
      },
      "cell_type": "code",
      "source": [
        "# 時間がかかります\n",
        "history = model2.fit(x_train, y_train, batch_size=500, epochs=10, validation_data=(x_valid, y_valid), callbacks=callbacks2)"
      ],
      "execution_count": 55,
      "outputs": [
        {
          "output_type": "stream",
          "text": [
            "Train on 10000 samples, validate on 1000 samples\n",
            "Epoch 1/10\n",
            "10000/10000 [==============================] - 31s 3ms/step - loss: 0.6654 - acc: 0.5907 - val_loss: 0.5240 - val_acc: 0.7670\n",
            "Epoch 2/10\n",
            "10000/10000 [==============================] - 30s 3ms/step - loss: 0.4146 - acc: 0.8276 - val_loss: 0.3628 - val_acc: 0.8510\n",
            "Epoch 3/10\n",
            "10000/10000 [==============================] - 30s 3ms/step - loss: 0.2570 - acc: 0.9039 - val_loss: 0.3243 - val_acc: 0.8770\n",
            "Epoch 4/10\n",
            "10000/10000 [==============================] - 30s 3ms/step - loss: 0.1612 - acc: 0.9449 - val_loss: 0.3050 - val_acc: 0.8730\n",
            "Epoch 5/10\n",
            "10000/10000 [==============================] - 30s 3ms/step - loss: 0.1213 - acc: 0.9628 - val_loss: 0.3618 - val_acc: 0.8700\n",
            "Epoch 6/10\n",
            "10000/10000 [==============================] - 30s 3ms/step - loss: 0.0969 - acc: 0.9727 - val_loss: 0.4645 - val_acc: 0.8500\n",
            "Epoch 7/10\n",
            "10000/10000 [==============================] - 30s 3ms/step - loss: 0.0763 - acc: 0.9796 - val_loss: 0.3748 - val_acc: 0.8690\n",
            "Epoch 8/10\n",
            "10000/10000 [==============================] - 30s 3ms/step - loss: 0.0486 - acc: 0.9882 - val_loss: 0.4475 - val_acc: 0.8580\n",
            "Epoch 9/10\n",
            "10000/10000 [==============================] - 30s 3ms/step - loss: 0.0497 - acc: 0.9860 - val_loss: 0.4638 - val_acc: 0.8590\n",
            "Epoch 10/10\n",
            "10000/10000 [==============================] - 30s 3ms/step - loss: 0.0593 - acc: 0.9816 - val_loss: 0.4608 - val_acc: 0.8560\n"
          ],
          "name": "stdout"
        }
      ]
    },
    {
      "metadata": {
        "id": "NjEJvcORgKJG",
        "colab_type": "code",
        "colab": {
          "base_uri": "https://localhost:8080/",
          "height": 34
        },
        "outputId": "36783847-3df7-4aa3-9774-959e17e924d3"
      },
      "cell_type": "code",
      "source": [
        "ls"
      ],
      "execution_count": 56,
      "outputs": [
        {
          "output_type": "stream",
          "text": [
            "model2.hdf5  model.hdf5  model.png  \u001b[0m\u001b[01;34msample_data\u001b[0m/\n"
          ],
          "name": "stdout"
        }
      ]
    },
    {
      "metadata": {
        "id": "wPteHfnSgKJJ",
        "colab_type": "text"
      },
      "cell_type": "markdown",
      "source": [
        "## 双方向モデル\n",
        "\n",
        "`keras.layers.wrappers.Bidirectional`　を使用することでRNNを簡単に双方向モデルにすることができます。"
      ]
    },
    {
      "metadata": {
        "id": "xyoD4NFIgKJL",
        "colab_type": "code",
        "colab": {}
      },
      "cell_type": "code",
      "source": [
        "from keras.layers.wrappers import Bidirectional"
      ],
      "execution_count": 0,
      "outputs": []
    },
    {
      "metadata": {
        "id": "MsfRrU-xgKJR",
        "colab_type": "code",
        "colab": {
          "base_uri": "https://localhost:8080/",
          "height": 34
        },
        "outputId": "c4478194-a96c-4dc3-94ca-46836e2398be"
      },
      "cell_type": "code",
      "source": [
        "max_index"
      ],
      "execution_count": 58,
      "outputs": [
        {
          "output_type": "execute_result",
          "data": {
            "text/plain": [
              "10000"
            ]
          },
          "metadata": {
            "tags": []
          },
          "execution_count": 58
        }
      ]
    },
    {
      "metadata": {
        "id": "pohDEHPagKJU",
        "colab_type": "text"
      },
      "cell_type": "markdown",
      "source": [
        ""
      ]
    },
    {
      "metadata": {
        "id": "diHtgi7IgKJV",
        "colab_type": "code",
        "colab": {
          "base_uri": "https://localhost:8080/",
          "height": 374
        },
        "outputId": "8494e449-dc61-4174-cf0a-6a6be29170ee"
      },
      "cell_type": "code",
      "source": [
        "bi_model = Sequential()\n",
        "bi_model.add(Embedding(max_index+1, 100, mask_zero=True, input_length=maxlen))\n",
        "bi_model.add(Bidirectional(LSTM(50)))\n",
        "bi_model.add(Dense(1, activation='sigmoid'))\n",
        "\n",
        "bi_model.compile(loss='binary_crossentropy', optimizer='adam', metrics=['accuracy'])\n",
        "\n",
        "callbacks = []\n",
        "callbacks.append(ModelCheckpoint('bi_model.hdf5', save_best_only=True))\n",
        "\n",
        "# 時間がかかります\n",
        "bi_hist = bi_model.fit(x_train, y_train, batch_size=500, epochs=10, validation_data=(x_valid, y_valid), callbacks=callbacks) "
      ],
      "execution_count": 59,
      "outputs": [
        {
          "output_type": "stream",
          "text": [
            "Train on 10000 samples, validate on 1000 samples\n",
            "Epoch 1/10\n",
            "10000/10000 [==============================] - 62s 6ms/step - loss: 0.6872 - acc: 0.5849 - val_loss: 0.6718 - val_acc: 0.6350\n",
            "Epoch 2/10\n",
            "10000/10000 [==============================] - 60s 6ms/step - loss: 0.5339 - acc: 0.7693 - val_loss: 0.4115 - val_acc: 0.8110\n",
            "Epoch 3/10\n",
            "10000/10000 [==============================] - 60s 6ms/step - loss: 0.3364 - acc: 0.8579 - val_loss: 0.3935 - val_acc: 0.8200\n",
            "Epoch 4/10\n",
            "10000/10000 [==============================] - 60s 6ms/step - loss: 0.2405 - acc: 0.9149 - val_loss: 0.3242 - val_acc: 0.8620\n",
            "Epoch 5/10\n",
            "10000/10000 [==============================] - 61s 6ms/step - loss: 0.1828 - acc: 0.9380 - val_loss: 0.3384 - val_acc: 0.8520\n",
            "Epoch 6/10\n",
            "10000/10000 [==============================] - 60s 6ms/step - loss: 0.1348 - acc: 0.9560 - val_loss: 0.3688 - val_acc: 0.8570\n",
            "Epoch 7/10\n",
            "10000/10000 [==============================] - 60s 6ms/step - loss: 0.0988 - acc: 0.9709 - val_loss: 0.3731 - val_acc: 0.8660\n",
            "Epoch 8/10\n",
            "10000/10000 [==============================] - 60s 6ms/step - loss: 0.0722 - acc: 0.9797 - val_loss: 0.3917 - val_acc: 0.8590\n",
            "Epoch 9/10\n",
            "10000/10000 [==============================] - 59s 6ms/step - loss: 0.0645 - acc: 0.9824 - val_loss: 0.4257 - val_acc: 0.8490\n",
            "Epoch 10/10\n",
            "10000/10000 [==============================] - 59s 6ms/step - loss: 0.0516 - acc: 0.9882 - val_loss: 0.4827 - val_acc: 0.8590\n"
          ],
          "name": "stdout"
        }
      ]
    },
    {
      "metadata": {
        "id": "FZaemYCdgKJZ",
        "colab_type": "code",
        "colab": {
          "base_uri": "https://localhost:8080/",
          "height": 68
        },
        "outputId": "b1d34fa2-0fbb-44e6-b4a0-a925f79d54a8"
      },
      "cell_type": "code",
      "source": [
        "best_bi_model = load_model('bi_model.hdf5')\n",
        "[test_loss, accuracy] = best_bi_model.evaluate(x_test, y_test)\n",
        "print('loss : ', test_loss)\n",
        "print('acc : ', accuracy)"
      ],
      "execution_count": 60,
      "outputs": [
        {
          "output_type": "stream",
          "text": [
            "1000/1000 [==============================] - 31s 31ms/step\n",
            "loss :  0.3450738859176636\n",
            "acc :  0.857\n"
          ],
          "name": "stdout"
        }
      ]
    },
    {
      "metadata": {
        "id": "u2HIS4bFgKJb",
        "colab_type": "code",
        "colab": {}
      },
      "cell_type": "code",
      "source": [
        ""
      ],
      "execution_count": 0,
      "outputs": []
    }
  ]
}