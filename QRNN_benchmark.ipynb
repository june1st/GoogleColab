{
  "nbformat": 4,
  "nbformat_minor": 0,
  "metadata": {
    "colab": {
      "name": "BERT FineTuning with Cloud TPU: Sentence and Sentence-Pair Classification Tasks",
      "version": "0.3.2",
      "provenance": [],
      "collapsed_sections": [],
      "toc_visible": true,
      "include_colab_link": true
    },
    "kernelspec": {
      "name": "python3",
      "display_name": "Python 3"
    },
    "accelerator": "GPU"
  },
  "cells": [
    {
      "cell_type": "markdown",
      "metadata": {
        "id": "view-in-github",
        "colab_type": "text"
      },
      "source": [
        "<a href=\"https://colab.research.google.com/github/june1st/GoogleColab/blob/master/QRNN_benchmark.ipynb\" target=\"_parent\"><img src=\"https://colab.research.google.com/assets/colab-badge.svg\" alt=\"Open In Colab\"/></a>"
      ]
    },
    {
      "metadata": {
        "id": "rkTLZ3I4_7c_",
        "colab_type": "text"
      },
      "cell_type": "markdown",
      "source": [
        "# Blank File\n",
        "\n",
        "<table class=\"tfo-notebook-buttons\" align=\"left\" >\n",
        " <td>\n",
        "<img src=\"https://www.tensorflow.org/images/colab_logo_32px.png\" />\n",
        "  <td>\n",
        "<img src=\"https://www.tensorflow.org/images/GitHub-Mark-32px.png\" />\n",
        "  </td>\n",
        "</table>\n"
      ]
    },
    {
      "metadata": {
        "id": "co8HlrpYc4yl",
        "colab_type": "code",
        "colab": {
          "base_uri": "https://localhost:8080/",
          "height": 85
        },
        "outputId": "9c9ce962-2d46-4687-bd1f-a95fb39ff82b"
      },
      "cell_type": "code",
      "source": [
        "!git clone https://github.com/icoxfog417/tensorflow_qrnn"
      ],
      "execution_count": 1,
      "outputs": [
        {
          "output_type": "stream",
          "text": [
            "Cloning into 'tensorflow_qrnn'...\n",
            "remote: Enumerating objects: 62, done.\u001b[K\n",
            "remote: Total 62 (delta 0), reused 0 (delta 0), pack-reused 62\u001b[K\n",
            "Unpacking objects: 100% (62/62), done.\n"
          ],
          "name": "stdout"
        }
      ]
    },
    {
      "metadata": {
        "id": "f9fUD-MV66FG",
        "colab_type": "code",
        "colab": {
          "base_uri": "https://localhost:8080/",
          "height": 34
        },
        "outputId": "4bde54cf-9807-4a79-f22e-8541f2029201"
      },
      "cell_type": "code",
      "source": [
        "%cd tensorflow_qrnn/"
      ],
      "execution_count": 2,
      "outputs": [
        {
          "output_type": "stream",
          "text": [
            "/content/tensorflow_qrnn\n"
          ],
          "name": "stdout"
        }
      ]
    },
    {
      "metadata": {
        "id": "Ou2xHS_C7Z69",
        "colab_type": "code",
        "colab": {
          "base_uri": "https://localhost:8080/",
          "height": 51
        },
        "outputId": "8d282017-37d5-471b-e7c8-8a2f2fe96032"
      },
      "cell_type": "code",
      "source": [
        "ls"
      ],
      "execution_count": 3,
      "outputs": [
        {
          "output_type": "stream",
          "text": [
            "LICENSE    README.md         test_tf_qrnn_forward.py  tf_qrnn.py\n",
            "\u001b[0m\u001b[01;34mpictures\u001b[0m/  requirements.txt  test_tf_qrnn_work.py\n"
          ],
          "name": "stdout"
        }
      ]
    },
    {
      "metadata": {
        "id": "LWmDZmjn7anz",
        "colab_type": "code",
        "colab": {
          "base_uri": "https://localhost:8080/",
          "height": 326
        },
        "outputId": "771a75ef-5c63-4115-87e6-9c033d5e7955"
      },
      "cell_type": "code",
      "source": [
        "!pip install -r requirements.txt"
      ],
      "execution_count": 4,
      "outputs": [
        {
          "output_type": "stream",
          "text": [
            "Collecting numpy==1.11.3 (from -r requirements.txt (line 1))\n",
            "\u001b[?25l  Downloading https://files.pythonhosted.org/packages/a6/cf/a4b4398cabe57968d44d4091ed6644f69704f4783c90c05fa480a8fb0b11/numpy-1.11.3-cp36-cp36m-manylinux1_x86_64.whl (15.7MB)\n",
            "\u001b[K    100% |████████████████████████████████| 15.7MB 2.7MB/s \n",
            "\u001b[?25hCollecting protobuf==3.1.0 (from -r requirements.txt (line 2))\n",
            "\u001b[?25l  Downloading https://files.pythonhosted.org/packages/b2/30/ab593c6ae73b45a5ef0b0af24908e8aec27f79efcda2e64a3df7af0b92a2/protobuf-3.1.0-py2.py3-none-any.whl (339kB)\n",
            "\u001b[K    100% |████████████████████████████████| 348kB 26.3MB/s \n",
            "\u001b[?25hCollecting scikit-learn==0.18.1 (from -r requirements.txt (line 3))\n",
            "\u001b[?25l  Downloading https://files.pythonhosted.org/packages/ae/d2/efa7f8bef195c459a527edc58bf863bd44fde727630486cb8256e9a5a326/scikit_learn-0.18.1-cp36-cp36m-manylinux1_x86_64.whl (11.8MB)\n",
            "\u001b[K    100% |████████████████████████████████| 11.8MB 4.3MB/s \n",
            "\u001b[?25hCollecting scipy==0.18.1 (from -r requirements.txt (line 4))\n",
            "\u001b[?25l  Downloading https://files.pythonhosted.org/packages/74/c0/f0bf4eaef1b6aa7bdd1ae5597ce1d9e729417b3ca085c47d0f1c640d34f8/scipy-0.18.1-cp36-cp36m-manylinux1_x86_64.whl (42.5MB)\n",
            "\u001b[K    100% |████████████████████████████████| 42.5MB 1.2MB/s \n",
            "\u001b[?25hCollecting six==1.10.0 (from -r requirements.txt (line 5))\n",
            "  Downloading https://files.pythonhosted.org/packages/c8/0a/b6723e1bc4c516cb687841499455a8505b44607ab535be01091c0f24f079/six-1.10.0-py2.py3-none-any.whl\n",
            "Collecting tensorflow==0.12.0 (from -r requirements.txt (line 6))\n",
            "\u001b[31m  Could not find a version that satisfies the requirement tensorflow==0.12.0 (from -r requirements.txt (line 6)) (from versions: 0.12.1, 1.0.0, 1.0.1, 1.1.0rc0, 1.1.0rc1, 1.1.0rc2, 1.1.0, 1.2.0rc0, 1.2.0rc1, 1.2.0rc2, 1.2.0, 1.2.1, 1.3.0rc0, 1.3.0rc1, 1.3.0rc2, 1.3.0, 1.4.0rc0, 1.4.0rc1, 1.4.0, 1.4.1, 1.5.0rc0, 1.5.0rc1, 1.5.0, 1.5.1, 1.6.0rc0, 1.6.0rc1, 1.6.0, 1.7.0rc0, 1.7.0rc1, 1.7.0, 1.7.1, 1.8.0rc0, 1.8.0rc1, 1.8.0, 1.9.0rc0, 1.9.0rc1, 1.9.0rc2, 1.9.0, 1.10.0rc0, 1.10.0rc1, 1.10.0, 1.10.1, 1.11.0rc0, 1.11.0rc1, 1.11.0rc2, 1.11.0, 1.12.0rc0, 1.12.0rc1, 1.12.0rc2, 1.12.0, 1.13.0rc0)\u001b[0m\n",
            "\u001b[31mNo matching distribution found for tensorflow==0.12.0 (from -r requirements.txt (line 6))\u001b[0m\n"
          ],
          "name": "stdout"
        }
      ]
    },
    {
      "metadata": {
        "id": "uo5_SYIF7gLM",
        "colab_type": "code",
        "colab": {
          "base_uri": "https://localhost:8080/",
          "height": 479
        },
        "outputId": "07f9b49e-9f86-4c9a-ae9c-bd82ebac4e41"
      },
      "cell_type": "code",
      "source": [
        "!python test_tf_qrnn_forward.py"
      ],
      "execution_count": 5,
      "outputs": [
        {
          "output_type": "stream",
          "text": [
            "2019-02-03 23:31:06.312887: I tensorflow/stream_executor/cuda/cuda_gpu_executor.cc:964] successful NUMA node read from SysFS had negative value (-1), but there must be at least one NUMA node, so returning NUMA node zero\n",
            "2019-02-03 23:31:06.313396: I tensorflow/core/common_runtime/gpu/gpu_device.cc:1432] Found device 0 with properties: \n",
            "name: Tesla K80 major: 3 minor: 7 memoryClockRate(GHz): 0.8235\n",
            "pciBusID: 0000:00:04.0\n",
            "totalMemory: 11.17GiB freeMemory: 11.10GiB\n",
            "2019-02-03 23:31:06.313434: I tensorflow/core/common_runtime/gpu/gpu_device.cc:1511] Adding visible gpu devices: 0\n",
            "2019-02-03 23:31:07.234934: I tensorflow/core/common_runtime/gpu/gpu_device.cc:982] Device interconnect StreamExecutor with strength 1 edge matrix:\n",
            "2019-02-03 23:31:07.234991: I tensorflow/core/common_runtime/gpu/gpu_device.cc:988]      0 \n",
            "2019-02-03 23:31:07.235009: I tensorflow/core/common_runtime/gpu/gpu_device.cc:1001] 0:   N \n",
            "2019-02-03 23:31:07.235292: W tensorflow/core/common_runtime/gpu/gpu_bfc_allocator.cc:42] Overriding allow_growth setting because the TF_FORCE_GPU_ALLOW_GROWTH environment variable is set. Original config value was 0.\n",
            "2019-02-03 23:31:07.235392: I tensorflow/core/common_runtime/gpu/gpu_device.cc:1115] Created TensorFlow device (/job:localhost/replica:0/task:0/device:GPU:0 with 10758 MB memory) -> physical GPU (device: 0, name: Tesla K80, pci bus id: 0000:00:04.0, compute capability: 3.7)\n",
            ".2019-02-03 23:31:08.991955: I tensorflow/core/common_runtime/gpu/gpu_device.cc:1511] Adding visible gpu devices: 0\n",
            "2019-02-03 23:31:08.992032: I tensorflow/core/common_runtime/gpu/gpu_device.cc:982] Device interconnect StreamExecutor with strength 1 edge matrix:\n",
            "2019-02-03 23:31:08.992068: I tensorflow/core/common_runtime/gpu/gpu_device.cc:988]      0 \n",
            "2019-02-03 23:31:08.992087: I tensorflow/core/common_runtime/gpu/gpu_device.cc:1001] 0:   N \n",
            "2019-02-03 23:31:08.992358: I tensorflow/core/common_runtime/gpu/gpu_device.cc:1115] Created TensorFlow device (/job:localhost/replica:0/task:0/device:GPU:0 with 10758 MB memory) -> physical GPU (device: 0, name: Tesla K80, pci bus id: 0000:00:04.0, compute capability: 3.7)\n",
            ".2019-02-03 23:31:09.640068: I tensorflow/core/common_runtime/gpu/gpu_device.cc:1511] Adding visible gpu devices: 0\n",
            "2019-02-03 23:31:09.640150: I tensorflow/core/common_runtime/gpu/gpu_device.cc:982] Device interconnect StreamExecutor with strength 1 edge matrix:\n",
            "2019-02-03 23:31:09.640178: I tensorflow/core/common_runtime/gpu/gpu_device.cc:988]      0 \n",
            "2019-02-03 23:31:09.640195: I tensorflow/core/common_runtime/gpu/gpu_device.cc:1001] 0:   N \n",
            "2019-02-03 23:31:09.640474: I tensorflow/core/common_runtime/gpu/gpu_device.cc:1115] Created TensorFlow device (/job:localhost/replica:0/task:0/device:GPU:0 with 10758 MB memory) -> physical GPU (device: 0, name: Tesla K80, pci bus id: 0000:00:04.0, compute capability: 3.7)\n",
            ".\n",
            "----------------------------------------------------------------------\n",
            "Ran 3 tests in 3.652s\n",
            "\n",
            "OK\n"
          ],
          "name": "stdout"
        }
      ]
    },
    {
      "metadata": {
        "id": "6KS7kKgH8D4F",
        "colab_type": "code",
        "colab": {
          "base_uri": "https://localhost:8080/",
          "height": 1142
        },
        "outputId": "e1d8da12-eba5-4b8a-ffc3-b574f098fbd4"
      },
      "cell_type": "code",
      "source": [
        "!python test_tf_qrnn_work.py"
      ],
      "execution_count": 6,
      "outputs": [
        {
          "output_type": "stream",
          "text": [
            "Baseline(LSTM) Working check\n",
            "2019-02-03 23:31:19.622959: I tensorflow/stream_executor/cuda/cuda_gpu_executor.cc:964] successful NUMA node read from SysFS had negative value (-1), but there must be at least one NUMA node, so returning NUMA node zero\n",
            "2019-02-03 23:31:19.623401: I tensorflow/core/common_runtime/gpu/gpu_device.cc:1432] Found device 0 with properties: \n",
            "name: Tesla K80 major: 3 minor: 7 memoryClockRate(GHz): 0.8235\n",
            "pciBusID: 0000:00:04.0\n",
            "totalMemory: 11.17GiB freeMemory: 11.10GiB\n",
            "2019-02-03 23:31:19.623439: I tensorflow/core/common_runtime/gpu/gpu_device.cc:1511] Adding visible gpu devices: 0\n",
            "2019-02-03 23:31:19.969921: I tensorflow/core/common_runtime/gpu/gpu_device.cc:982] Device interconnect StreamExecutor with strength 1 edge matrix:\n",
            "2019-02-03 23:31:19.969980: I tensorflow/core/common_runtime/gpu/gpu_device.cc:988]      0 \n",
            "2019-02-03 23:31:19.969999: I tensorflow/core/common_runtime/gpu/gpu_device.cc:1001] 0:   N \n",
            "2019-02-03 23:31:19.970289: W tensorflow/core/common_runtime/gpu/gpu_bfc_allocator.cc:42] Overriding allow_growth setting because the TF_FORCE_GPU_ALLOW_GROWTH environment variable is set. Original config value was 0.\n",
            "2019-02-03 23:31:19.970350: I tensorflow/core/common_runtime/gpu/gpu_device.cc:1115] Created TensorFlow device (/job:localhost/replica:0/task:0/device:GPU:0 with 10758 MB memory) -> physical GPU (device: 0, name: Tesla K80, pci bus id: 0000:00:04.0, compute capability: 3.7)\n",
            "Iter 0: loss=2.563908576965332, accuracy=0.125\n",
            "Iter 100: loss=0.29360994696617126, accuracy=0.8984375\n",
            "Iter 200: loss=0.1361057162284851, accuracy=0.984375\n",
            "Iter 300: loss=0.05030986666679382, accuracy=0.9921875\n",
            "Iter 400: loss=0.03608803451061249, accuracy=0.9921875\n",
            "Iter 500: loss=0.027333833277225494, accuracy=0.9921875\n",
            "Iter 600: loss=0.047727927565574646, accuracy=0.9765625\n",
            "Iter 700: loss=0.02507840096950531, accuracy=0.984375\n",
            "Iter 800: loss=0.01994369551539421, accuracy=0.9921875\n",
            "Iter 900: loss=0.013865540735423565, accuracy=1.0\n",
            "Testset Accuracy=0.9140625\n",
            "takes 11.410991430282593 seconds.\n",
            ".QRNN Working check\n",
            "2019-02-03 23:31:30.980062: I tensorflow/core/common_runtime/gpu/gpu_device.cc:1511] Adding visible gpu devices: 0\n",
            "2019-02-03 23:31:30.980158: I tensorflow/core/common_runtime/gpu/gpu_device.cc:982] Device interconnect StreamExecutor with strength 1 edge matrix:\n",
            "2019-02-03 23:31:30.980184: I tensorflow/core/common_runtime/gpu/gpu_device.cc:988]      0 \n",
            "2019-02-03 23:31:30.980203: I tensorflow/core/common_runtime/gpu/gpu_device.cc:1001] 0:   N \n",
            "2019-02-03 23:31:30.980479: I tensorflow/core/common_runtime/gpu/gpu_device.cc:1115] Created TensorFlow device (/job:localhost/replica:0/task:0/device:GPU:0 with 10758 MB memory) -> physical GPU (device: 0, name: Tesla K80, pci bus id: 0000:00:04.0, compute capability: 3.7)\n",
            "Iter 0: loss=9.362549781799316, accuracy=0.09375\n",
            "Iter 100: loss=1.5777478218078613, accuracy=0.4609375\n",
            "Iter 200: loss=0.7687644362449646, accuracy=0.7734375\n",
            "Iter 300: loss=0.5179914832115173, accuracy=0.8515625\n",
            "Iter 400: loss=0.3956291675567627, accuracy=0.890625\n",
            "Iter 500: loss=0.1951448619365692, accuracy=0.9609375\n",
            "Iter 600: loss=0.13661320507526398, accuracy=0.9609375\n",
            "Iter 700: loss=0.10978743433952332, accuracy=0.9921875\n",
            "Iter 800: loss=0.12772998213768005, accuracy=0.96875\n",
            "Iter 900: loss=0.10832411050796509, accuracy=0.9609375\n",
            "Testset Accuracy=0.9453125\n",
            "takes 5.5444176197052 seconds.\n",
            ".Random Working check\n",
            "2019-02-03 23:31:36.073210: I tensorflow/core/common_runtime/gpu/gpu_device.cc:1511] Adding visible gpu devices: 0\n",
            "2019-02-03 23:31:36.073356: I tensorflow/core/common_runtime/gpu/gpu_device.cc:982] Device interconnect StreamExecutor with strength 1 edge matrix:\n",
            "2019-02-03 23:31:36.073382: I tensorflow/core/common_runtime/gpu/gpu_device.cc:988]      0 \n",
            "2019-02-03 23:31:36.073397: I tensorflow/core/common_runtime/gpu/gpu_device.cc:1001] 0:   N \n",
            "2019-02-03 23:31:36.073753: I tensorflow/core/common_runtime/gpu/gpu_device.cc:1115] Created TensorFlow device (/job:localhost/replica:0/task:0/device:GPU:0 with 10758 MB memory) -> physical GPU (device: 0, name: Tesla K80, pci bus id: 0000:00:04.0, compute capability: 3.7)\n",
            "Iter 0: loss=16.691070556640625, accuracy=0.125\n",
            "Iter 100: loss=16.059402465820312, accuracy=0.1328125\n",
            "Iter 200: loss=15.10827922821045, accuracy=0.09375\n",
            "Iter 300: loss=14.751983642578125, accuracy=0.1171875\n",
            "Iter 400: loss=16.43132209777832, accuracy=0.0625\n",
            "Iter 500: loss=15.093483924865723, accuracy=0.0859375\n",
            "Iter 600: loss=15.104535102844238, accuracy=0.09375\n",
            "Iter 700: loss=11.166360855102539, accuracy=0.140625\n",
            "Iter 800: loss=12.681835174560547, accuracy=0.1015625\n",
            "Iter 900: loss=12.134927749633789, accuracy=0.0625\n",
            "Testset Accuracy=0.078125\n",
            "takes 1.6638672351837158 seconds.\n",
            ".\n",
            "----------------------------------------------------------------------\n",
            "Ran 3 tests in 18.620s\n",
            "\n",
            "OK\n"
          ],
          "name": "stdout"
        }
      ]
    },
    {
      "metadata": {
        "id": "O0Puo2bm8eHf",
        "colab_type": "code",
        "colab": {
          "base_uri": "https://localhost:8080/",
          "height": 51
        },
        "outputId": "343cb3cd-1bf4-460f-9866-ac46a11ba0c1"
      },
      "cell_type": "code",
      "source": [
        "ls"
      ],
      "execution_count": 7,
      "outputs": [
        {
          "output_type": "stream",
          "text": [
            "LICENSE    \u001b[0m\u001b[01;34m__pycache__\u001b[0m/  requirements.txt  test_tf_qrnn_forward.py  tf_qrnn.py\n",
            "\u001b[01;34mpictures\u001b[0m/  README.md     \u001b[01;34msummary\u001b[0m/          test_tf_qrnn_work.py\n"
          ],
          "name": "stdout"
        }
      ]
    },
    {
      "metadata": {
        "id": "8mZezyVAtHYq",
        "colab_type": "code",
        "colab": {}
      },
      "cell_type": "code",
      "source": [
        "cat"
      ],
      "execution_count": 0,
      "outputs": []
    },
    {
      "metadata": {
        "id": "XpMaqCUmtISG",
        "colab_type": "code",
        "colab": {}
      },
      "cell_type": "code",
      "source": [
        ""
      ],
      "execution_count": 0,
      "outputs": []
    }
  ]
}