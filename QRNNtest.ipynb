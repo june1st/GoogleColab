{
  "nbformat": 4,
  "nbformat_minor": 0,
  "metadata": {
    "colab": {
      "name": "Untitled4.ipynb",
      "version": "0.3.2",
      "provenance": [],
      "collapsed_sections": [],
      "include_colab_link": true
    },
    "kernelspec": {
      "name": "python3",
      "display_name": "Python 3"
    },
    "accelerator": "GPU"
  },
  "cells": [
    {
      "cell_type": "markdown",
      "metadata": {
        "id": "view-in-github",
        "colab_type": "text"
      },
      "source": [
        "<a href=\"https://colab.research.google.com/github/june1st/GoogleColab/blob/master/QRNNtest.ipynb\" target=\"_parent\"><img src=\"https://colab.research.google.com/assets/colab-badge.svg\" alt=\"Open In Colab\"/></a>"
      ]
    },
    {
      "metadata": {
        "id": "dQKkoXrvV7gh",
        "colab_type": "text"
      },
      "cell_type": "markdown",
      "source": [
        "SIN"
      ]
    },
    {
      "metadata": {
        "id": "-sD_2EaRV0rR",
        "colab_type": "code",
        "outputId": "bda424a0-aee4-4094-833d-3a8d7fa21f4f",
        "colab": {
          "base_uri": "https://localhost:8080/",
          "height": 282
        }
      },
      "cell_type": "code",
      "source": [
        "import pandas as pd\n",
        "import numpy as np\n",
        "import math\n",
        "import random\n",
        "%matplotlib inline\n",
        "random.seed(0)\n",
        "# 乱数の係数\n",
        "random_factor = 0.05\n",
        "# サイクルあたりのステップ数\n",
        "steps_per_cycle = 80\n",
        "# 生成するサイクル数\n",
        "number_of_cycles = 50\n",
        "\n",
        "df = pd.DataFrame(np.arange(steps_per_cycle * number_of_cycles + 1), columns=[\"t\"])\n",
        "df[\"sin_t\"] = df.t.apply(lambda x: math.sin(x * (2 * math.pi / steps_per_cycle)+ random.uniform(-1.0, +1.0) * random_factor))\n",
        "df[[\"sin_t\"]].head(steps_per_cycle * 2).plot()"
      ],
      "execution_count": 1,
      "outputs": [
        {
          "output_type": "execute_result",
          "data": {
            "text/plain": [
              "<matplotlib.axes._subplots.AxesSubplot at 0x7ff85811a240>"
            ]
          },
          "metadata": {
            "tags": []
          },
          "execution_count": 1
        },
        {
          "output_type": "display_data",
          "data": {
            "image/png": "[encoded data removed]",
            "text/plain": [
              "<Figure size 432x288 with 1 Axes>"
            ]
          },
          "metadata": {
            "tags": []
          }
        }
      ]
    },
    {
      "metadata": {
        "id": "O55D6w5LV9XY",
        "colab_type": "code",
        "colab": {}
      },
      "cell_type": "code",
      "source": [
        "def _load_data(data, n_prev = 100):  \n",
        "    \"\"\"\n",
        "    data should be pd.DataFrame()\n",
        "    \"\"\"\n",
        "\n",
        "    docX, docY = [], []\n",
        "    for i in range(len(data)-n_prev):\n",
        "        docX.append(data.iloc[i:i+n_prev].as_matrix())\n",
        "        docY.append(data.iloc[i+n_prev].as_matrix())\n",
        "    alsX = np.array(docX)\n",
        "    alsY = np.array(docY)\n",
        "\n",
        "    return alsX, alsY\n",
        "\n",
        "def train_test_split(df, test_size=0.1, n_prev = 100):  \n",
        "    \"\"\"\n",
        "    This just splits data to training and testing parts\n",
        "    \"\"\"\n",
        "    ntrn = round(len(df) * (1 - test_size))\n",
        "    ntrn = int(ntrn)\n",
        "    X_train, y_train = _load_data(df.iloc[0:ntrn], n_prev)\n",
        "    X_test, y_test = _load_data(df.iloc[ntrn:], n_prev)\n",
        "\n",
        "    return (X_train, y_train), (X_test, y_test)"
      ],
      "execution_count": 0,
      "outputs": []
    },
    {
      "metadata": {
        "id": "IkUiWVLvWCqy",
        "colab_type": "code",
        "colab": {}
      },
      "cell_type": "code",
      "source": [
        "length_of_sequences = 100\n",
        "(X_train, y_train), (X_test, y_test) = train_test_split(df[[\"sin_t\"]], n_prev =length_of_sequences)  \n"
      ],
      "execution_count": 0,
      "outputs": []
    },
    {
      "metadata": {
        "id": "7plS5mEIWHZ4",
        "colab_type": "code",
        "outputId": "c630f81e-4eb8-4cae-e455-1577f7a569fb",
        "colab": {
          "base_uri": "https://localhost:8080/",
          "height": 612
        }
      },
      "cell_type": "code",
      "source": [
        "from keras.models import Sequential  \n",
        "from keras.layers.core import Dense, Activation  \n",
        "from keras.layers.recurrent import LSTM\n",
        "\n",
        "\n",
        "in_out_neurons = 1\n",
        "hidden_neurons = 300\n",
        "\n",
        "model = Sequential()  \n",
        "model.add(LSTM(hidden_neurons, batch_input_shape=(None, length_of_sequences, in_out_neurons), return_sequences=False))  \n",
        "model.add(Dense(in_out_neurons))  \n",
        "model.add(Activation(\"linear\"))  \n",
        "model.compile(loss=\"mean_squared_error\", optimizer=\"rmsprop\")\n",
        "model.fit(X_train, y_train, batch_size=600, nb_epoch=15, validation_split=0.05) "
      ],
      "execution_count": 4,
      "outputs": [
        {
          "output_type": "stream",
          "text": [
            "Using TensorFlow backend.\n",
            "/usr/local/lib/python3.6/dist-packages/ipykernel_launcher.py:14: UserWarning: The `nb_epoch` argument in `fit` has been renamed `epochs`.\n",
            "  \n"
          ],
          "name": "stderr"
        },
        {
          "output_type": "stream",
          "text": [
            "Train on 3325 samples, validate on 176 samples\n",
            "Epoch 1/15\n",
            "3325/3325 [==============================] - 4s 1ms/step - loss: 0.2223 - val_loss: 0.0263\n",
            "Epoch 2/15\n",
            "3325/3325 [==============================] - 2s 512us/step - loss: 0.0396 - val_loss: 0.0389\n",
            "Epoch 3/15\n",
            "3325/3325 [==============================] - 2s 508us/step - loss: 0.0121 - val_loss: 6.9358e-04\n",
            "Epoch 4/15\n",
            "3325/3325 [==============================] - 2s 508us/step - loss: 0.0034 - val_loss: 0.0252\n",
            "Epoch 5/15\n",
            "3325/3325 [==============================] - 2s 513us/step - loss: 0.0114 - val_loss: 0.0074\n",
            "Epoch 6/15\n",
            "3325/3325 [==============================] - 2s 507us/step - loss: 0.0122 - val_loss: 0.0048\n",
            "Epoch 7/15\n",
            "3325/3325 [==============================] - 2s 508us/step - loss: 0.0078 - val_loss: 0.0077\n",
            "Epoch 8/15\n",
            "3325/3325 [==============================] - 2s 512us/step - loss: 0.0081 - val_loss: 0.0062\n",
            "Epoch 9/15\n",
            "3325/3325 [==============================] - 2s 508us/step - loss: 0.0076 - val_loss: 0.0069\n",
            "Epoch 10/15\n",
            "3325/3325 [==============================] - 2s 511us/step - loss: 0.0078 - val_loss: 0.0029\n",
            "Epoch 11/15\n",
            "3325/3325 [==============================] - 2s 509us/step - loss: 0.0056 - val_loss: 0.0069\n",
            "Epoch 12/15\n",
            "3325/3325 [==============================] - 2s 506us/step - loss: 0.0071 - val_loss: 0.0046\n",
            "Epoch 13/15\n",
            "3325/3325 [==============================] - 2s 510us/step - loss: 0.0046 - val_loss: 0.0042\n",
            "Epoch 14/15\n",
            "3325/3325 [==============================] - 2s 506us/step - loss: 0.0057 - val_loss: 0.0039\n",
            "Epoch 15/15\n",
            "3325/3325 [==============================] - 2s 511us/step - loss: 0.0047 - val_loss: 0.0039\n"
          ],
          "name": "stdout"
        },
        {
          "output_type": "execute_result",
          "data": {
            "text/plain": [
              "<keras.callbacks.History at 0x7ff8174e1e80>"
            ]
          },
          "metadata": {
            "tags": []
          },
          "execution_count": 4
        }
      ]
    },
    {
      "metadata": {
        "id": "jhMxQuYTWWOn",
        "colab_type": "code",
        "colab": {}
      },
      "cell_type": "code",
      "source": [
        "predicted = model.predict(X_test) "
      ],
      "execution_count": 0,
      "outputs": []
    },
    {
      "metadata": {
        "id": "8fpEle1qWa29",
        "colab_type": "code",
        "outputId": "245600f3-20d8-48f5-ad2a-2b18215190e4",
        "colab": {
          "base_uri": "https://localhost:8080/",
          "height": 337
        }
      },
      "cell_type": "code",
      "source": [
        "dataf =  pd.DataFrame(predicted[:200])\n",
        "dataf.columns = [\"predict\"]\n",
        "dataf[\"input\"] = y_test[:200]\n",
        "dataf.plot(figsize=(15, 5))"
      ],
      "execution_count": 6,
      "outputs": [
        {
          "output_type": "execute_result",
          "data": {
            "text/plain": [
              "<matplotlib.axes._subplots.AxesSubplot at 0x7ff816cc16d8>"
            ]
          },
          "metadata": {
            "tags": []
          },
          "execution_count": 6
        },
        {
          "output_type": "display_data",
          "data": {
            "image/png": "[encoded data removed]",
            "text/plain": [
              "<Figure size 1080x360 with 1 Axes>"
            ]
          },
          "metadata": {
            "tags": []
          }
        }
      ]
    },
    {
      "metadata": {
        "id": "zQ0pFOobWg_K",
        "colab_type": "code",
        "colab": {
          "base_uri": "https://localhost:8080/",
          "height": 338
        },
        "outputId": "6e8b22ac-b9ab-4aef-ecef-00b72674ace4"
      },
      "cell_type": "code",
      "source": [
        "from IPython.display import SVG\n",
        "from keras.utils.visualize_util import model_to_dot, plot\n",
        "SVG(model_to_dot(model, show_shapes=True).create(prog='dot', format='svg'))"
      ],
      "execution_count": 7,
      "outputs": [
        {
          "output_type": "error",
          "ename": "ModuleNotFoundError",
          "evalue": "ignored",
          "traceback": [
            "\u001b[0;31m---------------------------------------------------------------------------\u001b[0m",
            "\u001b[0;31mModuleNotFoundError\u001b[0m                       Traceback (most recent call last)",
            "\u001b[0;32m<ipython-input-7-e91c2676ac88>\u001b[0m in \u001b[0;36m<module>\u001b[0;34m()\u001b[0m\n\u001b[1;32m      1\u001b[0m \u001b[0;32mfrom\u001b[0m \u001b[0mIPython\u001b[0m\u001b[0;34m.\u001b[0m\u001b[0mdisplay\u001b[0m \u001b[0;32mimport\u001b[0m \u001b[0mSVG\u001b[0m\u001b[0;34m\u001b[0m\u001b[0;34m\u001b[0m\u001b[0m\n\u001b[0;32m----> 2\u001b[0;31m \u001b[0;32mfrom\u001b[0m \u001b[0mkeras\u001b[0m\u001b[0;34m.\u001b[0m\u001b[0mutils\u001b[0m\u001b[0;34m.\u001b[0m\u001b[0mvisualize_util\u001b[0m \u001b[0;32mimport\u001b[0m \u001b[0mmodel_to_dot\u001b[0m\u001b[0;34m,\u001b[0m \u001b[0mplot\u001b[0m\u001b[0;34m\u001b[0m\u001b[0;34m\u001b[0m\u001b[0m\n\u001b[0m\u001b[1;32m      3\u001b[0m \u001b[0mSVG\u001b[0m\u001b[0;34m(\u001b[0m\u001b[0mmodel_to_dot\u001b[0m\u001b[0;34m(\u001b[0m\u001b[0mmodel\u001b[0m\u001b[0;34m,\u001b[0m \u001b[0mshow_shapes\u001b[0m\u001b[0;34m=\u001b[0m\u001b[0;32mTrue\u001b[0m\u001b[0;34m)\u001b[0m\u001b[0;34m.\u001b[0m\u001b[0mcreate\u001b[0m\u001b[0;34m(\u001b[0m\u001b[0mprog\u001b[0m\u001b[0;34m=\u001b[0m\u001b[0;34m'dot'\u001b[0m\u001b[0;34m,\u001b[0m \u001b[0mformat\u001b[0m\u001b[0;34m=\u001b[0m\u001b[0;34m'svg'\u001b[0m\u001b[0;34m)\u001b[0m\u001b[0;34m)\u001b[0m\u001b[0;34m\u001b[0m\u001b[0;34m\u001b[0m\u001b[0m\n",
            "\u001b[0;31mModuleNotFoundError\u001b[0m: No module named 'keras.utils.visualize_util'",
            "",
            "\u001b[0;31m---------------------------------------------------------------------------\u001b[0;32m\nNOTE: If your import is failing due to a missing package, you can\nmanually install dependencies using either !pip or !apt.\n\nTo view examples of installing some common dependencies, click the\n\"Open Examples\" button below.\n\u001b[0;31m---------------------------------------------------------------------------\u001b[0m\n"
          ]
        }
      ]
    },
    {
      "metadata": {
        "id": "KhzezInwV1c5",
        "colab_type": "text"
      },
      "cell_type": "markdown",
      "source": [
        "QRNN"
      ]
    },
    {
      "metadata": {
        "id": "DmK3GQkEcRFY",
        "colab_type": "code",
        "colab": {}
      },
      "cell_type": "code",
      "source": [
        "from keras.layers import Input, Dense\n",
        "from keras.layers import Dense, Dropout, Activation, Embedding, SpatialDropout1D\n",
        "from keras.models import Model"
      ],
      "execution_count": 0,
      "outputs": []
    },
    {
      "metadata": {
        "id": "bVG6NuobdsjU",
        "colab_type": "code",
        "colab": {}
      },
      "cell_type": "code",
      "source": [
        "from keras import backend as K\n",
        "from keras import activations, initializers, regularizers, constraints\n",
        "from keras.layers import Layer, InputSpec\n",
        "from keras.utils.conv_utils import conv_output_length\n",
        "\n",
        "def _dropout(x, level, noise_shape=None, seed=None):\n",
        "    x = K.dropout(x, level, noise_shape, seed)\n",
        "    x *= (1. - level) # compensate for the scaling by the dropout\n",
        "    return x\n",
        "\n",
        "\n",
        "class QRNN(Layer):\n",
        "    '''Quasi RNN\n",
        "    # Arguments\n",
        "        units: dimension of the internal projections and the final output.\n",
        "    # References\n",
        "        - [Quasi-recurrent Neural Networks](http://arxiv.org/abs/1611.01576)\n",
        "    '''\n",
        "    def __init__(self, units, window_size=2, stride=1,\n",
        "                 return_sequences=False, go_backwards=False, \n",
        "                 stateful=False, unroll=False, activation='tanh',\n",
        "                 kernel_initializer='uniform', bias_initializer='zero',\n",
        "                 kernel_regularizer=None, bias_regularizer=None,\n",
        "                 activity_regularizer=None,\n",
        "                 kernel_constraint=None, bias_constraint=None, \n",
        "                 dropout=0, use_bias=True, input_dim=None, input_length=None,\n",
        "                 **kwargs):\n",
        "        self.return_sequences = return_sequences\n",
        "        self.go_backwards = go_backwards\n",
        "        self.stateful = stateful\n",
        "        self.unroll = unroll\n",
        "\n",
        "        self.units = units \n",
        "        self.window_size = window_size\n",
        "        self.strides = (stride, 1)\n",
        "\n",
        "        self.use_bias = use_bias\n",
        "        self.activation = activations.get(activation)\n",
        "        self.kernel_initializer = initializers.get(kernel_initializer)\n",
        "        self.bias_initializer = initializers.get(bias_initializer)\n",
        "        self.kernel_regularizer = regularizers.get(kernel_regularizer)\n",
        "        self.bias_regularizer = regularizers.get(bias_regularizer)\n",
        "        self.activity_regularizer = regularizers.get(activity_regularizer)\n",
        "        self.kernel_constraint = constraints.get(kernel_constraint)\n",
        "        self.bias_constraint = constraints.get(bias_constraint)\n",
        "\n",
        "        self.dropout = dropout\n",
        "        self.supports_masking = True\n",
        "        self.input_spec = [InputSpec(ndim=3)]\n",
        "        self.input_dim = input_dim\n",
        "        self.input_length = input_length\n",
        "        if self.input_dim:\n",
        "            kwargs['input_shape'] = (self.input_length, self.input_dim)\n",
        "        super(QRNN, self).__init__(**kwargs)\n",
        "\n",
        "    def build(self, input_shape):\n",
        "        if isinstance(input_shape, list):\n",
        "            input_shape = input_shape[0]\n",
        "\n",
        "        batch_size = input_shape[0] if self.stateful else None\n",
        "        self.input_dim = input_shape[2]\n",
        "        self.input_spec = InputSpec(shape=(batch_size, None, self.input_dim))\n",
        "        self.state_spec = InputSpec(shape=(batch_size, self.units))\n",
        "\n",
        "        self.states = [None]\n",
        "        if self.stateful:\n",
        "            self.reset_states()\n",
        "\n",
        "        kernel_shape = (self.window_size, 1, self.input_dim, self.units * 3)\n",
        "        self.kernel = self.add_weight(name='kernel',\n",
        "                                      shape=kernel_shape,\n",
        "                                      initializer=self.kernel_initializer,\n",
        "                                      regularizer=self.kernel_regularizer,\n",
        "                                      constraint=self.kernel_constraint)\n",
        "        if self.use_bias:\n",
        "            self.bias = self.add_weight(name='bias', \n",
        "                                        shape=(self.units * 3,),\n",
        "                                        initializer=self.bias_initializer,\n",
        "                                        regularizer=self.bias_regularizer,\n",
        "                                        constraint=self.bias_constraint)\n",
        "\n",
        "        self.built = True\n",
        "\n",
        "    def compute_output_shape(self, input_shape):\n",
        "        if isinstance(input_shape, list):\n",
        "            input_shape = input_shape[0]\n",
        "\n",
        "        length = input_shape[1]\n",
        "        if length:\n",
        "            length = conv_output_length(length + self.window_size - 1,\n",
        "                                        self.window_size, 'valid',\n",
        "                                        self.strides[0])\n",
        "        if self.return_sequences:\n",
        "            return (input_shape[0], length, self.units)\n",
        "        else:\n",
        "            return (input_shape[0], self.units)\n",
        "\n",
        "    def compute_mask(self, inputs, mask):\n",
        "        if self.return_sequences:\n",
        "            return mask\n",
        "        else:\n",
        "            return None\n",
        "\n",
        "    def get_initial_states(self, inputs):\n",
        "        # build an all-zero tensor of shape (samples, units)\n",
        "        initial_state = K.zeros_like(inputs)  # (samples, timesteps, input_dim)\n",
        "        initial_state = K.sum(initial_state, axis=(1, 2))  # (samples,)\n",
        "        initial_state = K.expand_dims(initial_state)  # (samples, 1)\n",
        "        initial_state = K.tile(initial_state, [1, self.units])  # (samples, units)\n",
        "        initial_states = [initial_state for _ in range(len(self.states))]\n",
        "        return initial_states\n",
        "\n",
        "    def reset_states(self, states=None):\n",
        "        if not self.stateful:\n",
        "            raise AttributeError('Layer must be stateful.')\n",
        "        if not self.input_spec:\n",
        "            raise RuntimeError('Layer has never been called '\n",
        "                               'and thus has no states.')\n",
        "\n",
        "        batch_size = self.input_spec.shape[0]\n",
        "        if not batch_size:\n",
        "            raise ValueError('If a QRNN is stateful, it needs to know '\n",
        "                             'its batch size. Specify the batch size '\n",
        "                             'of your input tensors: \\n'\n",
        "                             '- If using a Sequential model, '\n",
        "                             'specify the batch size by passing '\n",
        "                             'a `batch_input_shape` '\n",
        "                             'argument to your first layer.\\n'\n",
        "                             '- If using the functional API, specify '\n",
        "                             'the time dimension by passing a '\n",
        "                             '`batch_shape` argument to your Input layer.')\n",
        "\n",
        "        if self.states[0] is None:\n",
        "            self.states = [K.zeros((batch_size, self.units))\n",
        "                           for _ in self.states]\n",
        "        elif states is None:\n",
        "            for state in self.states:\n",
        "                K.set_value(state, np.zeros((batch_size, self.units)))\n",
        "        else:\n",
        "            if not isinstance(states, (list, tuple)):\n",
        "                states = [states]\n",
        "            if len(states) != len(self.states):\n",
        "                raise ValueError('Layer ' + self.name + ' expects ' +\n",
        "                                 str(len(self.states)) + ' states, '\n",
        "                                 'but it received ' + str(len(states)) +\n",
        "                                 'state values. Input received: ' +\n",
        "                                 str(states))\n",
        "            for index, (value, state) in enumerate(zip(states, self.states)):\n",
        "                if value.shape != (batch_size, self.units):\n",
        "                    raise ValueError('State ' + str(index) +\n",
        "                                     ' is incompatible with layer ' +\n",
        "                                     self.name + ': expected shape=' +\n",
        "                                     str((batch_size, self.units)) +\n",
        "                                     ', found shape=' + str(value.shape))\n",
        "                K.set_value(state, value)\n",
        "\n",
        "    def __call__(self, inputs, initial_state=None, **kwargs):\n",
        "        # If `initial_state` is specified,\n",
        "        # and if it a Keras tensor,\n",
        "        # then add it to the inputs and temporarily\n",
        "        # modify the input spec to include the state.\n",
        "        if initial_state is not None:\n",
        "            if hasattr(initial_state, '_keras_history'):\n",
        "                # Compute the full input spec, including state\n",
        "                input_spec = self.input_spec\n",
        "                state_spec = self.state_spec\n",
        "                if not isinstance(state_spec, list):\n",
        "                    state_spec = [state_spec]\n",
        "                self.input_spec = [input_spec] + state_spec\n",
        "\n",
        "                # Compute the full inputs, including state\n",
        "                if not isinstance(initial_state, (list, tuple)):\n",
        "                    initial_state = [initial_state]\n",
        "                inputs = [inputs] + list(initial_state)\n",
        "\n",
        "                # Perform the call\n",
        "                output = super(QRNN, self).__call__(inputs, **kwargs)\n",
        "\n",
        "                # Restore original input spec\n",
        "                self.input_spec = input_spec\n",
        "                return output\n",
        "            else:\n",
        "                kwargs['initial_state'] = initial_state\n",
        "        return super(QRNN, self).__call__(inputs, **kwargs)\n",
        "\n",
        "    def call(self, inputs, mask=None, initial_state=None, training=None):\n",
        "        # input shape: `(samples, time (padded with zeros), input_dim)`\n",
        "        # note that the .build() method of subclasses MUST define\n",
        "        # self.input_spec and self.state_spec with complete input shapes.\n",
        "        if isinstance(inputs, list):\n",
        "            initial_states = inputs[1:]\n",
        "            inputs = inputs[0]\n",
        "        elif initial_state is not None:\n",
        "            pass\n",
        "        elif self.stateful:\n",
        "            initial_states = self.states\n",
        "        else:\n",
        "            initial_states = self.get_initial_states(inputs)\n",
        "\n",
        "        if len(initial_states) != len(self.states):\n",
        "            raise ValueError('Layer has ' + str(len(self.states)) +\n",
        "                             ' states but was passed ' +\n",
        "                             str(len(initial_states)) +\n",
        "                             ' initial states.')\n",
        "        input_shape = K.int_shape(inputs)\n",
        "        if self.unroll and input_shape[1] is None:\n",
        "            raise ValueError('Cannot unroll a RNN if the '\n",
        "                             'time dimension is undefined. \\n'\n",
        "                             '- If using a Sequential model, '\n",
        "                             'specify the time dimension by passing '\n",
        "                             'an `input_shape` or `batch_input_shape` '\n",
        "                             'argument to your first layer. If your '\n",
        "                             'first layer is an Embedding, you can '\n",
        "                             'also use the `input_length` argument.\\n'\n",
        "                             '- If using the functional API, specify '\n",
        "                             'the time dimension by passing a `shape` '\n",
        "                             'or `batch_shape` argument to your Input layer.')\n",
        "        constants = self.get_constants(inputs, training=None)\n",
        "        preprocessed_input = self.preprocess_input(inputs, training=None)\n",
        "\n",
        "        last_output, outputs, states = K.rnn(self.step, preprocessed_input,\n",
        "                                            initial_states,\n",
        "                                            go_backwards=self.go_backwards,\n",
        "                                            mask=mask,\n",
        "                                            constants=constants,\n",
        "                                            unroll=self.unroll,\n",
        "                                            input_length=input_shape[1])\n",
        "        if self.stateful:\n",
        "            updates = []\n",
        "            for i in range(len(states)):\n",
        "                updates.append((self.states[i], states[i]))\n",
        "            self.add_update(updates, inputs)\n",
        "\n",
        "        # Properly set learning phase\n",
        "        if 0 < self.dropout < 1:\n",
        "            last_output._uses_learning_phase = True\n",
        "            outputs._uses_learning_phase = True\n",
        "\n",
        "        if self.return_sequences:\n",
        "            return outputs\n",
        "        else:\n",
        "            return last_output\n",
        "\n",
        "    def preprocess_input(self, inputs, training=None):\n",
        "        if self.window_size > 1:\n",
        "            inputs = K.temporal_padding(inputs, (self.window_size-1, 0))\n",
        "        inputs = K.expand_dims(inputs, 2)  # add a dummy dimension\n",
        "\n",
        "        output = K.conv2d(inputs, self.kernel, strides=self.strides,\n",
        "                          padding='valid',\n",
        "                          data_format='channels_last')\n",
        "        output = K.squeeze(output, 2)  # remove the dummy dimension\n",
        "        if self.use_bias:\n",
        "            output = K.bias_add(output, self.bias, data_format='channels_last')\n",
        "\n",
        "        if self.dropout is not None and 0. < self.dropout < 1.:\n",
        "            z = output[:, :, :self.units]\n",
        "            f = output[:, :, self.units:2 * self.units]\n",
        "            o = output[:, :, 2 * self.units:]\n",
        "            f = K.in_train_phase(1 - _dropout(1 - f, self.dropout), f, training=training)\n",
        "            return K.concatenate([z, f, o], -1)\n",
        "        else:\n",
        "            return output\n",
        "\n",
        "    def step(self, inputs, states):\n",
        "        prev_output = states[0]\n",
        "\n",
        "        z = inputs[:, :self.units]\n",
        "        f = inputs[:, self.units:2 * self.units]\n",
        "        o = inputs[:, 2 * self.units:]\n",
        "\n",
        "        z = self.activation(z)\n",
        "        f = f if self.dropout is not None and 0. < self.dropout < 1. else K.sigmoid(f)\n",
        "        o = K.sigmoid(o)\n",
        "\n",
        "        output = f * prev_output + (1 - f) * z\n",
        "        output = o * output\n",
        "\n",
        "        return output, [output]\n",
        "\n",
        "    def get_constants(self, inputs, training=None):\n",
        "        return []\n",
        " \n",
        "    def get_config(self):\n",
        "        config = {'units': self.units,\n",
        "                  'window_size': self.window_size,\n",
        "                  'stride': self.strides[0],\n",
        "                  'return_sequences': self.return_sequences,\n",
        "                  'go_backwards': self.go_backwards,\n",
        "                  'stateful': self.stateful,\n",
        "                  'unroll': self.unroll,\n",
        "                  'use_bias': self.use_bias,\n",
        "                  'dropout': self.dropout,\n",
        "                  'activation': activations.serialize(self.activation),\n",
        "                  'kernel_initializer': initializers.serialize(self.kernel_initializer),\n",
        "                  'bias_initializer': initializers.serialize(self.bias_initializer),\n",
        "                  'kernel_regularizer': regularizers.serialize(self.kernel_regularizer),\n",
        "                  'bias_regularizer': regularizers.serialize(self.bias_regularizer),\n",
        "                  'activity_regularizer': regularizers.serialize(self.activity_regularizer),\n",
        "                  'kernel_constraint': constraints.serialize(self.kernel_constraint),\n",
        "                  'bias_constraint': constraints.serialize(self.bias_constraint),\n",
        "                  'input_dim': self.input_dim,\n",
        "                  'input_length': self.input_length}\n",
        "        base_config = super(QRNN, self).get_config()\n",
        "        return dict(list(base_config.items()) + list(config.items()))"
      ],
      "execution_count": 0,
      "outputs": []
    },
    {
      "metadata": {
        "id": "C6PL9egmRUNQ",
        "colab_type": "code",
        "colab": {}
      },
      "cell_type": "code",
      "source": [
        "    def step(self, inputs, states):\n",
        "        prev_output = states[0]\n",
        "\n",
        "        z = inputs[:, :self.units]\n",
        "        f = inputs[:, self.units:2 * self.units]\n",
        "        o = inputs[:, 2 * self.units:]\n",
        "\n",
        "        z = self.activation(z)\n",
        "        f = f if self.dropout is not None and 0. < self.dropout < 1. else K.sigmoid(f)\n",
        "        o = K.sigmoid(o)\n",
        "\n",
        "        c = f * prev_output + (1 - f) * z # もとはoutput = f * prev_output + (1 - f) * z\n",
        "        output = o * c\n",
        "\n",
        "        return output, [ct] # もとは　return output, [output]"
      ],
      "execution_count": 0,
      "outputs": []
    },
    {
      "metadata": {
        "id": "eGLXf9MMRX2x",
        "colab_type": "code",
        "colab": {}
      },
      "cell_type": "code",
      "source": [
        "def create_qrnn_model(l_seq):\n",
        "    input_layer = Input(shape=(l_seq, 1))#Input(shape=(l_seq, 1))\n",
        "    qrnn_output_layer = QRNN(64, window_size=60, dropout=0)(input_layer)\n",
        "    prediction_result = Dense(1)(qrnn_output_layer)\n",
        "    model = Model(input=input_layer, output=prediction_result)\n",
        "    model.compile(loss=\"mean_squared_error\", optimizer=\"adam\")\n",
        "    return model"
      ],
      "execution_count": 0,
      "outputs": []
    },
    {
      "metadata": {
        "id": "q5pHwDMzi_NL",
        "colab_type": "code",
        "colab": {}
      },
      "cell_type": "code",
      "source": [
        "\n",
        "def create_qrnn_model(l_seq):\n",
        "  model = Sequential()\n",
        "  model.add(Embedding(l_seq, 128))\n",
        "  model.add(SpatialDropout1D(0.2))\n",
        "  model.add(QRNN(128, window_size=3, dropout=0.2, \n",
        "               kernel_regularizer=l2(1e-4), bias_regularizer=l2(1e-4), \n",
        "               kernel_constraint=maxnorm(10), bias_constraint=maxnorm(10)))\n",
        "  model.add(Dense(1))\n",
        "  model.add(Activation('sigmoid'))\n",
        "  \n",
        "  # try using different optimizers and different optimizer configs\n",
        "  model.compile(loss='binary_crossentropy',\n",
        "                optimizer='adam',\n",
        "                metrics=['accuracy'])\n",
        "  return model"
      ],
      "execution_count": 0,
      "outputs": []
    },
    {
      "metadata": {
        "id": "-dKfLaQ6loYj",
        "colab_type": "code",
        "colab": {}
      },
      "cell_type": "code",
      "source": [
        "def create_qrnn_model(l_seq):\n",
        "    #input_layer = Input(shape=(l_seq, 1))#Input(shape=(l_seq, 1))\n",
        "    #qrnn_output_layer = QRNN(64, window_size=60, dropout=0)(input_layer)\n",
        "    #prediction_result = Dense(1)(qrnn_output_layer)\n",
        "    #model = Model(input=input_layer, output=prediction_result)\n",
        "    \n",
        "    model = Sequential()\n",
        "    model.add(Embedding(l_seq, 1))\n",
        "    model.add(QRNN(64, window_size=60, dropout=0))\n",
        "    model.add(Dense(1))\n",
        "    model.add(Activation('sigmoid'))\n",
        "    \n",
        "  # try using different optimizers and different optimizer configs\n",
        "    model.compile(loss='binary_crossentropy',\n",
        "                optimizer='adam',\n",
        "                metrics=['accuracy'])\n",
        "    return model "
      ],
      "execution_count": 0,
      "outputs": []
    },
    {
      "metadata": {
        "id": "yMAHvjB9Rb2P",
        "colab_type": "code",
        "colab": {}
      },
      "cell_type": "code",
      "source": [
        "def create_rnn_model(l_seq):\n",
        "    inputs = Input(shape=(l_seq, 1,))\n",
        "    x = LSTM(hidden_neurons, return_sequences=False)(inputs)\n",
        "    predictions = Dense(1, activation='linear')(x)\n",
        "    model = Model(input=inputs, output=predictions)\n",
        "    model.compile(loss=\"mean_squared_error\", optimizer=\"rmsprop\")\n",
        "    return model\n",
        "def create_cnn_model(l_seq):\n",
        "    inputs = Input(shape=(l_seq, 1))\n",
        "    x = Conv1D(32,  3, activation='relu', padding='valid')(inputs)\n",
        "    x = Conv1D(32,  3, activation='relu', padding='valid')(x)\n",
        "    x = MaxPooling1D(pool_size=2)(x)\n",
        "    x = Conv1D(64,  3, activation='relu', padding='valid')(inputs)\n",
        "    x = Conv1D(64,  3, activation='relu', padding='valid')(x)\n",
        "    x = MaxPooling1D(pool_size=2)(x)\n",
        "    x = Flatten()(x)\n",
        "    x = Dense(128, activation='relu')(x)\n",
        "    x = Dense(64, activation='relu')(x)\n",
        "    predictions = Dense(1, activation='linear')(x)\n",
        "    model = Model(input=inputs, output=predictions)\n",
        "    model.compile(loss=\"mean_squared_error\", optimizer=\"adam\")\n",
        "    return model"
      ],
      "execution_count": 0,
      "outputs": []
    },
    {
      "metadata": {
        "id": "T6wbrG-dRjZY",
        "colab_type": "code",
        "colab": {}
      },
      "cell_type": "code",
      "source": [
        "def duffing(var, t, gamma, a, b, F0, omega, delta):\n",
        "    \"\"\"\n",
        "    var = [x, p]\n",
        "    dx/dt = p\n",
        "    dp/dt = -gamma*p + 2*a*x - 4*b*x**3 + F0*cos(omega*t + delta)\n",
        "    \"\"\"\n",
        "    x_dot = var[1]\n",
        "    p_dot = -gamma * var[1] + 2 * a * var[0] - 4 * b * var[0]**3 + F0 * np.cos(omega * t + delta)\n",
        "\n",
        "    return np.array([x_dot, p_dot])\n",
        "\n",
        "def create_duffing():\n",
        "    F0, gamma, omega, delta = 10, 0.1, np.pi / 3, 1.5 * np.pi\n",
        "    a, b = 1 / 4, 1 / 2\n",
        "    var, var_lin = [[0, 1]] * 2\n",
        "\n",
        "    # timescale\n",
        "    t = np.arange(0, 20000, 2 * np.pi / omega)\n",
        "    t_lin = np.linspace(0, 1000, 10000)\n",
        "\n",
        "    # solve\n",
        "    var = odeint(duffing, var, t, args=(gamma, a, b, F0, omega, delta))\n",
        "    var_lin = odeint(duffing, var_lin, t_lin, args=(gamma, a, b, F0, omega, delta))\n",
        "\n",
        "    x_lin, p_lin = var_lin.T[0], var_lin.T[1]\n",
        "    return x_lin, t_lin, p_lin"
      ],
      "execution_count": 0,
      "outputs": []
    },
    {
      "metadata": {
        "id": "FouaDwxxR-cp",
        "colab_type": "code",
        "colab": {}
      },
      "cell_type": "code",
      "source": [
        "!pip install odeint"
      ],
      "execution_count": 0,
      "outputs": []
    },
    {
      "metadata": {
        "id": "MKyd3i6qYiUQ",
        "colab_type": "code",
        "colab": {}
      },
      "cell_type": "code",
      "source": [
        "x,t,p = create_duffing()"
      ],
      "execution_count": 0,
      "outputs": []
    },
    {
      "metadata": {
        "id": "HyLOzzdaW8q6",
        "colab_type": "code",
        "colab": {}
      },
      "cell_type": "code",
      "source": [
        "df = pd.DataFrame(t, columns=[\"t\"])\n",
        "df2 = pd.DataFrame(p, columns=[\"duf_t\"])\n",
        "df = pd.concat([df, df2])\n",
        "df[[\"duf_t\"]].head(500).plot()\n",
        "plt.plot(p[0:500])"
      ],
      "execution_count": 0,
      "outputs": []
    },
    {
      "metadata": {
        "id": "YzysMYm-ZhkZ",
        "colab_type": "code",
        "colab": {}
      },
      "cell_type": "code",
      "source": [
        "\n",
        "from keras.regularizers import l2\n",
        "from keras.constraints import maxnorm\n",
        "max_features = 20000\n",
        "#maxlen = 80  # cut texts after this number of words (among top max_features most common words)\n",
        "#batch_size = 32 \n",
        "\n",
        "\n",
        "in_out_neurons = 1\n",
        "hidden_neurons = 300\n",
        "\n",
        "length_of_sequences = 150\n",
        "(X_train, y_train), (X_test, y_test) = train_test_split(df[[\"duf_t\"]], n_prev =length_of_sequences)  \n",
        "\n",
        "\n",
        "#model = create_qrnn_model(length_of_sequences )\n",
        "#model = create_qrnn_model( length_of_sequences)\n",
        "max_features = 20000\n",
        "maxlen = 80  # cut texts after this number of words (among top max_features most common words)\n",
        "batch_size = 32 \n",
        "\n",
        "print('Build model...')\n",
        "l_seq = 150\n",
        "input_layer = Input(shape=(l_seq, 1))#Input(shape=(l_seq, 1))\n",
        "qrnn_output_layer = QRNN(64, window_size=60, dropout=0)(input_layer)\n",
        "prediction_result = Dense(1)(qrnn_output_layer)\n",
        "model = Model(input=input_layer, output=prediction_result)\n",
        "model.compile(loss=\"mean_squared_error\", optimizer=\"adam\")\n",
        "\n",
        "model.fit(X_train, y_train, batch_size=600, nb_epoch=15, validation_split=0.05) "
      ],
      "execution_count": 0,
      "outputs": []
    },
    {
      "metadata": {
        "id": "N60V-gPxeMae",
        "colab_type": "code",
        "colab": {}
      },
      "cell_type": "code",
      "source": [
        "predicted = model.predict(X_train) "
      ],
      "execution_count": 0,
      "outputs": []
    },
    {
      "metadata": {
        "id": "zNdf1YC9eGcP",
        "colab_type": "code",
        "colab": {}
      },
      "cell_type": "code",
      "source": [
        "dataf =  pd.DataFrame(predicted[:500])\n",
        "dataf.columns = [\"predict\"]\n",
        "dataf[\"input\"] = y_test[:500]\n",
        "dataf.plot(figsize=(15, 5))"
      ],
      "execution_count": 0,
      "outputs": []
    },
    {
      "metadata": {
        "id": "LBXbEq4geZp0",
        "colab_type": "code",
        "colab": {}
      },
      "cell_type": "code",
      "source": [
        "plt.plot(predicted)"
      ],
      "execution_count": 0,
      "outputs": []
    },
    {
      "metadata": {
        "id": "sNq3wkTie08F",
        "colab_type": "code",
        "colab": {}
      },
      "cell_type": "code",
      "source": [
        "print(np.shape(X_test))\n",
        "print(np.shape(X_train))\n",
        "\n",
        "print(np.shape(predicted))"
      ],
      "execution_count": 0,
      "outputs": []
    },
    {
      "metadata": {
        "id": "91g5FxImpNdn",
        "colab_type": "code",
        "colab": {}
      },
      "cell_type": "code",
      "source": [
        "\n",
        "(XX_train, yy_train), (XX_test, yy_test) = train_test_split(p)  "
      ],
      "execution_count": 0,
      "outputs": []
    },
    {
      "metadata": {
        "id": "M0ZHUPLfpdbu",
        "colab_type": "code",
        "colab": {}
      },
      "cell_type": "code",
      "source": [
        "print(np.shape(XX_test))\n",
        "print(np.shape(XX_train))\n",
        "\n",
        "print(np.shape(yy_test))\n",
        "print(np.shape(yy_train))\n",
        "\n",
        "print(np.shape(predicted))"
      ],
      "execution_count": 0,
      "outputs": []
    },
    {
      "metadata": {
        "id": "idv-POFveG_3",
        "colab_type": "text"
      },
      "cell_type": "markdown",
      "source": [
        ""
      ]
    },
    {
      "metadata": {
        "id": "kxuzXRbIeHDh",
        "colab_type": "text"
      },
      "cell_type": "markdown",
      "source": [
        ""
      ]
    },
    {
      "metadata": {
        "id": "AWJtQ20weHID",
        "colab_type": "text"
      },
      "cell_type": "markdown",
      "source": [
        ""
      ]
    },
    {
      "metadata": {
        "id": "awR03VfaeHMd",
        "colab_type": "text"
      },
      "cell_type": "markdown",
      "source": [
        ""
      ]
    },
    {
      "metadata": {
        "id": "TWSx0yJheHQV",
        "colab_type": "text"
      },
      "cell_type": "markdown",
      "source": [
        ""
      ]
    },
    {
      "metadata": {
        "id": "hZXdjsdUeHVA",
        "colab_type": "text"
      },
      "cell_type": "markdown",
      "source": [
        ""
      ]
    },
    {
      "metadata": {
        "id": "muWjhRZhRn_5",
        "colab_type": "code",
        "colab": {}
      },
      "cell_type": "code",
      "source": [
        "import matplotlib.pyplot as plt\n",
        "import numpy as np\n",
        "from scipy.integrate import *\n",
        "#matplotlib inline\n",
        "\n",
        "x,t,p = create_duffing()\n",
        "#plt.plot(x[0:1000])\n",
        "plt.plot(p[0:500])"
      ],
      "execution_count": 0,
      "outputs": []
    },
    {
      "metadata": {
        "id": "sycWuLr6RtRo",
        "colab_type": "code",
        "colab": {}
      },
      "cell_type": "code",
      "source": [
        "def sequential_predict(self, dataf, l_seq, start=0):\n",
        "        now = dataf.iloc[start:start + l_seq].as_matrix()\n",
        "        df = pd.DataFrame(dataf.iloc[start + l_seq - 150: start + l_seq + 350].as_matrix())\n",
        "        df.columns = [\"true_value(observed_value)\"]\n",
        "        pred = []\n",
        "        for i in range(350):\n",
        "            p = self.model.predict(np.array([now]))\n",
        "            pred.append(p[0][0])\n",
        "            now = np.roll(now, -1)\n",
        "            now[-1] = pred[-1]\n",
        "        df[\"predict\"] = [None] * 150 + pred"
      ],
      "execution_count": 0,
      "outputs": []
    },
    {
      "metadata": {
        "id": "yxBCmiU8TjYo",
        "colab_type": "code",
        "colab": {}
      },
      "cell_type": "code",
      "source": [
        "import pandas as pd\n",
        "\n",
        "df =  pd.DataFrame([p])\n",
        "print(type(df))\n",
        "\n",
        "model = create_qrnn_model(10)\n",
        "\n",
        "\n",
        "\n",
        "sequential_predict(df, 0, 0)"
      ],
      "execution_count": 0,
      "outputs": []
    },
    {
      "metadata": {
        "id": "xj2kX0E6TpXA",
        "colab_type": "code",
        "colab": {}
      },
      "cell_type": "code",
      "source": [
        ""
      ],
      "execution_count": 0,
      "outputs": []
    }
  ]
}